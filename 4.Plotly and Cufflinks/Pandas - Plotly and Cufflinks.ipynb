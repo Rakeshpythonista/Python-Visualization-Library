{
 "cells": [
  {
   "cell_type": "markdown",
   "metadata": {},
   "source": [
    "Plotly is an interactive visualization library and \n",
    "Cufflinks connects plotly with pandas"
   ]
  },
  {
   "cell_type": "code",
   "execution_count": 46,
   "metadata": {},
   "outputs": [],
   "source": [
    "import pandas as pd\n",
    "import numpy as np\n",
    "import cufflinks as cf\n",
    "from plotly.offline import download_plotlyjs,init_notebook_mode,plot,iplot\n",
    "%matplotlib inline"
   ]
  },
  {
   "cell_type": "code",
   "execution_count": 32,
   "metadata": {},
   "outputs": [
    {
     "data": {
      "text/html": [
       "        <script type=\"text/javascript\">\n",
       "        window.PlotlyConfig = {MathJaxConfig: 'local'};\n",
       "        if (window.MathJax) {MathJax.Hub.Config({SVG: {font: \"STIX-Web\"}});}\n",
       "        if (typeof require !== 'undefined') {\n",
       "        require.undef(\"plotly\");\n",
       "        requirejs.config({\n",
       "            paths: {\n",
       "                'plotly': ['https://cdn.plot.ly/plotly-latest.min']\n",
       "            }\n",
       "        });\n",
       "        require(['plotly'], function(Plotly) {\n",
       "            window._Plotly = Plotly;\n",
       "        });\n",
       "        }\n",
       "        </script>\n",
       "        "
      ]
     },
     "metadata": {},
     "output_type": "display_data"
    }
   ],
   "source": [
    "init_notebook_mode(connected=True)"
   ]
  },
  {
   "cell_type": "code",
   "execution_count": 33,
   "metadata": {},
   "outputs": [
    {
     "data": {
      "text/html": [
       "        <script type=\"text/javascript\">\n",
       "        window.PlotlyConfig = {MathJaxConfig: 'local'};\n",
       "        if (window.MathJax) {MathJax.Hub.Config({SVG: {font: \"STIX-Web\"}});}\n",
       "        if (typeof require !== 'undefined') {\n",
       "        require.undef(\"plotly\");\n",
       "        requirejs.config({\n",
       "            paths: {\n",
       "                'plotly': ['https://cdn.plot.ly/plotly-latest.min']\n",
       "            }\n",
       "        });\n",
       "        require(['plotly'], function(Plotly) {\n",
       "            window._Plotly = Plotly;\n",
       "        });\n",
       "        }\n",
       "        </script>\n",
       "        "
      ]
     },
     "metadata": {},
     "output_type": "display_data"
    }
   ],
   "source": [
    "cf.go_offline()"
   ]
  },
  {
   "cell_type": "code",
   "execution_count": 42,
   "metadata": {},
   "outputs": [],
   "source": [
    "#Data\n",
    "df1 = pd.DataFrame(np.random.randn(100,4), columns='A B C D'.split())"
   ]
  },
  {
   "cell_type": "code",
   "execution_count": 43,
   "metadata": {},
   "outputs": [
    {
     "data": {
      "text/html": [
       "<div>\n",
       "<style scoped>\n",
       "    .dataframe tbody tr th:only-of-type {\n",
       "        vertical-align: middle;\n",
       "    }\n",
       "\n",
       "    .dataframe tbody tr th {\n",
       "        vertical-align: top;\n",
       "    }\n",
       "\n",
       "    .dataframe thead th {\n",
       "        text-align: right;\n",
       "    }\n",
       "</style>\n",
       "<table border=\"1\" class=\"dataframe\">\n",
       "  <thead>\n",
       "    <tr style=\"text-align: right;\">\n",
       "      <th></th>\n",
       "      <th>A</th>\n",
       "      <th>B</th>\n",
       "      <th>C</th>\n",
       "      <th>D</th>\n",
       "    </tr>\n",
       "  </thead>\n",
       "  <tbody>\n",
       "    <tr>\n",
       "      <td>0</td>\n",
       "      <td>1.472529</td>\n",
       "      <td>-1.449072</td>\n",
       "      <td>0.294148</td>\n",
       "      <td>-0.292097</td>\n",
       "    </tr>\n",
       "    <tr>\n",
       "      <td>1</td>\n",
       "      <td>1.130249</td>\n",
       "      <td>0.540243</td>\n",
       "      <td>-1.277257</td>\n",
       "      <td>0.957396</td>\n",
       "    </tr>\n",
       "    <tr>\n",
       "      <td>2</td>\n",
       "      <td>-0.034829</td>\n",
       "      <td>-1.334799</td>\n",
       "      <td>0.744119</td>\n",
       "      <td>-0.000798</td>\n",
       "    </tr>\n",
       "    <tr>\n",
       "      <td>3</td>\n",
       "      <td>-0.573295</td>\n",
       "      <td>-0.122251</td>\n",
       "      <td>-0.074690</td>\n",
       "      <td>-0.815898</td>\n",
       "    </tr>\n",
       "    <tr>\n",
       "      <td>4</td>\n",
       "      <td>0.667917</td>\n",
       "      <td>-1.301018</td>\n",
       "      <td>0.156888</td>\n",
       "      <td>-1.993634</td>\n",
       "    </tr>\n",
       "  </tbody>\n",
       "</table>\n",
       "</div>"
      ],
      "text/plain": [
       "          A         B         C         D\n",
       "0  1.472529 -1.449072  0.294148 -0.292097\n",
       "1  1.130249  0.540243 -1.277257  0.957396\n",
       "2 -0.034829 -1.334799  0.744119 -0.000798\n",
       "3 -0.573295 -0.122251 -0.074690 -0.815898\n",
       "4  0.667917 -1.301018  0.156888 -1.993634"
      ]
     },
     "execution_count": 43,
     "metadata": {},
     "output_type": "execute_result"
    }
   ],
   "source": [
    "df1.head()"
   ]
  },
  {
   "cell_type": "code",
   "execution_count": 44,
   "metadata": {},
   "outputs": [
    {
     "data": {
      "text/html": [
       "<div>\n",
       "<style scoped>\n",
       "    .dataframe tbody tr th:only-of-type {\n",
       "        vertical-align: middle;\n",
       "    }\n",
       "\n",
       "    .dataframe tbody tr th {\n",
       "        vertical-align: top;\n",
       "    }\n",
       "\n",
       "    .dataframe thead th {\n",
       "        text-align: right;\n",
       "    }\n",
       "</style>\n",
       "<table border=\"1\" class=\"dataframe\">\n",
       "  <thead>\n",
       "    <tr style=\"text-align: right;\">\n",
       "      <th></th>\n",
       "      <th>category</th>\n",
       "      <th>values</th>\n",
       "    </tr>\n",
       "  </thead>\n",
       "  <tbody>\n",
       "    <tr>\n",
       "      <td>0</td>\n",
       "      <td>A</td>\n",
       "      <td>32</td>\n",
       "    </tr>\n",
       "    <tr>\n",
       "      <td>1</td>\n",
       "      <td>B</td>\n",
       "      <td>43</td>\n",
       "    </tr>\n",
       "    <tr>\n",
       "      <td>2</td>\n",
       "      <td>C</td>\n",
       "      <td>50</td>\n",
       "    </tr>\n",
       "  </tbody>\n",
       "</table>\n",
       "</div>"
      ],
      "text/plain": [
       "  category  values\n",
       "0        A      32\n",
       "1        B      43\n",
       "2        C      50"
      ]
     },
     "execution_count": 44,
     "metadata": {},
     "output_type": "execute_result"
    }
   ],
   "source": [
    "df2 = pd.DataFrame({'category':['A','B','C'], 'values':[32,43,50]})\n",
    "df2"
   ]
  },
  {
   "cell_type": "code",
   "execution_count": 47,
   "metadata": {},
   "outputs": [
    {
     "data": {
      "text/plain": [
       "<matplotlib.axes._subplots.AxesSubplot at 0x245c3245c08>"
      ]
     },
     "execution_count": 47,
     "metadata": {},
     "output_type": "execute_result"
    },
    {
     "data": {
      "image/png": "[encoded data removed]",
      "text/plain": [
       "<Figure size 432x288 with 1 Axes>"
      ]
     },
     "metadata": {
      "needs_background": "light"
     },
     "output_type": "display_data"
    }
   ],
   "source": [
    "df1.plot() "
   ]
  },
  {
   "cell_type": "code",
   "execution_count": 48,
   "metadata": {},
   "outputs": [
    {
     "data": {
      "application/vnd.plotly.v1+json": {
       "config": {
        "linkText": "Export to plot.ly",
        "plotlyServerURL": "https://plot.ly",
        "showLink": true
       },
       "data": [
        {
         "line": {
          "color": "rgba(255, 153, 51, 1.0)",
          "dash": "solid",
          "shape": "linear",
          "width": 1.3
         },
         "mode": "lines",
         "name": "A",
         "text": "",
         "type": "scatter",
         "x": [
          0,
          1,
          2,
          3,
          4,
          5,
          6,
          7,
          8,
          9,
          10,
          11,
          12,
          13,
          14,
          15,
          16,
          17,
          18,
          19,
          20,
          21,
          22,
          23,
          24,
          25,
          26,
          27,
          28,
          29,
          30,
          31,
          32,
          33,
          34,
          35,
          36,
          37,
          38,
          39,
          40,
          41,
          42,
          43,
          44,
          45,
          46,
          47,
          48,
          49,
          50,
          51,
          52,
          53,
          54,
          55,
          56,
          57,
          58,
          59,
          60,
          61,
          62,
          63,
          64,
          65,
          66,
          67,
          68,
          69,
          70,
          71,
          72,
          73,
          74,
          75,
          76,
          77,
          78,
          79,
          80,
          81,
          82,
          83,
          84,
          85,
          86,
          87,
          88,
          89,
          90,
          91,
          92,
          93,
          94,
          95,
          96,
          97,
          98,
          99
         ],
         "y": [
          1.472529121625012,
          1.130248943233051,
          -0.03482930485305292,
          -0.5732950541498779,
          0.6679167375471895,
          -0.8579231829134375,
          0.8094528586808082,
          0.3085641347607752,
          0.27377683773219197,
          0.23206478359138408,
          0.05238217602947687,
          1.6583515353500433,
          0.07790651684678294,
          -1.7301434691903925,
          -0.5641455958381295,
          0.4147172412633151,
          -0.09849314047167301,
          0.9977271515240892,
          0.8786339083285464,
          0.6950074047715827,
          0.45710903842482575,
          0.4982199907784472,
          0.12903988052103624,
          -1.4837525556196758,
          2.1559376570965503,
          0.27121817416520905,
          -0.7920459692083268,
          0.34986943200659715,
          -1.4244439368614608,
          0.32694876044997556,
          0.46860953711542114,
          -0.8163787512650883,
          1.2187153472151357,
          -0.20858295937455842,
          -1.6419227340761469,
          -1.7597511712926772,
          -0.889500156517225,
          0.7680841645055828,
          0.242169122327131,
          1.836311067999764,
          -0.3640393725187276,
          0.6913544823158839,
          0.5381815943734077,
          -1.2920024951121236,
          0.32683652775332095,
          -1.6543868904131966,
          -0.07603260838364179,
          -1.1191319473076922,
          -0.06515760125541344,
          2.6112740684691444,
          0.189885318735173,
          0.758128711401495,
          1.3565878468023498,
          -1.6605371867714478,
          -0.7657077563048298,
          -0.3795261071180454,
          -1.0575887339186927,
          -0.21917702928905666,
          -0.018563285766532843,
          -0.31467704146234077,
          -0.15156994149975483,
          1.3072808419825945,
          0.301826271055909,
          0.9387223883113914,
          -0.9159890914090407,
          0.9972746743704269,
          -0.14961035018933383,
          0.6936412738254416,
          0.02150439010857565,
          -0.09685198016522274,
          -0.17962054484657083,
          2.8387103914674565,
          1.7403528975355167,
          0.16910030614484756,
          -1.8773354305002856,
          0.825977346945175,
          0.8377635089652343,
          0.9617236811802147,
          -0.6473981950616219,
          -1.6658039916353078,
          -0.2692192979839951,
          -2.729756849044134,
          -0.22782472436569362,
          -0.501111975287052,
          0.46337026689879734,
          1.0619123546213953,
          1.6562427899245722,
          0.062163840611550794,
          0.19039780019298785,
          0.026824609638366238,
          0.8368352166533789,
          0.29023261477188106,
          -0.4892908992826225,
          0.4014711067047261,
          0.7167889751395604,
          1.2783993039707082,
          -0.45256841203177944,
          -1.104240974398623,
          0.48498329755483055,
          0.4547917796841871
         ]
        },
        {
         "line": {
          "color": "rgba(55, 128, 191, 1.0)",
          "dash": "solid",
          "shape": "linear",
          "width": 1.3
         },
         "mode": "lines",
         "name": "B",
         "text": "",
         "type": "scatter",
         "x": [
          0,
          1,
          2,
          3,
          4,
          5,
          6,
          7,
          8,
          9,
          10,
          11,
          12,
          13,
          14,
          15,
          16,
          17,
          18,
          19,
          20,
          21,
          22,
          23,
          24,
          25,
          26,
          27,
          28,
          29,
          30,
          31,
          32,
          33,
          34,
          35,
          36,
          37,
          38,
          39,
          40,
          41,
          42,
          43,
          44,
          45,
          46,
          47,
          48,
          49,
          50,
          51,
          52,
          53,
          54,
          55,
          56,
          57,
          58,
          59,
          60,
          61,
          62,
          63,
          64,
          65,
          66,
          67,
          68,
          69,
          70,
          71,
          72,
          73,
          74,
          75,
          76,
          77,
          78,
          79,
          80,
          81,
          82,
          83,
          84,
          85,
          86,
          87,
          88,
          89,
          90,
          91,
          92,
          93,
          94,
          95,
          96,
          97,
          98,
          99
         ],
         "y": [
          -1.4490718845084207,
          0.5402426554463875,
          -1.3347985434813625,
          -0.12225119502318878,
          -1.30101789971426,
          0.38569811159209016,
          2.397904687740729,
          -2.3982480926388368,
          -0.10494367248597691,
          -0.2224254060893642,
          0.5410029274040677,
          1.2220114737266936,
          0.6413367934003551,
          0.4661400594131579,
          1.6301263489299898,
          -0.045857295111949706,
          0.22578578119008808,
          0.26281871636509874,
          0.3524366173554224,
          -0.25045607157728855,
          -0.02644007066357181,
          0.8618805448064077,
          -1.0669884903827511,
          2.202131722577417,
          -0.7113457060825948,
          -0.42921931155234017,
          0.03085513090831307,
          2.286357429921338,
          -0.2505199679788893,
          -2.49540664349453,
          -1.1157577643488887,
          0.7330552833464814,
          -0.4614404215891602,
          -1.3673002928914093,
          -1.7600123190780688,
          -2.0887547843771395,
          -2.1859340876441404,
          -0.49279846658300813,
          -1.889275646139344,
          -0.5690532456828411,
          0.4239373965316233,
          0.6397781534640425,
          -0.29671425027591325,
          0.6571556609166963,
          1.383298672469432,
          1.109761245033315,
          1.4332373810414698,
          0.6738019112262904,
          -1.1813200383895766,
          -1.6614202983027815,
          1.2398798868361367,
          0.6123687064574279,
          0.0915797315637989,
          0.006009505705794459,
          -1.0960578906870182,
          -1.1053797480590637,
          1.0352922076995237,
          0.2776270046807994,
          -0.09822942803128862,
          1.3423627824672761,
          -0.4269262478860568,
          -0.8566216988554339,
          0.4155483209694457,
          0.21352323335426418,
          0.9205293326670225,
          -2.4290809169775893,
          -1.097530893017326,
          0.0014555989292659602,
          -0.4721893111402556,
          -2.3651682013646727,
          0.9177196755689004,
          -2.6495518809284646,
          0.018826728369795518,
          0.05322287052010041,
          -1.1676072328548432,
          0.3940104502096727,
          0.3003994475771432,
          1.6651594296939112,
          -0.671156151734517,
          3.2476405756672038,
          -0.026105037598596365,
          -1.177609198277101,
          0.12516726924093127,
          -0.517430855564586,
          0.6604745556074771,
          -0.0018629645865976042,
          -1.7849289778669288,
          0.18498950224768243,
          1.442080076368799,
          0.9472992507672473,
          2.195427851378761,
          0.3966786785752604,
          -0.5002725972891627,
          -1.9460828869923503,
          -0.3608192626215061,
          1.0131320014705925,
          -0.7057725331167626,
          0.9665220645320599,
          -0.042248237084285586,
          -0.9798386628297314
         ]
        },
        {
         "line": {
          "color": "rgba(50, 171, 96, 1.0)",
          "dash": "solid",
          "shape": "linear",
          "width": 1.3
         },
         "mode": "lines",
         "name": "C",
         "text": "",
         "type": "scatter",
         "x": [
          0,
          1,
          2,
          3,
          4,
          5,
          6,
          7,
          8,
          9,
          10,
          11,
          12,
          13,
          14,
          15,
          16,
          17,
          18,
          19,
          20,
          21,
          22,
          23,
          24,
          25,
          26,
          27,
          28,
          29,
          30,
          31,
          32,
          33,
          34,
          35,
          36,
          37,
          38,
          39,
          40,
          41,
          42,
          43,
          44,
          45,
          46,
          47,
          48,
          49,
          50,
          51,
          52,
          53,
          54,
          55,
          56,
          57,
          58,
          59,
          60,
          61,
          62,
          63,
          64,
          65,
          66,
          67,
          68,
          69,
          70,
          71,
          72,
          73,
          74,
          75,
          76,
          77,
          78,
          79,
          80,
          81,
          82,
          83,
          84,
          85,
          86,
          87,
          88,
          89,
          90,
          91,
          92,
          93,
          94,
          95,
          96,
          97,
          98,
          99
         ],
         "y": [
          0.2941477958735066,
          -1.2772567937568937,
          0.7441189607505856,
          -0.07469019133525433,
          0.15688826260723918,
          -0.3147237571105742,
          0.09746151352817672,
          -1.4894485007346023,
          -0.8118109462101483,
          -0.08316960538668344,
          -3.167014284398424,
          0.5384558809342364,
          1.0557522069504213,
          0.37150366384546263,
          0.7590918824347042,
          0.49357135745610187,
          -0.37733645380166997,
          0.6364367047170686,
          0.65240454392822,
          -0.5460605302037064,
          -0.2598143788964035,
          -1.0129067831437126,
          0.24442937330633968,
          -1.0076829208783498,
          -0.5501970096805181,
          0.061399346063866204,
          1.179641651882113,
          1.8840213768542848,
          -2.7297693179368894,
          0.08444274726336994,
          -0.07866577711107688,
          1.0228544923597822,
          -0.2717333568906527,
          -0.7678139093837235,
          0.8002168364713665,
          -0.6163668196735747,
          -0.7840916361031486,
          -0.5434871478375157,
          0.34616144852931713,
          -0.47902312536359887,
          -0.992535599042179,
          0.2590527094808219,
          1.2666923316053984,
          0.7476549908657724,
          -1.0512553869294554,
          -0.14237158758117616,
          -1.2929307281780056,
          1.5189203997919931,
          -0.6494858691130097,
          -0.5679015903851855,
          0.551965962231021,
          -1.6539555233879015,
          -0.22271778130394515,
          1.0386498514148697,
          0.3608835982240124,
          2.213346720878855,
          -0.9735769015751691,
          0.840128631763991,
          1.7556896787581586,
          -1.4412116307568839,
          0.2196949231023285,
          1.4992049801411589,
          -0.6611392490895978,
          -0.6304908747192904,
          1.1533356994672497,
          -0.420636670400046,
          1.443644516191686,
          1.451438062161945,
          0.483124750711282,
          -0.5236258108150692,
          0.4404690671036626,
          0.9996524509583272,
          -0.6130636059848118,
          0.6690199413988712,
          1.3263847443422256,
          -0.7556056623240177,
          0.637862832272282,
          0.38904377493049913,
          -1.3370612405882778,
          1.1933950268610702,
          0.06462007050856437,
          0.5764395379058818,
          -0.8458357075549467,
          -0.5445116781543524,
          0.3050900194252306,
          -0.2956218398366735,
          -1.7568210556812383,
          -2.624628846051485,
          0.7344870558616293,
          1.0497000890759491,
          1.5692069955925685,
          -0.8839762063095732,
          -0.2858107813208934,
          0.9699611896103433,
          -1.18056791878244,
          0.6737419030585361,
          -0.6984885465871962,
          1.0726235170641276,
          0.5217735041662983,
          1.5039611018876746
         ]
        },
        {
         "line": {
          "color": "rgba(128, 0, 128, 1.0)",
          "dash": "solid",
          "shape": "linear",
          "width": 1.3
         },
         "mode": "lines",
         "name": "D",
         "text": "",
         "type": "scatter",
         "x": [
          0,
          1,
          2,
          3,
          4,
          5,
          6,
          7,
          8,
          9,
          10,
          11,
          12,
          13,
          14,
          15,
          16,
          17,
          18,
          19,
          20,
          21,
          22,
          23,
          24,
          25,
          26,
          27,
          28,
          29,
          30,
          31,
          32,
          33,
          34,
          35,
          36,
          37,
          38,
          39,
          40,
          41,
          42,
          43,
          44,
          45,
          46,
          47,
          48,
          49,
          50,
          51,
          52,
          53,
          54,
          55,
          56,
          57,
          58,
          59,
          60,
          61,
          62,
          63,
          64,
          65,
          66,
          67,
          68,
          69,
          70,
          71,
          72,
          73,
          74,
          75,
          76,
          77,
          78,
          79,
          80,
          81,
          82,
          83,
          84,
          85,
          86,
          87,
          88,
          89,
          90,
          91,
          92,
          93,
          94,
          95,
          96,
          97,
          98,
          99
         ],
         "y": [
          -0.29209677698554737,
          0.9573957896267596,
          -0.0007975772046197507,
          -0.8158976884143562,
          -1.9936338636737942,
          -1.066112859705764,
          -0.1624501274103537,
          -0.03172677523944978,
          0.4230420996426988,
          -1.5072924379640384,
          -1.0285792418506818,
          -0.4648859742555061,
          0.5488567472998651,
          -1.5509988671031387,
          -0.18731149886148526,
          -0.7307216961994965,
          0.28659201122255096,
          2.172650873228859,
          0.6037152824336763,
          -0.727575725495342,
          0.1921261607745329,
          2.0257007599249666,
          0.29878916777565295,
          -0.11662895626105096,
          0.4176466932527999,
          0.11869807879751894,
          -0.6185996268081179,
          0.5654893958419337,
          0.305655388592086,
          0.13135273742832368,
          0.12184068056708995,
          -0.5071662392557261,
          -0.568931741848525,
          0.4901084143203101,
          -0.2460586894546757,
          -0.848531489622213,
          1.3630384966893647,
          -0.3474418391715347,
          -1.1246178854325561,
          0.2727742766284284,
          0.9858324741667885,
          -1.260376384177372,
          2.1995501477694517,
          -1.1862990063877248,
          -1.27720070099572,
          -0.1394136561501857,
          -1.5767204417253653,
          -0.04261634006372652,
          -0.0851414882747124,
          -0.9119035439512653,
          -0.32281930867905156,
          0.194979954818921,
          -0.11685677866976853,
          -1.8053738746846808,
          -0.014808754132441395,
          -0.6392074518606004,
          -0.8503232038190978,
          -1.0937525430983601,
          1.187030991396334,
          1.4645556128099475,
          0.4113009102746684,
          0.1798500649884786,
          -0.6724445119030096,
          0.13446213951423927,
          1.3679920722622896,
          1.1313820175998472,
          0.46880252769541614,
          -0.39789401001271074,
          0.38433474242590737,
          -0.46326651134413627,
          0.33327001249620947,
          -0.09753287150325765,
          2.344702589914879,
          -0.9140280632719038,
          -1.4177177422630272,
          0.03634479751321479,
          -1.692481484675992,
          0.9512640830307857,
          0.19137848466118784,
          -1.1004124257636585,
          0.7043635574043291,
          -0.09092904401842151,
          1.5059008971891839,
          0.5973458990802751,
          0.34603516962923475,
          -1.812425632066957,
          -0.5333194244555364,
          -0.8625662806115877,
          -0.1353587151319946,
          -0.42633306707360935,
          0.3816695380113307,
          0.89874110435248,
          0.3626000974090412,
          -0.34626845050310656,
          1.8354956959106006,
          -0.1633850685970794,
          0.18564892606709904,
          0.3812582914116791,
          -0.9656308255591639,
          -0.011778101035519862
         ]
        }
       ],
       "layout": {
        "legend": {
         "bgcolor": "#F5F6F9",
         "font": {
          "color": "#4D5663"
         }
        },
        "paper_bgcolor": "#F5F6F9",
        "plot_bgcolor": "#F5F6F9",
        "template": {
         "data": {
          "bar": [
           {
            "error_x": {
             "color": "#2a3f5f"
            },
            "error_y": {
             "color": "#2a3f5f"
            },
            "marker": {
             "line": {
              "color": "#E5ECF6",
              "width": 0.5
             }
            },
            "type": "bar"
           }
          ],
          "barpolar": [
           {
            "marker": {
             "line": {
              "color": "#E5ECF6",
              "width": 0.5
             }
            },
            "type": "barpolar"
           }
          ],
          "carpet": [
           {
            "aaxis": {
             "endlinecolor": "#2a3f5f",
             "gridcolor": "white",
             "linecolor": "white",
             "minorgridcolor": "white",
             "startlinecolor": "#2a3f5f"
            },
            "baxis": {
             "endlinecolor": "#2a3f5f",
             "gridcolor": "white",
             "linecolor": "white",
             "minorgridcolor": "white",
             "startlinecolor": "#2a3f5f"
            },
            "type": "carpet"
           }
          ],
          "choropleth": [
           {
            "colorbar": {
             "outlinewidth": 0,
             "ticks": ""
            },
            "type": "choropleth"
           }
          ],
          "contour": [
           {
            "colorbar": {
             "outlinewidth": 0,
             "ticks": ""
            },
            "colorscale": [
             [
              0,
              "#0d0887"
             ],
             [
              0.1111111111111111,
              "#46039f"
             ],
             [
              0.2222222222222222,
              "#7201a8"
             ],
             [
              0.3333333333333333,
              "#9c179e"
             ],
             [
              0.4444444444444444,
              "#bd3786"
             ],
             [
              0.5555555555555556,
              "#d8576b"
             ],
             [
              0.6666666666666666,
              "#ed7953"
             ],
             [
              0.7777777777777778,
              "#fb9f3a"
             ],
             [
              0.8888888888888888,
              "#fdca26"
             ],
             [
              1,
              "#f0f921"
             ]
            ],
            "type": "contour"
           }
          ],
          "contourcarpet": [
           {
            "colorbar": {
             "outlinewidth": 0,
             "ticks": ""
            },
            "type": "contourcarpet"
           }
          ],
          "heatmap": [
           {
            "colorbar": {
             "outlinewidth": 0,
             "ticks": ""
            },
            "colorscale": [
             [
              0,
              "#0d0887"
             ],
             [
              0.1111111111111111,
              "#46039f"
             ],
             [
              0.2222222222222222,
              "#7201a8"
             ],
             [
              0.3333333333333333,
              "#9c179e"
             ],
             [
              0.4444444444444444,
              "#bd3786"
             ],
             [
              0.5555555555555556,
              "#d8576b"
             ],
             [
              0.6666666666666666,
              "#ed7953"
             ],
             [
              0.7777777777777778,
              "#fb9f3a"
             ],
             [
              0.8888888888888888,
              "#fdca26"
             ],
             [
              1,
              "#f0f921"
             ]
            ],
            "type": "heatmap"
           }
          ],
          "heatmapgl": [
           {
            "colorbar": {
             "outlinewidth": 0,
             "ticks": ""
            },
            "colorscale": [
             [
              0,
              "#0d0887"
             ],
             [
              0.1111111111111111,
              "#46039f"
             ],
             [
              0.2222222222222222,
              "#7201a8"
             ],
             [
              0.3333333333333333,
              "#9c179e"
             ],
             [
              0.4444444444444444,
              "#bd3786"
             ],
             [
              0.5555555555555556,
              "#d8576b"
             ],
             [
              0.6666666666666666,
              "#ed7953"
             ],
             [
              0.7777777777777778,
              "#fb9f3a"
             ],
             [
              0.8888888888888888,
              "#fdca26"
             ],
             [
              1,
              "#f0f921"
             ]
            ],
            "type": "heatmapgl"
           }
          ],
          "histogram": [
           {
            "marker": {
             "colorbar": {
              "outlinewidth": 0,
              "ticks": ""
             }
            },
            "type": "histogram"
           }
          ],
          "histogram2d": [
           {
            "colorbar": {
             "outlinewidth": 0,
             "ticks": ""
            },
            "colorscale": [
             [
              0,
              "#0d0887"
             ],
             [
              0.1111111111111111,
              "#46039f"
             ],
             [
              0.2222222222222222,
              "#7201a8"
             ],
             [
              0.3333333333333333,
              "#9c179e"
             ],
             [
              0.4444444444444444,
              "#bd3786"
             ],
             [
              0.5555555555555556,
              "#d8576b"
             ],
             [
              0.6666666666666666,
              "#ed7953"
             ],
             [
              0.7777777777777778,
              "#fb9f3a"
             ],
             [
              0.8888888888888888,
              "#fdca26"
             ],
             [
              1,
              "#f0f921"
             ]
            ],
            "type": "histogram2d"
           }
          ],
          "histogram2dcontour": [
           {
            "colorbar": {
             "outlinewidth": 0,
             "ticks": ""
            },
            "colorscale": [
             [
              0,
              "#0d0887"
             ],
             [
              0.1111111111111111,
              "#46039f"
             ],
             [
              0.2222222222222222,
              "#7201a8"
             ],
             [
              0.3333333333333333,
              "#9c179e"
             ],
             [
              0.4444444444444444,
              "#bd3786"
             ],
             [
              0.5555555555555556,
              "#d8576b"
             ],
             [
              0.6666666666666666,
              "#ed7953"
             ],
             [
              0.7777777777777778,
              "#fb9f3a"
             ],
             [
              0.8888888888888888,
              "#fdca26"
             ],
             [
              1,
              "#f0f921"
             ]
            ],
            "type": "histogram2dcontour"
           }
          ],
          "mesh3d": [
           {
            "colorbar": {
             "outlinewidth": 0,
             "ticks": ""
            },
            "type": "mesh3d"
           }
          ],
          "parcoords": [
           {
            "line": {
             "colorbar": {
              "outlinewidth": 0,
              "ticks": ""
             }
            },
            "type": "parcoords"
           }
          ],
          "pie": [
           {
            "automargin": true,
            "type": "pie"
           }
          ],
          "scatter": [
           {
            "marker": {
             "colorbar": {
              "outlinewidth": 0,
              "ticks": ""
             }
            },
            "type": "scatter"
           }
          ],
          "scatter3d": [
           {
            "line": {
             "colorbar": {
              "outlinewidth": 0,
              "ticks": ""
             }
            },
            "marker": {
             "colorbar": {
              "outlinewidth": 0,
              "ticks": ""
             }
            },
            "type": "scatter3d"
           }
          ],
          "scattercarpet": [
           {
            "marker": {
             "colorbar": {
              "outlinewidth": 0,
              "ticks": ""
             }
            },
            "type": "scattercarpet"
           }
          ],
          "scattergeo": [
           {
            "marker": {
             "colorbar": {
              "outlinewidth": 0,
              "ticks": ""
             }
            },
            "type": "scattergeo"
           }
          ],
          "scattergl": [
           {
            "marker": {
             "colorbar": {
              "outlinewidth": 0,
              "ticks": ""
             }
            },
            "type": "scattergl"
           }
          ],
          "scattermapbox": [
           {
            "marker": {
             "colorbar": {
              "outlinewidth": 0,
              "ticks": ""
             }
            },
            "type": "scattermapbox"
           }
          ],
          "scatterpolar": [
           {
            "marker": {
             "colorbar": {
              "outlinewidth": 0,
              "ticks": ""
             }
            },
            "type": "scatterpolar"
           }
          ],
          "scatterpolargl": [
           {
            "marker": {
             "colorbar": {
              "outlinewidth": 0,
              "ticks": ""
             }
            },
            "type": "scatterpolargl"
           }
          ],
          "scatterternary": [
           {
            "marker": {
             "colorbar": {
              "outlinewidth": 0,
              "ticks": ""
             }
            },
            "type": "scatterternary"
           }
          ],
          "surface": [
           {
            "colorbar": {
             "outlinewidth": 0,
             "ticks": ""
            },
            "colorscale": [
             [
              0,
              "#0d0887"
             ],
             [
              0.1111111111111111,
              "#46039f"
             ],
             [
              0.2222222222222222,
              "#7201a8"
             ],
             [
              0.3333333333333333,
              "#9c179e"
             ],
             [
              0.4444444444444444,
              "#bd3786"
             ],
             [
              0.5555555555555556,
              "#d8576b"
             ],
             [
              0.6666666666666666,
              "#ed7953"
             ],
             [
              0.7777777777777778,
              "#fb9f3a"
             ],
             [
              0.8888888888888888,
              "#fdca26"
             ],
             [
              1,
              "#f0f921"
             ]
            ],
            "type": "surface"
           }
          ],
          "table": [
           {
            "cells": {
             "fill": {
              "color": "#EBF0F8"
             },
             "line": {
              "color": "white"
             }
            },
            "header": {
             "fill": {
              "color": "#C8D4E3"
             },
             "line": {
              "color": "white"
             }
            },
            "type": "table"
           }
          ]
         },
         "layout": {
          "annotationdefaults": {
           "arrowcolor": "#2a3f5f",
           "arrowhead": 0,
           "arrowwidth": 1
          },
          "coloraxis": {
           "colorbar": {
            "outlinewidth": 0,
            "ticks": ""
           }
          },
          "colorscale": {
           "diverging": [
            [
             0,
             "#8e0152"
            ],
            [
             0.1,
             "#c51b7d"
            ],
            [
             0.2,
             "#de77ae"
            ],
            [
             0.3,
             "#f1b6da"
            ],
            [
             0.4,
             "#fde0ef"
            ],
            [
             0.5,
             "#f7f7f7"
            ],
            [
             0.6,
             "#e6f5d0"
            ],
            [
             0.7,
             "#b8e186"
            ],
            [
             0.8,
             "#7fbc41"
            ],
            [
             0.9,
             "#4d9221"
            ],
            [
             1,
             "#276419"
            ]
           ],
           "sequential": [
            [
             0,
             "#0d0887"
            ],
            [
             0.1111111111111111,
             "#46039f"
            ],
            [
             0.2222222222222222,
             "#7201a8"
            ],
            [
             0.3333333333333333,
             "#9c179e"
            ],
            [
             0.4444444444444444,
             "#bd3786"
            ],
            [
             0.5555555555555556,
             "#d8576b"
            ],
            [
             0.6666666666666666,
             "#ed7953"
            ],
            [
             0.7777777777777778,
             "#fb9f3a"
            ],
            [
             0.8888888888888888,
             "#fdca26"
            ],
            [
             1,
             "#f0f921"
            ]
           ],
           "sequentialminus": [
            [
             0,
             "#0d0887"
            ],
            [
             0.1111111111111111,
             "#46039f"
            ],
            [
             0.2222222222222222,
             "#7201a8"
            ],
            [
             0.3333333333333333,
             "#9c179e"
            ],
            [
             0.4444444444444444,
             "#bd3786"
            ],
            [
             0.5555555555555556,
             "#d8576b"
            ],
            [
             0.6666666666666666,
             "#ed7953"
            ],
            [
             0.7777777777777778,
             "#fb9f3a"
            ],
            [
             0.8888888888888888,
             "#fdca26"
            ],
            [
             1,
             "#f0f921"
            ]
           ]
          },
          "colorway": [
           "#636efa",
           "#EF553B",
           "#00cc96",
           "#ab63fa",
           "#FFA15A",
           "#19d3f3",
           "#FF6692",
           "#B6E880",
           "#FF97FF",
           "#FECB52"
          ],
          "font": {
           "color": "#2a3f5f"
          },
          "geo": {
           "bgcolor": "white",
           "lakecolor": "white",
           "landcolor": "#E5ECF6",
           "showlakes": true,
           "showland": true,
           "subunitcolor": "white"
          },
          "hoverlabel": {
           "align": "left"
          },
          "hovermode": "closest",
          "mapbox": {
           "style": "light"
          },
          "paper_bgcolor": "white",
          "plot_bgcolor": "#E5ECF6",
          "polar": {
           "angularaxis": {
            "gridcolor": "white",
            "linecolor": "white",
            "ticks": ""
           },
           "bgcolor": "#E5ECF6",
           "radialaxis": {
            "gridcolor": "white",
            "linecolor": "white",
            "ticks": ""
           }
          },
          "scene": {
           "xaxis": {
            "backgroundcolor": "#E5ECF6",
            "gridcolor": "white",
            "gridwidth": 2,
            "linecolor": "white",
            "showbackground": true,
            "ticks": "",
            "zerolinecolor": "white"
           },
           "yaxis": {
            "backgroundcolor": "#E5ECF6",
            "gridcolor": "white",
            "gridwidth": 2,
            "linecolor": "white",
            "showbackground": true,
            "ticks": "",
            "zerolinecolor": "white"
           },
           "zaxis": {
            "backgroundcolor": "#E5ECF6",
            "gridcolor": "white",
            "gridwidth": 2,
            "linecolor": "white",
            "showbackground": true,
            "ticks": "",
            "zerolinecolor": "white"
           }
          },
          "shapedefaults": {
           "line": {
            "color": "#2a3f5f"
           }
          },
          "ternary": {
           "aaxis": {
            "gridcolor": "white",
            "linecolor": "white",
            "ticks": ""
           },
           "baxis": {
            "gridcolor": "white",
            "linecolor": "white",
            "ticks": ""
           },
           "bgcolor": "#E5ECF6",
           "caxis": {
            "gridcolor": "white",
            "linecolor": "white",
            "ticks": ""
           }
          },
          "title": {
           "x": 0.05
          },
          "xaxis": {
           "automargin": true,
           "gridcolor": "white",
           "linecolor": "white",
           "ticks": "",
           "title": {
            "standoff": 15
           },
           "zerolinecolor": "white",
           "zerolinewidth": 2
          },
          "yaxis": {
           "automargin": true,
           "gridcolor": "white",
           "linecolor": "white",
           "ticks": "",
           "title": {
            "standoff": 15
           },
           "zerolinecolor": "white",
           "zerolinewidth": 2
          }
         }
        },
        "title": {
         "font": {
          "color": "#4D5663"
         }
        },
        "xaxis": {
         "gridcolor": "#E1E5ED",
         "showgrid": true,
         "tickfont": {
          "color": "#4D5663"
         },
         "title": {
          "font": {
           "color": "#4D5663"
          },
          "text": ""
         },
         "zerolinecolor": "#E1E5ED"
        },
        "yaxis": {
         "gridcolor": "#E1E5ED",
         "showgrid": true,
         "tickfont": {
          "color": "#4D5663"
         },
         "title": {
          "font": {
           "color": "#4D5663"
          },
          "text": ""
         },
         "zerolinecolor": "#E1E5ED"
        }
       }
      },
      "text/html": [
       "<div>\n",
       "        \n",
       "        \n",
       "            <div id=\"f932dfb4-f954-4901-acde-07e8d29f3e69\" class=\"plotly-graph-div\" style=\"height:525px; width:100%;\"></div>\n",
       "            <script type=\"text/javascript\">\n",
       "                require([\"plotly\"], function(Plotly) {\n",
       "                    window.PLOTLYENV=window.PLOTLYENV || {};\n",
       "                    window.PLOTLYENV.BASE_URL='https://plot.ly';\n",
       "                    \n",
       "                if (document.getElementById(\"f932dfb4-f954-4901-acde-07e8d29f3e69\")) {\n",
       "                    Plotly.newPlot(\n",
       "                        'f932dfb4-f954-4901-acde-07e8d29f3e69',\n",
       "                        [{\"line\": {\"color\": \"rgba(255, 153, 51, 1.0)\", \"dash\": \"solid\", \"shape\": \"linear\", \"width\": 1.3}, \"mode\": \"lines\", \"name\": \"A\", \"text\": \"\", \"type\": \"scatter\", \"x\": [0, 1, 2, 3, 4, 5, 6, 7, 8, 9, 10, 11, 12, 13, 14, 15, 16, 17, 18, 19, 20, 21, 22, 23, 24, 25, 26, 27, 28, 29, 30, 31, 32, 33, 34, 35, 36, 37, 38, 39, 40, 41, 42, 43, 44, 45, 46, 47, 48, 49, 50, 51, 52, 53, 54, 55, 56, 57, 58, 59, 60, 61, 62, 63, 64, 65, 66, 67, 68, 69, 70, 71, 72, 73, 74, 75, 76, 77, 78, 79, 80, 81, 82, 83, 84, 85, 86, 87, 88, 89, 90, 91, 92, 93, 94, 95, 96, 97, 98, 99], \"y\": [1.472529121625012, 1.130248943233051, -0.03482930485305292, -0.5732950541498779, 0.6679167375471895, -0.8579231829134375, 0.8094528586808082, 0.3085641347607752, 0.27377683773219197, 0.23206478359138408, 0.05238217602947687, 1.6583515353500433, 0.07790651684678294, -1.7301434691903925, -0.5641455958381295, 0.4147172412633151, -0.09849314047167301, 0.9977271515240892, 0.8786339083285464, 0.6950074047715827, 0.45710903842482575, 0.4982199907784472, 0.12903988052103624, -1.4837525556196758, 2.1559376570965503, 0.27121817416520905, -0.7920459692083268, 0.34986943200659715, -1.4244439368614608, 0.32694876044997556, 0.46860953711542114, -0.8163787512650883, 1.2187153472151357, -0.20858295937455842, -1.6419227340761469, -1.7597511712926772, -0.889500156517225, 0.7680841645055828, 0.242169122327131, 1.836311067999764, -0.3640393725187276, 0.6913544823158839, 0.5381815943734077, -1.2920024951121236, 0.32683652775332095, -1.6543868904131966, -0.07603260838364179, -1.1191319473076922, -0.06515760125541344, 2.6112740684691444, 0.189885318735173, 0.758128711401495, 1.3565878468023498, -1.6605371867714478, -0.7657077563048298, -0.3795261071180454, -1.0575887339186927, -0.21917702928905666, -0.018563285766532843, -0.31467704146234077, -0.15156994149975483, 1.3072808419825945, 0.301826271055909, 0.9387223883113914, -0.9159890914090407, 0.9972746743704269, -0.14961035018933383, 0.6936412738254416, 0.02150439010857565, -0.09685198016522274, -0.17962054484657083, 2.8387103914674565, 1.7403528975355167, 0.16910030614484756, -1.8773354305002856, 0.825977346945175, 0.8377635089652343, 0.9617236811802147, -0.6473981950616219, -1.6658039916353078, -0.2692192979839951, -2.729756849044134, -0.22782472436569362, -0.501111975287052, 0.46337026689879734, 1.0619123546213953, 1.6562427899245722, 0.062163840611550794, 0.19039780019298785, 0.026824609638366238, 0.8368352166533789, 0.29023261477188106, -0.4892908992826225, 0.4014711067047261, 0.7167889751395604, 1.2783993039707082, -0.45256841203177944, -1.104240974398623, 0.48498329755483055, 0.4547917796841871]}, {\"line\": {\"color\": \"rgba(55, 128, 191, 1.0)\", \"dash\": \"solid\", \"shape\": \"linear\", \"width\": 1.3}, \"mode\": \"lines\", \"name\": \"B\", \"text\": \"\", \"type\": \"scatter\", \"x\": [0, 1, 2, 3, 4, 5, 6, 7, 8, 9, 10, 11, 12, 13, 14, 15, 16, 17, 18, 19, 20, 21, 22, 23, 24, 25, 26, 27, 28, 29, 30, 31, 32, 33, 34, 35, 36, 37, 38, 39, 40, 41, 42, 43, 44, 45, 46, 47, 48, 49, 50, 51, 52, 53, 54, 55, 56, 57, 58, 59, 60, 61, 62, 63, 64, 65, 66, 67, 68, 69, 70, 71, 72, 73, 74, 75, 76, 77, 78, 79, 80, 81, 82, 83, 84, 85, 86, 87, 88, 89, 90, 91, 92, 93, 94, 95, 96, 97, 98, 99], \"y\": [-1.4490718845084207, 0.5402426554463875, -1.3347985434813625, -0.12225119502318878, -1.30101789971426, 0.38569811159209016, 2.397904687740729, -2.3982480926388368, -0.10494367248597691, -0.2224254060893642, 0.5410029274040677, 1.2220114737266936, 0.6413367934003551, 0.4661400594131579, 1.6301263489299898, -0.045857295111949706, 0.22578578119008808, 0.26281871636509874, 0.3524366173554224, -0.25045607157728855, -0.02644007066357181, 0.8618805448064077, -1.0669884903827511, 2.202131722577417, -0.7113457060825948, -0.42921931155234017, 0.03085513090831307, 2.286357429921338, -0.2505199679788893, -2.49540664349453, -1.1157577643488887, 0.7330552833464814, -0.4614404215891602, -1.3673002928914093, -1.7600123190780688, -2.0887547843771395, -2.1859340876441404, -0.49279846658300813, -1.889275646139344, -0.5690532456828411, 0.4239373965316233, 0.6397781534640425, -0.29671425027591325, 0.6571556609166963, 1.383298672469432, 1.109761245033315, 1.4332373810414698, 0.6738019112262904, -1.1813200383895766, -1.6614202983027815, 1.2398798868361367, 0.6123687064574279, 0.0915797315637989, 0.006009505705794459, -1.0960578906870182, -1.1053797480590637, 1.0352922076995237, 0.2776270046807994, -0.09822942803128862, 1.3423627824672761, -0.4269262478860568, -0.8566216988554339, 0.4155483209694457, 0.21352323335426418, 0.9205293326670225, -2.4290809169775893, -1.097530893017326, 0.0014555989292659602, -0.4721893111402556, -2.3651682013646727, 0.9177196755689004, -2.6495518809284646, 0.018826728369795518, 0.05322287052010041, -1.1676072328548432, 0.3940104502096727, 0.3003994475771432, 1.6651594296939112, -0.671156151734517, 3.2476405756672038, -0.026105037598596365, -1.177609198277101, 0.12516726924093127, -0.517430855564586, 0.6604745556074771, -0.0018629645865976042, -1.7849289778669288, 0.18498950224768243, 1.442080076368799, 0.9472992507672473, 2.195427851378761, 0.3966786785752604, -0.5002725972891627, -1.9460828869923503, -0.3608192626215061, 1.0131320014705925, -0.7057725331167626, 0.9665220645320599, -0.042248237084285586, -0.9798386628297314]}, {\"line\": {\"color\": \"rgba(50, 171, 96, 1.0)\", \"dash\": \"solid\", \"shape\": \"linear\", \"width\": 1.3}, \"mode\": \"lines\", \"name\": \"C\", \"text\": \"\", \"type\": \"scatter\", \"x\": [0, 1, 2, 3, 4, 5, 6, 7, 8, 9, 10, 11, 12, 13, 14, 15, 16, 17, 18, 19, 20, 21, 22, 23, 24, 25, 26, 27, 28, 29, 30, 31, 32, 33, 34, 35, 36, 37, 38, 39, 40, 41, 42, 43, 44, 45, 46, 47, 48, 49, 50, 51, 52, 53, 54, 55, 56, 57, 58, 59, 60, 61, 62, 63, 64, 65, 66, 67, 68, 69, 70, 71, 72, 73, 74, 75, 76, 77, 78, 79, 80, 81, 82, 83, 84, 85, 86, 87, 88, 89, 90, 91, 92, 93, 94, 95, 96, 97, 98, 99], \"y\": [0.2941477958735066, -1.2772567937568937, 0.7441189607505856, -0.07469019133525433, 0.15688826260723918, -0.3147237571105742, 0.09746151352817672, -1.4894485007346023, -0.8118109462101483, -0.08316960538668344, -3.167014284398424, 0.5384558809342364, 1.0557522069504213, 0.37150366384546263, 0.7590918824347042, 0.49357135745610187, -0.37733645380166997, 0.6364367047170686, 0.65240454392822, -0.5460605302037064, -0.2598143788964035, -1.0129067831437126, 0.24442937330633968, -1.0076829208783498, -0.5501970096805181, 0.061399346063866204, 1.179641651882113, 1.8840213768542848, -2.7297693179368894, 0.08444274726336994, -0.07866577711107688, 1.0228544923597822, -0.2717333568906527, -0.7678139093837235, 0.8002168364713665, -0.6163668196735747, -0.7840916361031486, -0.5434871478375157, 0.34616144852931713, -0.47902312536359887, -0.992535599042179, 0.2590527094808219, 1.2666923316053984, 0.7476549908657724, -1.0512553869294554, -0.14237158758117616, -1.2929307281780056, 1.5189203997919931, -0.6494858691130097, -0.5679015903851855, 0.551965962231021, -1.6539555233879015, -0.22271778130394515, 1.0386498514148697, 0.3608835982240124, 2.213346720878855, -0.9735769015751691, 0.840128631763991, 1.7556896787581586, -1.4412116307568839, 0.2196949231023285, 1.4992049801411589, -0.6611392490895978, -0.6304908747192904, 1.1533356994672497, -0.420636670400046, 1.443644516191686, 1.451438062161945, 0.483124750711282, -0.5236258108150692, 0.4404690671036626, 0.9996524509583272, -0.6130636059848118, 0.6690199413988712, 1.3263847443422256, -0.7556056623240177, 0.637862832272282, 0.38904377493049913, -1.3370612405882778, 1.1933950268610702, 0.06462007050856437, 0.5764395379058818, -0.8458357075549467, -0.5445116781543524, 0.3050900194252306, -0.2956218398366735, -1.7568210556812383, -2.624628846051485, 0.7344870558616293, 1.0497000890759491, 1.5692069955925685, -0.8839762063095732, -0.2858107813208934, 0.9699611896103433, -1.18056791878244, 0.6737419030585361, -0.6984885465871962, 1.0726235170641276, 0.5217735041662983, 1.5039611018876746]}, {\"line\": {\"color\": \"rgba(128, 0, 128, 1.0)\", \"dash\": \"solid\", \"shape\": \"linear\", \"width\": 1.3}, \"mode\": \"lines\", \"name\": \"D\", \"text\": \"\", \"type\": \"scatter\", \"x\": [0, 1, 2, 3, 4, 5, 6, 7, 8, 9, 10, 11, 12, 13, 14, 15, 16, 17, 18, 19, 20, 21, 22, 23, 24, 25, 26, 27, 28, 29, 30, 31, 32, 33, 34, 35, 36, 37, 38, 39, 40, 41, 42, 43, 44, 45, 46, 47, 48, 49, 50, 51, 52, 53, 54, 55, 56, 57, 58, 59, 60, 61, 62, 63, 64, 65, 66, 67, 68, 69, 70, 71, 72, 73, 74, 75, 76, 77, 78, 79, 80, 81, 82, 83, 84, 85, 86, 87, 88, 89, 90, 91, 92, 93, 94, 95, 96, 97, 98, 99], \"y\": [-0.29209677698554737, 0.9573957896267596, -0.0007975772046197507, -0.8158976884143562, -1.9936338636737942, -1.066112859705764, -0.1624501274103537, -0.03172677523944978, 0.4230420996426988, -1.5072924379640384, -1.0285792418506818, -0.4648859742555061, 0.5488567472998651, -1.5509988671031387, -0.18731149886148526, -0.7307216961994965, 0.28659201122255096, 2.172650873228859, 0.6037152824336763, -0.727575725495342, 0.1921261607745329, 2.0257007599249666, 0.29878916777565295, -0.11662895626105096, 0.4176466932527999, 0.11869807879751894, -0.6185996268081179, 0.5654893958419337, 0.305655388592086, 0.13135273742832368, 0.12184068056708995, -0.5071662392557261, -0.568931741848525, 0.4901084143203101, -0.2460586894546757, -0.848531489622213, 1.3630384966893647, -0.3474418391715347, -1.1246178854325561, 0.2727742766284284, 0.9858324741667885, -1.260376384177372, 2.1995501477694517, -1.1862990063877248, -1.27720070099572, -0.1394136561501857, -1.5767204417253653, -0.04261634006372652, -0.0851414882747124, -0.9119035439512653, -0.32281930867905156, 0.194979954818921, -0.11685677866976853, -1.8053738746846808, -0.014808754132441395, -0.6392074518606004, -0.8503232038190978, -1.0937525430983601, 1.187030991396334, 1.4645556128099475, 0.4113009102746684, 0.1798500649884786, -0.6724445119030096, 0.13446213951423927, 1.3679920722622896, 1.1313820175998472, 0.46880252769541614, -0.39789401001271074, 0.38433474242590737, -0.46326651134413627, 0.33327001249620947, -0.09753287150325765, 2.344702589914879, -0.9140280632719038, -1.4177177422630272, 0.03634479751321479, -1.692481484675992, 0.9512640830307857, 0.19137848466118784, -1.1004124257636585, 0.7043635574043291, -0.09092904401842151, 1.5059008971891839, 0.5973458990802751, 0.34603516962923475, -1.812425632066957, -0.5333194244555364, -0.8625662806115877, -0.1353587151319946, -0.42633306707360935, 0.3816695380113307, 0.89874110435248, 0.3626000974090412, -0.34626845050310656, 1.8354956959106006, -0.1633850685970794, 0.18564892606709904, 0.3812582914116791, -0.9656308255591639, -0.011778101035519862]}],\n",
       "                        {\"legend\": {\"bgcolor\": \"#F5F6F9\", \"font\": {\"color\": \"#4D5663\"}}, \"paper_bgcolor\": \"#F5F6F9\", \"plot_bgcolor\": \"#F5F6F9\", \"template\": {\"data\": {\"bar\": [{\"error_x\": {\"color\": \"#2a3f5f\"}, \"error_y\": {\"color\": \"#2a3f5f\"}, \"marker\": {\"line\": {\"color\": \"#E5ECF6\", \"width\": 0.5}}, \"type\": \"bar\"}], \"barpolar\": [{\"marker\": {\"line\": {\"color\": \"#E5ECF6\", \"width\": 0.5}}, \"type\": \"barpolar\"}], \"carpet\": [{\"aaxis\": {\"endlinecolor\": \"#2a3f5f\", \"gridcolor\": \"white\", \"linecolor\": \"white\", \"minorgridcolor\": \"white\", \"startlinecolor\": \"#2a3f5f\"}, \"baxis\": {\"endlinecolor\": \"#2a3f5f\", \"gridcolor\": \"white\", \"linecolor\": \"white\", \"minorgridcolor\": \"white\", \"startlinecolor\": \"#2a3f5f\"}, \"type\": \"carpet\"}], \"choropleth\": [{\"colorbar\": {\"outlinewidth\": 0, \"ticks\": \"\"}, \"type\": \"choropleth\"}], \"contour\": [{\"colorbar\": {\"outlinewidth\": 0, \"ticks\": \"\"}, \"colorscale\": [[0.0, \"#0d0887\"], [0.1111111111111111, \"#46039f\"], [0.2222222222222222, \"#7201a8\"], [0.3333333333333333, \"#9c179e\"], [0.4444444444444444, \"#bd3786\"], [0.5555555555555556, \"#d8576b\"], [0.6666666666666666, \"#ed7953\"], [0.7777777777777778, \"#fb9f3a\"], [0.8888888888888888, \"#fdca26\"], [1.0, \"#f0f921\"]], \"type\": \"contour\"}], \"contourcarpet\": [{\"colorbar\": {\"outlinewidth\": 0, \"ticks\": \"\"}, \"type\": \"contourcarpet\"}], \"heatmap\": [{\"colorbar\": {\"outlinewidth\": 0, \"ticks\": \"\"}, \"colorscale\": [[0.0, \"#0d0887\"], [0.1111111111111111, \"#46039f\"], [0.2222222222222222, \"#7201a8\"], [0.3333333333333333, \"#9c179e\"], [0.4444444444444444, \"#bd3786\"], [0.5555555555555556, \"#d8576b\"], [0.6666666666666666, \"#ed7953\"], [0.7777777777777778, \"#fb9f3a\"], [0.8888888888888888, \"#fdca26\"], [1.0, \"#f0f921\"]], \"type\": \"heatmap\"}], \"heatmapgl\": [{\"colorbar\": {\"outlinewidth\": 0, \"ticks\": \"\"}, \"colorscale\": [[0.0, \"#0d0887\"], [0.1111111111111111, \"#46039f\"], [0.2222222222222222, \"#7201a8\"], [0.3333333333333333, \"#9c179e\"], [0.4444444444444444, \"#bd3786\"], [0.5555555555555556, \"#d8576b\"], [0.6666666666666666, \"#ed7953\"], [0.7777777777777778, \"#fb9f3a\"], [0.8888888888888888, \"#fdca26\"], [1.0, \"#f0f921\"]], \"type\": \"heatmapgl\"}], \"histogram\": [{\"marker\": {\"colorbar\": {\"outlinewidth\": 0, \"ticks\": \"\"}}, \"type\": \"histogram\"}], \"histogram2d\": [{\"colorbar\": {\"outlinewidth\": 0, \"ticks\": \"\"}, \"colorscale\": [[0.0, \"#0d0887\"], [0.1111111111111111, \"#46039f\"], [0.2222222222222222, \"#7201a8\"], [0.3333333333333333, \"#9c179e\"], [0.4444444444444444, \"#bd3786\"], [0.5555555555555556, \"#d8576b\"], [0.6666666666666666, \"#ed7953\"], [0.7777777777777778, \"#fb9f3a\"], [0.8888888888888888, \"#fdca26\"], [1.0, \"#f0f921\"]], \"type\": \"histogram2d\"}], \"histogram2dcontour\": [{\"colorbar\": {\"outlinewidth\": 0, \"ticks\": \"\"}, \"colorscale\": [[0.0, \"#0d0887\"], [0.1111111111111111, \"#46039f\"], [0.2222222222222222, \"#7201a8\"], [0.3333333333333333, \"#9c179e\"], [0.4444444444444444, \"#bd3786\"], [0.5555555555555556, \"#d8576b\"], [0.6666666666666666, \"#ed7953\"], [0.7777777777777778, \"#fb9f3a\"], [0.8888888888888888, \"#fdca26\"], [1.0, \"#f0f921\"]], \"type\": \"histogram2dcontour\"}], \"mesh3d\": [{\"colorbar\": {\"outlinewidth\": 0, \"ticks\": \"\"}, \"type\": \"mesh3d\"}], \"parcoords\": [{\"line\": {\"colorbar\": {\"outlinewidth\": 0, \"ticks\": \"\"}}, \"type\": \"parcoords\"}], \"pie\": [{\"automargin\": true, \"type\": \"pie\"}], \"scatter\": [{\"marker\": {\"colorbar\": {\"outlinewidth\": 0, \"ticks\": \"\"}}, \"type\": \"scatter\"}], \"scatter3d\": [{\"line\": {\"colorbar\": {\"outlinewidth\": 0, \"ticks\": \"\"}}, \"marker\": {\"colorbar\": {\"outlinewidth\": 0, \"ticks\": \"\"}}, \"type\": \"scatter3d\"}], \"scattercarpet\": [{\"marker\": {\"colorbar\": {\"outlinewidth\": 0, \"ticks\": \"\"}}, \"type\": \"scattercarpet\"}], \"scattergeo\": [{\"marker\": {\"colorbar\": {\"outlinewidth\": 0, \"ticks\": \"\"}}, \"type\": \"scattergeo\"}], \"scattergl\": [{\"marker\": {\"colorbar\": {\"outlinewidth\": 0, \"ticks\": \"\"}}, \"type\": \"scattergl\"}], \"scattermapbox\": [{\"marker\": {\"colorbar\": {\"outlinewidth\": 0, \"ticks\": \"\"}}, \"type\": \"scattermapbox\"}], \"scatterpolar\": [{\"marker\": {\"colorbar\": {\"outlinewidth\": 0, \"ticks\": \"\"}}, \"type\": \"scatterpolar\"}], \"scatterpolargl\": [{\"marker\": {\"colorbar\": {\"outlinewidth\": 0, \"ticks\": \"\"}}, \"type\": \"scatterpolargl\"}], \"scatterternary\": [{\"marker\": {\"colorbar\": {\"outlinewidth\": 0, \"ticks\": \"\"}}, \"type\": \"scatterternary\"}], \"surface\": [{\"colorbar\": {\"outlinewidth\": 0, \"ticks\": \"\"}, \"colorscale\": [[0.0, \"#0d0887\"], [0.1111111111111111, \"#46039f\"], [0.2222222222222222, \"#7201a8\"], [0.3333333333333333, \"#9c179e\"], [0.4444444444444444, \"#bd3786\"], [0.5555555555555556, \"#d8576b\"], [0.6666666666666666, \"#ed7953\"], [0.7777777777777778, \"#fb9f3a\"], [0.8888888888888888, \"#fdca26\"], [1.0, \"#f0f921\"]], \"type\": \"surface\"}], \"table\": [{\"cells\": {\"fill\": {\"color\": \"#EBF0F8\"}, \"line\": {\"color\": \"white\"}}, \"header\": {\"fill\": {\"color\": \"#C8D4E3\"}, \"line\": {\"color\": \"white\"}}, \"type\": \"table\"}]}, \"layout\": {\"annotationdefaults\": {\"arrowcolor\": \"#2a3f5f\", \"arrowhead\": 0, \"arrowwidth\": 1}, \"coloraxis\": {\"colorbar\": {\"outlinewidth\": 0, \"ticks\": \"\"}}, \"colorscale\": {\"diverging\": [[0, \"#8e0152\"], [0.1, \"#c51b7d\"], [0.2, \"#de77ae\"], [0.3, \"#f1b6da\"], [0.4, \"#fde0ef\"], [0.5, \"#f7f7f7\"], [0.6, \"#e6f5d0\"], [0.7, \"#b8e186\"], [0.8, \"#7fbc41\"], [0.9, \"#4d9221\"], [1, \"#276419\"]], \"sequential\": [[0.0, \"#0d0887\"], [0.1111111111111111, \"#46039f\"], [0.2222222222222222, \"#7201a8\"], [0.3333333333333333, \"#9c179e\"], [0.4444444444444444, \"#bd3786\"], [0.5555555555555556, \"#d8576b\"], [0.6666666666666666, \"#ed7953\"], [0.7777777777777778, \"#fb9f3a\"], [0.8888888888888888, \"#fdca26\"], [1.0, \"#f0f921\"]], \"sequentialminus\": [[0.0, \"#0d0887\"], [0.1111111111111111, \"#46039f\"], [0.2222222222222222, \"#7201a8\"], [0.3333333333333333, \"#9c179e\"], [0.4444444444444444, \"#bd3786\"], [0.5555555555555556, \"#d8576b\"], [0.6666666666666666, \"#ed7953\"], [0.7777777777777778, \"#fb9f3a\"], [0.8888888888888888, \"#fdca26\"], [1.0, \"#f0f921\"]]}, \"colorway\": [\"#636efa\", \"#EF553B\", \"#00cc96\", \"#ab63fa\", \"#FFA15A\", \"#19d3f3\", \"#FF6692\", \"#B6E880\", \"#FF97FF\", \"#FECB52\"], \"font\": {\"color\": \"#2a3f5f\"}, \"geo\": {\"bgcolor\": \"white\", \"lakecolor\": \"white\", \"landcolor\": \"#E5ECF6\", \"showlakes\": true, \"showland\": true, \"subunitcolor\": \"white\"}, \"hoverlabel\": {\"align\": \"left\"}, \"hovermode\": \"closest\", \"mapbox\": {\"style\": \"light\"}, \"paper_bgcolor\": \"white\", \"plot_bgcolor\": \"#E5ECF6\", \"polar\": {\"angularaxis\": {\"gridcolor\": \"white\", \"linecolor\": \"white\", \"ticks\": \"\"}, \"bgcolor\": \"#E5ECF6\", \"radialaxis\": {\"gridcolor\": \"white\", \"linecolor\": \"white\", \"ticks\": \"\"}}, \"scene\": {\"xaxis\": {\"backgroundcolor\": \"#E5ECF6\", \"gridcolor\": \"white\", \"gridwidth\": 2, \"linecolor\": \"white\", \"showbackground\": true, \"ticks\": \"\", \"zerolinecolor\": \"white\"}, \"yaxis\": {\"backgroundcolor\": \"#E5ECF6\", \"gridcolor\": \"white\", \"gridwidth\": 2, \"linecolor\": \"white\", \"showbackground\": true, \"ticks\": \"\", \"zerolinecolor\": \"white\"}, \"zaxis\": {\"backgroundcolor\": \"#E5ECF6\", \"gridcolor\": \"white\", \"gridwidth\": 2, \"linecolor\": \"white\", \"showbackground\": true, \"ticks\": \"\", \"zerolinecolor\": \"white\"}}, \"shapedefaults\": {\"line\": {\"color\": \"#2a3f5f\"}}, \"ternary\": {\"aaxis\": {\"gridcolor\": \"white\", \"linecolor\": \"white\", \"ticks\": \"\"}, \"baxis\": {\"gridcolor\": \"white\", \"linecolor\": \"white\", \"ticks\": \"\"}, \"bgcolor\": \"#E5ECF6\", \"caxis\": {\"gridcolor\": \"white\", \"linecolor\": \"white\", \"ticks\": \"\"}}, \"title\": {\"x\": 0.05}, \"xaxis\": {\"automargin\": true, \"gridcolor\": \"white\", \"linecolor\": \"white\", \"ticks\": \"\", \"title\": {\"standoff\": 15}, \"zerolinecolor\": \"white\", \"zerolinewidth\": 2}, \"yaxis\": {\"automargin\": true, \"gridcolor\": \"white\", \"linecolor\": \"white\", \"ticks\": \"\", \"title\": {\"standoff\": 15}, \"zerolinecolor\": \"white\", \"zerolinewidth\": 2}}}, \"title\": {\"font\": {\"color\": \"#4D5663\"}}, \"xaxis\": {\"gridcolor\": \"#E1E5ED\", \"showgrid\": true, \"tickfont\": {\"color\": \"#4D5663\"}, \"title\": {\"font\": {\"color\": \"#4D5663\"}, \"text\": \"\"}, \"zerolinecolor\": \"#E1E5ED\"}, \"yaxis\": {\"gridcolor\": \"#E1E5ED\", \"showgrid\": true, \"tickfont\": {\"color\": \"#4D5663\"}, \"title\": {\"font\": {\"color\": \"#4D5663\"}, \"text\": \"\"}, \"zerolinecolor\": \"#E1E5ED\"}},\n",
       "                        {\"showLink\": true, \"linkText\": \"Export to plot.ly\", \"plotlyServerURL\": \"https://plot.ly\", \"responsive\": true}\n",
       "                    ).then(function(){\n",
       "                            \n",
       "var gd = document.getElementById('f932dfb4-f954-4901-acde-07e8d29f3e69');\n",
       "var x = new MutationObserver(function (mutations, observer) {{\n",
       "        var display = window.getComputedStyle(gd).display;\n",
       "        if (!display || display === 'none') {{\n",
       "            console.log([gd, 'removed!']);\n",
       "            Plotly.purge(gd);\n",
       "            observer.disconnect();\n",
       "        }}\n",
       "}});\n",
       "\n",
       "// Listen for the removal of the full notebook cells\n",
       "var notebookContainer = gd.closest('#notebook-container');\n",
       "if (notebookContainer) {{\n",
       "    x.observe(notebookContainer, {childList: true});\n",
       "}}\n",
       "\n",
       "// Listen for the clearing of the current output cell\n",
       "var outputEl = gd.closest('.output');\n",
       "if (outputEl) {{\n",
       "    x.observe(outputEl, {childList: true});\n",
       "}}\n",
       "\n",
       "                        })\n",
       "                };\n",
       "                });\n",
       "            </script>\n",
       "        </div>"
      ]
     },
     "metadata": {},
     "output_type": "display_data"
    }
   ],
   "source": [
    " df1.iplot()"
   ]
  },
  {
   "cell_type": "code",
   "execution_count": 49,
   "metadata": {},
   "outputs": [
    {
     "data": {
      "application/vnd.plotly.v1+json": {
       "config": {
        "linkText": "Export to plot.ly",
        "plotlyServerURL": "https://plot.ly",
        "showLink": true
       },
       "data": [
        {
         "line": {
          "color": "rgba(255, 153, 51, 1.0)",
          "dash": "solid",
          "shape": "linear",
          "width": 1.3
         },
         "mode": "lines",
         "name": "B",
         "text": "",
         "type": "scatter",
         "x": [
          1.472529121625012,
          1.130248943233051,
          -0.03482930485305292,
          -0.5732950541498779,
          0.6679167375471895,
          -0.8579231829134375,
          0.8094528586808082,
          0.3085641347607752,
          0.27377683773219197,
          0.23206478359138408,
          0.05238217602947687,
          1.6583515353500433,
          0.07790651684678294,
          -1.7301434691903925,
          -0.5641455958381295,
          0.4147172412633151,
          -0.09849314047167301,
          0.9977271515240892,
          0.8786339083285464,
          0.6950074047715827,
          0.45710903842482575,
          0.4982199907784472,
          0.12903988052103624,
          -1.4837525556196758,
          2.1559376570965503,
          0.27121817416520905,
          -0.7920459692083268,
          0.34986943200659715,
          -1.4244439368614608,
          0.32694876044997556,
          0.46860953711542114,
          -0.8163787512650883,
          1.2187153472151357,
          -0.20858295937455842,
          -1.6419227340761469,
          -1.7597511712926772,
          -0.889500156517225,
          0.7680841645055828,
          0.242169122327131,
          1.836311067999764,
          -0.3640393725187276,
          0.6913544823158839,
          0.5381815943734077,
          -1.2920024951121236,
          0.32683652775332095,
          -1.6543868904131966,
          -0.07603260838364179,
          -1.1191319473076922,
          -0.06515760125541344,
          2.6112740684691444,
          0.189885318735173,
          0.758128711401495,
          1.3565878468023498,
          -1.6605371867714478,
          -0.7657077563048298,
          -0.3795261071180454,
          -1.0575887339186927,
          -0.21917702928905666,
          -0.018563285766532843,
          -0.31467704146234077,
          -0.15156994149975483,
          1.3072808419825945,
          0.301826271055909,
          0.9387223883113914,
          -0.9159890914090407,
          0.9972746743704269,
          -0.14961035018933383,
          0.6936412738254416,
          0.02150439010857565,
          -0.09685198016522274,
          -0.17962054484657083,
          2.8387103914674565,
          1.7403528975355167,
          0.16910030614484756,
          -1.8773354305002856,
          0.825977346945175,
          0.8377635089652343,
          0.9617236811802147,
          -0.6473981950616219,
          -1.6658039916353078,
          -0.2692192979839951,
          -2.729756849044134,
          -0.22782472436569362,
          -0.501111975287052,
          0.46337026689879734,
          1.0619123546213953,
          1.6562427899245722,
          0.062163840611550794,
          0.19039780019298785,
          0.026824609638366238,
          0.8368352166533789,
          0.29023261477188106,
          -0.4892908992826225,
          0.4014711067047261,
          0.7167889751395604,
          1.2783993039707082,
          -0.45256841203177944,
          -1.104240974398623,
          0.48498329755483055,
          0.4547917796841871
         ],
         "y": [
          -1.4490718845084207,
          0.5402426554463875,
          -1.3347985434813625,
          -0.12225119502318878,
          -1.30101789971426,
          0.38569811159209016,
          2.397904687740729,
          -2.3982480926388368,
          -0.10494367248597691,
          -0.2224254060893642,
          0.5410029274040677,
          1.2220114737266936,
          0.6413367934003551,
          0.4661400594131579,
          1.6301263489299898,
          -0.045857295111949706,
          0.22578578119008808,
          0.26281871636509874,
          0.3524366173554224,
          -0.25045607157728855,
          -0.02644007066357181,
          0.8618805448064077,
          -1.0669884903827511,
          2.202131722577417,
          -0.7113457060825948,
          -0.42921931155234017,
          0.03085513090831307,
          2.286357429921338,
          -0.2505199679788893,
          -2.49540664349453,
          -1.1157577643488887,
          0.7330552833464814,
          -0.4614404215891602,
          -1.3673002928914093,
          -1.7600123190780688,
          -2.0887547843771395,
          -2.1859340876441404,
          -0.49279846658300813,
          -1.889275646139344,
          -0.5690532456828411,
          0.4239373965316233,
          0.6397781534640425,
          -0.29671425027591325,
          0.6571556609166963,
          1.383298672469432,
          1.109761245033315,
          1.4332373810414698,
          0.6738019112262904,
          -1.1813200383895766,
          -1.6614202983027815,
          1.2398798868361367,
          0.6123687064574279,
          0.0915797315637989,
          0.006009505705794459,
          -1.0960578906870182,
          -1.1053797480590637,
          1.0352922076995237,
          0.2776270046807994,
          -0.09822942803128862,
          1.3423627824672761,
          -0.4269262478860568,
          -0.8566216988554339,
          0.4155483209694457,
          0.21352323335426418,
          0.9205293326670225,
          -2.4290809169775893,
          -1.097530893017326,
          0.0014555989292659602,
          -0.4721893111402556,
          -2.3651682013646727,
          0.9177196755689004,
          -2.6495518809284646,
          0.018826728369795518,
          0.05322287052010041,
          -1.1676072328548432,
          0.3940104502096727,
          0.3003994475771432,
          1.6651594296939112,
          -0.671156151734517,
          3.2476405756672038,
          -0.026105037598596365,
          -1.177609198277101,
          0.12516726924093127,
          -0.517430855564586,
          0.6604745556074771,
          -0.0018629645865976042,
          -1.7849289778669288,
          0.18498950224768243,
          1.442080076368799,
          0.9472992507672473,
          2.195427851378761,
          0.3966786785752604,
          -0.5002725972891627,
          -1.9460828869923503,
          -0.3608192626215061,
          1.0131320014705925,
          -0.7057725331167626,
          0.9665220645320599,
          -0.042248237084285586,
          -0.9798386628297314
         ]
        }
       ],
       "layout": {
        "legend": {
         "bgcolor": "#F5F6F9",
         "font": {
          "color": "#4D5663"
         }
        },
        "paper_bgcolor": "#F5F6F9",
        "plot_bgcolor": "#F5F6F9",
        "template": {
         "data": {
          "bar": [
           {
            "error_x": {
             "color": "#2a3f5f"
            },
            "error_y": {
             "color": "#2a3f5f"
            },
            "marker": {
             "line": {
              "color": "#E5ECF6",
              "width": 0.5
             }
            },
            "type": "bar"
           }
          ],
          "barpolar": [
           {
            "marker": {
             "line": {
              "color": "#E5ECF6",
              "width": 0.5
             }
            },
            "type": "barpolar"
           }
          ],
          "carpet": [
           {
            "aaxis": {
             "endlinecolor": "#2a3f5f",
             "gridcolor": "white",
             "linecolor": "white",
             "minorgridcolor": "white",
             "startlinecolor": "#2a3f5f"
            },
            "baxis": {
             "endlinecolor": "#2a3f5f",
             "gridcolor": "white",
             "linecolor": "white",
             "minorgridcolor": "white",
             "startlinecolor": "#2a3f5f"
            },
            "type": "carpet"
           }
          ],
          "choropleth": [
           {
            "colorbar": {
             "outlinewidth": 0,
             "ticks": ""
            },
            "type": "choropleth"
           }
          ],
          "contour": [
           {
            "colorbar": {
             "outlinewidth": 0,
             "ticks": ""
            },
            "colorscale": [
             [
              0,
              "#0d0887"
             ],
             [
              0.1111111111111111,
              "#46039f"
             ],
             [
              0.2222222222222222,
              "#7201a8"
             ],
             [
              0.3333333333333333,
              "#9c179e"
             ],
             [
              0.4444444444444444,
              "#bd3786"
             ],
             [
              0.5555555555555556,
              "#d8576b"
             ],
             [
              0.6666666666666666,
              "#ed7953"
             ],
             [
              0.7777777777777778,
              "#fb9f3a"
             ],
             [
              0.8888888888888888,
              "#fdca26"
             ],
             [
              1,
              "#f0f921"
             ]
            ],
            "type": "contour"
           }
          ],
          "contourcarpet": [
           {
            "colorbar": {
             "outlinewidth": 0,
             "ticks": ""
            },
            "type": "contourcarpet"
           }
          ],
          "heatmap": [
           {
            "colorbar": {
             "outlinewidth": 0,
             "ticks": ""
            },
            "colorscale": [
             [
              0,
              "#0d0887"
             ],
             [
              0.1111111111111111,
              "#46039f"
             ],
             [
              0.2222222222222222,
              "#7201a8"
             ],
             [
              0.3333333333333333,
              "#9c179e"
             ],
             [
              0.4444444444444444,
              "#bd3786"
             ],
             [
              0.5555555555555556,
              "#d8576b"
             ],
             [
              0.6666666666666666,
              "#ed7953"
             ],
             [
              0.7777777777777778,
              "#fb9f3a"
             ],
             [
              0.8888888888888888,
              "#fdca26"
             ],
             [
              1,
              "#f0f921"
             ]
            ],
            "type": "heatmap"
           }
          ],
          "heatmapgl": [
           {
            "colorbar": {
             "outlinewidth": 0,
             "ticks": ""
            },
            "colorscale": [
             [
              0,
              "#0d0887"
             ],
             [
              0.1111111111111111,
              "#46039f"
             ],
             [
              0.2222222222222222,
              "#7201a8"
             ],
             [
              0.3333333333333333,
              "#9c179e"
             ],
             [
              0.4444444444444444,
              "#bd3786"
             ],
             [
              0.5555555555555556,
              "#d8576b"
             ],
             [
              0.6666666666666666,
              "#ed7953"
             ],
             [
              0.7777777777777778,
              "#fb9f3a"
             ],
             [
              0.8888888888888888,
              "#fdca26"
             ],
             [
              1,
              "#f0f921"
             ]
            ],
            "type": "heatmapgl"
           }
          ],
          "histogram": [
           {
            "marker": {
             "colorbar": {
              "outlinewidth": 0,
              "ticks": ""
             }
            },
            "type": "histogram"
           }
          ],
          "histogram2d": [
           {
            "colorbar": {
             "outlinewidth": 0,
             "ticks": ""
            },
            "colorscale": [
             [
              0,
              "#0d0887"
             ],
             [
              0.1111111111111111,
              "#46039f"
             ],
             [
              0.2222222222222222,
              "#7201a8"
             ],
             [
              0.3333333333333333,
              "#9c179e"
             ],
             [
              0.4444444444444444,
              "#bd3786"
             ],
             [
              0.5555555555555556,
              "#d8576b"
             ],
             [
              0.6666666666666666,
              "#ed7953"
             ],
             [
              0.7777777777777778,
              "#fb9f3a"
             ],
             [
              0.8888888888888888,
              "#fdca26"
             ],
             [
              1,
              "#f0f921"
             ]
            ],
            "type": "histogram2d"
           }
          ],
          "histogram2dcontour": [
           {
            "colorbar": {
             "outlinewidth": 0,
             "ticks": ""
            },
            "colorscale": [
             [
              0,
              "#0d0887"
             ],
             [
              0.1111111111111111,
              "#46039f"
             ],
             [
              0.2222222222222222,
              "#7201a8"
             ],
             [
              0.3333333333333333,
              "#9c179e"
             ],
             [
              0.4444444444444444,
              "#bd3786"
             ],
             [
              0.5555555555555556,
              "#d8576b"
             ],
             [
              0.6666666666666666,
              "#ed7953"
             ],
             [
              0.7777777777777778,
              "#fb9f3a"
             ],
             [
              0.8888888888888888,
              "#fdca26"
             ],
             [
              1,
              "#f0f921"
             ]
            ],
            "type": "histogram2dcontour"
           }
          ],
          "mesh3d": [
           {
            "colorbar": {
             "outlinewidth": 0,
             "ticks": ""
            },
            "type": "mesh3d"
           }
          ],
          "parcoords": [
           {
            "line": {
             "colorbar": {
              "outlinewidth": 0,
              "ticks": ""
             }
            },
            "type": "parcoords"
           }
          ],
          "pie": [
           {
            "automargin": true,
            "type": "pie"
           }
          ],
          "scatter": [
           {
            "marker": {
             "colorbar": {
              "outlinewidth": 0,
              "ticks": ""
             }
            },
            "type": "scatter"
           }
          ],
          "scatter3d": [
           {
            "line": {
             "colorbar": {
              "outlinewidth": 0,
              "ticks": ""
             }
            },
            "marker": {
             "colorbar": {
              "outlinewidth": 0,
              "ticks": ""
             }
            },
            "type": "scatter3d"
           }
          ],
          "scattercarpet": [
           {
            "marker": {
             "colorbar": {
              "outlinewidth": 0,
              "ticks": ""
             }
            },
            "type": "scattercarpet"
           }
          ],
          "scattergeo": [
           {
            "marker": {
             "colorbar": {
              "outlinewidth": 0,
              "ticks": ""
             }
            },
            "type": "scattergeo"
           }
          ],
          "scattergl": [
           {
            "marker": {
             "colorbar": {
              "outlinewidth": 0,
              "ticks": ""
             }
            },
            "type": "scattergl"
           }
          ],
          "scattermapbox": [
           {
            "marker": {
             "colorbar": {
              "outlinewidth": 0,
              "ticks": ""
             }
            },
            "type": "scattermapbox"
           }
          ],
          "scatterpolar": [
           {
            "marker": {
             "colorbar": {
              "outlinewidth": 0,
              "ticks": ""
             }
            },
            "type": "scatterpolar"
           }
          ],
          "scatterpolargl": [
           {
            "marker": {
             "colorbar": {
              "outlinewidth": 0,
              "ticks": ""
             }
            },
            "type": "scatterpolargl"
           }
          ],
          "scatterternary": [
           {
            "marker": {
             "colorbar": {
              "outlinewidth": 0,
              "ticks": ""
             }
            },
            "type": "scatterternary"
           }
          ],
          "surface": [
           {
            "colorbar": {
             "outlinewidth": 0,
             "ticks": ""
            },
            "colorscale": [
             [
              0,
              "#0d0887"
             ],
             [
              0.1111111111111111,
              "#46039f"
             ],
             [
              0.2222222222222222,
              "#7201a8"
             ],
             [
              0.3333333333333333,
              "#9c179e"
             ],
             [
              0.4444444444444444,
              "#bd3786"
             ],
             [
              0.5555555555555556,
              "#d8576b"
             ],
             [
              0.6666666666666666,
              "#ed7953"
             ],
             [
              0.7777777777777778,
              "#fb9f3a"
             ],
             [
              0.8888888888888888,
              "#fdca26"
             ],
             [
              1,
              "#f0f921"
             ]
            ],
            "type": "surface"
           }
          ],
          "table": [
           {
            "cells": {
             "fill": {
              "color": "#EBF0F8"
             },
             "line": {
              "color": "white"
             }
            },
            "header": {
             "fill": {
              "color": "#C8D4E3"
             },
             "line": {
              "color": "white"
             }
            },
            "type": "table"
           }
          ]
         },
         "layout": {
          "annotationdefaults": {
           "arrowcolor": "#2a3f5f",
           "arrowhead": 0,
           "arrowwidth": 1
          },
          "coloraxis": {
           "colorbar": {
            "outlinewidth": 0,
            "ticks": ""
           }
          },
          "colorscale": {
           "diverging": [
            [
             0,
             "#8e0152"
            ],
            [
             0.1,
             "#c51b7d"
            ],
            [
             0.2,
             "#de77ae"
            ],
            [
             0.3,
             "#f1b6da"
            ],
            [
             0.4,
             "#fde0ef"
            ],
            [
             0.5,
             "#f7f7f7"
            ],
            [
             0.6,
             "#e6f5d0"
            ],
            [
             0.7,
             "#b8e186"
            ],
            [
             0.8,
             "#7fbc41"
            ],
            [
             0.9,
             "#4d9221"
            ],
            [
             1,
             "#276419"
            ]
           ],
           "sequential": [
            [
             0,
             "#0d0887"
            ],
            [
             0.1111111111111111,
             "#46039f"
            ],
            [
             0.2222222222222222,
             "#7201a8"
            ],
            [
             0.3333333333333333,
             "#9c179e"
            ],
            [
             0.4444444444444444,
             "#bd3786"
            ],
            [
             0.5555555555555556,
             "#d8576b"
            ],
            [
             0.6666666666666666,
             "#ed7953"
            ],
            [
             0.7777777777777778,
             "#fb9f3a"
            ],
            [
             0.8888888888888888,
             "#fdca26"
            ],
            [
             1,
             "#f0f921"
            ]
           ],
           "sequentialminus": [
            [
             0,
             "#0d0887"
            ],
            [
             0.1111111111111111,
             "#46039f"
            ],
            [
             0.2222222222222222,
             "#7201a8"
            ],
            [
             0.3333333333333333,
             "#9c179e"
            ],
            [
             0.4444444444444444,
             "#bd3786"
            ],
            [
             0.5555555555555556,
             "#d8576b"
            ],
            [
             0.6666666666666666,
             "#ed7953"
            ],
            [
             0.7777777777777778,
             "#fb9f3a"
            ],
            [
             0.8888888888888888,
             "#fdca26"
            ],
            [
             1,
             "#f0f921"
            ]
           ]
          },
          "colorway": [
           "#636efa",
           "#EF553B",
           "#00cc96",
           "#ab63fa",
           "#FFA15A",
           "#19d3f3",
           "#FF6692",
           "#B6E880",
           "#FF97FF",
           "#FECB52"
          ],
          "font": {
           "color": "#2a3f5f"
          },
          "geo": {
           "bgcolor": "white",
           "lakecolor": "white",
           "landcolor": "#E5ECF6",
           "showlakes": true,
           "showland": true,
           "subunitcolor": "white"
          },
          "hoverlabel": {
           "align": "left"
          },
          "hovermode": "closest",
          "mapbox": {
           "style": "light"
          },
          "paper_bgcolor": "white",
          "plot_bgcolor": "#E5ECF6",
          "polar": {
           "angularaxis": {
            "gridcolor": "white",
            "linecolor": "white",
            "ticks": ""
           },
           "bgcolor": "#E5ECF6",
           "radialaxis": {
            "gridcolor": "white",
            "linecolor": "white",
            "ticks": ""
           }
          },
          "scene": {
           "xaxis": {
            "backgroundcolor": "#E5ECF6",
            "gridcolor": "white",
            "gridwidth": 2,
            "linecolor": "white",
            "showbackground": true,
            "ticks": "",
            "zerolinecolor": "white"
           },
           "yaxis": {
            "backgroundcolor": "#E5ECF6",
            "gridcolor": "white",
            "gridwidth": 2,
            "linecolor": "white",
            "showbackground": true,
            "ticks": "",
            "zerolinecolor": "white"
           },
           "zaxis": {
            "backgroundcolor": "#E5ECF6",
            "gridcolor": "white",
            "gridwidth": 2,
            "linecolor": "white",
            "showbackground": true,
            "ticks": "",
            "zerolinecolor": "white"
           }
          },
          "shapedefaults": {
           "line": {
            "color": "#2a3f5f"
           }
          },
          "ternary": {
           "aaxis": {
            "gridcolor": "white",
            "linecolor": "white",
            "ticks": ""
           },
           "baxis": {
            "gridcolor": "white",
            "linecolor": "white",
            "ticks": ""
           },
           "bgcolor": "#E5ECF6",
           "caxis": {
            "gridcolor": "white",
            "linecolor": "white",
            "ticks": ""
           }
          },
          "title": {
           "x": 0.05
          },
          "xaxis": {
           "automargin": true,
           "gridcolor": "white",
           "linecolor": "white",
           "ticks": "",
           "title": {
            "standoff": 15
           },
           "zerolinecolor": "white",
           "zerolinewidth": 2
          },
          "yaxis": {
           "automargin": true,
           "gridcolor": "white",
           "linecolor": "white",
           "ticks": "",
           "title": {
            "standoff": 15
           },
           "zerolinecolor": "white",
           "zerolinewidth": 2
          }
         }
        },
        "title": {
         "font": {
          "color": "#4D5663"
         }
        },
        "xaxis": {
         "gridcolor": "#E1E5ED",
         "showgrid": true,
         "tickfont": {
          "color": "#4D5663"
         },
         "title": {
          "font": {
           "color": "#4D5663"
          },
          "text": ""
         },
         "zerolinecolor": "#E1E5ED"
        },
        "yaxis": {
         "gridcolor": "#E1E5ED",
         "showgrid": true,
         "tickfont": {
          "color": "#4D5663"
         },
         "title": {
          "font": {
           "color": "#4D5663"
          },
          "text": ""
         },
         "zerolinecolor": "#E1E5ED"
        }
       }
      },
      "text/html": [
       "<div>\n",
       "        \n",
       "        \n",
       "            <div id=\"75b19d0e-3167-4c98-a654-083e3b13bc7a\" class=\"plotly-graph-div\" style=\"height:525px; width:100%;\"></div>\n",
       "            <script type=\"text/javascript\">\n",
       "                require([\"plotly\"], function(Plotly) {\n",
       "                    window.PLOTLYENV=window.PLOTLYENV || {};\n",
       "                    window.PLOTLYENV.BASE_URL='https://plot.ly';\n",
       "                    \n",
       "                if (document.getElementById(\"75b19d0e-3167-4c98-a654-083e3b13bc7a\")) {\n",
       "                    Plotly.newPlot(\n",
       "                        '75b19d0e-3167-4c98-a654-083e3b13bc7a',\n",
       "                        [{\"line\": {\"color\": \"rgba(255, 153, 51, 1.0)\", \"dash\": \"solid\", \"shape\": \"linear\", \"width\": 1.3}, \"mode\": \"lines\", \"name\": \"B\", \"text\": \"\", \"type\": \"scatter\", \"x\": [1.472529121625012, 1.130248943233051, -0.03482930485305292, -0.5732950541498779, 0.6679167375471895, -0.8579231829134375, 0.8094528586808082, 0.3085641347607752, 0.27377683773219197, 0.23206478359138408, 0.05238217602947687, 1.6583515353500433, 0.07790651684678294, -1.7301434691903925, -0.5641455958381295, 0.4147172412633151, -0.09849314047167301, 0.9977271515240892, 0.8786339083285464, 0.6950074047715827, 0.45710903842482575, 0.4982199907784472, 0.12903988052103624, -1.4837525556196758, 2.1559376570965503, 0.27121817416520905, -0.7920459692083268, 0.34986943200659715, -1.4244439368614608, 0.32694876044997556, 0.46860953711542114, -0.8163787512650883, 1.2187153472151357, -0.20858295937455842, -1.6419227340761469, -1.7597511712926772, -0.889500156517225, 0.7680841645055828, 0.242169122327131, 1.836311067999764, -0.3640393725187276, 0.6913544823158839, 0.5381815943734077, -1.2920024951121236, 0.32683652775332095, -1.6543868904131966, -0.07603260838364179, -1.1191319473076922, -0.06515760125541344, 2.6112740684691444, 0.189885318735173, 0.758128711401495, 1.3565878468023498, -1.6605371867714478, -0.7657077563048298, -0.3795261071180454, -1.0575887339186927, -0.21917702928905666, -0.018563285766532843, -0.31467704146234077, -0.15156994149975483, 1.3072808419825945, 0.301826271055909, 0.9387223883113914, -0.9159890914090407, 0.9972746743704269, -0.14961035018933383, 0.6936412738254416, 0.02150439010857565, -0.09685198016522274, -0.17962054484657083, 2.8387103914674565, 1.7403528975355167, 0.16910030614484756, -1.8773354305002856, 0.825977346945175, 0.8377635089652343, 0.9617236811802147, -0.6473981950616219, -1.6658039916353078, -0.2692192979839951, -2.729756849044134, -0.22782472436569362, -0.501111975287052, 0.46337026689879734, 1.0619123546213953, 1.6562427899245722, 0.062163840611550794, 0.19039780019298785, 0.026824609638366238, 0.8368352166533789, 0.29023261477188106, -0.4892908992826225, 0.4014711067047261, 0.7167889751395604, 1.2783993039707082, -0.45256841203177944, -1.104240974398623, 0.48498329755483055, 0.4547917796841871], \"y\": [-1.4490718845084207, 0.5402426554463875, -1.3347985434813625, -0.12225119502318878, -1.30101789971426, 0.38569811159209016, 2.397904687740729, -2.3982480926388368, -0.10494367248597691, -0.2224254060893642, 0.5410029274040677, 1.2220114737266936, 0.6413367934003551, 0.4661400594131579, 1.6301263489299898, -0.045857295111949706, 0.22578578119008808, 0.26281871636509874, 0.3524366173554224, -0.25045607157728855, -0.02644007066357181, 0.8618805448064077, -1.0669884903827511, 2.202131722577417, -0.7113457060825948, -0.42921931155234017, 0.03085513090831307, 2.286357429921338, -0.2505199679788893, -2.49540664349453, -1.1157577643488887, 0.7330552833464814, -0.4614404215891602, -1.3673002928914093, -1.7600123190780688, -2.0887547843771395, -2.1859340876441404, -0.49279846658300813, -1.889275646139344, -0.5690532456828411, 0.4239373965316233, 0.6397781534640425, -0.29671425027591325, 0.6571556609166963, 1.383298672469432, 1.109761245033315, 1.4332373810414698, 0.6738019112262904, -1.1813200383895766, -1.6614202983027815, 1.2398798868361367, 0.6123687064574279, 0.0915797315637989, 0.006009505705794459, -1.0960578906870182, -1.1053797480590637, 1.0352922076995237, 0.2776270046807994, -0.09822942803128862, 1.3423627824672761, -0.4269262478860568, -0.8566216988554339, 0.4155483209694457, 0.21352323335426418, 0.9205293326670225, -2.4290809169775893, -1.097530893017326, 0.0014555989292659602, -0.4721893111402556, -2.3651682013646727, 0.9177196755689004, -2.6495518809284646, 0.018826728369795518, 0.05322287052010041, -1.1676072328548432, 0.3940104502096727, 0.3003994475771432, 1.6651594296939112, -0.671156151734517, 3.2476405756672038, -0.026105037598596365, -1.177609198277101, 0.12516726924093127, -0.517430855564586, 0.6604745556074771, -0.0018629645865976042, -1.7849289778669288, 0.18498950224768243, 1.442080076368799, 0.9472992507672473, 2.195427851378761, 0.3966786785752604, -0.5002725972891627, -1.9460828869923503, -0.3608192626215061, 1.0131320014705925, -0.7057725331167626, 0.9665220645320599, -0.042248237084285586, -0.9798386628297314]}],\n",
       "                        {\"legend\": {\"bgcolor\": \"#F5F6F9\", \"font\": {\"color\": \"#4D5663\"}}, \"paper_bgcolor\": \"#F5F6F9\", \"plot_bgcolor\": \"#F5F6F9\", \"template\": {\"data\": {\"bar\": [{\"error_x\": {\"color\": \"#2a3f5f\"}, \"error_y\": {\"color\": \"#2a3f5f\"}, \"marker\": {\"line\": {\"color\": \"#E5ECF6\", \"width\": 0.5}}, \"type\": \"bar\"}], \"barpolar\": [{\"marker\": {\"line\": {\"color\": \"#E5ECF6\", \"width\": 0.5}}, \"type\": \"barpolar\"}], \"carpet\": [{\"aaxis\": {\"endlinecolor\": \"#2a3f5f\", \"gridcolor\": \"white\", \"linecolor\": \"white\", \"minorgridcolor\": \"white\", \"startlinecolor\": \"#2a3f5f\"}, \"baxis\": {\"endlinecolor\": \"#2a3f5f\", \"gridcolor\": \"white\", \"linecolor\": \"white\", \"minorgridcolor\": \"white\", \"startlinecolor\": \"#2a3f5f\"}, \"type\": \"carpet\"}], \"choropleth\": [{\"colorbar\": {\"outlinewidth\": 0, \"ticks\": \"\"}, \"type\": \"choropleth\"}], \"contour\": [{\"colorbar\": {\"outlinewidth\": 0, \"ticks\": \"\"}, \"colorscale\": [[0.0, \"#0d0887\"], [0.1111111111111111, \"#46039f\"], [0.2222222222222222, \"#7201a8\"], [0.3333333333333333, \"#9c179e\"], [0.4444444444444444, \"#bd3786\"], [0.5555555555555556, \"#d8576b\"], [0.6666666666666666, \"#ed7953\"], [0.7777777777777778, \"#fb9f3a\"], [0.8888888888888888, \"#fdca26\"], [1.0, \"#f0f921\"]], \"type\": \"contour\"}], \"contourcarpet\": [{\"colorbar\": {\"outlinewidth\": 0, \"ticks\": \"\"}, \"type\": \"contourcarpet\"}], \"heatmap\": [{\"colorbar\": {\"outlinewidth\": 0, \"ticks\": \"\"}, \"colorscale\": [[0.0, \"#0d0887\"], [0.1111111111111111, \"#46039f\"], [0.2222222222222222, \"#7201a8\"], [0.3333333333333333, \"#9c179e\"], [0.4444444444444444, \"#bd3786\"], [0.5555555555555556, \"#d8576b\"], [0.6666666666666666, \"#ed7953\"], [0.7777777777777778, \"#fb9f3a\"], [0.8888888888888888, \"#fdca26\"], [1.0, \"#f0f921\"]], \"type\": \"heatmap\"}], \"heatmapgl\": [{\"colorbar\": {\"outlinewidth\": 0, \"ticks\": \"\"}, \"colorscale\": [[0.0, \"#0d0887\"], [0.1111111111111111, \"#46039f\"], [0.2222222222222222, \"#7201a8\"], [0.3333333333333333, \"#9c179e\"], [0.4444444444444444, \"#bd3786\"], [0.5555555555555556, \"#d8576b\"], [0.6666666666666666, \"#ed7953\"], [0.7777777777777778, \"#fb9f3a\"], [0.8888888888888888, \"#fdca26\"], [1.0, \"#f0f921\"]], \"type\": \"heatmapgl\"}], \"histogram\": [{\"marker\": {\"colorbar\": {\"outlinewidth\": 0, \"ticks\": \"\"}}, \"type\": \"histogram\"}], \"histogram2d\": [{\"colorbar\": {\"outlinewidth\": 0, \"ticks\": \"\"}, \"colorscale\": [[0.0, \"#0d0887\"], [0.1111111111111111, \"#46039f\"], [0.2222222222222222, \"#7201a8\"], [0.3333333333333333, \"#9c179e\"], [0.4444444444444444, \"#bd3786\"], [0.5555555555555556, \"#d8576b\"], [0.6666666666666666, \"#ed7953\"], [0.7777777777777778, \"#fb9f3a\"], [0.8888888888888888, \"#fdca26\"], [1.0, \"#f0f921\"]], \"type\": \"histogram2d\"}], \"histogram2dcontour\": [{\"colorbar\": {\"outlinewidth\": 0, \"ticks\": \"\"}, \"colorscale\": [[0.0, \"#0d0887\"], [0.1111111111111111, \"#46039f\"], [0.2222222222222222, \"#7201a8\"], [0.3333333333333333, \"#9c179e\"], [0.4444444444444444, \"#bd3786\"], [0.5555555555555556, \"#d8576b\"], [0.6666666666666666, \"#ed7953\"], [0.7777777777777778, \"#fb9f3a\"], [0.8888888888888888, \"#fdca26\"], [1.0, \"#f0f921\"]], \"type\": \"histogram2dcontour\"}], \"mesh3d\": [{\"colorbar\": {\"outlinewidth\": 0, \"ticks\": \"\"}, \"type\": \"mesh3d\"}], \"parcoords\": [{\"line\": {\"colorbar\": {\"outlinewidth\": 0, \"ticks\": \"\"}}, \"type\": \"parcoords\"}], \"pie\": [{\"automargin\": true, \"type\": \"pie\"}], \"scatter\": [{\"marker\": {\"colorbar\": {\"outlinewidth\": 0, \"ticks\": \"\"}}, \"type\": \"scatter\"}], \"scatter3d\": [{\"line\": {\"colorbar\": {\"outlinewidth\": 0, \"ticks\": \"\"}}, \"marker\": {\"colorbar\": {\"outlinewidth\": 0, \"ticks\": \"\"}}, \"type\": \"scatter3d\"}], \"scattercarpet\": [{\"marker\": {\"colorbar\": {\"outlinewidth\": 0, \"ticks\": \"\"}}, \"type\": \"scattercarpet\"}], \"scattergeo\": [{\"marker\": {\"colorbar\": {\"outlinewidth\": 0, \"ticks\": \"\"}}, \"type\": \"scattergeo\"}], \"scattergl\": [{\"marker\": {\"colorbar\": {\"outlinewidth\": 0, \"ticks\": \"\"}}, \"type\": \"scattergl\"}], \"scattermapbox\": [{\"marker\": {\"colorbar\": {\"outlinewidth\": 0, \"ticks\": \"\"}}, \"type\": \"scattermapbox\"}], \"scatterpolar\": [{\"marker\": {\"colorbar\": {\"outlinewidth\": 0, \"ticks\": \"\"}}, \"type\": \"scatterpolar\"}], \"scatterpolargl\": [{\"marker\": {\"colorbar\": {\"outlinewidth\": 0, \"ticks\": \"\"}}, \"type\": \"scatterpolargl\"}], \"scatterternary\": [{\"marker\": {\"colorbar\": {\"outlinewidth\": 0, \"ticks\": \"\"}}, \"type\": \"scatterternary\"}], \"surface\": [{\"colorbar\": {\"outlinewidth\": 0, \"ticks\": \"\"}, \"colorscale\": [[0.0, \"#0d0887\"], [0.1111111111111111, \"#46039f\"], [0.2222222222222222, \"#7201a8\"], [0.3333333333333333, \"#9c179e\"], [0.4444444444444444, \"#bd3786\"], [0.5555555555555556, \"#d8576b\"], [0.6666666666666666, \"#ed7953\"], [0.7777777777777778, \"#fb9f3a\"], [0.8888888888888888, \"#fdca26\"], [1.0, \"#f0f921\"]], \"type\": \"surface\"}], \"table\": [{\"cells\": {\"fill\": {\"color\": \"#EBF0F8\"}, \"line\": {\"color\": \"white\"}}, \"header\": {\"fill\": {\"color\": \"#C8D4E3\"}, \"line\": {\"color\": \"white\"}}, \"type\": \"table\"}]}, \"layout\": {\"annotationdefaults\": {\"arrowcolor\": \"#2a3f5f\", \"arrowhead\": 0, \"arrowwidth\": 1}, \"coloraxis\": {\"colorbar\": {\"outlinewidth\": 0, \"ticks\": \"\"}}, \"colorscale\": {\"diverging\": [[0, \"#8e0152\"], [0.1, \"#c51b7d\"], [0.2, \"#de77ae\"], [0.3, \"#f1b6da\"], [0.4, \"#fde0ef\"], [0.5, \"#f7f7f7\"], [0.6, \"#e6f5d0\"], [0.7, \"#b8e186\"], [0.8, \"#7fbc41\"], [0.9, \"#4d9221\"], [1, \"#276419\"]], \"sequential\": [[0.0, \"#0d0887\"], [0.1111111111111111, \"#46039f\"], [0.2222222222222222, \"#7201a8\"], [0.3333333333333333, \"#9c179e\"], [0.4444444444444444, \"#bd3786\"], [0.5555555555555556, \"#d8576b\"], [0.6666666666666666, \"#ed7953\"], [0.7777777777777778, \"#fb9f3a\"], [0.8888888888888888, \"#fdca26\"], [1.0, \"#f0f921\"]], \"sequentialminus\": [[0.0, \"#0d0887\"], [0.1111111111111111, \"#46039f\"], [0.2222222222222222, \"#7201a8\"], [0.3333333333333333, \"#9c179e\"], [0.4444444444444444, \"#bd3786\"], [0.5555555555555556, \"#d8576b\"], [0.6666666666666666, \"#ed7953\"], [0.7777777777777778, \"#fb9f3a\"], [0.8888888888888888, \"#fdca26\"], [1.0, \"#f0f921\"]]}, \"colorway\": [\"#636efa\", \"#EF553B\", \"#00cc96\", \"#ab63fa\", \"#FFA15A\", \"#19d3f3\", \"#FF6692\", \"#B6E880\", \"#FF97FF\", \"#FECB52\"], \"font\": {\"color\": \"#2a3f5f\"}, \"geo\": {\"bgcolor\": \"white\", \"lakecolor\": \"white\", \"landcolor\": \"#E5ECF6\", \"showlakes\": true, \"showland\": true, \"subunitcolor\": \"white\"}, \"hoverlabel\": {\"align\": \"left\"}, \"hovermode\": \"closest\", \"mapbox\": {\"style\": \"light\"}, \"paper_bgcolor\": \"white\", \"plot_bgcolor\": \"#E5ECF6\", \"polar\": {\"angularaxis\": {\"gridcolor\": \"white\", \"linecolor\": \"white\", \"ticks\": \"\"}, \"bgcolor\": \"#E5ECF6\", \"radialaxis\": {\"gridcolor\": \"white\", \"linecolor\": \"white\", \"ticks\": \"\"}}, \"scene\": {\"xaxis\": {\"backgroundcolor\": \"#E5ECF6\", \"gridcolor\": \"white\", \"gridwidth\": 2, \"linecolor\": \"white\", \"showbackground\": true, \"ticks\": \"\", \"zerolinecolor\": \"white\"}, \"yaxis\": {\"backgroundcolor\": \"#E5ECF6\", \"gridcolor\": \"white\", \"gridwidth\": 2, \"linecolor\": \"white\", \"showbackground\": true, \"ticks\": \"\", \"zerolinecolor\": \"white\"}, \"zaxis\": {\"backgroundcolor\": \"#E5ECF6\", \"gridcolor\": \"white\", \"gridwidth\": 2, \"linecolor\": \"white\", \"showbackground\": true, \"ticks\": \"\", \"zerolinecolor\": \"white\"}}, \"shapedefaults\": {\"line\": {\"color\": \"#2a3f5f\"}}, \"ternary\": {\"aaxis\": {\"gridcolor\": \"white\", \"linecolor\": \"white\", \"ticks\": \"\"}, \"baxis\": {\"gridcolor\": \"white\", \"linecolor\": \"white\", \"ticks\": \"\"}, \"bgcolor\": \"#E5ECF6\", \"caxis\": {\"gridcolor\": \"white\", \"linecolor\": \"white\", \"ticks\": \"\"}}, \"title\": {\"x\": 0.05}, \"xaxis\": {\"automargin\": true, \"gridcolor\": \"white\", \"linecolor\": \"white\", \"ticks\": \"\", \"title\": {\"standoff\": 15}, \"zerolinecolor\": \"white\", \"zerolinewidth\": 2}, \"yaxis\": {\"automargin\": true, \"gridcolor\": \"white\", \"linecolor\": \"white\", \"ticks\": \"\", \"title\": {\"standoff\": 15}, \"zerolinecolor\": \"white\", \"zerolinewidth\": 2}}}, \"title\": {\"font\": {\"color\": \"#4D5663\"}}, \"xaxis\": {\"gridcolor\": \"#E1E5ED\", \"showgrid\": true, \"tickfont\": {\"color\": \"#4D5663\"}, \"title\": {\"font\": {\"color\": \"#4D5663\"}, \"text\": \"\"}, \"zerolinecolor\": \"#E1E5ED\"}, \"yaxis\": {\"gridcolor\": \"#E1E5ED\", \"showgrid\": true, \"tickfont\": {\"color\": \"#4D5663\"}, \"title\": {\"font\": {\"color\": \"#4D5663\"}, \"text\": \"\"}, \"zerolinecolor\": \"#E1E5ED\"}},\n",
       "                        {\"showLink\": true, \"linkText\": \"Export to plot.ly\", \"plotlyServerURL\": \"https://plot.ly\", \"responsive\": true}\n",
       "                    ).then(function(){\n",
       "                            \n",
       "var gd = document.getElementById('75b19d0e-3167-4c98-a654-083e3b13bc7a');\n",
       "var x = new MutationObserver(function (mutations, observer) {{\n",
       "        var display = window.getComputedStyle(gd).display;\n",
       "        if (!display || display === 'none') {{\n",
       "            console.log([gd, 'removed!']);\n",
       "            Plotly.purge(gd);\n",
       "            observer.disconnect();\n",
       "        }}\n",
       "}});\n",
       "\n",
       "// Listen for the removal of the full notebook cells\n",
       "var notebookContainer = gd.closest('#notebook-container');\n",
       "if (notebookContainer) {{\n",
       "    x.observe(notebookContainer, {childList: true});\n",
       "}}\n",
       "\n",
       "// Listen for the clearing of the current output cell\n",
       "var outputEl = gd.closest('.output');\n",
       "if (outputEl) {{\n",
       "    x.observe(outputEl, {childList: true});\n",
       "}}\n",
       "\n",
       "                        })\n",
       "                };\n",
       "                });\n",
       "            </script>\n",
       "        </div>"
      ]
     },
     "metadata": {},
     "output_type": "display_data"
    }
   ],
   "source": [
    " df1.iplot(kind='scatter',x='A',y='B')"
   ]
  },
  {
   "cell_type": "code",
   "execution_count": 53,
   "metadata": {},
   "outputs": [
    {
     "data": {
      "application/vnd.plotly.v1+json": {
       "config": {
        "linkText": "Export to plot.ly",
        "plotlyServerURL": "https://plot.ly",
        "showLink": true
       },
       "data": [
        {
         "line": {
          "color": "rgba(255, 153, 51, 1.0)",
          "dash": "solid",
          "shape": "linear",
          "width": 1.3
         },
         "marker": {
          "size": 12,
          "symbol": "circle"
         },
         "mode": "markers",
         "name": "B",
         "text": "",
         "type": "scatter",
         "x": [
          1.472529121625012,
          1.130248943233051,
          -0.03482930485305292,
          -0.5732950541498779,
          0.6679167375471895,
          -0.8579231829134375,
          0.8094528586808082,
          0.3085641347607752,
          0.27377683773219197,
          0.23206478359138408,
          0.05238217602947687,
          1.6583515353500433,
          0.07790651684678294,
          -1.7301434691903925,
          -0.5641455958381295,
          0.4147172412633151,
          -0.09849314047167301,
          0.9977271515240892,
          0.8786339083285464,
          0.6950074047715827,
          0.45710903842482575,
          0.4982199907784472,
          0.12903988052103624,
          -1.4837525556196758,
          2.1559376570965503,
          0.27121817416520905,
          -0.7920459692083268,
          0.34986943200659715,
          -1.4244439368614608,
          0.32694876044997556,
          0.46860953711542114,
          -0.8163787512650883,
          1.2187153472151357,
          -0.20858295937455842,
          -1.6419227340761469,
          -1.7597511712926772,
          -0.889500156517225,
          0.7680841645055828,
          0.242169122327131,
          1.836311067999764,
          -0.3640393725187276,
          0.6913544823158839,
          0.5381815943734077,
          -1.2920024951121236,
          0.32683652775332095,
          -1.6543868904131966,
          -0.07603260838364179,
          -1.1191319473076922,
          -0.06515760125541344,
          2.6112740684691444,
          0.189885318735173,
          0.758128711401495,
          1.3565878468023498,
          -1.6605371867714478,
          -0.7657077563048298,
          -0.3795261071180454,
          -1.0575887339186927,
          -0.21917702928905666,
          -0.018563285766532843,
          -0.31467704146234077,
          -0.15156994149975483,
          1.3072808419825945,
          0.301826271055909,
          0.9387223883113914,
          -0.9159890914090407,
          0.9972746743704269,
          -0.14961035018933383,
          0.6936412738254416,
          0.02150439010857565,
          -0.09685198016522274,
          -0.17962054484657083,
          2.8387103914674565,
          1.7403528975355167,
          0.16910030614484756,
          -1.8773354305002856,
          0.825977346945175,
          0.8377635089652343,
          0.9617236811802147,
          -0.6473981950616219,
          -1.6658039916353078,
          -0.2692192979839951,
          -2.729756849044134,
          -0.22782472436569362,
          -0.501111975287052,
          0.46337026689879734,
          1.0619123546213953,
          1.6562427899245722,
          0.062163840611550794,
          0.19039780019298785,
          0.026824609638366238,
          0.8368352166533789,
          0.29023261477188106,
          -0.4892908992826225,
          0.4014711067047261,
          0.7167889751395604,
          1.2783993039707082,
          -0.45256841203177944,
          -1.104240974398623,
          0.48498329755483055,
          0.4547917796841871
         ],
         "y": [
          -1.4490718845084207,
          0.5402426554463875,
          -1.3347985434813625,
          -0.12225119502318878,
          -1.30101789971426,
          0.38569811159209016,
          2.397904687740729,
          -2.3982480926388368,
          -0.10494367248597691,
          -0.2224254060893642,
          0.5410029274040677,
          1.2220114737266936,
          0.6413367934003551,
          0.4661400594131579,
          1.6301263489299898,
          -0.045857295111949706,
          0.22578578119008808,
          0.26281871636509874,
          0.3524366173554224,
          -0.25045607157728855,
          -0.02644007066357181,
          0.8618805448064077,
          -1.0669884903827511,
          2.202131722577417,
          -0.7113457060825948,
          -0.42921931155234017,
          0.03085513090831307,
          2.286357429921338,
          -0.2505199679788893,
          -2.49540664349453,
          -1.1157577643488887,
          0.7330552833464814,
          -0.4614404215891602,
          -1.3673002928914093,
          -1.7600123190780688,
          -2.0887547843771395,
          -2.1859340876441404,
          -0.49279846658300813,
          -1.889275646139344,
          -0.5690532456828411,
          0.4239373965316233,
          0.6397781534640425,
          -0.29671425027591325,
          0.6571556609166963,
          1.383298672469432,
          1.109761245033315,
          1.4332373810414698,
          0.6738019112262904,
          -1.1813200383895766,
          -1.6614202983027815,
          1.2398798868361367,
          0.6123687064574279,
          0.0915797315637989,
          0.006009505705794459,
          -1.0960578906870182,
          -1.1053797480590637,
          1.0352922076995237,
          0.2776270046807994,
          -0.09822942803128862,
          1.3423627824672761,
          -0.4269262478860568,
          -0.8566216988554339,
          0.4155483209694457,
          0.21352323335426418,
          0.9205293326670225,
          -2.4290809169775893,
          -1.097530893017326,
          0.0014555989292659602,
          -0.4721893111402556,
          -2.3651682013646727,
          0.9177196755689004,
          -2.6495518809284646,
          0.018826728369795518,
          0.05322287052010041,
          -1.1676072328548432,
          0.3940104502096727,
          0.3003994475771432,
          1.6651594296939112,
          -0.671156151734517,
          3.2476405756672038,
          -0.026105037598596365,
          -1.177609198277101,
          0.12516726924093127,
          -0.517430855564586,
          0.6604745556074771,
          -0.0018629645865976042,
          -1.7849289778669288,
          0.18498950224768243,
          1.442080076368799,
          0.9472992507672473,
          2.195427851378761,
          0.3966786785752604,
          -0.5002725972891627,
          -1.9460828869923503,
          -0.3608192626215061,
          1.0131320014705925,
          -0.7057725331167626,
          0.9665220645320599,
          -0.042248237084285586,
          -0.9798386628297314
         ]
        }
       ],
       "layout": {
        "legend": {
         "bgcolor": "#F5F6F9",
         "font": {
          "color": "#4D5663"
         }
        },
        "paper_bgcolor": "#F5F6F9",
        "plot_bgcolor": "#F5F6F9",
        "template": {
         "data": {
          "bar": [
           {
            "error_x": {
             "color": "#2a3f5f"
            },
            "error_y": {
             "color": "#2a3f5f"
            },
            "marker": {
             "line": {
              "color": "#E5ECF6",
              "width": 0.5
             }
            },
            "type": "bar"
           }
          ],
          "barpolar": [
           {
            "marker": {
             "line": {
              "color": "#E5ECF6",
              "width": 0.5
             }
            },
            "type": "barpolar"
           }
          ],
          "carpet": [
           {
            "aaxis": {
             "endlinecolor": "#2a3f5f",
             "gridcolor": "white",
             "linecolor": "white",
             "minorgridcolor": "white",
             "startlinecolor": "#2a3f5f"
            },
            "baxis": {
             "endlinecolor": "#2a3f5f",
             "gridcolor": "white",
             "linecolor": "white",
             "minorgridcolor": "white",
             "startlinecolor": "#2a3f5f"
            },
            "type": "carpet"
           }
          ],
          "choropleth": [
           {
            "colorbar": {
             "outlinewidth": 0,
             "ticks": ""
            },
            "type": "choropleth"
           }
          ],
          "contour": [
           {
            "colorbar": {
             "outlinewidth": 0,
             "ticks": ""
            },
            "colorscale": [
             [
              0,
              "#0d0887"
             ],
             [
              0.1111111111111111,
              "#46039f"
             ],
             [
              0.2222222222222222,
              "#7201a8"
             ],
             [
              0.3333333333333333,
              "#9c179e"
             ],
             [
              0.4444444444444444,
              "#bd3786"
             ],
             [
              0.5555555555555556,
              "#d8576b"
             ],
             [
              0.6666666666666666,
              "#ed7953"
             ],
             [
              0.7777777777777778,
              "#fb9f3a"
             ],
             [
              0.8888888888888888,
              "#fdca26"
             ],
             [
              1,
              "#f0f921"
             ]
            ],
            "type": "contour"
           }
          ],
          "contourcarpet": [
           {
            "colorbar": {
             "outlinewidth": 0,
             "ticks": ""
            },
            "type": "contourcarpet"
           }
          ],
          "heatmap": [
           {
            "colorbar": {
             "outlinewidth": 0,
             "ticks": ""
            },
            "colorscale": [
             [
              0,
              "#0d0887"
             ],
             [
              0.1111111111111111,
              "#46039f"
             ],
             [
              0.2222222222222222,
              "#7201a8"
             ],
             [
              0.3333333333333333,
              "#9c179e"
             ],
             [
              0.4444444444444444,
              "#bd3786"
             ],
             [
              0.5555555555555556,
              "#d8576b"
             ],
             [
              0.6666666666666666,
              "#ed7953"
             ],
             [
              0.7777777777777778,
              "#fb9f3a"
             ],
             [
              0.8888888888888888,
              "#fdca26"
             ],
             [
              1,
              "#f0f921"
             ]
            ],
            "type": "heatmap"
           }
          ],
          "heatmapgl": [
           {
            "colorbar": {
             "outlinewidth": 0,
             "ticks": ""
            },
            "colorscale": [
             [
              0,
              "#0d0887"
             ],
             [
              0.1111111111111111,
              "#46039f"
             ],
             [
              0.2222222222222222,
              "#7201a8"
             ],
             [
              0.3333333333333333,
              "#9c179e"
             ],
             [
              0.4444444444444444,
              "#bd3786"
             ],
             [
              0.5555555555555556,
              "#d8576b"
             ],
             [
              0.6666666666666666,
              "#ed7953"
             ],
             [
              0.7777777777777778,
              "#fb9f3a"
             ],
             [
              0.8888888888888888,
              "#fdca26"
             ],
             [
              1,
              "#f0f921"
             ]
            ],
            "type": "heatmapgl"
           }
          ],
          "histogram": [
           {
            "marker": {
             "colorbar": {
              "outlinewidth": 0,
              "ticks": ""
             }
            },
            "type": "histogram"
           }
          ],
          "histogram2d": [
           {
            "colorbar": {
             "outlinewidth": 0,
             "ticks": ""
            },
            "colorscale": [
             [
              0,
              "#0d0887"
             ],
             [
              0.1111111111111111,
              "#46039f"
             ],
             [
              0.2222222222222222,
              "#7201a8"
             ],
             [
              0.3333333333333333,
              "#9c179e"
             ],
             [
              0.4444444444444444,
              "#bd3786"
             ],
             [
              0.5555555555555556,
              "#d8576b"
             ],
             [
              0.6666666666666666,
              "#ed7953"
             ],
             [
              0.7777777777777778,
              "#fb9f3a"
             ],
             [
              0.8888888888888888,
              "#fdca26"
             ],
             [
              1,
              "#f0f921"
             ]
            ],
            "type": "histogram2d"
           }
          ],
          "histogram2dcontour": [
           {
            "colorbar": {
             "outlinewidth": 0,
             "ticks": ""
            },
            "colorscale": [
             [
              0,
              "#0d0887"
             ],
             [
              0.1111111111111111,
              "#46039f"
             ],
             [
              0.2222222222222222,
              "#7201a8"
             ],
             [
              0.3333333333333333,
              "#9c179e"
             ],
             [
              0.4444444444444444,
              "#bd3786"
             ],
             [
              0.5555555555555556,
              "#d8576b"
             ],
             [
              0.6666666666666666,
              "#ed7953"
             ],
             [
              0.7777777777777778,
              "#fb9f3a"
             ],
             [
              0.8888888888888888,
              "#fdca26"
             ],
             [
              1,
              "#f0f921"
             ]
            ],
            "type": "histogram2dcontour"
           }
          ],
          "mesh3d": [
           {
            "colorbar": {
             "outlinewidth": 0,
             "ticks": ""
            },
            "type": "mesh3d"
           }
          ],
          "parcoords": [
           {
            "line": {
             "colorbar": {
              "outlinewidth": 0,
              "ticks": ""
             }
            },
            "type": "parcoords"
           }
          ],
          "pie": [
           {
            "automargin": true,
            "type": "pie"
           }
          ],
          "scatter": [
           {
            "marker": {
             "colorbar": {
              "outlinewidth": 0,
              "ticks": ""
             }
            },
            "type": "scatter"
           }
          ],
          "scatter3d": [
           {
            "line": {
             "colorbar": {
              "outlinewidth": 0,
              "ticks": ""
             }
            },
            "marker": {
             "colorbar": {
              "outlinewidth": 0,
              "ticks": ""
             }
            },
            "type": "scatter3d"
           }
          ],
          "scattercarpet": [
           {
            "marker": {
             "colorbar": {
              "outlinewidth": 0,
              "ticks": ""
             }
            },
            "type": "scattercarpet"
           }
          ],
          "scattergeo": [
           {
            "marker": {
             "colorbar": {
              "outlinewidth": 0,
              "ticks": ""
             }
            },
            "type": "scattergeo"
           }
          ],
          "scattergl": [
           {
            "marker": {
             "colorbar": {
              "outlinewidth": 0,
              "ticks": ""
             }
            },
            "type": "scattergl"
           }
          ],
          "scattermapbox": [
           {
            "marker": {
             "colorbar": {
              "outlinewidth": 0,
              "ticks": ""
             }
            },
            "type": "scattermapbox"
           }
          ],
          "scatterpolar": [
           {
            "marker": {
             "colorbar": {
              "outlinewidth": 0,
              "ticks": ""
             }
            },
            "type": "scatterpolar"
           }
          ],
          "scatterpolargl": [
           {
            "marker": {
             "colorbar": {
              "outlinewidth": 0,
              "ticks": ""
             }
            },
            "type": "scatterpolargl"
           }
          ],
          "scatterternary": [
           {
            "marker": {
             "colorbar": {
              "outlinewidth": 0,
              "ticks": ""
             }
            },
            "type": "scatterternary"
           }
          ],
          "surface": [
           {
            "colorbar": {
             "outlinewidth": 0,
             "ticks": ""
            },
            "colorscale": [
             [
              0,
              "#0d0887"
             ],
             [
              0.1111111111111111,
              "#46039f"
             ],
             [
              0.2222222222222222,
              "#7201a8"
             ],
             [
              0.3333333333333333,
              "#9c179e"
             ],
             [
              0.4444444444444444,
              "#bd3786"
             ],
             [
              0.5555555555555556,
              "#d8576b"
             ],
             [
              0.6666666666666666,
              "#ed7953"
             ],
             [
              0.7777777777777778,
              "#fb9f3a"
             ],
             [
              0.8888888888888888,
              "#fdca26"
             ],
             [
              1,
              "#f0f921"
             ]
            ],
            "type": "surface"
           }
          ],
          "table": [
           {
            "cells": {
             "fill": {
              "color": "#EBF0F8"
             },
             "line": {
              "color": "white"
             }
            },
            "header": {
             "fill": {
              "color": "#C8D4E3"
             },
             "line": {
              "color": "white"
             }
            },
            "type": "table"
           }
          ]
         },
         "layout": {
          "annotationdefaults": {
           "arrowcolor": "#2a3f5f",
           "arrowhead": 0,
           "arrowwidth": 1
          },
          "coloraxis": {
           "colorbar": {
            "outlinewidth": 0,
            "ticks": ""
           }
          },
          "colorscale": {
           "diverging": [
            [
             0,
             "#8e0152"
            ],
            [
             0.1,
             "#c51b7d"
            ],
            [
             0.2,
             "#de77ae"
            ],
            [
             0.3,
             "#f1b6da"
            ],
            [
             0.4,
             "#fde0ef"
            ],
            [
             0.5,
             "#f7f7f7"
            ],
            [
             0.6,
             "#e6f5d0"
            ],
            [
             0.7,
             "#b8e186"
            ],
            [
             0.8,
             "#7fbc41"
            ],
            [
             0.9,
             "#4d9221"
            ],
            [
             1,
             "#276419"
            ]
           ],
           "sequential": [
            [
             0,
             "#0d0887"
            ],
            [
             0.1111111111111111,
             "#46039f"
            ],
            [
             0.2222222222222222,
             "#7201a8"
            ],
            [
             0.3333333333333333,
             "#9c179e"
            ],
            [
             0.4444444444444444,
             "#bd3786"
            ],
            [
             0.5555555555555556,
             "#d8576b"
            ],
            [
             0.6666666666666666,
             "#ed7953"
            ],
            [
             0.7777777777777778,
             "#fb9f3a"
            ],
            [
             0.8888888888888888,
             "#fdca26"
            ],
            [
             1,
             "#f0f921"
            ]
           ],
           "sequentialminus": [
            [
             0,
             "#0d0887"
            ],
            [
             0.1111111111111111,
             "#46039f"
            ],
            [
             0.2222222222222222,
             "#7201a8"
            ],
            [
             0.3333333333333333,
             "#9c179e"
            ],
            [
             0.4444444444444444,
             "#bd3786"
            ],
            [
             0.5555555555555556,
             "#d8576b"
            ],
            [
             0.6666666666666666,
             "#ed7953"
            ],
            [
             0.7777777777777778,
             "#fb9f3a"
            ],
            [
             0.8888888888888888,
             "#fdca26"
            ],
            [
             1,
             "#f0f921"
            ]
           ]
          },
          "colorway": [
           "#636efa",
           "#EF553B",
           "#00cc96",
           "#ab63fa",
           "#FFA15A",
           "#19d3f3",
           "#FF6692",
           "#B6E880",
           "#FF97FF",
           "#FECB52"
          ],
          "font": {
           "color": "#2a3f5f"
          },
          "geo": {
           "bgcolor": "white",
           "lakecolor": "white",
           "landcolor": "#E5ECF6",
           "showlakes": true,
           "showland": true,
           "subunitcolor": "white"
          },
          "hoverlabel": {
           "align": "left"
          },
          "hovermode": "closest",
          "mapbox": {
           "style": "light"
          },
          "paper_bgcolor": "white",
          "plot_bgcolor": "#E5ECF6",
          "polar": {
           "angularaxis": {
            "gridcolor": "white",
            "linecolor": "white",
            "ticks": ""
           },
           "bgcolor": "#E5ECF6",
           "radialaxis": {
            "gridcolor": "white",
            "linecolor": "white",
            "ticks": ""
           }
          },
          "scene": {
           "xaxis": {
            "backgroundcolor": "#E5ECF6",
            "gridcolor": "white",
            "gridwidth": 2,
            "linecolor": "white",
            "showbackground": true,
            "ticks": "",
            "zerolinecolor": "white"
           },
           "yaxis": {
            "backgroundcolor": "#E5ECF6",
            "gridcolor": "white",
            "gridwidth": 2,
            "linecolor": "white",
            "showbackground": true,
            "ticks": "",
            "zerolinecolor": "white"
           },
           "zaxis": {
            "backgroundcolor": "#E5ECF6",
            "gridcolor": "white",
            "gridwidth": 2,
            "linecolor": "white",
            "showbackground": true,
            "ticks": "",
            "zerolinecolor": "white"
           }
          },
          "shapedefaults": {
           "line": {
            "color": "#2a3f5f"
           }
          },
          "ternary": {
           "aaxis": {
            "gridcolor": "white",
            "linecolor": "white",
            "ticks": ""
           },
           "baxis": {
            "gridcolor": "white",
            "linecolor": "white",
            "ticks": ""
           },
           "bgcolor": "#E5ECF6",
           "caxis": {
            "gridcolor": "white",
            "linecolor": "white",
            "ticks": ""
           }
          },
          "title": {
           "x": 0.05
          },
          "xaxis": {
           "automargin": true,
           "gridcolor": "white",
           "linecolor": "white",
           "ticks": "",
           "title": {
            "standoff": 15
           },
           "zerolinecolor": "white",
           "zerolinewidth": 2
          },
          "yaxis": {
           "automargin": true,
           "gridcolor": "white",
           "linecolor": "white",
           "ticks": "",
           "title": {
            "standoff": 15
           },
           "zerolinecolor": "white",
           "zerolinewidth": 2
          }
         }
        },
        "title": {
         "font": {
          "color": "#4D5663"
         }
        },
        "xaxis": {
         "gridcolor": "#E1E5ED",
         "showgrid": true,
         "tickfont": {
          "color": "#4D5663"
         },
         "title": {
          "font": {
           "color": "#4D5663"
          },
          "text": ""
         },
         "zerolinecolor": "#E1E5ED"
        },
        "yaxis": {
         "gridcolor": "#E1E5ED",
         "showgrid": true,
         "tickfont": {
          "color": "#4D5663"
         },
         "title": {
          "font": {
           "color": "#4D5663"
          },
          "text": ""
         },
         "zerolinecolor": "#E1E5ED"
        }
       }
      },
      "text/html": [
       "<div>\n",
       "        \n",
       "        \n",
       "            <div id=\"3d21eb85-231b-4e7d-a6fc-bcd410fb36aa\" class=\"plotly-graph-div\" style=\"height:525px; width:100%;\"></div>\n",
       "            <script type=\"text/javascript\">\n",
       "                require([\"plotly\"], function(Plotly) {\n",
       "                    window.PLOTLYENV=window.PLOTLYENV || {};\n",
       "                    window.PLOTLYENV.BASE_URL='https://plot.ly';\n",
       "                    \n",
       "                if (document.getElementById(\"3d21eb85-231b-4e7d-a6fc-bcd410fb36aa\")) {\n",
       "                    Plotly.newPlot(\n",
       "                        '3d21eb85-231b-4e7d-a6fc-bcd410fb36aa',\n",
       "                        [{\"line\": {\"color\": \"rgba(255, 153, 51, 1.0)\", \"dash\": \"solid\", \"shape\": \"linear\", \"width\": 1.3}, \"marker\": {\"size\": 12, \"symbol\": \"circle\"}, \"mode\": \"markers\", \"name\": \"B\", \"text\": \"\", \"type\": \"scatter\", \"x\": [1.472529121625012, 1.130248943233051, -0.03482930485305292, -0.5732950541498779, 0.6679167375471895, -0.8579231829134375, 0.8094528586808082, 0.3085641347607752, 0.27377683773219197, 0.23206478359138408, 0.05238217602947687, 1.6583515353500433, 0.07790651684678294, -1.7301434691903925, -0.5641455958381295, 0.4147172412633151, -0.09849314047167301, 0.9977271515240892, 0.8786339083285464, 0.6950074047715827, 0.45710903842482575, 0.4982199907784472, 0.12903988052103624, -1.4837525556196758, 2.1559376570965503, 0.27121817416520905, -0.7920459692083268, 0.34986943200659715, -1.4244439368614608, 0.32694876044997556, 0.46860953711542114, -0.8163787512650883, 1.2187153472151357, -0.20858295937455842, -1.6419227340761469, -1.7597511712926772, -0.889500156517225, 0.7680841645055828, 0.242169122327131, 1.836311067999764, -0.3640393725187276, 0.6913544823158839, 0.5381815943734077, -1.2920024951121236, 0.32683652775332095, -1.6543868904131966, -0.07603260838364179, -1.1191319473076922, -0.06515760125541344, 2.6112740684691444, 0.189885318735173, 0.758128711401495, 1.3565878468023498, -1.6605371867714478, -0.7657077563048298, -0.3795261071180454, -1.0575887339186927, -0.21917702928905666, -0.018563285766532843, -0.31467704146234077, -0.15156994149975483, 1.3072808419825945, 0.301826271055909, 0.9387223883113914, -0.9159890914090407, 0.9972746743704269, -0.14961035018933383, 0.6936412738254416, 0.02150439010857565, -0.09685198016522274, -0.17962054484657083, 2.8387103914674565, 1.7403528975355167, 0.16910030614484756, -1.8773354305002856, 0.825977346945175, 0.8377635089652343, 0.9617236811802147, -0.6473981950616219, -1.6658039916353078, -0.2692192979839951, -2.729756849044134, -0.22782472436569362, -0.501111975287052, 0.46337026689879734, 1.0619123546213953, 1.6562427899245722, 0.062163840611550794, 0.19039780019298785, 0.026824609638366238, 0.8368352166533789, 0.29023261477188106, -0.4892908992826225, 0.4014711067047261, 0.7167889751395604, 1.2783993039707082, -0.45256841203177944, -1.104240974398623, 0.48498329755483055, 0.4547917796841871], \"y\": [-1.4490718845084207, 0.5402426554463875, -1.3347985434813625, -0.12225119502318878, -1.30101789971426, 0.38569811159209016, 2.397904687740729, -2.3982480926388368, -0.10494367248597691, -0.2224254060893642, 0.5410029274040677, 1.2220114737266936, 0.6413367934003551, 0.4661400594131579, 1.6301263489299898, -0.045857295111949706, 0.22578578119008808, 0.26281871636509874, 0.3524366173554224, -0.25045607157728855, -0.02644007066357181, 0.8618805448064077, -1.0669884903827511, 2.202131722577417, -0.7113457060825948, -0.42921931155234017, 0.03085513090831307, 2.286357429921338, -0.2505199679788893, -2.49540664349453, -1.1157577643488887, 0.7330552833464814, -0.4614404215891602, -1.3673002928914093, -1.7600123190780688, -2.0887547843771395, -2.1859340876441404, -0.49279846658300813, -1.889275646139344, -0.5690532456828411, 0.4239373965316233, 0.6397781534640425, -0.29671425027591325, 0.6571556609166963, 1.383298672469432, 1.109761245033315, 1.4332373810414698, 0.6738019112262904, -1.1813200383895766, -1.6614202983027815, 1.2398798868361367, 0.6123687064574279, 0.0915797315637989, 0.006009505705794459, -1.0960578906870182, -1.1053797480590637, 1.0352922076995237, 0.2776270046807994, -0.09822942803128862, 1.3423627824672761, -0.4269262478860568, -0.8566216988554339, 0.4155483209694457, 0.21352323335426418, 0.9205293326670225, -2.4290809169775893, -1.097530893017326, 0.0014555989292659602, -0.4721893111402556, -2.3651682013646727, 0.9177196755689004, -2.6495518809284646, 0.018826728369795518, 0.05322287052010041, -1.1676072328548432, 0.3940104502096727, 0.3003994475771432, 1.6651594296939112, -0.671156151734517, 3.2476405756672038, -0.026105037598596365, -1.177609198277101, 0.12516726924093127, -0.517430855564586, 0.6604745556074771, -0.0018629645865976042, -1.7849289778669288, 0.18498950224768243, 1.442080076368799, 0.9472992507672473, 2.195427851378761, 0.3966786785752604, -0.5002725972891627, -1.9460828869923503, -0.3608192626215061, 1.0131320014705925, -0.7057725331167626, 0.9665220645320599, -0.042248237084285586, -0.9798386628297314]}],\n",
       "                        {\"legend\": {\"bgcolor\": \"#F5F6F9\", \"font\": {\"color\": \"#4D5663\"}}, \"paper_bgcolor\": \"#F5F6F9\", \"plot_bgcolor\": \"#F5F6F9\", \"template\": {\"data\": {\"bar\": [{\"error_x\": {\"color\": \"#2a3f5f\"}, \"error_y\": {\"color\": \"#2a3f5f\"}, \"marker\": {\"line\": {\"color\": \"#E5ECF6\", \"width\": 0.5}}, \"type\": \"bar\"}], \"barpolar\": [{\"marker\": {\"line\": {\"color\": \"#E5ECF6\", \"width\": 0.5}}, \"type\": \"barpolar\"}], \"carpet\": [{\"aaxis\": {\"endlinecolor\": \"#2a3f5f\", \"gridcolor\": \"white\", \"linecolor\": \"white\", \"minorgridcolor\": \"white\", \"startlinecolor\": \"#2a3f5f\"}, \"baxis\": {\"endlinecolor\": \"#2a3f5f\", \"gridcolor\": \"white\", \"linecolor\": \"white\", \"minorgridcolor\": \"white\", \"startlinecolor\": \"#2a3f5f\"}, \"type\": \"carpet\"}], \"choropleth\": [{\"colorbar\": {\"outlinewidth\": 0, \"ticks\": \"\"}, \"type\": \"choropleth\"}], \"contour\": [{\"colorbar\": {\"outlinewidth\": 0, \"ticks\": \"\"}, \"colorscale\": [[0.0, \"#0d0887\"], [0.1111111111111111, \"#46039f\"], [0.2222222222222222, \"#7201a8\"], [0.3333333333333333, \"#9c179e\"], [0.4444444444444444, \"#bd3786\"], [0.5555555555555556, \"#d8576b\"], [0.6666666666666666, \"#ed7953\"], [0.7777777777777778, \"#fb9f3a\"], [0.8888888888888888, \"#fdca26\"], [1.0, \"#f0f921\"]], \"type\": \"contour\"}], \"contourcarpet\": [{\"colorbar\": {\"outlinewidth\": 0, \"ticks\": \"\"}, \"type\": \"contourcarpet\"}], \"heatmap\": [{\"colorbar\": {\"outlinewidth\": 0, \"ticks\": \"\"}, \"colorscale\": [[0.0, \"#0d0887\"], [0.1111111111111111, \"#46039f\"], [0.2222222222222222, \"#7201a8\"], [0.3333333333333333, \"#9c179e\"], [0.4444444444444444, \"#bd3786\"], [0.5555555555555556, \"#d8576b\"], [0.6666666666666666, \"#ed7953\"], [0.7777777777777778, \"#fb9f3a\"], [0.8888888888888888, \"#fdca26\"], [1.0, \"#f0f921\"]], \"type\": \"heatmap\"}], \"heatmapgl\": [{\"colorbar\": {\"outlinewidth\": 0, \"ticks\": \"\"}, \"colorscale\": [[0.0, \"#0d0887\"], [0.1111111111111111, \"#46039f\"], [0.2222222222222222, \"#7201a8\"], [0.3333333333333333, \"#9c179e\"], [0.4444444444444444, \"#bd3786\"], [0.5555555555555556, \"#d8576b\"], [0.6666666666666666, \"#ed7953\"], [0.7777777777777778, \"#fb9f3a\"], [0.8888888888888888, \"#fdca26\"], [1.0, \"#f0f921\"]], \"type\": \"heatmapgl\"}], \"histogram\": [{\"marker\": {\"colorbar\": {\"outlinewidth\": 0, \"ticks\": \"\"}}, \"type\": \"histogram\"}], \"histogram2d\": [{\"colorbar\": {\"outlinewidth\": 0, \"ticks\": \"\"}, \"colorscale\": [[0.0, \"#0d0887\"], [0.1111111111111111, \"#46039f\"], [0.2222222222222222, \"#7201a8\"], [0.3333333333333333, \"#9c179e\"], [0.4444444444444444, \"#bd3786\"], [0.5555555555555556, \"#d8576b\"], [0.6666666666666666, \"#ed7953\"], [0.7777777777777778, \"#fb9f3a\"], [0.8888888888888888, \"#fdca26\"], [1.0, \"#f0f921\"]], \"type\": \"histogram2d\"}], \"histogram2dcontour\": [{\"colorbar\": {\"outlinewidth\": 0, \"ticks\": \"\"}, \"colorscale\": [[0.0, \"#0d0887\"], [0.1111111111111111, \"#46039f\"], [0.2222222222222222, \"#7201a8\"], [0.3333333333333333, \"#9c179e\"], [0.4444444444444444, \"#bd3786\"], [0.5555555555555556, \"#d8576b\"], [0.6666666666666666, \"#ed7953\"], [0.7777777777777778, \"#fb9f3a\"], [0.8888888888888888, \"#fdca26\"], [1.0, \"#f0f921\"]], \"type\": \"histogram2dcontour\"}], \"mesh3d\": [{\"colorbar\": {\"outlinewidth\": 0, \"ticks\": \"\"}, \"type\": \"mesh3d\"}], \"parcoords\": [{\"line\": {\"colorbar\": {\"outlinewidth\": 0, \"ticks\": \"\"}}, \"type\": \"parcoords\"}], \"pie\": [{\"automargin\": true, \"type\": \"pie\"}], \"scatter\": [{\"marker\": {\"colorbar\": {\"outlinewidth\": 0, \"ticks\": \"\"}}, \"type\": \"scatter\"}], \"scatter3d\": [{\"line\": {\"colorbar\": {\"outlinewidth\": 0, \"ticks\": \"\"}}, \"marker\": {\"colorbar\": {\"outlinewidth\": 0, \"ticks\": \"\"}}, \"type\": \"scatter3d\"}], \"scattercarpet\": [{\"marker\": {\"colorbar\": {\"outlinewidth\": 0, \"ticks\": \"\"}}, \"type\": \"scattercarpet\"}], \"scattergeo\": [{\"marker\": {\"colorbar\": {\"outlinewidth\": 0, \"ticks\": \"\"}}, \"type\": \"scattergeo\"}], \"scattergl\": [{\"marker\": {\"colorbar\": {\"outlinewidth\": 0, \"ticks\": \"\"}}, \"type\": \"scattergl\"}], \"scattermapbox\": [{\"marker\": {\"colorbar\": {\"outlinewidth\": 0, \"ticks\": \"\"}}, \"type\": \"scattermapbox\"}], \"scatterpolar\": [{\"marker\": {\"colorbar\": {\"outlinewidth\": 0, \"ticks\": \"\"}}, \"type\": \"scatterpolar\"}], \"scatterpolargl\": [{\"marker\": {\"colorbar\": {\"outlinewidth\": 0, \"ticks\": \"\"}}, \"type\": \"scatterpolargl\"}], \"scatterternary\": [{\"marker\": {\"colorbar\": {\"outlinewidth\": 0, \"ticks\": \"\"}}, \"type\": \"scatterternary\"}], \"surface\": [{\"colorbar\": {\"outlinewidth\": 0, \"ticks\": \"\"}, \"colorscale\": [[0.0, \"#0d0887\"], [0.1111111111111111, \"#46039f\"], [0.2222222222222222, \"#7201a8\"], [0.3333333333333333, \"#9c179e\"], [0.4444444444444444, \"#bd3786\"], [0.5555555555555556, \"#d8576b\"], [0.6666666666666666, \"#ed7953\"], [0.7777777777777778, \"#fb9f3a\"], [0.8888888888888888, \"#fdca26\"], [1.0, \"#f0f921\"]], \"type\": \"surface\"}], \"table\": [{\"cells\": {\"fill\": {\"color\": \"#EBF0F8\"}, \"line\": {\"color\": \"white\"}}, \"header\": {\"fill\": {\"color\": \"#C8D4E3\"}, \"line\": {\"color\": \"white\"}}, \"type\": \"table\"}]}, \"layout\": {\"annotationdefaults\": {\"arrowcolor\": \"#2a3f5f\", \"arrowhead\": 0, \"arrowwidth\": 1}, \"coloraxis\": {\"colorbar\": {\"outlinewidth\": 0, \"ticks\": \"\"}}, \"colorscale\": {\"diverging\": [[0, \"#8e0152\"], [0.1, \"#c51b7d\"], [0.2, \"#de77ae\"], [0.3, \"#f1b6da\"], [0.4, \"#fde0ef\"], [0.5, \"#f7f7f7\"], [0.6, \"#e6f5d0\"], [0.7, \"#b8e186\"], [0.8, \"#7fbc41\"], [0.9, \"#4d9221\"], [1, \"#276419\"]], \"sequential\": [[0.0, \"#0d0887\"], [0.1111111111111111, \"#46039f\"], [0.2222222222222222, \"#7201a8\"], [0.3333333333333333, \"#9c179e\"], [0.4444444444444444, \"#bd3786\"], [0.5555555555555556, \"#d8576b\"], [0.6666666666666666, \"#ed7953\"], [0.7777777777777778, \"#fb9f3a\"], [0.8888888888888888, \"#fdca26\"], [1.0, \"#f0f921\"]], \"sequentialminus\": [[0.0, \"#0d0887\"], [0.1111111111111111, \"#46039f\"], [0.2222222222222222, \"#7201a8\"], [0.3333333333333333, \"#9c179e\"], [0.4444444444444444, \"#bd3786\"], [0.5555555555555556, \"#d8576b\"], [0.6666666666666666, \"#ed7953\"], [0.7777777777777778, \"#fb9f3a\"], [0.8888888888888888, \"#fdca26\"], [1.0, \"#f0f921\"]]}, \"colorway\": [\"#636efa\", \"#EF553B\", \"#00cc96\", \"#ab63fa\", \"#FFA15A\", \"#19d3f3\", \"#FF6692\", \"#B6E880\", \"#FF97FF\", \"#FECB52\"], \"font\": {\"color\": \"#2a3f5f\"}, \"geo\": {\"bgcolor\": \"white\", \"lakecolor\": \"white\", \"landcolor\": \"#E5ECF6\", \"showlakes\": true, \"showland\": true, \"subunitcolor\": \"white\"}, \"hoverlabel\": {\"align\": \"left\"}, \"hovermode\": \"closest\", \"mapbox\": {\"style\": \"light\"}, \"paper_bgcolor\": \"white\", \"plot_bgcolor\": \"#E5ECF6\", \"polar\": {\"angularaxis\": {\"gridcolor\": \"white\", \"linecolor\": \"white\", \"ticks\": \"\"}, \"bgcolor\": \"#E5ECF6\", \"radialaxis\": {\"gridcolor\": \"white\", \"linecolor\": \"white\", \"ticks\": \"\"}}, \"scene\": {\"xaxis\": {\"backgroundcolor\": \"#E5ECF6\", \"gridcolor\": \"white\", \"gridwidth\": 2, \"linecolor\": \"white\", \"showbackground\": true, \"ticks\": \"\", \"zerolinecolor\": \"white\"}, \"yaxis\": {\"backgroundcolor\": \"#E5ECF6\", \"gridcolor\": \"white\", \"gridwidth\": 2, \"linecolor\": \"white\", \"showbackground\": true, \"ticks\": \"\", \"zerolinecolor\": \"white\"}, \"zaxis\": {\"backgroundcolor\": \"#E5ECF6\", \"gridcolor\": \"white\", \"gridwidth\": 2, \"linecolor\": \"white\", \"showbackground\": true, \"ticks\": \"\", \"zerolinecolor\": \"white\"}}, \"shapedefaults\": {\"line\": {\"color\": \"#2a3f5f\"}}, \"ternary\": {\"aaxis\": {\"gridcolor\": \"white\", \"linecolor\": \"white\", \"ticks\": \"\"}, \"baxis\": {\"gridcolor\": \"white\", \"linecolor\": \"white\", \"ticks\": \"\"}, \"bgcolor\": \"#E5ECF6\", \"caxis\": {\"gridcolor\": \"white\", \"linecolor\": \"white\", \"ticks\": \"\"}}, \"title\": {\"x\": 0.05}, \"xaxis\": {\"automargin\": true, \"gridcolor\": \"white\", \"linecolor\": \"white\", \"ticks\": \"\", \"title\": {\"standoff\": 15}, \"zerolinecolor\": \"white\", \"zerolinewidth\": 2}, \"yaxis\": {\"automargin\": true, \"gridcolor\": \"white\", \"linecolor\": \"white\", \"ticks\": \"\", \"title\": {\"standoff\": 15}, \"zerolinecolor\": \"white\", \"zerolinewidth\": 2}}}, \"title\": {\"font\": {\"color\": \"#4D5663\"}}, \"xaxis\": {\"gridcolor\": \"#E1E5ED\", \"showgrid\": true, \"tickfont\": {\"color\": \"#4D5663\"}, \"title\": {\"font\": {\"color\": \"#4D5663\"}, \"text\": \"\"}, \"zerolinecolor\": \"#E1E5ED\"}, \"yaxis\": {\"gridcolor\": \"#E1E5ED\", \"showgrid\": true, \"tickfont\": {\"color\": \"#4D5663\"}, \"title\": {\"font\": {\"color\": \"#4D5663\"}, \"text\": \"\"}, \"zerolinecolor\": \"#E1E5ED\"}},\n",
       "                        {\"showLink\": true, \"linkText\": \"Export to plot.ly\", \"plotlyServerURL\": \"https://plot.ly\", \"responsive\": true}\n",
       "                    ).then(function(){\n",
       "                            \n",
       "var gd = document.getElementById('3d21eb85-231b-4e7d-a6fc-bcd410fb36aa');\n",
       "var x = new MutationObserver(function (mutations, observer) {{\n",
       "        var display = window.getComputedStyle(gd).display;\n",
       "        if (!display || display === 'none') {{\n",
       "            console.log([gd, 'removed!']);\n",
       "            Plotly.purge(gd);\n",
       "            observer.disconnect();\n",
       "        }}\n",
       "}});\n",
       "\n",
       "// Listen for the removal of the full notebook cells\n",
       "var notebookContainer = gd.closest('#notebook-container');\n",
       "if (notebookContainer) {{\n",
       "    x.observe(notebookContainer, {childList: true});\n",
       "}}\n",
       "\n",
       "// Listen for the clearing of the current output cell\n",
       "var outputEl = gd.closest('.output');\n",
       "if (outputEl) {{\n",
       "    x.observe(outputEl, {childList: true});\n",
       "}}\n",
       "\n",
       "                        })\n",
       "                };\n",
       "                });\n",
       "            </script>\n",
       "        </div>"
      ]
     },
     "metadata": {},
     "output_type": "display_data"
    }
   ],
   "source": [
    " df1.iplot(kind='scatter',x='A',y='B', mode='markers')"
   ]
  },
  {
   "cell_type": "code",
   "execution_count": 56,
   "metadata": {},
   "outputs": [
    {
     "data": {
      "application/vnd.plotly.v1+json": {
       "config": {
        "linkText": "Export to plot.ly",
        "plotlyServerURL": "https://plot.ly",
        "showLink": true
       },
       "data": [
        {
         "marker": {
          "color": "rgba(255, 153, 51, 0.6)",
          "line": {
           "color": "rgba(255, 153, 51, 1.0)",
           "width": 1
          }
         },
         "name": "values",
         "orientation": "v",
         "text": "",
         "type": "bar",
         "x": [
          "A",
          "B",
          "C"
         ],
         "y": [
          32,
          43,
          50
         ]
        }
       ],
       "layout": {
        "legend": {
         "bgcolor": "#F5F6F9",
         "font": {
          "color": "#4D5663"
         }
        },
        "paper_bgcolor": "#F5F6F9",
        "plot_bgcolor": "#F5F6F9",
        "template": {
         "data": {
          "bar": [
           {
            "error_x": {
             "color": "#2a3f5f"
            },
            "error_y": {
             "color": "#2a3f5f"
            },
            "marker": {
             "line": {
              "color": "#E5ECF6",
              "width": 0.5
             }
            },
            "type": "bar"
           }
          ],
          "barpolar": [
           {
            "marker": {
             "line": {
              "color": "#E5ECF6",
              "width": 0.5
             }
            },
            "type": "barpolar"
           }
          ],
          "carpet": [
           {
            "aaxis": {
             "endlinecolor": "#2a3f5f",
             "gridcolor": "white",
             "linecolor": "white",
             "minorgridcolor": "white",
             "startlinecolor": "#2a3f5f"
            },
            "baxis": {
             "endlinecolor": "#2a3f5f",
             "gridcolor": "white",
             "linecolor": "white",
             "minorgridcolor": "white",
             "startlinecolor": "#2a3f5f"
            },
            "type": "carpet"
           }
          ],
          "choropleth": [
           {
            "colorbar": {
             "outlinewidth": 0,
             "ticks": ""
            },
            "type": "choropleth"
           }
          ],
          "contour": [
           {
            "colorbar": {
             "outlinewidth": 0,
             "ticks": ""
            },
            "colorscale": [
             [
              0,
              "#0d0887"
             ],
             [
              0.1111111111111111,
              "#46039f"
             ],
             [
              0.2222222222222222,
              "#7201a8"
             ],
             [
              0.3333333333333333,
              "#9c179e"
             ],
             [
              0.4444444444444444,
              "#bd3786"
             ],
             [
              0.5555555555555556,
              "#d8576b"
             ],
             [
              0.6666666666666666,
              "#ed7953"
             ],
             [
              0.7777777777777778,
              "#fb9f3a"
             ],
             [
              0.8888888888888888,
              "#fdca26"
             ],
             [
              1,
              "#f0f921"
             ]
            ],
            "type": "contour"
           }
          ],
          "contourcarpet": [
           {
            "colorbar": {
             "outlinewidth": 0,
             "ticks": ""
            },
            "type": "contourcarpet"
           }
          ],
          "heatmap": [
           {
            "colorbar": {
             "outlinewidth": 0,
             "ticks": ""
            },
            "colorscale": [
             [
              0,
              "#0d0887"
             ],
             [
              0.1111111111111111,
              "#46039f"
             ],
             [
              0.2222222222222222,
              "#7201a8"
             ],
             [
              0.3333333333333333,
              "#9c179e"
             ],
             [
              0.4444444444444444,
              "#bd3786"
             ],
             [
              0.5555555555555556,
              "#d8576b"
             ],
             [
              0.6666666666666666,
              "#ed7953"
             ],
             [
              0.7777777777777778,
              "#fb9f3a"
             ],
             [
              0.8888888888888888,
              "#fdca26"
             ],
             [
              1,
              "#f0f921"
             ]
            ],
            "type": "heatmap"
           }
          ],
          "heatmapgl": [
           {
            "colorbar": {
             "outlinewidth": 0,
             "ticks": ""
            },
            "colorscale": [
             [
              0,
              "#0d0887"
             ],
             [
              0.1111111111111111,
              "#46039f"
             ],
             [
              0.2222222222222222,
              "#7201a8"
             ],
             [
              0.3333333333333333,
              "#9c179e"
             ],
             [
              0.4444444444444444,
              "#bd3786"
             ],
             [
              0.5555555555555556,
              "#d8576b"
             ],
             [
              0.6666666666666666,
              "#ed7953"
             ],
             [
              0.7777777777777778,
              "#fb9f3a"
             ],
             [
              0.8888888888888888,
              "#fdca26"
             ],
             [
              1,
              "#f0f921"
             ]
            ],
            "type": "heatmapgl"
           }
          ],
          "histogram": [
           {
            "marker": {
             "colorbar": {
              "outlinewidth": 0,
              "ticks": ""
             }
            },
            "type": "histogram"
           }
          ],
          "histogram2d": [
           {
            "colorbar": {
             "outlinewidth": 0,
             "ticks": ""
            },
            "colorscale": [
             [
              0,
              "#0d0887"
             ],
             [
              0.1111111111111111,
              "#46039f"
             ],
             [
              0.2222222222222222,
              "#7201a8"
             ],
             [
              0.3333333333333333,
              "#9c179e"
             ],
             [
              0.4444444444444444,
              "#bd3786"
             ],
             [
              0.5555555555555556,
              "#d8576b"
             ],
             [
              0.6666666666666666,
              "#ed7953"
             ],
             [
              0.7777777777777778,
              "#fb9f3a"
             ],
             [
              0.8888888888888888,
              "#fdca26"
             ],
             [
              1,
              "#f0f921"
             ]
            ],
            "type": "histogram2d"
           }
          ],
          "histogram2dcontour": [
           {
            "colorbar": {
             "outlinewidth": 0,
             "ticks": ""
            },
            "colorscale": [
             [
              0,
              "#0d0887"
             ],
             [
              0.1111111111111111,
              "#46039f"
             ],
             [
              0.2222222222222222,
              "#7201a8"
             ],
             [
              0.3333333333333333,
              "#9c179e"
             ],
             [
              0.4444444444444444,
              "#bd3786"
             ],
             [
              0.5555555555555556,
              "#d8576b"
             ],
             [
              0.6666666666666666,
              "#ed7953"
             ],
             [
              0.7777777777777778,
              "#fb9f3a"
             ],
             [
              0.8888888888888888,
              "#fdca26"
             ],
             [
              1,
              "#f0f921"
             ]
            ],
            "type": "histogram2dcontour"
           }
          ],
          "mesh3d": [
           {
            "colorbar": {
             "outlinewidth": 0,
             "ticks": ""
            },
            "type": "mesh3d"
           }
          ],
          "parcoords": [
           {
            "line": {
             "colorbar": {
              "outlinewidth": 0,
              "ticks": ""
             }
            },
            "type": "parcoords"
           }
          ],
          "pie": [
           {
            "automargin": true,
            "type": "pie"
           }
          ],
          "scatter": [
           {
            "marker": {
             "colorbar": {
              "outlinewidth": 0,
              "ticks": ""
             }
            },
            "type": "scatter"
           }
          ],
          "scatter3d": [
           {
            "line": {
             "colorbar": {
              "outlinewidth": 0,
              "ticks": ""
             }
            },
            "marker": {
             "colorbar": {
              "outlinewidth": 0,
              "ticks": ""
             }
            },
            "type": "scatter3d"
           }
          ],
          "scattercarpet": [
           {
            "marker": {
             "colorbar": {
              "outlinewidth": 0,
              "ticks": ""
             }
            },
            "type": "scattercarpet"
           }
          ],
          "scattergeo": [
           {
            "marker": {
             "colorbar": {
              "outlinewidth": 0,
              "ticks": ""
             }
            },
            "type": "scattergeo"
           }
          ],
          "scattergl": [
           {
            "marker": {
             "colorbar": {
              "outlinewidth": 0,
              "ticks": ""
             }
            },
            "type": "scattergl"
           }
          ],
          "scattermapbox": [
           {
            "marker": {
             "colorbar": {
              "outlinewidth": 0,
              "ticks": ""
             }
            },
            "type": "scattermapbox"
           }
          ],
          "scatterpolar": [
           {
            "marker": {
             "colorbar": {
              "outlinewidth": 0,
              "ticks": ""
             }
            },
            "type": "scatterpolar"
           }
          ],
          "scatterpolargl": [
           {
            "marker": {
             "colorbar": {
              "outlinewidth": 0,
              "ticks": ""
             }
            },
            "type": "scatterpolargl"
           }
          ],
          "scatterternary": [
           {
            "marker": {
             "colorbar": {
              "outlinewidth": 0,
              "ticks": ""
             }
            },
            "type": "scatterternary"
           }
          ],
          "surface": [
           {
            "colorbar": {
             "outlinewidth": 0,
             "ticks": ""
            },
            "colorscale": [
             [
              0,
              "#0d0887"
             ],
             [
              0.1111111111111111,
              "#46039f"
             ],
             [
              0.2222222222222222,
              "#7201a8"
             ],
             [
              0.3333333333333333,
              "#9c179e"
             ],
             [
              0.4444444444444444,
              "#bd3786"
             ],
             [
              0.5555555555555556,
              "#d8576b"
             ],
             [
              0.6666666666666666,
              "#ed7953"
             ],
             [
              0.7777777777777778,
              "#fb9f3a"
             ],
             [
              0.8888888888888888,
              "#fdca26"
             ],
             [
              1,
              "#f0f921"
             ]
            ],
            "type": "surface"
           }
          ],
          "table": [
           {
            "cells": {
             "fill": {
              "color": "#EBF0F8"
             },
             "line": {
              "color": "white"
             }
            },
            "header": {
             "fill": {
              "color": "#C8D4E3"
             },
             "line": {
              "color": "white"
             }
            },
            "type": "table"
           }
          ]
         },
         "layout": {
          "annotationdefaults": {
           "arrowcolor": "#2a3f5f",
           "arrowhead": 0,
           "arrowwidth": 1
          },
          "coloraxis": {
           "colorbar": {
            "outlinewidth": 0,
            "ticks": ""
           }
          },
          "colorscale": {
           "diverging": [
            [
             0,
             "#8e0152"
            ],
            [
             0.1,
             "#c51b7d"
            ],
            [
             0.2,
             "#de77ae"
            ],
            [
             0.3,
             "#f1b6da"
            ],
            [
             0.4,
             "#fde0ef"
            ],
            [
             0.5,
             "#f7f7f7"
            ],
            [
             0.6,
             "#e6f5d0"
            ],
            [
             0.7,
             "#b8e186"
            ],
            [
             0.8,
             "#7fbc41"
            ],
            [
             0.9,
             "#4d9221"
            ],
            [
             1,
             "#276419"
            ]
           ],
           "sequential": [
            [
             0,
             "#0d0887"
            ],
            [
             0.1111111111111111,
             "#46039f"
            ],
            [
             0.2222222222222222,
             "#7201a8"
            ],
            [
             0.3333333333333333,
             "#9c179e"
            ],
            [
             0.4444444444444444,
             "#bd3786"
            ],
            [
             0.5555555555555556,
             "#d8576b"
            ],
            [
             0.6666666666666666,
             "#ed7953"
            ],
            [
             0.7777777777777778,
             "#fb9f3a"
            ],
            [
             0.8888888888888888,
             "#fdca26"
            ],
            [
             1,
             "#f0f921"
            ]
           ],
           "sequentialminus": [
            [
             0,
             "#0d0887"
            ],
            [
             0.1111111111111111,
             "#46039f"
            ],
            [
             0.2222222222222222,
             "#7201a8"
            ],
            [
             0.3333333333333333,
             "#9c179e"
            ],
            [
             0.4444444444444444,
             "#bd3786"
            ],
            [
             0.5555555555555556,
             "#d8576b"
            ],
            [
             0.6666666666666666,
             "#ed7953"
            ],
            [
             0.7777777777777778,
             "#fb9f3a"
            ],
            [
             0.8888888888888888,
             "#fdca26"
            ],
            [
             1,
             "#f0f921"
            ]
           ]
          },
          "colorway": [
           "#636efa",
           "#EF553B",
           "#00cc96",
           "#ab63fa",
           "#FFA15A",
           "#19d3f3",
           "#FF6692",
           "#B6E880",
           "#FF97FF",
           "#FECB52"
          ],
          "font": {
           "color": "#2a3f5f"
          },
          "geo": {
           "bgcolor": "white",
           "lakecolor": "white",
           "landcolor": "#E5ECF6",
           "showlakes": true,
           "showland": true,
           "subunitcolor": "white"
          },
          "hoverlabel": {
           "align": "left"
          },
          "hovermode": "closest",
          "mapbox": {
           "style": "light"
          },
          "paper_bgcolor": "white",
          "plot_bgcolor": "#E5ECF6",
          "polar": {
           "angularaxis": {
            "gridcolor": "white",
            "linecolor": "white",
            "ticks": ""
           },
           "bgcolor": "#E5ECF6",
           "radialaxis": {
            "gridcolor": "white",
            "linecolor": "white",
            "ticks": ""
           }
          },
          "scene": {
           "xaxis": {
            "backgroundcolor": "#E5ECF6",
            "gridcolor": "white",
            "gridwidth": 2,
            "linecolor": "white",
            "showbackground": true,
            "ticks": "",
            "zerolinecolor": "white"
           },
           "yaxis": {
            "backgroundcolor": "#E5ECF6",
            "gridcolor": "white",
            "gridwidth": 2,
            "linecolor": "white",
            "showbackground": true,
            "ticks": "",
            "zerolinecolor": "white"
           },
           "zaxis": {
            "backgroundcolor": "#E5ECF6",
            "gridcolor": "white",
            "gridwidth": 2,
            "linecolor": "white",
            "showbackground": true,
            "ticks": "",
            "zerolinecolor": "white"
           }
          },
          "shapedefaults": {
           "line": {
            "color": "#2a3f5f"
           }
          },
          "ternary": {
           "aaxis": {
            "gridcolor": "white",
            "linecolor": "white",
            "ticks": ""
           },
           "baxis": {
            "gridcolor": "white",
            "linecolor": "white",
            "ticks": ""
           },
           "bgcolor": "#E5ECF6",
           "caxis": {
            "gridcolor": "white",
            "linecolor": "white",
            "ticks": ""
           }
          },
          "title": {
           "x": 0.05
          },
          "xaxis": {
           "automargin": true,
           "gridcolor": "white",
           "linecolor": "white",
           "ticks": "",
           "title": {
            "standoff": 15
           },
           "zerolinecolor": "white",
           "zerolinewidth": 2
          },
          "yaxis": {
           "automargin": true,
           "gridcolor": "white",
           "linecolor": "white",
           "ticks": "",
           "title": {
            "standoff": 15
           },
           "zerolinecolor": "white",
           "zerolinewidth": 2
          }
         }
        },
        "title": {
         "font": {
          "color": "#4D5663"
         }
        },
        "xaxis": {
         "gridcolor": "#E1E5ED",
         "showgrid": true,
         "tickfont": {
          "color": "#4D5663"
         },
         "title": {
          "font": {
           "color": "#4D5663"
          },
          "text": ""
         },
         "zerolinecolor": "#E1E5ED"
        },
        "yaxis": {
         "gridcolor": "#E1E5ED",
         "showgrid": true,
         "tickfont": {
          "color": "#4D5663"
         },
         "title": {
          "font": {
           "color": "#4D5663"
          },
          "text": ""
         },
         "zerolinecolor": "#E1E5ED"
        }
       }
      },
      "text/html": [
       "<div>\n",
       "        \n",
       "        \n",
       "            <div id=\"838eef0e-071a-4fa8-a21e-7463f3560fab\" class=\"plotly-graph-div\" style=\"height:525px; width:100%;\"></div>\n",
       "            <script type=\"text/javascript\">\n",
       "                require([\"plotly\"], function(Plotly) {\n",
       "                    window.PLOTLYENV=window.PLOTLYENV || {};\n",
       "                    window.PLOTLYENV.BASE_URL='https://plot.ly';\n",
       "                    \n",
       "                if (document.getElementById(\"838eef0e-071a-4fa8-a21e-7463f3560fab\")) {\n",
       "                    Plotly.newPlot(\n",
       "                        '838eef0e-071a-4fa8-a21e-7463f3560fab',\n",
       "                        [{\"marker\": {\"color\": \"rgba(255, 153, 51, 0.6)\", \"line\": {\"color\": \"rgba(255, 153, 51, 1.0)\", \"width\": 1}}, \"name\": \"values\", \"orientation\": \"v\", \"text\": \"\", \"type\": \"bar\", \"x\": [\"A\", \"B\", \"C\"], \"y\": [32, 43, 50]}],\n",
       "                        {\"legend\": {\"bgcolor\": \"#F5F6F9\", \"font\": {\"color\": \"#4D5663\"}}, \"paper_bgcolor\": \"#F5F6F9\", \"plot_bgcolor\": \"#F5F6F9\", \"template\": {\"data\": {\"bar\": [{\"error_x\": {\"color\": \"#2a3f5f\"}, \"error_y\": {\"color\": \"#2a3f5f\"}, \"marker\": {\"line\": {\"color\": \"#E5ECF6\", \"width\": 0.5}}, \"type\": \"bar\"}], \"barpolar\": [{\"marker\": {\"line\": {\"color\": \"#E5ECF6\", \"width\": 0.5}}, \"type\": \"barpolar\"}], \"carpet\": [{\"aaxis\": {\"endlinecolor\": \"#2a3f5f\", \"gridcolor\": \"white\", \"linecolor\": \"white\", \"minorgridcolor\": \"white\", \"startlinecolor\": \"#2a3f5f\"}, \"baxis\": {\"endlinecolor\": \"#2a3f5f\", \"gridcolor\": \"white\", \"linecolor\": \"white\", \"minorgridcolor\": \"white\", \"startlinecolor\": \"#2a3f5f\"}, \"type\": \"carpet\"}], \"choropleth\": [{\"colorbar\": {\"outlinewidth\": 0, \"ticks\": \"\"}, \"type\": \"choropleth\"}], \"contour\": [{\"colorbar\": {\"outlinewidth\": 0, \"ticks\": \"\"}, \"colorscale\": [[0.0, \"#0d0887\"], [0.1111111111111111, \"#46039f\"], [0.2222222222222222, \"#7201a8\"], [0.3333333333333333, \"#9c179e\"], [0.4444444444444444, \"#bd3786\"], [0.5555555555555556, \"#d8576b\"], [0.6666666666666666, \"#ed7953\"], [0.7777777777777778, \"#fb9f3a\"], [0.8888888888888888, \"#fdca26\"], [1.0, \"#f0f921\"]], \"type\": \"contour\"}], \"contourcarpet\": [{\"colorbar\": {\"outlinewidth\": 0, \"ticks\": \"\"}, \"type\": \"contourcarpet\"}], \"heatmap\": [{\"colorbar\": {\"outlinewidth\": 0, \"ticks\": \"\"}, \"colorscale\": [[0.0, \"#0d0887\"], [0.1111111111111111, \"#46039f\"], [0.2222222222222222, \"#7201a8\"], [0.3333333333333333, \"#9c179e\"], [0.4444444444444444, \"#bd3786\"], [0.5555555555555556, \"#d8576b\"], [0.6666666666666666, \"#ed7953\"], [0.7777777777777778, \"#fb9f3a\"], [0.8888888888888888, \"#fdca26\"], [1.0, \"#f0f921\"]], \"type\": \"heatmap\"}], \"heatmapgl\": [{\"colorbar\": {\"outlinewidth\": 0, \"ticks\": \"\"}, \"colorscale\": [[0.0, \"#0d0887\"], [0.1111111111111111, \"#46039f\"], [0.2222222222222222, \"#7201a8\"], [0.3333333333333333, \"#9c179e\"], [0.4444444444444444, \"#bd3786\"], [0.5555555555555556, \"#d8576b\"], [0.6666666666666666, \"#ed7953\"], [0.7777777777777778, \"#fb9f3a\"], [0.8888888888888888, \"#fdca26\"], [1.0, \"#f0f921\"]], \"type\": \"heatmapgl\"}], \"histogram\": [{\"marker\": {\"colorbar\": {\"outlinewidth\": 0, \"ticks\": \"\"}}, \"type\": \"histogram\"}], \"histogram2d\": [{\"colorbar\": {\"outlinewidth\": 0, \"ticks\": \"\"}, \"colorscale\": [[0.0, \"#0d0887\"], [0.1111111111111111, \"#46039f\"], [0.2222222222222222, \"#7201a8\"], [0.3333333333333333, \"#9c179e\"], [0.4444444444444444, \"#bd3786\"], [0.5555555555555556, \"#d8576b\"], [0.6666666666666666, \"#ed7953\"], [0.7777777777777778, \"#fb9f3a\"], [0.8888888888888888, \"#fdca26\"], [1.0, \"#f0f921\"]], \"type\": \"histogram2d\"}], \"histogram2dcontour\": [{\"colorbar\": {\"outlinewidth\": 0, \"ticks\": \"\"}, \"colorscale\": [[0.0, \"#0d0887\"], [0.1111111111111111, \"#46039f\"], [0.2222222222222222, \"#7201a8\"], [0.3333333333333333, \"#9c179e\"], [0.4444444444444444, \"#bd3786\"], [0.5555555555555556, \"#d8576b\"], [0.6666666666666666, \"#ed7953\"], [0.7777777777777778, \"#fb9f3a\"], [0.8888888888888888, \"#fdca26\"], [1.0, \"#f0f921\"]], \"type\": \"histogram2dcontour\"}], \"mesh3d\": [{\"colorbar\": {\"outlinewidth\": 0, \"ticks\": \"\"}, \"type\": \"mesh3d\"}], \"parcoords\": [{\"line\": {\"colorbar\": {\"outlinewidth\": 0, \"ticks\": \"\"}}, \"type\": \"parcoords\"}], \"pie\": [{\"automargin\": true, \"type\": \"pie\"}], \"scatter\": [{\"marker\": {\"colorbar\": {\"outlinewidth\": 0, \"ticks\": \"\"}}, \"type\": \"scatter\"}], \"scatter3d\": [{\"line\": {\"colorbar\": {\"outlinewidth\": 0, \"ticks\": \"\"}}, \"marker\": {\"colorbar\": {\"outlinewidth\": 0, \"ticks\": \"\"}}, \"type\": \"scatter3d\"}], \"scattercarpet\": [{\"marker\": {\"colorbar\": {\"outlinewidth\": 0, \"ticks\": \"\"}}, \"type\": \"scattercarpet\"}], \"scattergeo\": [{\"marker\": {\"colorbar\": {\"outlinewidth\": 0, \"ticks\": \"\"}}, \"type\": \"scattergeo\"}], \"scattergl\": [{\"marker\": {\"colorbar\": {\"outlinewidth\": 0, \"ticks\": \"\"}}, \"type\": \"scattergl\"}], \"scattermapbox\": [{\"marker\": {\"colorbar\": {\"outlinewidth\": 0, \"ticks\": \"\"}}, \"type\": \"scattermapbox\"}], \"scatterpolar\": [{\"marker\": {\"colorbar\": {\"outlinewidth\": 0, \"ticks\": \"\"}}, \"type\": \"scatterpolar\"}], \"scatterpolargl\": [{\"marker\": {\"colorbar\": {\"outlinewidth\": 0, \"ticks\": \"\"}}, \"type\": \"scatterpolargl\"}], \"scatterternary\": [{\"marker\": {\"colorbar\": {\"outlinewidth\": 0, \"ticks\": \"\"}}, \"type\": \"scatterternary\"}], \"surface\": [{\"colorbar\": {\"outlinewidth\": 0, \"ticks\": \"\"}, \"colorscale\": [[0.0, \"#0d0887\"], [0.1111111111111111, \"#46039f\"], [0.2222222222222222, \"#7201a8\"], [0.3333333333333333, \"#9c179e\"], [0.4444444444444444, \"#bd3786\"], [0.5555555555555556, \"#d8576b\"], [0.6666666666666666, \"#ed7953\"], [0.7777777777777778, \"#fb9f3a\"], [0.8888888888888888, \"#fdca26\"], [1.0, \"#f0f921\"]], \"type\": \"surface\"}], \"table\": [{\"cells\": {\"fill\": {\"color\": \"#EBF0F8\"}, \"line\": {\"color\": \"white\"}}, \"header\": {\"fill\": {\"color\": \"#C8D4E3\"}, \"line\": {\"color\": \"white\"}}, \"type\": \"table\"}]}, \"layout\": {\"annotationdefaults\": {\"arrowcolor\": \"#2a3f5f\", \"arrowhead\": 0, \"arrowwidth\": 1}, \"coloraxis\": {\"colorbar\": {\"outlinewidth\": 0, \"ticks\": \"\"}}, \"colorscale\": {\"diverging\": [[0, \"#8e0152\"], [0.1, \"#c51b7d\"], [0.2, \"#de77ae\"], [0.3, \"#f1b6da\"], [0.4, \"#fde0ef\"], [0.5, \"#f7f7f7\"], [0.6, \"#e6f5d0\"], [0.7, \"#b8e186\"], [0.8, \"#7fbc41\"], [0.9, \"#4d9221\"], [1, \"#276419\"]], \"sequential\": [[0.0, \"#0d0887\"], [0.1111111111111111, \"#46039f\"], [0.2222222222222222, \"#7201a8\"], [0.3333333333333333, \"#9c179e\"], [0.4444444444444444, \"#bd3786\"], [0.5555555555555556, \"#d8576b\"], [0.6666666666666666, \"#ed7953\"], [0.7777777777777778, \"#fb9f3a\"], [0.8888888888888888, \"#fdca26\"], [1.0, \"#f0f921\"]], \"sequentialminus\": [[0.0, \"#0d0887\"], [0.1111111111111111, \"#46039f\"], [0.2222222222222222, \"#7201a8\"], [0.3333333333333333, \"#9c179e\"], [0.4444444444444444, \"#bd3786\"], [0.5555555555555556, \"#d8576b\"], [0.6666666666666666, \"#ed7953\"], [0.7777777777777778, \"#fb9f3a\"], [0.8888888888888888, \"#fdca26\"], [1.0, \"#f0f921\"]]}, \"colorway\": [\"#636efa\", \"#EF553B\", \"#00cc96\", \"#ab63fa\", \"#FFA15A\", \"#19d3f3\", \"#FF6692\", \"#B6E880\", \"#FF97FF\", \"#FECB52\"], \"font\": {\"color\": \"#2a3f5f\"}, \"geo\": {\"bgcolor\": \"white\", \"lakecolor\": \"white\", \"landcolor\": \"#E5ECF6\", \"showlakes\": true, \"showland\": true, \"subunitcolor\": \"white\"}, \"hoverlabel\": {\"align\": \"left\"}, \"hovermode\": \"closest\", \"mapbox\": {\"style\": \"light\"}, \"paper_bgcolor\": \"white\", \"plot_bgcolor\": \"#E5ECF6\", \"polar\": {\"angularaxis\": {\"gridcolor\": \"white\", \"linecolor\": \"white\", \"ticks\": \"\"}, \"bgcolor\": \"#E5ECF6\", \"radialaxis\": {\"gridcolor\": \"white\", \"linecolor\": \"white\", \"ticks\": \"\"}}, \"scene\": {\"xaxis\": {\"backgroundcolor\": \"#E5ECF6\", \"gridcolor\": \"white\", \"gridwidth\": 2, \"linecolor\": \"white\", \"showbackground\": true, \"ticks\": \"\", \"zerolinecolor\": \"white\"}, \"yaxis\": {\"backgroundcolor\": \"#E5ECF6\", \"gridcolor\": \"white\", \"gridwidth\": 2, \"linecolor\": \"white\", \"showbackground\": true, \"ticks\": \"\", \"zerolinecolor\": \"white\"}, \"zaxis\": {\"backgroundcolor\": \"#E5ECF6\", \"gridcolor\": \"white\", \"gridwidth\": 2, \"linecolor\": \"white\", \"showbackground\": true, \"ticks\": \"\", \"zerolinecolor\": \"white\"}}, \"shapedefaults\": {\"line\": {\"color\": \"#2a3f5f\"}}, \"ternary\": {\"aaxis\": {\"gridcolor\": \"white\", \"linecolor\": \"white\", \"ticks\": \"\"}, \"baxis\": {\"gridcolor\": \"white\", \"linecolor\": \"white\", \"ticks\": \"\"}, \"bgcolor\": \"#E5ECF6\", \"caxis\": {\"gridcolor\": \"white\", \"linecolor\": \"white\", \"ticks\": \"\"}}, \"title\": {\"x\": 0.05}, \"xaxis\": {\"automargin\": true, \"gridcolor\": \"white\", \"linecolor\": \"white\", \"ticks\": \"\", \"title\": {\"standoff\": 15}, \"zerolinecolor\": \"white\", \"zerolinewidth\": 2}, \"yaxis\": {\"automargin\": true, \"gridcolor\": \"white\", \"linecolor\": \"white\", \"ticks\": \"\", \"title\": {\"standoff\": 15}, \"zerolinecolor\": \"white\", \"zerolinewidth\": 2}}}, \"title\": {\"font\": {\"color\": \"#4D5663\"}}, \"xaxis\": {\"gridcolor\": \"#E1E5ED\", \"showgrid\": true, \"tickfont\": {\"color\": \"#4D5663\"}, \"title\": {\"font\": {\"color\": \"#4D5663\"}, \"text\": \"\"}, \"zerolinecolor\": \"#E1E5ED\"}, \"yaxis\": {\"gridcolor\": \"#E1E5ED\", \"showgrid\": true, \"tickfont\": {\"color\": \"#4D5663\"}, \"title\": {\"font\": {\"color\": \"#4D5663\"}, \"text\": \"\"}, \"zerolinecolor\": \"#E1E5ED\"}},\n",
       "                        {\"showLink\": true, \"linkText\": \"Export to plot.ly\", \"plotlyServerURL\": \"https://plot.ly\", \"responsive\": true}\n",
       "                    ).then(function(){\n",
       "                            \n",
       "var gd = document.getElementById('838eef0e-071a-4fa8-a21e-7463f3560fab');\n",
       "var x = new MutationObserver(function (mutations, observer) {{\n",
       "        var display = window.getComputedStyle(gd).display;\n",
       "        if (!display || display === 'none') {{\n",
       "            console.log([gd, 'removed!']);\n",
       "            Plotly.purge(gd);\n",
       "            observer.disconnect();\n",
       "        }}\n",
       "}});\n",
       "\n",
       "// Listen for the removal of the full notebook cells\n",
       "var notebookContainer = gd.closest('#notebook-container');\n",
       "if (notebookContainer) {{\n",
       "    x.observe(notebookContainer, {childList: true});\n",
       "}}\n",
       "\n",
       "// Listen for the clearing of the current output cell\n",
       "var outputEl = gd.closest('.output');\n",
       "if (outputEl) {{\n",
       "    x.observe(outputEl, {childList: true});\n",
       "}}\n",
       "\n",
       "                        })\n",
       "                };\n",
       "                });\n",
       "            </script>\n",
       "        </div>"
      ]
     },
     "metadata": {},
     "output_type": "display_data"
    }
   ],
   "source": [
    "df2.iplot(kind='bar',x='category', y='values')"
   ]
  },
  {
   "cell_type": "code",
   "execution_count": 57,
   "metadata": {},
   "outputs": [
    {
     "data": {
      "application/vnd.plotly.v1+json": {
       "config": {
        "linkText": "Export to plot.ly",
        "plotlyServerURL": "https://plot.ly",
        "showLink": true
       },
       "data": [
        {
         "marker": {
          "color": "rgba(255, 153, 51, 0.6)",
          "line": {
           "color": "rgba(255, 153, 51, 1.0)",
           "width": 1
          }
         },
         "name": "A",
         "orientation": "v",
         "text": "",
         "type": "bar",
         "x": [
          0,
          1,
          2,
          3,
          4,
          5,
          6,
          7,
          8,
          9,
          10,
          11,
          12,
          13,
          14,
          15,
          16,
          17,
          18,
          19,
          20,
          21,
          22,
          23,
          24,
          25,
          26,
          27,
          28,
          29,
          30,
          31,
          32,
          33,
          34,
          35,
          36,
          37,
          38,
          39,
          40,
          41,
          42,
          43,
          44,
          45,
          46,
          47,
          48,
          49,
          50,
          51,
          52,
          53,
          54,
          55,
          56,
          57,
          58,
          59,
          60,
          61,
          62,
          63,
          64,
          65,
          66,
          67,
          68,
          69,
          70,
          71,
          72,
          73,
          74,
          75,
          76,
          77,
          78,
          79,
          80,
          81,
          82,
          83,
          84,
          85,
          86,
          87,
          88,
          89,
          90,
          91,
          92,
          93,
          94,
          95,
          96,
          97,
          98,
          99
         ],
         "y": [
          1.472529121625012,
          1.130248943233051,
          -0.03482930485305292,
          -0.5732950541498779,
          0.6679167375471895,
          -0.8579231829134375,
          0.8094528586808082,
          0.3085641347607752,
          0.27377683773219197,
          0.23206478359138408,
          0.05238217602947687,
          1.6583515353500433,
          0.07790651684678294,
          -1.7301434691903925,
          -0.5641455958381295,
          0.4147172412633151,
          -0.09849314047167301,
          0.9977271515240892,
          0.8786339083285464,
          0.6950074047715827,
          0.45710903842482575,
          0.4982199907784472,
          0.12903988052103624,
          -1.4837525556196758,
          2.1559376570965503,
          0.27121817416520905,
          -0.7920459692083268,
          0.34986943200659715,
          -1.4244439368614608,
          0.32694876044997556,
          0.46860953711542114,
          -0.8163787512650883,
          1.2187153472151357,
          -0.20858295937455842,
          -1.6419227340761469,
          -1.7597511712926772,
          -0.889500156517225,
          0.7680841645055828,
          0.242169122327131,
          1.836311067999764,
          -0.3640393725187276,
          0.6913544823158839,
          0.5381815943734077,
          -1.2920024951121236,
          0.32683652775332095,
          -1.6543868904131966,
          -0.07603260838364179,
          -1.1191319473076922,
          -0.06515760125541344,
          2.6112740684691444,
          0.189885318735173,
          0.758128711401495,
          1.3565878468023498,
          -1.6605371867714478,
          -0.7657077563048298,
          -0.3795261071180454,
          -1.0575887339186927,
          -0.21917702928905666,
          -0.018563285766532843,
          -0.31467704146234077,
          -0.15156994149975483,
          1.3072808419825945,
          0.301826271055909,
          0.9387223883113914,
          -0.9159890914090407,
          0.9972746743704269,
          -0.14961035018933383,
          0.6936412738254416,
          0.02150439010857565,
          -0.09685198016522274,
          -0.17962054484657083,
          2.8387103914674565,
          1.7403528975355167,
          0.16910030614484756,
          -1.8773354305002856,
          0.825977346945175,
          0.8377635089652343,
          0.9617236811802147,
          -0.6473981950616219,
          -1.6658039916353078,
          -0.2692192979839951,
          -2.729756849044134,
          -0.22782472436569362,
          -0.501111975287052,
          0.46337026689879734,
          1.0619123546213953,
          1.6562427899245722,
          0.062163840611550794,
          0.19039780019298785,
          0.026824609638366238,
          0.8368352166533789,
          0.29023261477188106,
          -0.4892908992826225,
          0.4014711067047261,
          0.7167889751395604,
          1.2783993039707082,
          -0.45256841203177944,
          -1.104240974398623,
          0.48498329755483055,
          0.4547917796841871
         ]
        },
        {
         "marker": {
          "color": "rgba(55, 128, 191, 0.6)",
          "line": {
           "color": "rgba(55, 128, 191, 1.0)",
           "width": 1
          }
         },
         "name": "B",
         "orientation": "v",
         "text": "",
         "type": "bar",
         "x": [
          0,
          1,
          2,
          3,
          4,
          5,
          6,
          7,
          8,
          9,
          10,
          11,
          12,
          13,
          14,
          15,
          16,
          17,
          18,
          19,
          20,
          21,
          22,
          23,
          24,
          25,
          26,
          27,
          28,
          29,
          30,
          31,
          32,
          33,
          34,
          35,
          36,
          37,
          38,
          39,
          40,
          41,
          42,
          43,
          44,
          45,
          46,
          47,
          48,
          49,
          50,
          51,
          52,
          53,
          54,
          55,
          56,
          57,
          58,
          59,
          60,
          61,
          62,
          63,
          64,
          65,
          66,
          67,
          68,
          69,
          70,
          71,
          72,
          73,
          74,
          75,
          76,
          77,
          78,
          79,
          80,
          81,
          82,
          83,
          84,
          85,
          86,
          87,
          88,
          89,
          90,
          91,
          92,
          93,
          94,
          95,
          96,
          97,
          98,
          99
         ],
         "y": [
          -1.4490718845084207,
          0.5402426554463875,
          -1.3347985434813625,
          -0.12225119502318878,
          -1.30101789971426,
          0.38569811159209016,
          2.397904687740729,
          -2.3982480926388368,
          -0.10494367248597691,
          -0.2224254060893642,
          0.5410029274040677,
          1.2220114737266936,
          0.6413367934003551,
          0.4661400594131579,
          1.6301263489299898,
          -0.045857295111949706,
          0.22578578119008808,
          0.26281871636509874,
          0.3524366173554224,
          -0.25045607157728855,
          -0.02644007066357181,
          0.8618805448064077,
          -1.0669884903827511,
          2.202131722577417,
          -0.7113457060825948,
          -0.42921931155234017,
          0.03085513090831307,
          2.286357429921338,
          -0.2505199679788893,
          -2.49540664349453,
          -1.1157577643488887,
          0.7330552833464814,
          -0.4614404215891602,
          -1.3673002928914093,
          -1.7600123190780688,
          -2.0887547843771395,
          -2.1859340876441404,
          -0.49279846658300813,
          -1.889275646139344,
          -0.5690532456828411,
          0.4239373965316233,
          0.6397781534640425,
          -0.29671425027591325,
          0.6571556609166963,
          1.383298672469432,
          1.109761245033315,
          1.4332373810414698,
          0.6738019112262904,
          -1.1813200383895766,
          -1.6614202983027815,
          1.2398798868361367,
          0.6123687064574279,
          0.0915797315637989,
          0.006009505705794459,
          -1.0960578906870182,
          -1.1053797480590637,
          1.0352922076995237,
          0.2776270046807994,
          -0.09822942803128862,
          1.3423627824672761,
          -0.4269262478860568,
          -0.8566216988554339,
          0.4155483209694457,
          0.21352323335426418,
          0.9205293326670225,
          -2.4290809169775893,
          -1.097530893017326,
          0.0014555989292659602,
          -0.4721893111402556,
          -2.3651682013646727,
          0.9177196755689004,
          -2.6495518809284646,
          0.018826728369795518,
          0.05322287052010041,
          -1.1676072328548432,
          0.3940104502096727,
          0.3003994475771432,
          1.6651594296939112,
          -0.671156151734517,
          3.2476405756672038,
          -0.026105037598596365,
          -1.177609198277101,
          0.12516726924093127,
          -0.517430855564586,
          0.6604745556074771,
          -0.0018629645865976042,
          -1.7849289778669288,
          0.18498950224768243,
          1.442080076368799,
          0.9472992507672473,
          2.195427851378761,
          0.3966786785752604,
          -0.5002725972891627,
          -1.9460828869923503,
          -0.3608192626215061,
          1.0131320014705925,
          -0.7057725331167626,
          0.9665220645320599,
          -0.042248237084285586,
          -0.9798386628297314
         ]
        },
        {
         "marker": {
          "color": "rgba(50, 171, 96, 0.6)",
          "line": {
           "color": "rgba(50, 171, 96, 1.0)",
           "width": 1
          }
         },
         "name": "C",
         "orientation": "v",
         "text": "",
         "type": "bar",
         "x": [
          0,
          1,
          2,
          3,
          4,
          5,
          6,
          7,
          8,
          9,
          10,
          11,
          12,
          13,
          14,
          15,
          16,
          17,
          18,
          19,
          20,
          21,
          22,
          23,
          24,
          25,
          26,
          27,
          28,
          29,
          30,
          31,
          32,
          33,
          34,
          35,
          36,
          37,
          38,
          39,
          40,
          41,
          42,
          43,
          44,
          45,
          46,
          47,
          48,
          49,
          50,
          51,
          52,
          53,
          54,
          55,
          56,
          57,
          58,
          59,
          60,
          61,
          62,
          63,
          64,
          65,
          66,
          67,
          68,
          69,
          70,
          71,
          72,
          73,
          74,
          75,
          76,
          77,
          78,
          79,
          80,
          81,
          82,
          83,
          84,
          85,
          86,
          87,
          88,
          89,
          90,
          91,
          92,
          93,
          94,
          95,
          96,
          97,
          98,
          99
         ],
         "y": [
          0.2941477958735066,
          -1.2772567937568937,
          0.7441189607505856,
          -0.07469019133525433,
          0.15688826260723918,
          -0.3147237571105742,
          0.09746151352817672,
          -1.4894485007346023,
          -0.8118109462101483,
          -0.08316960538668344,
          -3.167014284398424,
          0.5384558809342364,
          1.0557522069504213,
          0.37150366384546263,
          0.7590918824347042,
          0.49357135745610187,
          -0.37733645380166997,
          0.6364367047170686,
          0.65240454392822,
          -0.5460605302037064,
          -0.2598143788964035,
          -1.0129067831437126,
          0.24442937330633968,
          -1.0076829208783498,
          -0.5501970096805181,
          0.061399346063866204,
          1.179641651882113,
          1.8840213768542848,
          -2.7297693179368894,
          0.08444274726336994,
          -0.07866577711107688,
          1.0228544923597822,
          -0.2717333568906527,
          -0.7678139093837235,
          0.8002168364713665,
          -0.6163668196735747,
          -0.7840916361031486,
          -0.5434871478375157,
          0.34616144852931713,
          -0.47902312536359887,
          -0.992535599042179,
          0.2590527094808219,
          1.2666923316053984,
          0.7476549908657724,
          -1.0512553869294554,
          -0.14237158758117616,
          -1.2929307281780056,
          1.5189203997919931,
          -0.6494858691130097,
          -0.5679015903851855,
          0.551965962231021,
          -1.6539555233879015,
          -0.22271778130394515,
          1.0386498514148697,
          0.3608835982240124,
          2.213346720878855,
          -0.9735769015751691,
          0.840128631763991,
          1.7556896787581586,
          -1.4412116307568839,
          0.2196949231023285,
          1.4992049801411589,
          -0.6611392490895978,
          -0.6304908747192904,
          1.1533356994672497,
          -0.420636670400046,
          1.443644516191686,
          1.451438062161945,
          0.483124750711282,
          -0.5236258108150692,
          0.4404690671036626,
          0.9996524509583272,
          -0.6130636059848118,
          0.6690199413988712,
          1.3263847443422256,
          -0.7556056623240177,
          0.637862832272282,
          0.38904377493049913,
          -1.3370612405882778,
          1.1933950268610702,
          0.06462007050856437,
          0.5764395379058818,
          -0.8458357075549467,
          -0.5445116781543524,
          0.3050900194252306,
          -0.2956218398366735,
          -1.7568210556812383,
          -2.624628846051485,
          0.7344870558616293,
          1.0497000890759491,
          1.5692069955925685,
          -0.8839762063095732,
          -0.2858107813208934,
          0.9699611896103433,
          -1.18056791878244,
          0.6737419030585361,
          -0.6984885465871962,
          1.0726235170641276,
          0.5217735041662983,
          1.5039611018876746
         ]
        },
        {
         "marker": {
          "color": "rgba(128, 0, 128, 0.6)",
          "line": {
           "color": "rgba(128, 0, 128, 1.0)",
           "width": 1
          }
         },
         "name": "D",
         "orientation": "v",
         "text": "",
         "type": "bar",
         "x": [
          0,
          1,
          2,
          3,
          4,
          5,
          6,
          7,
          8,
          9,
          10,
          11,
          12,
          13,
          14,
          15,
          16,
          17,
          18,
          19,
          20,
          21,
          22,
          23,
          24,
          25,
          26,
          27,
          28,
          29,
          30,
          31,
          32,
          33,
          34,
          35,
          36,
          37,
          38,
          39,
          40,
          41,
          42,
          43,
          44,
          45,
          46,
          47,
          48,
          49,
          50,
          51,
          52,
          53,
          54,
          55,
          56,
          57,
          58,
          59,
          60,
          61,
          62,
          63,
          64,
          65,
          66,
          67,
          68,
          69,
          70,
          71,
          72,
          73,
          74,
          75,
          76,
          77,
          78,
          79,
          80,
          81,
          82,
          83,
          84,
          85,
          86,
          87,
          88,
          89,
          90,
          91,
          92,
          93,
          94,
          95,
          96,
          97,
          98,
          99
         ],
         "y": [
          -0.29209677698554737,
          0.9573957896267596,
          -0.0007975772046197507,
          -0.8158976884143562,
          -1.9936338636737942,
          -1.066112859705764,
          -0.1624501274103537,
          -0.03172677523944978,
          0.4230420996426988,
          -1.5072924379640384,
          -1.0285792418506818,
          -0.4648859742555061,
          0.5488567472998651,
          -1.5509988671031387,
          -0.18731149886148526,
          -0.7307216961994965,
          0.28659201122255096,
          2.172650873228859,
          0.6037152824336763,
          -0.727575725495342,
          0.1921261607745329,
          2.0257007599249666,
          0.29878916777565295,
          -0.11662895626105096,
          0.4176466932527999,
          0.11869807879751894,
          -0.6185996268081179,
          0.5654893958419337,
          0.305655388592086,
          0.13135273742832368,
          0.12184068056708995,
          -0.5071662392557261,
          -0.568931741848525,
          0.4901084143203101,
          -0.2460586894546757,
          -0.848531489622213,
          1.3630384966893647,
          -0.3474418391715347,
          -1.1246178854325561,
          0.2727742766284284,
          0.9858324741667885,
          -1.260376384177372,
          2.1995501477694517,
          -1.1862990063877248,
          -1.27720070099572,
          -0.1394136561501857,
          -1.5767204417253653,
          -0.04261634006372652,
          -0.0851414882747124,
          -0.9119035439512653,
          -0.32281930867905156,
          0.194979954818921,
          -0.11685677866976853,
          -1.8053738746846808,
          -0.014808754132441395,
          -0.6392074518606004,
          -0.8503232038190978,
          -1.0937525430983601,
          1.187030991396334,
          1.4645556128099475,
          0.4113009102746684,
          0.1798500649884786,
          -0.6724445119030096,
          0.13446213951423927,
          1.3679920722622896,
          1.1313820175998472,
          0.46880252769541614,
          -0.39789401001271074,
          0.38433474242590737,
          -0.46326651134413627,
          0.33327001249620947,
          -0.09753287150325765,
          2.344702589914879,
          -0.9140280632719038,
          -1.4177177422630272,
          0.03634479751321479,
          -1.692481484675992,
          0.9512640830307857,
          0.19137848466118784,
          -1.1004124257636585,
          0.7043635574043291,
          -0.09092904401842151,
          1.5059008971891839,
          0.5973458990802751,
          0.34603516962923475,
          -1.812425632066957,
          -0.5333194244555364,
          -0.8625662806115877,
          -0.1353587151319946,
          -0.42633306707360935,
          0.3816695380113307,
          0.89874110435248,
          0.3626000974090412,
          -0.34626845050310656,
          1.8354956959106006,
          -0.1633850685970794,
          0.18564892606709904,
          0.3812582914116791,
          -0.9656308255591639,
          -0.011778101035519862
         ]
        }
       ],
       "layout": {
        "legend": {
         "bgcolor": "#F5F6F9",
         "font": {
          "color": "#4D5663"
         }
        },
        "paper_bgcolor": "#F5F6F9",
        "plot_bgcolor": "#F5F6F9",
        "template": {
         "data": {
          "bar": [
           {
            "error_x": {
             "color": "#2a3f5f"
            },
            "error_y": {
             "color": "#2a3f5f"
            },
            "marker": {
             "line": {
              "color": "#E5ECF6",
              "width": 0.5
             }
            },
            "type": "bar"
           }
          ],
          "barpolar": [
           {
            "marker": {
             "line": {
              "color": "#E5ECF6",
              "width": 0.5
             }
            },
            "type": "barpolar"
           }
          ],
          "carpet": [
           {
            "aaxis": {
             "endlinecolor": "#2a3f5f",
             "gridcolor": "white",
             "linecolor": "white",
             "minorgridcolor": "white",
             "startlinecolor": "#2a3f5f"
            },
            "baxis": {
             "endlinecolor": "#2a3f5f",
             "gridcolor": "white",
             "linecolor": "white",
             "minorgridcolor": "white",
             "startlinecolor": "#2a3f5f"
            },
            "type": "carpet"
           }
          ],
          "choropleth": [
           {
            "colorbar": {
             "outlinewidth": 0,
             "ticks": ""
            },
            "type": "choropleth"
           }
          ],
          "contour": [
           {
            "colorbar": {
             "outlinewidth": 0,
             "ticks": ""
            },
            "colorscale": [
             [
              0,
              "#0d0887"
             ],
             [
              0.1111111111111111,
              "#46039f"
             ],
             [
              0.2222222222222222,
              "#7201a8"
             ],
             [
              0.3333333333333333,
              "#9c179e"
             ],
             [
              0.4444444444444444,
              "#bd3786"
             ],
             [
              0.5555555555555556,
              "#d8576b"
             ],
             [
              0.6666666666666666,
              "#ed7953"
             ],
             [
              0.7777777777777778,
              "#fb9f3a"
             ],
             [
              0.8888888888888888,
              "#fdca26"
             ],
             [
              1,
              "#f0f921"
             ]
            ],
            "type": "contour"
           }
          ],
          "contourcarpet": [
           {
            "colorbar": {
             "outlinewidth": 0,
             "ticks": ""
            },
            "type": "contourcarpet"
           }
          ],
          "heatmap": [
           {
            "colorbar": {
             "outlinewidth": 0,
             "ticks": ""
            },
            "colorscale": [
             [
              0,
              "#0d0887"
             ],
             [
              0.1111111111111111,
              "#46039f"
             ],
             [
              0.2222222222222222,
              "#7201a8"
             ],
             [
              0.3333333333333333,
              "#9c179e"
             ],
             [
              0.4444444444444444,
              "#bd3786"
             ],
             [
              0.5555555555555556,
              "#d8576b"
             ],
             [
              0.6666666666666666,
              "#ed7953"
             ],
             [
              0.7777777777777778,
              "#fb9f3a"
             ],
             [
              0.8888888888888888,
              "#fdca26"
             ],
             [
              1,
              "#f0f921"
             ]
            ],
            "type": "heatmap"
           }
          ],
          "heatmapgl": [
           {
            "colorbar": {
             "outlinewidth": 0,
             "ticks": ""
            },
            "colorscale": [
             [
              0,
              "#0d0887"
             ],
             [
              0.1111111111111111,
              "#46039f"
             ],
             [
              0.2222222222222222,
              "#7201a8"
             ],
             [
              0.3333333333333333,
              "#9c179e"
             ],
             [
              0.4444444444444444,
              "#bd3786"
             ],
             [
              0.5555555555555556,
              "#d8576b"
             ],
             [
              0.6666666666666666,
              "#ed7953"
             ],
             [
              0.7777777777777778,
              "#fb9f3a"
             ],
             [
              0.8888888888888888,
              "#fdca26"
             ],
             [
              1,
              "#f0f921"
             ]
            ],
            "type": "heatmapgl"
           }
          ],
          "histogram": [
           {
            "marker": {
             "colorbar": {
              "outlinewidth": 0,
              "ticks": ""
             }
            },
            "type": "histogram"
           }
          ],
          "histogram2d": [
           {
            "colorbar": {
             "outlinewidth": 0,
             "ticks": ""
            },
            "colorscale": [
             [
              0,
              "#0d0887"
             ],
             [
              0.1111111111111111,
              "#46039f"
             ],
             [
              0.2222222222222222,
              "#7201a8"
             ],
             [
              0.3333333333333333,
              "#9c179e"
             ],
             [
              0.4444444444444444,
              "#bd3786"
             ],
             [
              0.5555555555555556,
              "#d8576b"
             ],
             [
              0.6666666666666666,
              "#ed7953"
             ],
             [
              0.7777777777777778,
              "#fb9f3a"
             ],
             [
              0.8888888888888888,
              "#fdca26"
             ],
             [
              1,
              "#f0f921"
             ]
            ],
            "type": "histogram2d"
           }
          ],
          "histogram2dcontour": [
           {
            "colorbar": {
             "outlinewidth": 0,
             "ticks": ""
            },
            "colorscale": [
             [
              0,
              "#0d0887"
             ],
             [
              0.1111111111111111,
              "#46039f"
             ],
             [
              0.2222222222222222,
              "#7201a8"
             ],
             [
              0.3333333333333333,
              "#9c179e"
             ],
             [
              0.4444444444444444,
              "#bd3786"
             ],
             [
              0.5555555555555556,
              "#d8576b"
             ],
             [
              0.6666666666666666,
              "#ed7953"
             ],
             [
              0.7777777777777778,
              "#fb9f3a"
             ],
             [
              0.8888888888888888,
              "#fdca26"
             ],
             [
              1,
              "#f0f921"
             ]
            ],
            "type": "histogram2dcontour"
           }
          ],
          "mesh3d": [
           {
            "colorbar": {
             "outlinewidth": 0,
             "ticks": ""
            },
            "type": "mesh3d"
           }
          ],
          "parcoords": [
           {
            "line": {
             "colorbar": {
              "outlinewidth": 0,
              "ticks": ""
             }
            },
            "type": "parcoords"
           }
          ],
          "pie": [
           {
            "automargin": true,
            "type": "pie"
           }
          ],
          "scatter": [
           {
            "marker": {
             "colorbar": {
              "outlinewidth": 0,
              "ticks": ""
             }
            },
            "type": "scatter"
           }
          ],
          "scatter3d": [
           {
            "line": {
             "colorbar": {
              "outlinewidth": 0,
              "ticks": ""
             }
            },
            "marker": {
             "colorbar": {
              "outlinewidth": 0,
              "ticks": ""
             }
            },
            "type": "scatter3d"
           }
          ],
          "scattercarpet": [
           {
            "marker": {
             "colorbar": {
              "outlinewidth": 0,
              "ticks": ""
             }
            },
            "type": "scattercarpet"
           }
          ],
          "scattergeo": [
           {
            "marker": {
             "colorbar": {
              "outlinewidth": 0,
              "ticks": ""
             }
            },
            "type": "scattergeo"
           }
          ],
          "scattergl": [
           {
            "marker": {
             "colorbar": {
              "outlinewidth": 0,
              "ticks": ""
             }
            },
            "type": "scattergl"
           }
          ],
          "scattermapbox": [
           {
            "marker": {
             "colorbar": {
              "outlinewidth": 0,
              "ticks": ""
             }
            },
            "type": "scattermapbox"
           }
          ],
          "scatterpolar": [
           {
            "marker": {
             "colorbar": {
              "outlinewidth": 0,
              "ticks": ""
             }
            },
            "type": "scatterpolar"
           }
          ],
          "scatterpolargl": [
           {
            "marker": {
             "colorbar": {
              "outlinewidth": 0,
              "ticks": ""
             }
            },
            "type": "scatterpolargl"
           }
          ],
          "scatterternary": [
           {
            "marker": {
             "colorbar": {
              "outlinewidth": 0,
              "ticks": ""
             }
            },
            "type": "scatterternary"
           }
          ],
          "surface": [
           {
            "colorbar": {
             "outlinewidth": 0,
             "ticks": ""
            },
            "colorscale": [
             [
              0,
              "#0d0887"
             ],
             [
              0.1111111111111111,
              "#46039f"
             ],
             [
              0.2222222222222222,
              "#7201a8"
             ],
             [
              0.3333333333333333,
              "#9c179e"
             ],
             [
              0.4444444444444444,
              "#bd3786"
             ],
             [
              0.5555555555555556,
              "#d8576b"
             ],
             [
              0.6666666666666666,
              "#ed7953"
             ],
             [
              0.7777777777777778,
              "#fb9f3a"
             ],
             [
              0.8888888888888888,
              "#fdca26"
             ],
             [
              1,
              "#f0f921"
             ]
            ],
            "type": "surface"
           }
          ],
          "table": [
           {
            "cells": {
             "fill": {
              "color": "#EBF0F8"
             },
             "line": {
              "color": "white"
             }
            },
            "header": {
             "fill": {
              "color": "#C8D4E3"
             },
             "line": {
              "color": "white"
             }
            },
            "type": "table"
           }
          ]
         },
         "layout": {
          "annotationdefaults": {
           "arrowcolor": "#2a3f5f",
           "arrowhead": 0,
           "arrowwidth": 1
          },
          "coloraxis": {
           "colorbar": {
            "outlinewidth": 0,
            "ticks": ""
           }
          },
          "colorscale": {
           "diverging": [
            [
             0,
             "#8e0152"
            ],
            [
             0.1,
             "#c51b7d"
            ],
            [
             0.2,
             "#de77ae"
            ],
            [
             0.3,
             "#f1b6da"
            ],
            [
             0.4,
             "#fde0ef"
            ],
            [
             0.5,
             "#f7f7f7"
            ],
            [
             0.6,
             "#e6f5d0"
            ],
            [
             0.7,
             "#b8e186"
            ],
            [
             0.8,
             "#7fbc41"
            ],
            [
             0.9,
             "#4d9221"
            ],
            [
             1,
             "#276419"
            ]
           ],
           "sequential": [
            [
             0,
             "#0d0887"
            ],
            [
             0.1111111111111111,
             "#46039f"
            ],
            [
             0.2222222222222222,
             "#7201a8"
            ],
            [
             0.3333333333333333,
             "#9c179e"
            ],
            [
             0.4444444444444444,
             "#bd3786"
            ],
            [
             0.5555555555555556,
             "#d8576b"
            ],
            [
             0.6666666666666666,
             "#ed7953"
            ],
            [
             0.7777777777777778,
             "#fb9f3a"
            ],
            [
             0.8888888888888888,
             "#fdca26"
            ],
            [
             1,
             "#f0f921"
            ]
           ],
           "sequentialminus": [
            [
             0,
             "#0d0887"
            ],
            [
             0.1111111111111111,
             "#46039f"
            ],
            [
             0.2222222222222222,
             "#7201a8"
            ],
            [
             0.3333333333333333,
             "#9c179e"
            ],
            [
             0.4444444444444444,
             "#bd3786"
            ],
            [
             0.5555555555555556,
             "#d8576b"
            ],
            [
             0.6666666666666666,
             "#ed7953"
            ],
            [
             0.7777777777777778,
             "#fb9f3a"
            ],
            [
             0.8888888888888888,
             "#fdca26"
            ],
            [
             1,
             "#f0f921"
            ]
           ]
          },
          "colorway": [
           "#636efa",
           "#EF553B",
           "#00cc96",
           "#ab63fa",
           "#FFA15A",
           "#19d3f3",
           "#FF6692",
           "#B6E880",
           "#FF97FF",
           "#FECB52"
          ],
          "font": {
           "color": "#2a3f5f"
          },
          "geo": {
           "bgcolor": "white",
           "lakecolor": "white",
           "landcolor": "#E5ECF6",
           "showlakes": true,
           "showland": true,
           "subunitcolor": "white"
          },
          "hoverlabel": {
           "align": "left"
          },
          "hovermode": "closest",
          "mapbox": {
           "style": "light"
          },
          "paper_bgcolor": "white",
          "plot_bgcolor": "#E5ECF6",
          "polar": {
           "angularaxis": {
            "gridcolor": "white",
            "linecolor": "white",
            "ticks": ""
           },
           "bgcolor": "#E5ECF6",
           "radialaxis": {
            "gridcolor": "white",
            "linecolor": "white",
            "ticks": ""
           }
          },
          "scene": {
           "xaxis": {
            "backgroundcolor": "#E5ECF6",
            "gridcolor": "white",
            "gridwidth": 2,
            "linecolor": "white",
            "showbackground": true,
            "ticks": "",
            "zerolinecolor": "white"
           },
           "yaxis": {
            "backgroundcolor": "#E5ECF6",
            "gridcolor": "white",
            "gridwidth": 2,
            "linecolor": "white",
            "showbackground": true,
            "ticks": "",
            "zerolinecolor": "white"
           },
           "zaxis": {
            "backgroundcolor": "#E5ECF6",
            "gridcolor": "white",
            "gridwidth": 2,
            "linecolor": "white",
            "showbackground": true,
            "ticks": "",
            "zerolinecolor": "white"
           }
          },
          "shapedefaults": {
           "line": {
            "color": "#2a3f5f"
           }
          },
          "ternary": {
           "aaxis": {
            "gridcolor": "white",
            "linecolor": "white",
            "ticks": ""
           },
           "baxis": {
            "gridcolor": "white",
            "linecolor": "white",
            "ticks": ""
           },
           "bgcolor": "#E5ECF6",
           "caxis": {
            "gridcolor": "white",
            "linecolor": "white",
            "ticks": ""
           }
          },
          "title": {
           "x": 0.05
          },
          "xaxis": {
           "automargin": true,
           "gridcolor": "white",
           "linecolor": "white",
           "ticks": "",
           "title": {
            "standoff": 15
           },
           "zerolinecolor": "white",
           "zerolinewidth": 2
          },
          "yaxis": {
           "automargin": true,
           "gridcolor": "white",
           "linecolor": "white",
           "ticks": "",
           "title": {
            "standoff": 15
           },
           "zerolinecolor": "white",
           "zerolinewidth": 2
          }
         }
        },
        "title": {
         "font": {
          "color": "#4D5663"
         }
        },
        "xaxis": {
         "gridcolor": "#E1E5ED",
         "showgrid": true,
         "tickfont": {
          "color": "#4D5663"
         },
         "title": {
          "font": {
           "color": "#4D5663"
          },
          "text": ""
         },
         "zerolinecolor": "#E1E5ED"
        },
        "yaxis": {
         "gridcolor": "#E1E5ED",
         "showgrid": true,
         "tickfont": {
          "color": "#4D5663"
         },
         "title": {
          "font": {
           "color": "#4D5663"
          },
          "text": ""
         },
         "zerolinecolor": "#E1E5ED"
        }
       }
      },
      "text/html": [
       "<div>\n",
       "        \n",
       "        \n",
       "            <div id=\"d036c3b4-0601-4831-9b57-12445e116cba\" class=\"plotly-graph-div\" style=\"height:525px; width:100%;\"></div>\n",
       "            <script type=\"text/javascript\">\n",
       "                require([\"plotly\"], function(Plotly) {\n",
       "                    window.PLOTLYENV=window.PLOTLYENV || {};\n",
       "                    window.PLOTLYENV.BASE_URL='https://plot.ly';\n",
       "                    \n",
       "                if (document.getElementById(\"d036c3b4-0601-4831-9b57-12445e116cba\")) {\n",
       "                    Plotly.newPlot(\n",
       "                        'd036c3b4-0601-4831-9b57-12445e116cba',\n",
       "                        [{\"marker\": {\"color\": \"rgba(255, 153, 51, 0.6)\", \"line\": {\"color\": \"rgba(255, 153, 51, 1.0)\", \"width\": 1}}, \"name\": \"A\", \"orientation\": \"v\", \"text\": \"\", \"type\": \"bar\", \"x\": [0, 1, 2, 3, 4, 5, 6, 7, 8, 9, 10, 11, 12, 13, 14, 15, 16, 17, 18, 19, 20, 21, 22, 23, 24, 25, 26, 27, 28, 29, 30, 31, 32, 33, 34, 35, 36, 37, 38, 39, 40, 41, 42, 43, 44, 45, 46, 47, 48, 49, 50, 51, 52, 53, 54, 55, 56, 57, 58, 59, 60, 61, 62, 63, 64, 65, 66, 67, 68, 69, 70, 71, 72, 73, 74, 75, 76, 77, 78, 79, 80, 81, 82, 83, 84, 85, 86, 87, 88, 89, 90, 91, 92, 93, 94, 95, 96, 97, 98, 99], \"y\": [1.472529121625012, 1.130248943233051, -0.03482930485305292, -0.5732950541498779, 0.6679167375471895, -0.8579231829134375, 0.8094528586808082, 0.3085641347607752, 0.27377683773219197, 0.23206478359138408, 0.05238217602947687, 1.6583515353500433, 0.07790651684678294, -1.7301434691903925, -0.5641455958381295, 0.4147172412633151, -0.09849314047167301, 0.9977271515240892, 0.8786339083285464, 0.6950074047715827, 0.45710903842482575, 0.4982199907784472, 0.12903988052103624, -1.4837525556196758, 2.1559376570965503, 0.27121817416520905, -0.7920459692083268, 0.34986943200659715, -1.4244439368614608, 0.32694876044997556, 0.46860953711542114, -0.8163787512650883, 1.2187153472151357, -0.20858295937455842, -1.6419227340761469, -1.7597511712926772, -0.889500156517225, 0.7680841645055828, 0.242169122327131, 1.836311067999764, -0.3640393725187276, 0.6913544823158839, 0.5381815943734077, -1.2920024951121236, 0.32683652775332095, -1.6543868904131966, -0.07603260838364179, -1.1191319473076922, -0.06515760125541344, 2.6112740684691444, 0.189885318735173, 0.758128711401495, 1.3565878468023498, -1.6605371867714478, -0.7657077563048298, -0.3795261071180454, -1.0575887339186927, -0.21917702928905666, -0.018563285766532843, -0.31467704146234077, -0.15156994149975483, 1.3072808419825945, 0.301826271055909, 0.9387223883113914, -0.9159890914090407, 0.9972746743704269, -0.14961035018933383, 0.6936412738254416, 0.02150439010857565, -0.09685198016522274, -0.17962054484657083, 2.8387103914674565, 1.7403528975355167, 0.16910030614484756, -1.8773354305002856, 0.825977346945175, 0.8377635089652343, 0.9617236811802147, -0.6473981950616219, -1.6658039916353078, -0.2692192979839951, -2.729756849044134, -0.22782472436569362, -0.501111975287052, 0.46337026689879734, 1.0619123546213953, 1.6562427899245722, 0.062163840611550794, 0.19039780019298785, 0.026824609638366238, 0.8368352166533789, 0.29023261477188106, -0.4892908992826225, 0.4014711067047261, 0.7167889751395604, 1.2783993039707082, -0.45256841203177944, -1.104240974398623, 0.48498329755483055, 0.4547917796841871]}, {\"marker\": {\"color\": \"rgba(55, 128, 191, 0.6)\", \"line\": {\"color\": \"rgba(55, 128, 191, 1.0)\", \"width\": 1}}, \"name\": \"B\", \"orientation\": \"v\", \"text\": \"\", \"type\": \"bar\", \"x\": [0, 1, 2, 3, 4, 5, 6, 7, 8, 9, 10, 11, 12, 13, 14, 15, 16, 17, 18, 19, 20, 21, 22, 23, 24, 25, 26, 27, 28, 29, 30, 31, 32, 33, 34, 35, 36, 37, 38, 39, 40, 41, 42, 43, 44, 45, 46, 47, 48, 49, 50, 51, 52, 53, 54, 55, 56, 57, 58, 59, 60, 61, 62, 63, 64, 65, 66, 67, 68, 69, 70, 71, 72, 73, 74, 75, 76, 77, 78, 79, 80, 81, 82, 83, 84, 85, 86, 87, 88, 89, 90, 91, 92, 93, 94, 95, 96, 97, 98, 99], \"y\": [-1.4490718845084207, 0.5402426554463875, -1.3347985434813625, -0.12225119502318878, -1.30101789971426, 0.38569811159209016, 2.397904687740729, -2.3982480926388368, -0.10494367248597691, -0.2224254060893642, 0.5410029274040677, 1.2220114737266936, 0.6413367934003551, 0.4661400594131579, 1.6301263489299898, -0.045857295111949706, 0.22578578119008808, 0.26281871636509874, 0.3524366173554224, -0.25045607157728855, -0.02644007066357181, 0.8618805448064077, -1.0669884903827511, 2.202131722577417, -0.7113457060825948, -0.42921931155234017, 0.03085513090831307, 2.286357429921338, -0.2505199679788893, -2.49540664349453, -1.1157577643488887, 0.7330552833464814, -0.4614404215891602, -1.3673002928914093, -1.7600123190780688, -2.0887547843771395, -2.1859340876441404, -0.49279846658300813, -1.889275646139344, -0.5690532456828411, 0.4239373965316233, 0.6397781534640425, -0.29671425027591325, 0.6571556609166963, 1.383298672469432, 1.109761245033315, 1.4332373810414698, 0.6738019112262904, -1.1813200383895766, -1.6614202983027815, 1.2398798868361367, 0.6123687064574279, 0.0915797315637989, 0.006009505705794459, -1.0960578906870182, -1.1053797480590637, 1.0352922076995237, 0.2776270046807994, -0.09822942803128862, 1.3423627824672761, -0.4269262478860568, -0.8566216988554339, 0.4155483209694457, 0.21352323335426418, 0.9205293326670225, -2.4290809169775893, -1.097530893017326, 0.0014555989292659602, -0.4721893111402556, -2.3651682013646727, 0.9177196755689004, -2.6495518809284646, 0.018826728369795518, 0.05322287052010041, -1.1676072328548432, 0.3940104502096727, 0.3003994475771432, 1.6651594296939112, -0.671156151734517, 3.2476405756672038, -0.026105037598596365, -1.177609198277101, 0.12516726924093127, -0.517430855564586, 0.6604745556074771, -0.0018629645865976042, -1.7849289778669288, 0.18498950224768243, 1.442080076368799, 0.9472992507672473, 2.195427851378761, 0.3966786785752604, -0.5002725972891627, -1.9460828869923503, -0.3608192626215061, 1.0131320014705925, -0.7057725331167626, 0.9665220645320599, -0.042248237084285586, -0.9798386628297314]}, {\"marker\": {\"color\": \"rgba(50, 171, 96, 0.6)\", \"line\": {\"color\": \"rgba(50, 171, 96, 1.0)\", \"width\": 1}}, \"name\": \"C\", \"orientation\": \"v\", \"text\": \"\", \"type\": \"bar\", \"x\": [0, 1, 2, 3, 4, 5, 6, 7, 8, 9, 10, 11, 12, 13, 14, 15, 16, 17, 18, 19, 20, 21, 22, 23, 24, 25, 26, 27, 28, 29, 30, 31, 32, 33, 34, 35, 36, 37, 38, 39, 40, 41, 42, 43, 44, 45, 46, 47, 48, 49, 50, 51, 52, 53, 54, 55, 56, 57, 58, 59, 60, 61, 62, 63, 64, 65, 66, 67, 68, 69, 70, 71, 72, 73, 74, 75, 76, 77, 78, 79, 80, 81, 82, 83, 84, 85, 86, 87, 88, 89, 90, 91, 92, 93, 94, 95, 96, 97, 98, 99], \"y\": [0.2941477958735066, -1.2772567937568937, 0.7441189607505856, -0.07469019133525433, 0.15688826260723918, -0.3147237571105742, 0.09746151352817672, -1.4894485007346023, -0.8118109462101483, -0.08316960538668344, -3.167014284398424, 0.5384558809342364, 1.0557522069504213, 0.37150366384546263, 0.7590918824347042, 0.49357135745610187, -0.37733645380166997, 0.6364367047170686, 0.65240454392822, -0.5460605302037064, -0.2598143788964035, -1.0129067831437126, 0.24442937330633968, -1.0076829208783498, -0.5501970096805181, 0.061399346063866204, 1.179641651882113, 1.8840213768542848, -2.7297693179368894, 0.08444274726336994, -0.07866577711107688, 1.0228544923597822, -0.2717333568906527, -0.7678139093837235, 0.8002168364713665, -0.6163668196735747, -0.7840916361031486, -0.5434871478375157, 0.34616144852931713, -0.47902312536359887, -0.992535599042179, 0.2590527094808219, 1.2666923316053984, 0.7476549908657724, -1.0512553869294554, -0.14237158758117616, -1.2929307281780056, 1.5189203997919931, -0.6494858691130097, -0.5679015903851855, 0.551965962231021, -1.6539555233879015, -0.22271778130394515, 1.0386498514148697, 0.3608835982240124, 2.213346720878855, -0.9735769015751691, 0.840128631763991, 1.7556896787581586, -1.4412116307568839, 0.2196949231023285, 1.4992049801411589, -0.6611392490895978, -0.6304908747192904, 1.1533356994672497, -0.420636670400046, 1.443644516191686, 1.451438062161945, 0.483124750711282, -0.5236258108150692, 0.4404690671036626, 0.9996524509583272, -0.6130636059848118, 0.6690199413988712, 1.3263847443422256, -0.7556056623240177, 0.637862832272282, 0.38904377493049913, -1.3370612405882778, 1.1933950268610702, 0.06462007050856437, 0.5764395379058818, -0.8458357075549467, -0.5445116781543524, 0.3050900194252306, -0.2956218398366735, -1.7568210556812383, -2.624628846051485, 0.7344870558616293, 1.0497000890759491, 1.5692069955925685, -0.8839762063095732, -0.2858107813208934, 0.9699611896103433, -1.18056791878244, 0.6737419030585361, -0.6984885465871962, 1.0726235170641276, 0.5217735041662983, 1.5039611018876746]}, {\"marker\": {\"color\": \"rgba(128, 0, 128, 0.6)\", \"line\": {\"color\": \"rgba(128, 0, 128, 1.0)\", \"width\": 1}}, \"name\": \"D\", \"orientation\": \"v\", \"text\": \"\", \"type\": \"bar\", \"x\": [0, 1, 2, 3, 4, 5, 6, 7, 8, 9, 10, 11, 12, 13, 14, 15, 16, 17, 18, 19, 20, 21, 22, 23, 24, 25, 26, 27, 28, 29, 30, 31, 32, 33, 34, 35, 36, 37, 38, 39, 40, 41, 42, 43, 44, 45, 46, 47, 48, 49, 50, 51, 52, 53, 54, 55, 56, 57, 58, 59, 60, 61, 62, 63, 64, 65, 66, 67, 68, 69, 70, 71, 72, 73, 74, 75, 76, 77, 78, 79, 80, 81, 82, 83, 84, 85, 86, 87, 88, 89, 90, 91, 92, 93, 94, 95, 96, 97, 98, 99], \"y\": [-0.29209677698554737, 0.9573957896267596, -0.0007975772046197507, -0.8158976884143562, -1.9936338636737942, -1.066112859705764, -0.1624501274103537, -0.03172677523944978, 0.4230420996426988, -1.5072924379640384, -1.0285792418506818, -0.4648859742555061, 0.5488567472998651, -1.5509988671031387, -0.18731149886148526, -0.7307216961994965, 0.28659201122255096, 2.172650873228859, 0.6037152824336763, -0.727575725495342, 0.1921261607745329, 2.0257007599249666, 0.29878916777565295, -0.11662895626105096, 0.4176466932527999, 0.11869807879751894, -0.6185996268081179, 0.5654893958419337, 0.305655388592086, 0.13135273742832368, 0.12184068056708995, -0.5071662392557261, -0.568931741848525, 0.4901084143203101, -0.2460586894546757, -0.848531489622213, 1.3630384966893647, -0.3474418391715347, -1.1246178854325561, 0.2727742766284284, 0.9858324741667885, -1.260376384177372, 2.1995501477694517, -1.1862990063877248, -1.27720070099572, -0.1394136561501857, -1.5767204417253653, -0.04261634006372652, -0.0851414882747124, -0.9119035439512653, -0.32281930867905156, 0.194979954818921, -0.11685677866976853, -1.8053738746846808, -0.014808754132441395, -0.6392074518606004, -0.8503232038190978, -1.0937525430983601, 1.187030991396334, 1.4645556128099475, 0.4113009102746684, 0.1798500649884786, -0.6724445119030096, 0.13446213951423927, 1.3679920722622896, 1.1313820175998472, 0.46880252769541614, -0.39789401001271074, 0.38433474242590737, -0.46326651134413627, 0.33327001249620947, -0.09753287150325765, 2.344702589914879, -0.9140280632719038, -1.4177177422630272, 0.03634479751321479, -1.692481484675992, 0.9512640830307857, 0.19137848466118784, -1.1004124257636585, 0.7043635574043291, -0.09092904401842151, 1.5059008971891839, 0.5973458990802751, 0.34603516962923475, -1.812425632066957, -0.5333194244555364, -0.8625662806115877, -0.1353587151319946, -0.42633306707360935, 0.3816695380113307, 0.89874110435248, 0.3626000974090412, -0.34626845050310656, 1.8354956959106006, -0.1633850685970794, 0.18564892606709904, 0.3812582914116791, -0.9656308255591639, -0.011778101035519862]}],\n",
       "                        {\"legend\": {\"bgcolor\": \"#F5F6F9\", \"font\": {\"color\": \"#4D5663\"}}, \"paper_bgcolor\": \"#F5F6F9\", \"plot_bgcolor\": \"#F5F6F9\", \"template\": {\"data\": {\"bar\": [{\"error_x\": {\"color\": \"#2a3f5f\"}, \"error_y\": {\"color\": \"#2a3f5f\"}, \"marker\": {\"line\": {\"color\": \"#E5ECF6\", \"width\": 0.5}}, \"type\": \"bar\"}], \"barpolar\": [{\"marker\": {\"line\": {\"color\": \"#E5ECF6\", \"width\": 0.5}}, \"type\": \"barpolar\"}], \"carpet\": [{\"aaxis\": {\"endlinecolor\": \"#2a3f5f\", \"gridcolor\": \"white\", \"linecolor\": \"white\", \"minorgridcolor\": \"white\", \"startlinecolor\": \"#2a3f5f\"}, \"baxis\": {\"endlinecolor\": \"#2a3f5f\", \"gridcolor\": \"white\", \"linecolor\": \"white\", \"minorgridcolor\": \"white\", \"startlinecolor\": \"#2a3f5f\"}, \"type\": \"carpet\"}], \"choropleth\": [{\"colorbar\": {\"outlinewidth\": 0, \"ticks\": \"\"}, \"type\": \"choropleth\"}], \"contour\": [{\"colorbar\": {\"outlinewidth\": 0, \"ticks\": \"\"}, \"colorscale\": [[0.0, \"#0d0887\"], [0.1111111111111111, \"#46039f\"], [0.2222222222222222, \"#7201a8\"], [0.3333333333333333, \"#9c179e\"], [0.4444444444444444, \"#bd3786\"], [0.5555555555555556, \"#d8576b\"], [0.6666666666666666, \"#ed7953\"], [0.7777777777777778, \"#fb9f3a\"], [0.8888888888888888, \"#fdca26\"], [1.0, \"#f0f921\"]], \"type\": \"contour\"}], \"contourcarpet\": [{\"colorbar\": {\"outlinewidth\": 0, \"ticks\": \"\"}, \"type\": \"contourcarpet\"}], \"heatmap\": [{\"colorbar\": {\"outlinewidth\": 0, \"ticks\": \"\"}, \"colorscale\": [[0.0, \"#0d0887\"], [0.1111111111111111, \"#46039f\"], [0.2222222222222222, \"#7201a8\"], [0.3333333333333333, \"#9c179e\"], [0.4444444444444444, \"#bd3786\"], [0.5555555555555556, \"#d8576b\"], [0.6666666666666666, \"#ed7953\"], [0.7777777777777778, \"#fb9f3a\"], [0.8888888888888888, \"#fdca26\"], [1.0, \"#f0f921\"]], \"type\": \"heatmap\"}], \"heatmapgl\": [{\"colorbar\": {\"outlinewidth\": 0, \"ticks\": \"\"}, \"colorscale\": [[0.0, \"#0d0887\"], [0.1111111111111111, \"#46039f\"], [0.2222222222222222, \"#7201a8\"], [0.3333333333333333, \"#9c179e\"], [0.4444444444444444, \"#bd3786\"], [0.5555555555555556, \"#d8576b\"], [0.6666666666666666, \"#ed7953\"], [0.7777777777777778, \"#fb9f3a\"], [0.8888888888888888, \"#fdca26\"], [1.0, \"#f0f921\"]], \"type\": \"heatmapgl\"}], \"histogram\": [{\"marker\": {\"colorbar\": {\"outlinewidth\": 0, \"ticks\": \"\"}}, \"type\": \"histogram\"}], \"histogram2d\": [{\"colorbar\": {\"outlinewidth\": 0, \"ticks\": \"\"}, \"colorscale\": [[0.0, \"#0d0887\"], [0.1111111111111111, \"#46039f\"], [0.2222222222222222, \"#7201a8\"], [0.3333333333333333, \"#9c179e\"], [0.4444444444444444, \"#bd3786\"], [0.5555555555555556, \"#d8576b\"], [0.6666666666666666, \"#ed7953\"], [0.7777777777777778, \"#fb9f3a\"], [0.8888888888888888, \"#fdca26\"], [1.0, \"#f0f921\"]], \"type\": \"histogram2d\"}], \"histogram2dcontour\": [{\"colorbar\": {\"outlinewidth\": 0, \"ticks\": \"\"}, \"colorscale\": [[0.0, \"#0d0887\"], [0.1111111111111111, \"#46039f\"], [0.2222222222222222, \"#7201a8\"], [0.3333333333333333, \"#9c179e\"], [0.4444444444444444, \"#bd3786\"], [0.5555555555555556, \"#d8576b\"], [0.6666666666666666, \"#ed7953\"], [0.7777777777777778, \"#fb9f3a\"], [0.8888888888888888, \"#fdca26\"], [1.0, \"#f0f921\"]], \"type\": \"histogram2dcontour\"}], \"mesh3d\": [{\"colorbar\": {\"outlinewidth\": 0, \"ticks\": \"\"}, \"type\": \"mesh3d\"}], \"parcoords\": [{\"line\": {\"colorbar\": {\"outlinewidth\": 0, \"ticks\": \"\"}}, \"type\": \"parcoords\"}], \"pie\": [{\"automargin\": true, \"type\": \"pie\"}], \"scatter\": [{\"marker\": {\"colorbar\": {\"outlinewidth\": 0, \"ticks\": \"\"}}, \"type\": \"scatter\"}], \"scatter3d\": [{\"line\": {\"colorbar\": {\"outlinewidth\": 0, \"ticks\": \"\"}}, \"marker\": {\"colorbar\": {\"outlinewidth\": 0, \"ticks\": \"\"}}, \"type\": \"scatter3d\"}], \"scattercarpet\": [{\"marker\": {\"colorbar\": {\"outlinewidth\": 0, \"ticks\": \"\"}}, \"type\": \"scattercarpet\"}], \"scattergeo\": [{\"marker\": {\"colorbar\": {\"outlinewidth\": 0, \"ticks\": \"\"}}, \"type\": \"scattergeo\"}], \"scattergl\": [{\"marker\": {\"colorbar\": {\"outlinewidth\": 0, \"ticks\": \"\"}}, \"type\": \"scattergl\"}], \"scattermapbox\": [{\"marker\": {\"colorbar\": {\"outlinewidth\": 0, \"ticks\": \"\"}}, \"type\": \"scattermapbox\"}], \"scatterpolar\": [{\"marker\": {\"colorbar\": {\"outlinewidth\": 0, \"ticks\": \"\"}}, \"type\": \"scatterpolar\"}], \"scatterpolargl\": [{\"marker\": {\"colorbar\": {\"outlinewidth\": 0, \"ticks\": \"\"}}, \"type\": \"scatterpolargl\"}], \"scatterternary\": [{\"marker\": {\"colorbar\": {\"outlinewidth\": 0, \"ticks\": \"\"}}, \"type\": \"scatterternary\"}], \"surface\": [{\"colorbar\": {\"outlinewidth\": 0, \"ticks\": \"\"}, \"colorscale\": [[0.0, \"#0d0887\"], [0.1111111111111111, \"#46039f\"], [0.2222222222222222, \"#7201a8\"], [0.3333333333333333, \"#9c179e\"], [0.4444444444444444, \"#bd3786\"], [0.5555555555555556, \"#d8576b\"], [0.6666666666666666, \"#ed7953\"], [0.7777777777777778, \"#fb9f3a\"], [0.8888888888888888, \"#fdca26\"], [1.0, \"#f0f921\"]], \"type\": \"surface\"}], \"table\": [{\"cells\": {\"fill\": {\"color\": \"#EBF0F8\"}, \"line\": {\"color\": \"white\"}}, \"header\": {\"fill\": {\"color\": \"#C8D4E3\"}, \"line\": {\"color\": \"white\"}}, \"type\": \"table\"}]}, \"layout\": {\"annotationdefaults\": {\"arrowcolor\": \"#2a3f5f\", \"arrowhead\": 0, \"arrowwidth\": 1}, \"coloraxis\": {\"colorbar\": {\"outlinewidth\": 0, \"ticks\": \"\"}}, \"colorscale\": {\"diverging\": [[0, \"#8e0152\"], [0.1, \"#c51b7d\"], [0.2, \"#de77ae\"], [0.3, \"#f1b6da\"], [0.4, \"#fde0ef\"], [0.5, \"#f7f7f7\"], [0.6, \"#e6f5d0\"], [0.7, \"#b8e186\"], [0.8, \"#7fbc41\"], [0.9, \"#4d9221\"], [1, \"#276419\"]], \"sequential\": [[0.0, \"#0d0887\"], [0.1111111111111111, \"#46039f\"], [0.2222222222222222, \"#7201a8\"], [0.3333333333333333, \"#9c179e\"], [0.4444444444444444, \"#bd3786\"], [0.5555555555555556, \"#d8576b\"], [0.6666666666666666, \"#ed7953\"], [0.7777777777777778, \"#fb9f3a\"], [0.8888888888888888, \"#fdca26\"], [1.0, \"#f0f921\"]], \"sequentialminus\": [[0.0, \"#0d0887\"], [0.1111111111111111, \"#46039f\"], [0.2222222222222222, \"#7201a8\"], [0.3333333333333333, \"#9c179e\"], [0.4444444444444444, \"#bd3786\"], [0.5555555555555556, \"#d8576b\"], [0.6666666666666666, \"#ed7953\"], [0.7777777777777778, \"#fb9f3a\"], [0.8888888888888888, \"#fdca26\"], [1.0, \"#f0f921\"]]}, \"colorway\": [\"#636efa\", \"#EF553B\", \"#00cc96\", \"#ab63fa\", \"#FFA15A\", \"#19d3f3\", \"#FF6692\", \"#B6E880\", \"#FF97FF\", \"#FECB52\"], \"font\": {\"color\": \"#2a3f5f\"}, \"geo\": {\"bgcolor\": \"white\", \"lakecolor\": \"white\", \"landcolor\": \"#E5ECF6\", \"showlakes\": true, \"showland\": true, \"subunitcolor\": \"white\"}, \"hoverlabel\": {\"align\": \"left\"}, \"hovermode\": \"closest\", \"mapbox\": {\"style\": \"light\"}, \"paper_bgcolor\": \"white\", \"plot_bgcolor\": \"#E5ECF6\", \"polar\": {\"angularaxis\": {\"gridcolor\": \"white\", \"linecolor\": \"white\", \"ticks\": \"\"}, \"bgcolor\": \"#E5ECF6\", \"radialaxis\": {\"gridcolor\": \"white\", \"linecolor\": \"white\", \"ticks\": \"\"}}, \"scene\": {\"xaxis\": {\"backgroundcolor\": \"#E5ECF6\", \"gridcolor\": \"white\", \"gridwidth\": 2, \"linecolor\": \"white\", \"showbackground\": true, \"ticks\": \"\", \"zerolinecolor\": \"white\"}, \"yaxis\": {\"backgroundcolor\": \"#E5ECF6\", \"gridcolor\": \"white\", \"gridwidth\": 2, \"linecolor\": \"white\", \"showbackground\": true, \"ticks\": \"\", \"zerolinecolor\": \"white\"}, \"zaxis\": {\"backgroundcolor\": \"#E5ECF6\", \"gridcolor\": \"white\", \"gridwidth\": 2, \"linecolor\": \"white\", \"showbackground\": true, \"ticks\": \"\", \"zerolinecolor\": \"white\"}}, \"shapedefaults\": {\"line\": {\"color\": \"#2a3f5f\"}}, \"ternary\": {\"aaxis\": {\"gridcolor\": \"white\", \"linecolor\": \"white\", \"ticks\": \"\"}, \"baxis\": {\"gridcolor\": \"white\", \"linecolor\": \"white\", \"ticks\": \"\"}, \"bgcolor\": \"#E5ECF6\", \"caxis\": {\"gridcolor\": \"white\", \"linecolor\": \"white\", \"ticks\": \"\"}}, \"title\": {\"x\": 0.05}, \"xaxis\": {\"automargin\": true, \"gridcolor\": \"white\", \"linecolor\": \"white\", \"ticks\": \"\", \"title\": {\"standoff\": 15}, \"zerolinecolor\": \"white\", \"zerolinewidth\": 2}, \"yaxis\": {\"automargin\": true, \"gridcolor\": \"white\", \"linecolor\": \"white\", \"ticks\": \"\", \"title\": {\"standoff\": 15}, \"zerolinecolor\": \"white\", \"zerolinewidth\": 2}}}, \"title\": {\"font\": {\"color\": \"#4D5663\"}}, \"xaxis\": {\"gridcolor\": \"#E1E5ED\", \"showgrid\": true, \"tickfont\": {\"color\": \"#4D5663\"}, \"title\": {\"font\": {\"color\": \"#4D5663\"}, \"text\": \"\"}, \"zerolinecolor\": \"#E1E5ED\"}, \"yaxis\": {\"gridcolor\": \"#E1E5ED\", \"showgrid\": true, \"tickfont\": {\"color\": \"#4D5663\"}, \"title\": {\"font\": {\"color\": \"#4D5663\"}, \"text\": \"\"}, \"zerolinecolor\": \"#E1E5ED\"}},\n",
       "                        {\"showLink\": true, \"linkText\": \"Export to plot.ly\", \"plotlyServerURL\": \"https://plot.ly\", \"responsive\": true}\n",
       "                    ).then(function(){\n",
       "                            \n",
       "var gd = document.getElementById('d036c3b4-0601-4831-9b57-12445e116cba');\n",
       "var x = new MutationObserver(function (mutations, observer) {{\n",
       "        var display = window.getComputedStyle(gd).display;\n",
       "        if (!display || display === 'none') {{\n",
       "            console.log([gd, 'removed!']);\n",
       "            Plotly.purge(gd);\n",
       "            observer.disconnect();\n",
       "        }}\n",
       "}});\n",
       "\n",
       "// Listen for the removal of the full notebook cells\n",
       "var notebookContainer = gd.closest('#notebook-container');\n",
       "if (notebookContainer) {{\n",
       "    x.observe(notebookContainer, {childList: true});\n",
       "}}\n",
       "\n",
       "// Listen for the clearing of the current output cell\n",
       "var outputEl = gd.closest('.output');\n",
       "if (outputEl) {{\n",
       "    x.observe(outputEl, {childList: true});\n",
       "}}\n",
       "\n",
       "                        })\n",
       "                };\n",
       "                });\n",
       "            </script>\n",
       "        </div>"
      ]
     },
     "metadata": {},
     "output_type": "display_data"
    }
   ],
   "source": [
    "df1.iplot(kind='bar')"
   ]
  },
  {
   "cell_type": "code",
   "execution_count": 59,
   "metadata": {},
   "outputs": [
    {
     "data": {
      "application/vnd.plotly.v1+json": {
       "config": {
        "linkText": "Export to plot.ly",
        "plotlyServerURL": "https://plot.ly",
        "showLink": true
       },
       "data": [
        {
         "marker": {
          "color": "rgba(255, 153, 51, 0.6)",
          "line": {
           "color": "rgba(255, 153, 51, 1.0)",
           "width": 1
          }
         },
         "name": "None",
         "orientation": "v",
         "text": "",
         "type": "bar",
         "x": [
          "A",
          "B",
          "C",
          "D"
         ],
         "y": [
          11.102123307045927,
          -7.9715612375185305,
          2.6349691362805068,
          -5.903077430827478
         ]
        }
       ],
       "layout": {
        "legend": {
         "bgcolor": "#F5F6F9",
         "font": {
          "color": "#4D5663"
         }
        },
        "paper_bgcolor": "#F5F6F9",
        "plot_bgcolor": "#F5F6F9",
        "template": {
         "data": {
          "bar": [
           {
            "error_x": {
             "color": "#2a3f5f"
            },
            "error_y": {
             "color": "#2a3f5f"
            },
            "marker": {
             "line": {
              "color": "#E5ECF6",
              "width": 0.5
             }
            },
            "type": "bar"
           }
          ],
          "barpolar": [
           {
            "marker": {
             "line": {
              "color": "#E5ECF6",
              "width": 0.5
             }
            },
            "type": "barpolar"
           }
          ],
          "carpet": [
           {
            "aaxis": {
             "endlinecolor": "#2a3f5f",
             "gridcolor": "white",
             "linecolor": "white",
             "minorgridcolor": "white",
             "startlinecolor": "#2a3f5f"
            },
            "baxis": {
             "endlinecolor": "#2a3f5f",
             "gridcolor": "white",
             "linecolor": "white",
             "minorgridcolor": "white",
             "startlinecolor": "#2a3f5f"
            },
            "type": "carpet"
           }
          ],
          "choropleth": [
           {
            "colorbar": {
             "outlinewidth": 0,
             "ticks": ""
            },
            "type": "choropleth"
           }
          ],
          "contour": [
           {
            "colorbar": {
             "outlinewidth": 0,
             "ticks": ""
            },
            "colorscale": [
             [
              0,
              "#0d0887"
             ],
             [
              0.1111111111111111,
              "#46039f"
             ],
             [
              0.2222222222222222,
              "#7201a8"
             ],
             [
              0.3333333333333333,
              "#9c179e"
             ],
             [
              0.4444444444444444,
              "#bd3786"
             ],
             [
              0.5555555555555556,
              "#d8576b"
             ],
             [
              0.6666666666666666,
              "#ed7953"
             ],
             [
              0.7777777777777778,
              "#fb9f3a"
             ],
             [
              0.8888888888888888,
              "#fdca26"
             ],
             [
              1,
              "#f0f921"
             ]
            ],
            "type": "contour"
           }
          ],
          "contourcarpet": [
           {
            "colorbar": {
             "outlinewidth": 0,
             "ticks": ""
            },
            "type": "contourcarpet"
           }
          ],
          "heatmap": [
           {
            "colorbar": {
             "outlinewidth": 0,
             "ticks": ""
            },
            "colorscale": [
             [
              0,
              "#0d0887"
             ],
             [
              0.1111111111111111,
              "#46039f"
             ],
             [
              0.2222222222222222,
              "#7201a8"
             ],
             [
              0.3333333333333333,
              "#9c179e"
             ],
             [
              0.4444444444444444,
              "#bd3786"
             ],
             [
              0.5555555555555556,
              "#d8576b"
             ],
             [
              0.6666666666666666,
              "#ed7953"
             ],
             [
              0.7777777777777778,
              "#fb9f3a"
             ],
             [
              0.8888888888888888,
              "#fdca26"
             ],
             [
              1,
              "#f0f921"
             ]
            ],
            "type": "heatmap"
           }
          ],
          "heatmapgl": [
           {
            "colorbar": {
             "outlinewidth": 0,
             "ticks": ""
            },
            "colorscale": [
             [
              0,
              "#0d0887"
             ],
             [
              0.1111111111111111,
              "#46039f"
             ],
             [
              0.2222222222222222,
              "#7201a8"
             ],
             [
              0.3333333333333333,
              "#9c179e"
             ],
             [
              0.4444444444444444,
              "#bd3786"
             ],
             [
              0.5555555555555556,
              "#d8576b"
             ],
             [
              0.6666666666666666,
              "#ed7953"
             ],
             [
              0.7777777777777778,
              "#fb9f3a"
             ],
             [
              0.8888888888888888,
              "#fdca26"
             ],
             [
              1,
              "#f0f921"
             ]
            ],
            "type": "heatmapgl"
           }
          ],
          "histogram": [
           {
            "marker": {
             "colorbar": {
              "outlinewidth": 0,
              "ticks": ""
             }
            },
            "type": "histogram"
           }
          ],
          "histogram2d": [
           {
            "colorbar": {
             "outlinewidth": 0,
             "ticks": ""
            },
            "colorscale": [
             [
              0,
              "#0d0887"
             ],
             [
              0.1111111111111111,
              "#46039f"
             ],
             [
              0.2222222222222222,
              "#7201a8"
             ],
             [
              0.3333333333333333,
              "#9c179e"
             ],
             [
              0.4444444444444444,
              "#bd3786"
             ],
             [
              0.5555555555555556,
              "#d8576b"
             ],
             [
              0.6666666666666666,
              "#ed7953"
             ],
             [
              0.7777777777777778,
              "#fb9f3a"
             ],
             [
              0.8888888888888888,
              "#fdca26"
             ],
             [
              1,
              "#f0f921"
             ]
            ],
            "type": "histogram2d"
           }
          ],
          "histogram2dcontour": [
           {
            "colorbar": {
             "outlinewidth": 0,
             "ticks": ""
            },
            "colorscale": [
             [
              0,
              "#0d0887"
             ],
             [
              0.1111111111111111,
              "#46039f"
             ],
             [
              0.2222222222222222,
              "#7201a8"
             ],
             [
              0.3333333333333333,
              "#9c179e"
             ],
             [
              0.4444444444444444,
              "#bd3786"
             ],
             [
              0.5555555555555556,
              "#d8576b"
             ],
             [
              0.6666666666666666,
              "#ed7953"
             ],
             [
              0.7777777777777778,
              "#fb9f3a"
             ],
             [
              0.8888888888888888,
              "#fdca26"
             ],
             [
              1,
              "#f0f921"
             ]
            ],
            "type": "histogram2dcontour"
           }
          ],
          "mesh3d": [
           {
            "colorbar": {
             "outlinewidth": 0,
             "ticks": ""
            },
            "type": "mesh3d"
           }
          ],
          "parcoords": [
           {
            "line": {
             "colorbar": {
              "outlinewidth": 0,
              "ticks": ""
             }
            },
            "type": "parcoords"
           }
          ],
          "pie": [
           {
            "automargin": true,
            "type": "pie"
           }
          ],
          "scatter": [
           {
            "marker": {
             "colorbar": {
              "outlinewidth": 0,
              "ticks": ""
             }
            },
            "type": "scatter"
           }
          ],
          "scatter3d": [
           {
            "line": {
             "colorbar": {
              "outlinewidth": 0,
              "ticks": ""
             }
            },
            "marker": {
             "colorbar": {
              "outlinewidth": 0,
              "ticks": ""
             }
            },
            "type": "scatter3d"
           }
          ],
          "scattercarpet": [
           {
            "marker": {
             "colorbar": {
              "outlinewidth": 0,
              "ticks": ""
             }
            },
            "type": "scattercarpet"
           }
          ],
          "scattergeo": [
           {
            "marker": {
             "colorbar": {
              "outlinewidth": 0,
              "ticks": ""
             }
            },
            "type": "scattergeo"
           }
          ],
          "scattergl": [
           {
            "marker": {
             "colorbar": {
              "outlinewidth": 0,
              "ticks": ""
             }
            },
            "type": "scattergl"
           }
          ],
          "scattermapbox": [
           {
            "marker": {
             "colorbar": {
              "outlinewidth": 0,
              "ticks": ""
             }
            },
            "type": "scattermapbox"
           }
          ],
          "scatterpolar": [
           {
            "marker": {
             "colorbar": {
              "outlinewidth": 0,
              "ticks": ""
             }
            },
            "type": "scatterpolar"
           }
          ],
          "scatterpolargl": [
           {
            "marker": {
             "colorbar": {
              "outlinewidth": 0,
              "ticks": ""
             }
            },
            "type": "scatterpolargl"
           }
          ],
          "scatterternary": [
           {
            "marker": {
             "colorbar": {
              "outlinewidth": 0,
              "ticks": ""
             }
            },
            "type": "scatterternary"
           }
          ],
          "surface": [
           {
            "colorbar": {
             "outlinewidth": 0,
             "ticks": ""
            },
            "colorscale": [
             [
              0,
              "#0d0887"
             ],
             [
              0.1111111111111111,
              "#46039f"
             ],
             [
              0.2222222222222222,
              "#7201a8"
             ],
             [
              0.3333333333333333,
              "#9c179e"
             ],
             [
              0.4444444444444444,
              "#bd3786"
             ],
             [
              0.5555555555555556,
              "#d8576b"
             ],
             [
              0.6666666666666666,
              "#ed7953"
             ],
             [
              0.7777777777777778,
              "#fb9f3a"
             ],
             [
              0.8888888888888888,
              "#fdca26"
             ],
             [
              1,
              "#f0f921"
             ]
            ],
            "type": "surface"
           }
          ],
          "table": [
           {
            "cells": {
             "fill": {
              "color": "#EBF0F8"
             },
             "line": {
              "color": "white"
             }
            },
            "header": {
             "fill": {
              "color": "#C8D4E3"
             },
             "line": {
              "color": "white"
             }
            },
            "type": "table"
           }
          ]
         },
         "layout": {
          "annotationdefaults": {
           "arrowcolor": "#2a3f5f",
           "arrowhead": 0,
           "arrowwidth": 1
          },
          "coloraxis": {
           "colorbar": {
            "outlinewidth": 0,
            "ticks": ""
           }
          },
          "colorscale": {
           "diverging": [
            [
             0,
             "#8e0152"
            ],
            [
             0.1,
             "#c51b7d"
            ],
            [
             0.2,
             "#de77ae"
            ],
            [
             0.3,
             "#f1b6da"
            ],
            [
             0.4,
             "#fde0ef"
            ],
            [
             0.5,
             "#f7f7f7"
            ],
            [
             0.6,
             "#e6f5d0"
            ],
            [
             0.7,
             "#b8e186"
            ],
            [
             0.8,
             "#7fbc41"
            ],
            [
             0.9,
             "#4d9221"
            ],
            [
             1,
             "#276419"
            ]
           ],
           "sequential": [
            [
             0,
             "#0d0887"
            ],
            [
             0.1111111111111111,
             "#46039f"
            ],
            [
             0.2222222222222222,
             "#7201a8"
            ],
            [
             0.3333333333333333,
             "#9c179e"
            ],
            [
             0.4444444444444444,
             "#bd3786"
            ],
            [
             0.5555555555555556,
             "#d8576b"
            ],
            [
             0.6666666666666666,
             "#ed7953"
            ],
            [
             0.7777777777777778,
             "#fb9f3a"
            ],
            [
             0.8888888888888888,
             "#fdca26"
            ],
            [
             1,
             "#f0f921"
            ]
           ],
           "sequentialminus": [
            [
             0,
             "#0d0887"
            ],
            [
             0.1111111111111111,
             "#46039f"
            ],
            [
             0.2222222222222222,
             "#7201a8"
            ],
            [
             0.3333333333333333,
             "#9c179e"
            ],
            [
             0.4444444444444444,
             "#bd3786"
            ],
            [
             0.5555555555555556,
             "#d8576b"
            ],
            [
             0.6666666666666666,
             "#ed7953"
            ],
            [
             0.7777777777777778,
             "#fb9f3a"
            ],
            [
             0.8888888888888888,
             "#fdca26"
            ],
            [
             1,
             "#f0f921"
            ]
           ]
          },
          "colorway": [
           "#636efa",
           "#EF553B",
           "#00cc96",
           "#ab63fa",
           "#FFA15A",
           "#19d3f3",
           "#FF6692",
           "#B6E880",
           "#FF97FF",
           "#FECB52"
          ],
          "font": {
           "color": "#2a3f5f"
          },
          "geo": {
           "bgcolor": "white",
           "lakecolor": "white",
           "landcolor": "#E5ECF6",
           "showlakes": true,
           "showland": true,
           "subunitcolor": "white"
          },
          "hoverlabel": {
           "align": "left"
          },
          "hovermode": "closest",
          "mapbox": {
           "style": "light"
          },
          "paper_bgcolor": "white",
          "plot_bgcolor": "#E5ECF6",
          "polar": {
           "angularaxis": {
            "gridcolor": "white",
            "linecolor": "white",
            "ticks": ""
           },
           "bgcolor": "#E5ECF6",
           "radialaxis": {
            "gridcolor": "white",
            "linecolor": "white",
            "ticks": ""
           }
          },
          "scene": {
           "xaxis": {
            "backgroundcolor": "#E5ECF6",
            "gridcolor": "white",
            "gridwidth": 2,
            "linecolor": "white",
            "showbackground": true,
            "ticks": "",
            "zerolinecolor": "white"
           },
           "yaxis": {
            "backgroundcolor": "#E5ECF6",
            "gridcolor": "white",
            "gridwidth": 2,
            "linecolor": "white",
            "showbackground": true,
            "ticks": "",
            "zerolinecolor": "white"
           },
           "zaxis": {
            "backgroundcolor": "#E5ECF6",
            "gridcolor": "white",
            "gridwidth": 2,
            "linecolor": "white",
            "showbackground": true,
            "ticks": "",
            "zerolinecolor": "white"
           }
          },
          "shapedefaults": {
           "line": {
            "color": "#2a3f5f"
           }
          },
          "ternary": {
           "aaxis": {
            "gridcolor": "white",
            "linecolor": "white",
            "ticks": ""
           },
           "baxis": {
            "gridcolor": "white",
            "linecolor": "white",
            "ticks": ""
           },
           "bgcolor": "#E5ECF6",
           "caxis": {
            "gridcolor": "white",
            "linecolor": "white",
            "ticks": ""
           }
          },
          "title": {
           "x": 0.05
          },
          "xaxis": {
           "automargin": true,
           "gridcolor": "white",
           "linecolor": "white",
           "ticks": "",
           "title": {
            "standoff": 15
           },
           "zerolinecolor": "white",
           "zerolinewidth": 2
          },
          "yaxis": {
           "automargin": true,
           "gridcolor": "white",
           "linecolor": "white",
           "ticks": "",
           "title": {
            "standoff": 15
           },
           "zerolinecolor": "white",
           "zerolinewidth": 2
          }
         }
        },
        "title": {
         "font": {
          "color": "#4D5663"
         }
        },
        "xaxis": {
         "gridcolor": "#E1E5ED",
         "showgrid": true,
         "tickfont": {
          "color": "#4D5663"
         },
         "title": {
          "font": {
           "color": "#4D5663"
          },
          "text": ""
         },
         "zerolinecolor": "#E1E5ED"
        },
        "yaxis": {
         "gridcolor": "#E1E5ED",
         "showgrid": true,
         "tickfont": {
          "color": "#4D5663"
         },
         "title": {
          "font": {
           "color": "#4D5663"
          },
          "text": ""
         },
         "zerolinecolor": "#E1E5ED"
        }
       }
      },
      "text/html": [
       "<div>\n",
       "        \n",
       "        \n",
       "            <div id=\"dd11ec5a-c866-4f63-8e85-868c1acb7871\" class=\"plotly-graph-div\" style=\"height:525px; width:100%;\"></div>\n",
       "            <script type=\"text/javascript\">\n",
       "                require([\"plotly\"], function(Plotly) {\n",
       "                    window.PLOTLYENV=window.PLOTLYENV || {};\n",
       "                    window.PLOTLYENV.BASE_URL='https://plot.ly';\n",
       "                    \n",
       "                if (document.getElementById(\"dd11ec5a-c866-4f63-8e85-868c1acb7871\")) {\n",
       "                    Plotly.newPlot(\n",
       "                        'dd11ec5a-c866-4f63-8e85-868c1acb7871',\n",
       "                        [{\"marker\": {\"color\": \"rgba(255, 153, 51, 0.6)\", \"line\": {\"color\": \"rgba(255, 153, 51, 1.0)\", \"width\": 1}}, \"name\": \"None\", \"orientation\": \"v\", \"text\": \"\", \"type\": \"bar\", \"x\": [\"A\", \"B\", \"C\", \"D\"], \"y\": [11.102123307045927, -7.9715612375185305, 2.6349691362805068, -5.903077430827478]}],\n",
       "                        {\"legend\": {\"bgcolor\": \"#F5F6F9\", \"font\": {\"color\": \"#4D5663\"}}, \"paper_bgcolor\": \"#F5F6F9\", \"plot_bgcolor\": \"#F5F6F9\", \"template\": {\"data\": {\"bar\": [{\"error_x\": {\"color\": \"#2a3f5f\"}, \"error_y\": {\"color\": \"#2a3f5f\"}, \"marker\": {\"line\": {\"color\": \"#E5ECF6\", \"width\": 0.5}}, \"type\": \"bar\"}], \"barpolar\": [{\"marker\": {\"line\": {\"color\": \"#E5ECF6\", \"width\": 0.5}}, \"type\": \"barpolar\"}], \"carpet\": [{\"aaxis\": {\"endlinecolor\": \"#2a3f5f\", \"gridcolor\": \"white\", \"linecolor\": \"white\", \"minorgridcolor\": \"white\", \"startlinecolor\": \"#2a3f5f\"}, \"baxis\": {\"endlinecolor\": \"#2a3f5f\", \"gridcolor\": \"white\", \"linecolor\": \"white\", \"minorgridcolor\": \"white\", \"startlinecolor\": \"#2a3f5f\"}, \"type\": \"carpet\"}], \"choropleth\": [{\"colorbar\": {\"outlinewidth\": 0, \"ticks\": \"\"}, \"type\": \"choropleth\"}], \"contour\": [{\"colorbar\": {\"outlinewidth\": 0, \"ticks\": \"\"}, \"colorscale\": [[0.0, \"#0d0887\"], [0.1111111111111111, \"#46039f\"], [0.2222222222222222, \"#7201a8\"], [0.3333333333333333, \"#9c179e\"], [0.4444444444444444, \"#bd3786\"], [0.5555555555555556, \"#d8576b\"], [0.6666666666666666, \"#ed7953\"], [0.7777777777777778, \"#fb9f3a\"], [0.8888888888888888, \"#fdca26\"], [1.0, \"#f0f921\"]], \"type\": \"contour\"}], \"contourcarpet\": [{\"colorbar\": {\"outlinewidth\": 0, \"ticks\": \"\"}, \"type\": \"contourcarpet\"}], \"heatmap\": [{\"colorbar\": {\"outlinewidth\": 0, \"ticks\": \"\"}, \"colorscale\": [[0.0, \"#0d0887\"], [0.1111111111111111, \"#46039f\"], [0.2222222222222222, \"#7201a8\"], [0.3333333333333333, \"#9c179e\"], [0.4444444444444444, \"#bd3786\"], [0.5555555555555556, \"#d8576b\"], [0.6666666666666666, \"#ed7953\"], [0.7777777777777778, \"#fb9f3a\"], [0.8888888888888888, \"#fdca26\"], [1.0, \"#f0f921\"]], \"type\": \"heatmap\"}], \"heatmapgl\": [{\"colorbar\": {\"outlinewidth\": 0, \"ticks\": \"\"}, \"colorscale\": [[0.0, \"#0d0887\"], [0.1111111111111111, \"#46039f\"], [0.2222222222222222, \"#7201a8\"], [0.3333333333333333, \"#9c179e\"], [0.4444444444444444, \"#bd3786\"], [0.5555555555555556, \"#d8576b\"], [0.6666666666666666, \"#ed7953\"], [0.7777777777777778, \"#fb9f3a\"], [0.8888888888888888, \"#fdca26\"], [1.0, \"#f0f921\"]], \"type\": \"heatmapgl\"}], \"histogram\": [{\"marker\": {\"colorbar\": {\"outlinewidth\": 0, \"ticks\": \"\"}}, \"type\": \"histogram\"}], \"histogram2d\": [{\"colorbar\": {\"outlinewidth\": 0, \"ticks\": \"\"}, \"colorscale\": [[0.0, \"#0d0887\"], [0.1111111111111111, \"#46039f\"], [0.2222222222222222, \"#7201a8\"], [0.3333333333333333, \"#9c179e\"], [0.4444444444444444, \"#bd3786\"], [0.5555555555555556, \"#d8576b\"], [0.6666666666666666, \"#ed7953\"], [0.7777777777777778, \"#fb9f3a\"], [0.8888888888888888, \"#fdca26\"], [1.0, \"#f0f921\"]], \"type\": \"histogram2d\"}], \"histogram2dcontour\": [{\"colorbar\": {\"outlinewidth\": 0, \"ticks\": \"\"}, \"colorscale\": [[0.0, \"#0d0887\"], [0.1111111111111111, \"#46039f\"], [0.2222222222222222, \"#7201a8\"], [0.3333333333333333, \"#9c179e\"], [0.4444444444444444, \"#bd3786\"], [0.5555555555555556, \"#d8576b\"], [0.6666666666666666, \"#ed7953\"], [0.7777777777777778, \"#fb9f3a\"], [0.8888888888888888, \"#fdca26\"], [1.0, \"#f0f921\"]], \"type\": \"histogram2dcontour\"}], \"mesh3d\": [{\"colorbar\": {\"outlinewidth\": 0, \"ticks\": \"\"}, \"type\": \"mesh3d\"}], \"parcoords\": [{\"line\": {\"colorbar\": {\"outlinewidth\": 0, \"ticks\": \"\"}}, \"type\": \"parcoords\"}], \"pie\": [{\"automargin\": true, \"type\": \"pie\"}], \"scatter\": [{\"marker\": {\"colorbar\": {\"outlinewidth\": 0, \"ticks\": \"\"}}, \"type\": \"scatter\"}], \"scatter3d\": [{\"line\": {\"colorbar\": {\"outlinewidth\": 0, \"ticks\": \"\"}}, \"marker\": {\"colorbar\": {\"outlinewidth\": 0, \"ticks\": \"\"}}, \"type\": \"scatter3d\"}], \"scattercarpet\": [{\"marker\": {\"colorbar\": {\"outlinewidth\": 0, \"ticks\": \"\"}}, \"type\": \"scattercarpet\"}], \"scattergeo\": [{\"marker\": {\"colorbar\": {\"outlinewidth\": 0, \"ticks\": \"\"}}, \"type\": \"scattergeo\"}], \"scattergl\": [{\"marker\": {\"colorbar\": {\"outlinewidth\": 0, \"ticks\": \"\"}}, \"type\": \"scattergl\"}], \"scattermapbox\": [{\"marker\": {\"colorbar\": {\"outlinewidth\": 0, \"ticks\": \"\"}}, \"type\": \"scattermapbox\"}], \"scatterpolar\": [{\"marker\": {\"colorbar\": {\"outlinewidth\": 0, \"ticks\": \"\"}}, \"type\": \"scatterpolar\"}], \"scatterpolargl\": [{\"marker\": {\"colorbar\": {\"outlinewidth\": 0, \"ticks\": \"\"}}, \"type\": \"scatterpolargl\"}], \"scatterternary\": [{\"marker\": {\"colorbar\": {\"outlinewidth\": 0, \"ticks\": \"\"}}, \"type\": \"scatterternary\"}], \"surface\": [{\"colorbar\": {\"outlinewidth\": 0, \"ticks\": \"\"}, \"colorscale\": [[0.0, \"#0d0887\"], [0.1111111111111111, \"#46039f\"], [0.2222222222222222, \"#7201a8\"], [0.3333333333333333, \"#9c179e\"], [0.4444444444444444, \"#bd3786\"], [0.5555555555555556, \"#d8576b\"], [0.6666666666666666, \"#ed7953\"], [0.7777777777777778, \"#fb9f3a\"], [0.8888888888888888, \"#fdca26\"], [1.0, \"#f0f921\"]], \"type\": \"surface\"}], \"table\": [{\"cells\": {\"fill\": {\"color\": \"#EBF0F8\"}, \"line\": {\"color\": \"white\"}}, \"header\": {\"fill\": {\"color\": \"#C8D4E3\"}, \"line\": {\"color\": \"white\"}}, \"type\": \"table\"}]}, \"layout\": {\"annotationdefaults\": {\"arrowcolor\": \"#2a3f5f\", \"arrowhead\": 0, \"arrowwidth\": 1}, \"coloraxis\": {\"colorbar\": {\"outlinewidth\": 0, \"ticks\": \"\"}}, \"colorscale\": {\"diverging\": [[0, \"#8e0152\"], [0.1, \"#c51b7d\"], [0.2, \"#de77ae\"], [0.3, \"#f1b6da\"], [0.4, \"#fde0ef\"], [0.5, \"#f7f7f7\"], [0.6, \"#e6f5d0\"], [0.7, \"#b8e186\"], [0.8, \"#7fbc41\"], [0.9, \"#4d9221\"], [1, \"#276419\"]], \"sequential\": [[0.0, \"#0d0887\"], [0.1111111111111111, \"#46039f\"], [0.2222222222222222, \"#7201a8\"], [0.3333333333333333, \"#9c179e\"], [0.4444444444444444, \"#bd3786\"], [0.5555555555555556, \"#d8576b\"], [0.6666666666666666, \"#ed7953\"], [0.7777777777777778, \"#fb9f3a\"], [0.8888888888888888, \"#fdca26\"], [1.0, \"#f0f921\"]], \"sequentialminus\": [[0.0, \"#0d0887\"], [0.1111111111111111, \"#46039f\"], [0.2222222222222222, \"#7201a8\"], [0.3333333333333333, \"#9c179e\"], [0.4444444444444444, \"#bd3786\"], [0.5555555555555556, \"#d8576b\"], [0.6666666666666666, \"#ed7953\"], [0.7777777777777778, \"#fb9f3a\"], [0.8888888888888888, \"#fdca26\"], [1.0, \"#f0f921\"]]}, \"colorway\": [\"#636efa\", \"#EF553B\", \"#00cc96\", \"#ab63fa\", \"#FFA15A\", \"#19d3f3\", \"#FF6692\", \"#B6E880\", \"#FF97FF\", \"#FECB52\"], \"font\": {\"color\": \"#2a3f5f\"}, \"geo\": {\"bgcolor\": \"white\", \"lakecolor\": \"white\", \"landcolor\": \"#E5ECF6\", \"showlakes\": true, \"showland\": true, \"subunitcolor\": \"white\"}, \"hoverlabel\": {\"align\": \"left\"}, \"hovermode\": \"closest\", \"mapbox\": {\"style\": \"light\"}, \"paper_bgcolor\": \"white\", \"plot_bgcolor\": \"#E5ECF6\", \"polar\": {\"angularaxis\": {\"gridcolor\": \"white\", \"linecolor\": \"white\", \"ticks\": \"\"}, \"bgcolor\": \"#E5ECF6\", \"radialaxis\": {\"gridcolor\": \"white\", \"linecolor\": \"white\", \"ticks\": \"\"}}, \"scene\": {\"xaxis\": {\"backgroundcolor\": \"#E5ECF6\", \"gridcolor\": \"white\", \"gridwidth\": 2, \"linecolor\": \"white\", \"showbackground\": true, \"ticks\": \"\", \"zerolinecolor\": \"white\"}, \"yaxis\": {\"backgroundcolor\": \"#E5ECF6\", \"gridcolor\": \"white\", \"gridwidth\": 2, \"linecolor\": \"white\", \"showbackground\": true, \"ticks\": \"\", \"zerolinecolor\": \"white\"}, \"zaxis\": {\"backgroundcolor\": \"#E5ECF6\", \"gridcolor\": \"white\", \"gridwidth\": 2, \"linecolor\": \"white\", \"showbackground\": true, \"ticks\": \"\", \"zerolinecolor\": \"white\"}}, \"shapedefaults\": {\"line\": {\"color\": \"#2a3f5f\"}}, \"ternary\": {\"aaxis\": {\"gridcolor\": \"white\", \"linecolor\": \"white\", \"ticks\": \"\"}, \"baxis\": {\"gridcolor\": \"white\", \"linecolor\": \"white\", \"ticks\": \"\"}, \"bgcolor\": \"#E5ECF6\", \"caxis\": {\"gridcolor\": \"white\", \"linecolor\": \"white\", \"ticks\": \"\"}}, \"title\": {\"x\": 0.05}, \"xaxis\": {\"automargin\": true, \"gridcolor\": \"white\", \"linecolor\": \"white\", \"ticks\": \"\", \"title\": {\"standoff\": 15}, \"zerolinecolor\": \"white\", \"zerolinewidth\": 2}, \"yaxis\": {\"automargin\": true, \"gridcolor\": \"white\", \"linecolor\": \"white\", \"ticks\": \"\", \"title\": {\"standoff\": 15}, \"zerolinecolor\": \"white\", \"zerolinewidth\": 2}}}, \"title\": {\"font\": {\"color\": \"#4D5663\"}}, \"xaxis\": {\"gridcolor\": \"#E1E5ED\", \"showgrid\": true, \"tickfont\": {\"color\": \"#4D5663\"}, \"title\": {\"font\": {\"color\": \"#4D5663\"}, \"text\": \"\"}, \"zerolinecolor\": \"#E1E5ED\"}, \"yaxis\": {\"gridcolor\": \"#E1E5ED\", \"showgrid\": true, \"tickfont\": {\"color\": \"#4D5663\"}, \"title\": {\"font\": {\"color\": \"#4D5663\"}, \"text\": \"\"}, \"zerolinecolor\": \"#E1E5ED\"}},\n",
       "                        {\"showLink\": true, \"linkText\": \"Export to plot.ly\", \"plotlyServerURL\": \"https://plot.ly\", \"responsive\": true}\n",
       "                    ).then(function(){\n",
       "                            \n",
       "var gd = document.getElementById('dd11ec5a-c866-4f63-8e85-868c1acb7871');\n",
       "var x = new MutationObserver(function (mutations, observer) {{\n",
       "        var display = window.getComputedStyle(gd).display;\n",
       "        if (!display || display === 'none') {{\n",
       "            console.log([gd, 'removed!']);\n",
       "            Plotly.purge(gd);\n",
       "            observer.disconnect();\n",
       "        }}\n",
       "}});\n",
       "\n",
       "// Listen for the removal of the full notebook cells\n",
       "var notebookContainer = gd.closest('#notebook-container');\n",
       "if (notebookContainer) {{\n",
       "    x.observe(notebookContainer, {childList: true});\n",
       "}}\n",
       "\n",
       "// Listen for the clearing of the current output cell\n",
       "var outputEl = gd.closest('.output');\n",
       "if (outputEl) {{\n",
       "    x.observe(outputEl, {childList: true});\n",
       "}}\n",
       "\n",
       "                        })\n",
       "                };\n",
       "                });\n",
       "            </script>\n",
       "        </div>"
      ]
     },
     "metadata": {},
     "output_type": "display_data"
    }
   ],
   "source": [
    "df1.sum().iplot(kind='bar')"
   ]
  },
  {
   "cell_type": "code",
   "execution_count": 60,
   "metadata": {},
   "outputs": [
    {
     "data": {
      "application/vnd.plotly.v1+json": {
       "config": {
        "linkText": "Export to plot.ly",
        "plotlyServerURL": "https://plot.ly",
        "showLink": true
       },
       "data": [
        {
         "boxpoints": false,
         "line": {
          "width": 1.3
         },
         "marker": {
          "color": "rgba(255, 153, 51, 1.0)"
         },
         "name": "A",
         "orientation": "v",
         "type": "box",
         "y": [
          -0.5160893132420591,
          0.36977198935695393,
          -0.6376530691724629,
          0.7044135024122548,
          -1.1034524796225154,
          0.18995613604102796,
          1.0717395131931318,
          -1.1566232110185277,
          0.2556698499063951,
          0.5725995974595516,
          -0.36381883858858116,
          1.0103077817703432,
          1.476189693036634,
          -0.5748720896488182,
          -0.2215621934905954,
          -1.07820378595533,
          0.11377440007673718,
          -0.21710303674269152,
          1.741337878579764,
          -1.581788230197421,
          0.3408540077117913,
          0.06468467098202953,
          -0.08958541958578416,
          -1.0976825062982054,
          0.20587012230384977,
          0.15526210176672633,
          -1.4710172507266472,
          -1.5898496382747582,
          1.933842648453371,
          1.3434021909533982,
          -1.1521091041379217,
          0.4419615696660577,
          -0.16628800682196257,
          -1.4480584864258539,
          0.3123710794716179,
          -0.52394678356154,
          -0.441630283342012,
          0.9452090149897328,
          -1.2064242590616512,
          1.1817294448147204,
          0.33122354886341154,
          -1.6262334908065013,
          -0.8389948237700519,
          1.031431848359973,
          1.2031977015556656,
          0.18550822410689938,
          -1.175243952995447,
          -0.6584166787766687,
          0.9887952073970762,
          0.21156316886778626,
          0.2573308942094357,
          1.0822115201377114,
          0.0893732644979548,
          -0.5664590218906942,
          -1.6638718228029925,
          -1.2917239916142056,
          0.2929735459136377,
          2.5478516788504653,
          0.5037298828464585,
          -0.30616463748656453,
          0.22976770170748828,
          -1.6430115398381078,
          0.3782966808445278,
          -0.6707144055727559,
          0.9662254536100778,
          0.05403658594513106,
          1.6963707263809569,
          -0.27137490608059545,
          2.0744991017355194,
          0.4924299961297372,
          1.3781820121299793,
          -0.48366849539538426,
          -1.7087393101924184,
          -0.485364483723951,
          -0.23435836832249668,
          0.2905414892465712,
          0.7161490897993718,
          -1.2102095389991587,
          -1.9790457068431644,
          -0.3062877098370745,
          -1.5736209553674065,
          -0.2370271325390344,
          -1.750204964521023,
          1.0059491828068852,
          -0.7688308794485004,
          -1.063682547612927,
          -0.17069113902811184,
          2.842214926335593,
          0.3460617492715024,
          -0.6364441697277597,
          1.091925228098203,
          0.5369717265743313,
          -1.4397140669293151,
          1.1309675075453305,
          0.20621529416792664,
          -1.343819528847644,
          -1.5133197759626105,
          -0.22642951661224134,
          -1.2650842530126634,
          0.6603795222805372
         ]
        },
        {
         "boxpoints": false,
         "line": {
          "width": 1.3
         },
         "marker": {
          "color": "rgba(55, 128, 191, 1.0)"
         },
         "name": "B",
         "orientation": "v",
         "type": "box",
         "y": [
          -0.4830398773165511,
          1.2408811625268137,
          0.35530306722702254,
          -1.3102028346656933,
          0.9040202858708412,
          -0.2513789085826711,
          1.0617367873785306,
          0.24040970267410283,
          0.827258916418403,
          1.9976499284971543,
          0.3137952421614047,
          -1.0432083076324876,
          -0.292705909934658,
          0.729655968186065,
          0.3200609000624027,
          0.10861925178958326,
          -0.9615508927232922,
          -0.9412335616344917,
          -0.38492043027423195,
          -0.15540031244231772,
          -1.4203836484554058,
          -1.9499836347747668,
          0.5780627164204831,
          -0.27688033160590975,
          0.6231901699429303,
          0.07282580554383271,
          -1.5664406555916939,
          0.19284932685719997,
          -1.2346770993468668,
          0.5547972272950802,
          -0.054526653474334406,
          0.40306859970845954,
          -1.764266154643761,
          -1.7167434892062916,
          1.396501337951955,
          -0.5891546375959679,
          -0.9400859853208022,
          -1.0951725544195938,
          -0.1451749974209162,
          0.6510147700211207,
          0.8695826195519815,
          0.21227681655430053,
          -1.00063014199676,
          0.8463286192775679,
          -1.257467598158746,
          0.08542665525475628,
          -1.0614606233725465,
          -0.20102845884704343,
          0.6608800537318047,
          1.5744309963631247,
          -0.3926634023799547,
          0.1685080497220934,
          0.8997902536174733,
          1.8906953239859532,
          -1.610348449562404,
          0.7199856916604425,
          0.762291672726165,
          -0.3374305801061693,
          -0.35411774905218735,
          -0.738177506851164,
          0.8205055534126645,
          -0.4730687265559447,
          1.4154248967549288,
          0.3853470037735814,
          -0.07311205894815102,
          1.992048587260967,
          -0.8096304208333129,
          1.4539187210384725,
          -0.3461594054538799,
          0.5635285262483997,
          0.6793775822531479,
          -0.28478963274363117,
          0.13762039067999338,
          -0.48589524156264796,
          0.2853300886202101,
          0.3134625340586329,
          -0.3459729648201667,
          0.469202684773011,
          -0.3116713747630819,
          -2.423447231628767,
          1.0044667674654812,
          1.5862055534815358,
          1.8575910070321242,
          0.3362284436156032,
          0.7325614247944798,
          -0.4677723508415738,
          0.27622986839544966,
          -0.1399069058961382,
          -0.6845228467429334,
          0.6999198420486332,
          -0.1651068930756629,
          0.9206199046424066,
          -1.2727579433040814,
          0.8914926995078791,
          -0.18333885923645754,
          0.15916393986291397,
          1.2985410347134188,
          -0.004254649023660233,
          0.6777775188939851,
          1.5663705543478634
         ]
        },
        {
         "boxpoints": false,
         "line": {
          "width": 1.3
         },
         "marker": {
          "color": "rgba(50, 171, 96, 1.0)"
         },
         "name": "C",
         "orientation": "v",
         "type": "box",
         "y": [
          0.0703141324180888,
          0.19005327478225545,
          0.7649152475363103,
          -0.45309776746017344,
          -2.3130922133736926,
          -0.24924756094441433,
          0.9939519714917544,
          1.0575125802824477,
          0.12912244531204717,
          0.6999879927297802,
          0.4254820586200097,
          0.6981980316347339,
          0.11740602491989446,
          0.9731039636958272,
          -1.0436267763074434,
          -1.8981729597515913,
          -0.2696704387643337,
          0.4404055174883337,
          -1.117003666341638,
          0.5248833491633296,
          1.55556975307788,
          0.3936419526722713,
          -1.1777780511831497,
          1.1372304291134896,
          0.42134392948915944,
          -0.3536796528378712,
          0.38645862476696297,
          0.4397330049493053,
          -0.5995583899765853,
          -3.088345635250436,
          -0.9953389341451572,
          -0.005210210023018772,
          0.4778800031460717,
          1.1400928822036536,
          -0.1580049501234492,
          1.3318921436151425,
          1.3722244068763931,
          -0.32912845471031105,
          0.9678219721600827,
          -0.5701676386922008,
          0.054913066976204246,
          1.0921054696184405,
          0.6650589201757625,
          -0.14045940512837343,
          0.26210862678882774,
          0.05680341897187978,
          -0.29950267525706964,
          -0.04359922378679352,
          0.7038723155190757,
          1.9910614401137257,
          -0.910129261437662,
          -1.558375152522652,
          -1.0573827716552158,
          2.350659609622257,
          -1.4066522685836824,
          -0.03374132920888797,
          -0.19979757757692243,
          0.1928378987841862,
          -0.9499076149876359,
          1.7483319430050939,
          1.187124868245697,
          1.1271259258282722,
          -0.39338797358165134,
          -1.0745371604800322,
          0.36081935620461,
          0.5060996405249988,
          -1.1224468515818866,
          1.0842941612827242,
          -0.1167295271530598,
          -0.692678866523593,
          0.10264394233872143,
          0.9709267299052492,
          0.8605488206204148,
          2.0740709792618746,
          0.19948009011270007,
          -0.3358906300506767,
          -1.0314042038446474,
          -1.2141588203451976,
          1.3324005510665444,
          -0.42322673167020547,
          -0.44303737973544377,
          -2.004972369184354,
          -0.6555654338432041,
          -0.48861654429665974,
          -0.2273598718459681,
          0.7871420493420291,
          -0.014503971103790883,
          -1.3396536822925662,
          -0.7030440866204853,
          -0.2754524097904853,
          -0.41258157125870626,
          -1.282353355480065,
          -0.4813534276173748,
          -0.22732655646841496,
          -2.808855475299883,
          0.7498106335470845,
          0.4013557215463391,
          0.09968818779256483,
          -2.5219142986963234,
          -0.4271328087332994
         ]
        },
        {
         "boxpoints": false,
         "line": {
          "width": 1.3
         },
         "marker": {
          "color": "rgba(128, 0, 128, 1.0)"
         },
         "name": "D",
         "orientation": "v",
         "type": "box",
         "y": [
          -0.3232727162453101,
          -1.3023721208298846,
          -0.1938009883089016,
          -0.7383174959684993,
          -0.770457584147139,
          0.13188525114621988,
          -0.2349105376257551,
          -0.0996827444359189,
          1.5905108456958972,
          2.1244487987894356,
          -0.47122777014599804,
          0.5305699195417404,
          -0.5498968011854257,
          0.8395078996520113,
          0.8762266498539656,
          1.2141997616472122,
          -0.6905873098173497,
          -0.38216090156580546,
          -1.6172347029181287,
          1.436675933157114,
          1.0517712898634834,
          -0.3475537796923249,
          -1.4527976585035411,
          -1.2502530386311088,
          -1.6877866355005726,
          -0.2630199139070672,
          -1.811598251955438,
          -0.3479529540421139,
          0.9512461288837505,
          0.7765383001836241,
          -0.344785478551625,
          2.072371033293312,
          1.112815184404361,
          -0.7641262745353539,
          0.7359594137808237,
          -0.18834231269548704,
          -0.5847629933254259,
          -0.9825632134561301,
          -1.5354461856792831,
          -1.5145174705524813,
          -1.2788673644631579,
          -1.2653660159996927,
          -0.12750843076115762,
          0.5230941727424244,
          -0.23282676225496532,
          -2.170806998342702,
          -1.6426438365963276,
          1.207331996891165,
          -0.7384803926321096,
          -0.11152632842392744,
          1.2149929194368743,
          -0.07485161307949105,
          -0.057807944518392856,
          0.4882521156951452,
          0.20664760015992298,
          -1.2596730275223156,
          -0.9382453627643943,
          0.5521671648716139,
          1.3342221137434727,
          0.2328012829778107,
          -0.04246213689140533,
          -0.5010617422783828,
          0.851327216782451,
          -0.09189348669883422,
          -0.3643395496116214,
          2.2611823257355463,
          0.0020022193917626453,
          1.284762362141067,
          0.1488754095281349,
          0.3512690949866529,
          0.680987833270552,
          -0.3841178174570263,
          -1.051357478823983,
          -0.7924100727914859,
          0.7791923188769143,
          1.6700776446426255,
          0.5468401311826265,
          0.2586508910241558,
          1.6508381862307775,
          -1.2826412134117242,
          -0.44182143180692623,
          0.882374371157325,
          1.8955919136281647,
          0.2620199851072596,
          -1.4650408201122578,
          0.3675554848580161,
          -0.402798118732842,
          -0.3169340756413098,
          1.5282094639145292,
          -1.603676683810156,
          0.6469391573191937,
          -0.32934298178626603,
          0.7190761584371452,
          -0.9633785446144824,
          -0.7133514660454723,
          -1.3568416818040172,
          0.8477194784856378,
          -0.2305236426357522,
          -0.6576122213303243,
          0.024364686856488835
         ]
        }
       ],
       "layout": {
        "legend": {
         "bgcolor": "#F5F6F9",
         "font": {
          "color": "#4D5663"
         }
        },
        "paper_bgcolor": "#F5F6F9",
        "plot_bgcolor": "#F5F6F9",
        "template": {
         "data": {
          "bar": [
           {
            "error_x": {
             "color": "#2a3f5f"
            },
            "error_y": {
             "color": "#2a3f5f"
            },
            "marker": {
             "line": {
              "color": "#E5ECF6",
              "width": 0.5
             }
            },
            "type": "bar"
           }
          ],
          "barpolar": [
           {
            "marker": {
             "line": {
              "color": "#E5ECF6",
              "width": 0.5
             }
            },
            "type": "barpolar"
           }
          ],
          "carpet": [
           {
            "aaxis": {
             "endlinecolor": "#2a3f5f",
             "gridcolor": "white",
             "linecolor": "white",
             "minorgridcolor": "white",
             "startlinecolor": "#2a3f5f"
            },
            "baxis": {
             "endlinecolor": "#2a3f5f",
             "gridcolor": "white",
             "linecolor": "white",
             "minorgridcolor": "white",
             "startlinecolor": "#2a3f5f"
            },
            "type": "carpet"
           }
          ],
          "choropleth": [
           {
            "colorbar": {
             "outlinewidth": 0,
             "ticks": ""
            },
            "type": "choropleth"
           }
          ],
          "contour": [
           {
            "colorbar": {
             "outlinewidth": 0,
             "ticks": ""
            },
            "colorscale": [
             [
              0,
              "#0d0887"
             ],
             [
              0.1111111111111111,
              "#46039f"
             ],
             [
              0.2222222222222222,
              "#7201a8"
             ],
             [
              0.3333333333333333,
              "#9c179e"
             ],
             [
              0.4444444444444444,
              "#bd3786"
             ],
             [
              0.5555555555555556,
              "#d8576b"
             ],
             [
              0.6666666666666666,
              "#ed7953"
             ],
             [
              0.7777777777777778,
              "#fb9f3a"
             ],
             [
              0.8888888888888888,
              "#fdca26"
             ],
             [
              1,
              "#f0f921"
             ]
            ],
            "type": "contour"
           }
          ],
          "contourcarpet": [
           {
            "colorbar": {
             "outlinewidth": 0,
             "ticks": ""
            },
            "type": "contourcarpet"
           }
          ],
          "heatmap": [
           {
            "colorbar": {
             "outlinewidth": 0,
             "ticks": ""
            },
            "colorscale": [
             [
              0,
              "#0d0887"
             ],
             [
              0.1111111111111111,
              "#46039f"
             ],
             [
              0.2222222222222222,
              "#7201a8"
             ],
             [
              0.3333333333333333,
              "#9c179e"
             ],
             [
              0.4444444444444444,
              "#bd3786"
             ],
             [
              0.5555555555555556,
              "#d8576b"
             ],
             [
              0.6666666666666666,
              "#ed7953"
             ],
             [
              0.7777777777777778,
              "#fb9f3a"
             ],
             [
              0.8888888888888888,
              "#fdca26"
             ],
             [
              1,
              "#f0f921"
             ]
            ],
            "type": "heatmap"
           }
          ],
          "heatmapgl": [
           {
            "colorbar": {
             "outlinewidth": 0,
             "ticks": ""
            },
            "colorscale": [
             [
              0,
              "#0d0887"
             ],
             [
              0.1111111111111111,
              "#46039f"
             ],
             [
              0.2222222222222222,
              "#7201a8"
             ],
             [
              0.3333333333333333,
              "#9c179e"
             ],
             [
              0.4444444444444444,
              "#bd3786"
             ],
             [
              0.5555555555555556,
              "#d8576b"
             ],
             [
              0.6666666666666666,
              "#ed7953"
             ],
             [
              0.7777777777777778,
              "#fb9f3a"
             ],
             [
              0.8888888888888888,
              "#fdca26"
             ],
             [
              1,
              "#f0f921"
             ]
            ],
            "type": "heatmapgl"
           }
          ],
          "histogram": [
           {
            "marker": {
             "colorbar": {
              "outlinewidth": 0,
              "ticks": ""
             }
            },
            "type": "histogram"
           }
          ],
          "histogram2d": [
           {
            "colorbar": {
             "outlinewidth": 0,
             "ticks": ""
            },
            "colorscale": [
             [
              0,
              "#0d0887"
             ],
             [
              0.1111111111111111,
              "#46039f"
             ],
             [
              0.2222222222222222,
              "#7201a8"
             ],
             [
              0.3333333333333333,
              "#9c179e"
             ],
             [
              0.4444444444444444,
              "#bd3786"
             ],
             [
              0.5555555555555556,
              "#d8576b"
             ],
             [
              0.6666666666666666,
              "#ed7953"
             ],
             [
              0.7777777777777778,
              "#fb9f3a"
             ],
             [
              0.8888888888888888,
              "#fdca26"
             ],
             [
              1,
              "#f0f921"
             ]
            ],
            "type": "histogram2d"
           }
          ],
          "histogram2dcontour": [
           {
            "colorbar": {
             "outlinewidth": 0,
             "ticks": ""
            },
            "colorscale": [
             [
              0,
              "#0d0887"
             ],
             [
              0.1111111111111111,
              "#46039f"
             ],
             [
              0.2222222222222222,
              "#7201a8"
             ],
             [
              0.3333333333333333,
              "#9c179e"
             ],
             [
              0.4444444444444444,
              "#bd3786"
             ],
             [
              0.5555555555555556,
              "#d8576b"
             ],
             [
              0.6666666666666666,
              "#ed7953"
             ],
             [
              0.7777777777777778,
              "#fb9f3a"
             ],
             [
              0.8888888888888888,
              "#fdca26"
             ],
             [
              1,
              "#f0f921"
             ]
            ],
            "type": "histogram2dcontour"
           }
          ],
          "mesh3d": [
           {
            "colorbar": {
             "outlinewidth": 0,
             "ticks": ""
            },
            "type": "mesh3d"
           }
          ],
          "parcoords": [
           {
            "line": {
             "colorbar": {
              "outlinewidth": 0,
              "ticks": ""
             }
            },
            "type": "parcoords"
           }
          ],
          "pie": [
           {
            "automargin": true,
            "type": "pie"
           }
          ],
          "scatter": [
           {
            "marker": {
             "colorbar": {
              "outlinewidth": 0,
              "ticks": ""
             }
            },
            "type": "scatter"
           }
          ],
          "scatter3d": [
           {
            "line": {
             "colorbar": {
              "outlinewidth": 0,
              "ticks": ""
             }
            },
            "marker": {
             "colorbar": {
              "outlinewidth": 0,
              "ticks": ""
             }
            },
            "type": "scatter3d"
           }
          ],
          "scattercarpet": [
           {
            "marker": {
             "colorbar": {
              "outlinewidth": 0,
              "ticks": ""
             }
            },
            "type": "scattercarpet"
           }
          ],
          "scattergeo": [
           {
            "marker": {
             "colorbar": {
              "outlinewidth": 0,
              "ticks": ""
             }
            },
            "type": "scattergeo"
           }
          ],
          "scattergl": [
           {
            "marker": {
             "colorbar": {
              "outlinewidth": 0,
              "ticks": ""
             }
            },
            "type": "scattergl"
           }
          ],
          "scattermapbox": [
           {
            "marker": {
             "colorbar": {
              "outlinewidth": 0,
              "ticks": ""
             }
            },
            "type": "scattermapbox"
           }
          ],
          "scatterpolar": [
           {
            "marker": {
             "colorbar": {
              "outlinewidth": 0,
              "ticks": ""
             }
            },
            "type": "scatterpolar"
           }
          ],
          "scatterpolargl": [
           {
            "marker": {
             "colorbar": {
              "outlinewidth": 0,
              "ticks": ""
             }
            },
            "type": "scatterpolargl"
           }
          ],
          "scatterternary": [
           {
            "marker": {
             "colorbar": {
              "outlinewidth": 0,
              "ticks": ""
             }
            },
            "type": "scatterternary"
           }
          ],
          "surface": [
           {
            "colorbar": {
             "outlinewidth": 0,
             "ticks": ""
            },
            "colorscale": [
             [
              0,
              "#0d0887"
             ],
             [
              0.1111111111111111,
              "#46039f"
             ],
             [
              0.2222222222222222,
              "#7201a8"
             ],
             [
              0.3333333333333333,
              "#9c179e"
             ],
             [
              0.4444444444444444,
              "#bd3786"
             ],
             [
              0.5555555555555556,
              "#d8576b"
             ],
             [
              0.6666666666666666,
              "#ed7953"
             ],
             [
              0.7777777777777778,
              "#fb9f3a"
             ],
             [
              0.8888888888888888,
              "#fdca26"
             ],
             [
              1,
              "#f0f921"
             ]
            ],
            "type": "surface"
           }
          ],
          "table": [
           {
            "cells": {
             "fill": {
              "color": "#EBF0F8"
             },
             "line": {
              "color": "white"
             }
            },
            "header": {
             "fill": {
              "color": "#C8D4E3"
             },
             "line": {
              "color": "white"
             }
            },
            "type": "table"
           }
          ]
         },
         "layout": {
          "annotationdefaults": {
           "arrowcolor": "#2a3f5f",
           "arrowhead": 0,
           "arrowwidth": 1
          },
          "coloraxis": {
           "colorbar": {
            "outlinewidth": 0,
            "ticks": ""
           }
          },
          "colorscale": {
           "diverging": [
            [
             0,
             "#8e0152"
            ],
            [
             0.1,
             "#c51b7d"
            ],
            [
             0.2,
             "#de77ae"
            ],
            [
             0.3,
             "#f1b6da"
            ],
            [
             0.4,
             "#fde0ef"
            ],
            [
             0.5,
             "#f7f7f7"
            ],
            [
             0.6,
             "#e6f5d0"
            ],
            [
             0.7,
             "#b8e186"
            ],
            [
             0.8,
             "#7fbc41"
            ],
            [
             0.9,
             "#4d9221"
            ],
            [
             1,
             "#276419"
            ]
           ],
           "sequential": [
            [
             0,
             "#0d0887"
            ],
            [
             0.1111111111111111,
             "#46039f"
            ],
            [
             0.2222222222222222,
             "#7201a8"
            ],
            [
             0.3333333333333333,
             "#9c179e"
            ],
            [
             0.4444444444444444,
             "#bd3786"
            ],
            [
             0.5555555555555556,
             "#d8576b"
            ],
            [
             0.6666666666666666,
             "#ed7953"
            ],
            [
             0.7777777777777778,
             "#fb9f3a"
            ],
            [
             0.8888888888888888,
             "#fdca26"
            ],
            [
             1,
             "#f0f921"
            ]
           ],
           "sequentialminus": [
            [
             0,
             "#0d0887"
            ],
            [
             0.1111111111111111,
             "#46039f"
            ],
            [
             0.2222222222222222,
             "#7201a8"
            ],
            [
             0.3333333333333333,
             "#9c179e"
            ],
            [
             0.4444444444444444,
             "#bd3786"
            ],
            [
             0.5555555555555556,
             "#d8576b"
            ],
            [
             0.6666666666666666,
             "#ed7953"
            ],
            [
             0.7777777777777778,
             "#fb9f3a"
            ],
            [
             0.8888888888888888,
             "#fdca26"
            ],
            [
             1,
             "#f0f921"
            ]
           ]
          },
          "colorway": [
           "#636efa",
           "#EF553B",
           "#00cc96",
           "#ab63fa",
           "#FFA15A",
           "#19d3f3",
           "#FF6692",
           "#B6E880",
           "#FF97FF",
           "#FECB52"
          ],
          "font": {
           "color": "#2a3f5f"
          },
          "geo": {
           "bgcolor": "white",
           "lakecolor": "white",
           "landcolor": "#E5ECF6",
           "showlakes": true,
           "showland": true,
           "subunitcolor": "white"
          },
          "hoverlabel": {
           "align": "left"
          },
          "hovermode": "closest",
          "mapbox": {
           "style": "light"
          },
          "paper_bgcolor": "white",
          "plot_bgcolor": "#E5ECF6",
          "polar": {
           "angularaxis": {
            "gridcolor": "white",
            "linecolor": "white",
            "ticks": ""
           },
           "bgcolor": "#E5ECF6",
           "radialaxis": {
            "gridcolor": "white",
            "linecolor": "white",
            "ticks": ""
           }
          },
          "scene": {
           "xaxis": {
            "backgroundcolor": "#E5ECF6",
            "gridcolor": "white",
            "gridwidth": 2,
            "linecolor": "white",
            "showbackground": true,
            "ticks": "",
            "zerolinecolor": "white"
           },
           "yaxis": {
            "backgroundcolor": "#E5ECF6",
            "gridcolor": "white",
            "gridwidth": 2,
            "linecolor": "white",
            "showbackground": true,
            "ticks": "",
            "zerolinecolor": "white"
           },
           "zaxis": {
            "backgroundcolor": "#E5ECF6",
            "gridcolor": "white",
            "gridwidth": 2,
            "linecolor": "white",
            "showbackground": true,
            "ticks": "",
            "zerolinecolor": "white"
           }
          },
          "shapedefaults": {
           "line": {
            "color": "#2a3f5f"
           }
          },
          "ternary": {
           "aaxis": {
            "gridcolor": "white",
            "linecolor": "white",
            "ticks": ""
           },
           "baxis": {
            "gridcolor": "white",
            "linecolor": "white",
            "ticks": ""
           },
           "bgcolor": "#E5ECF6",
           "caxis": {
            "gridcolor": "white",
            "linecolor": "white",
            "ticks": ""
           }
          },
          "title": {
           "x": 0.05
          },
          "xaxis": {
           "automargin": true,
           "gridcolor": "white",
           "linecolor": "white",
           "ticks": "",
           "title": {
            "standoff": 15
           },
           "zerolinecolor": "white",
           "zerolinewidth": 2
          },
          "yaxis": {
           "automargin": true,
           "gridcolor": "white",
           "linecolor": "white",
           "ticks": "",
           "title": {
            "standoff": 15
           },
           "zerolinecolor": "white",
           "zerolinewidth": 2
          }
         }
        },
        "title": {
         "font": {
          "color": "#4D5663"
         }
        },
        "xaxis": {
         "gridcolor": "#E1E5ED",
         "showgrid": true,
         "tickfont": {
          "color": "#4D5663"
         },
         "title": {
          "font": {
           "color": "#4D5663"
          },
          "text": ""
         },
         "zerolinecolor": "#E1E5ED"
        },
        "yaxis": {
         "gridcolor": "#E1E5ED",
         "showgrid": true,
         "tickfont": {
          "color": "#4D5663"
         },
         "title": {
          "font": {
           "color": "#4D5663"
          },
          "text": ""
         },
         "zerolinecolor": "#E1E5ED"
        }
       }
      },
      "text/html": [
       "<div>\n",
       "        \n",
       "        \n",
       "            <div id=\"714bdc59-f4ba-4710-9db6-e7b8fc8a1178\" class=\"plotly-graph-div\" style=\"height:525px; width:100%;\"></div>\n",
       "            <script type=\"text/javascript\">\n",
       "                require([\"plotly\"], function(Plotly) {\n",
       "                    window.PLOTLYENV=window.PLOTLYENV || {};\n",
       "                    window.PLOTLYENV.BASE_URL='https://plot.ly';\n",
       "                    \n",
       "                if (document.getElementById(\"714bdc59-f4ba-4710-9db6-e7b8fc8a1178\")) {\n",
       "                    Plotly.newPlot(\n",
       "                        '714bdc59-f4ba-4710-9db6-e7b8fc8a1178',\n",
       "                        [{\"boxpoints\": false, \"line\": {\"width\": 1.3}, \"marker\": {\"color\": \"rgba(255, 153, 51, 1.0)\"}, \"name\": \"A\", \"orientation\": \"v\", \"type\": \"box\", \"y\": [-0.5160893132420591, 0.36977198935695393, -0.6376530691724629, 0.7044135024122548, -1.1034524796225154, 0.18995613604102796, 1.0717395131931318, -1.1566232110185277, 0.2556698499063951, 0.5725995974595516, -0.36381883858858116, 1.0103077817703432, 1.476189693036634, -0.5748720896488182, -0.2215621934905954, -1.07820378595533, 0.11377440007673718, -0.21710303674269152, 1.741337878579764, -1.581788230197421, 0.3408540077117913, 0.06468467098202953, -0.08958541958578416, -1.0976825062982054, 0.20587012230384977, 0.15526210176672633, -1.4710172507266472, -1.5898496382747582, 1.933842648453371, 1.3434021909533982, -1.1521091041379217, 0.4419615696660577, -0.16628800682196257, -1.4480584864258539, 0.3123710794716179, -0.52394678356154, -0.441630283342012, 0.9452090149897328, -1.2064242590616512, 1.1817294448147204, 0.33122354886341154, -1.6262334908065013, -0.8389948237700519, 1.031431848359973, 1.2031977015556656, 0.18550822410689938, -1.175243952995447, -0.6584166787766687, 0.9887952073970762, 0.21156316886778626, 0.2573308942094357, 1.0822115201377114, 0.0893732644979548, -0.5664590218906942, -1.6638718228029925, -1.2917239916142056, 0.2929735459136377, 2.5478516788504653, 0.5037298828464585, -0.30616463748656453, 0.22976770170748828, -1.6430115398381078, 0.3782966808445278, -0.6707144055727559, 0.9662254536100778, 0.05403658594513106, 1.6963707263809569, -0.27137490608059545, 2.0744991017355194, 0.4924299961297372, 1.3781820121299793, -0.48366849539538426, -1.7087393101924184, -0.485364483723951, -0.23435836832249668, 0.2905414892465712, 0.7161490897993718, -1.2102095389991587, -1.9790457068431644, -0.3062877098370745, -1.5736209553674065, -0.2370271325390344, -1.750204964521023, 1.0059491828068852, -0.7688308794485004, -1.063682547612927, -0.17069113902811184, 2.842214926335593, 0.3460617492715024, -0.6364441697277597, 1.091925228098203, 0.5369717265743313, -1.4397140669293151, 1.1309675075453305, 0.20621529416792664, -1.343819528847644, -1.5133197759626105, -0.22642951661224134, -1.2650842530126634, 0.6603795222805372]}, {\"boxpoints\": false, \"line\": {\"width\": 1.3}, \"marker\": {\"color\": \"rgba(55, 128, 191, 1.0)\"}, \"name\": \"B\", \"orientation\": \"v\", \"type\": \"box\", \"y\": [-0.4830398773165511, 1.2408811625268137, 0.35530306722702254, -1.3102028346656933, 0.9040202858708412, -0.2513789085826711, 1.0617367873785306, 0.24040970267410283, 0.827258916418403, 1.9976499284971543, 0.3137952421614047, -1.0432083076324876, -0.292705909934658, 0.729655968186065, 0.3200609000624027, 0.10861925178958326, -0.9615508927232922, -0.9412335616344917, -0.38492043027423195, -0.15540031244231772, -1.4203836484554058, -1.9499836347747668, 0.5780627164204831, -0.27688033160590975, 0.6231901699429303, 0.07282580554383271, -1.5664406555916939, 0.19284932685719997, -1.2346770993468668, 0.5547972272950802, -0.054526653474334406, 0.40306859970845954, -1.764266154643761, -1.7167434892062916, 1.396501337951955, -0.5891546375959679, -0.9400859853208022, -1.0951725544195938, -0.1451749974209162, 0.6510147700211207, 0.8695826195519815, 0.21227681655430053, -1.00063014199676, 0.8463286192775679, -1.257467598158746, 0.08542665525475628, -1.0614606233725465, -0.20102845884704343, 0.6608800537318047, 1.5744309963631247, -0.3926634023799547, 0.1685080497220934, 0.8997902536174733, 1.8906953239859532, -1.610348449562404, 0.7199856916604425, 0.762291672726165, -0.3374305801061693, -0.35411774905218735, -0.738177506851164, 0.8205055534126645, -0.4730687265559447, 1.4154248967549288, 0.3853470037735814, -0.07311205894815102, 1.992048587260967, -0.8096304208333129, 1.4539187210384725, -0.3461594054538799, 0.5635285262483997, 0.6793775822531479, -0.28478963274363117, 0.13762039067999338, -0.48589524156264796, 0.2853300886202101, 0.3134625340586329, -0.3459729648201667, 0.469202684773011, -0.3116713747630819, -2.423447231628767, 1.0044667674654812, 1.5862055534815358, 1.8575910070321242, 0.3362284436156032, 0.7325614247944798, -0.4677723508415738, 0.27622986839544966, -0.1399069058961382, -0.6845228467429334, 0.6999198420486332, -0.1651068930756629, 0.9206199046424066, -1.2727579433040814, 0.8914926995078791, -0.18333885923645754, 0.15916393986291397, 1.2985410347134188, -0.004254649023660233, 0.6777775188939851, 1.5663705543478634]}, {\"boxpoints\": false, \"line\": {\"width\": 1.3}, \"marker\": {\"color\": \"rgba(50, 171, 96, 1.0)\"}, \"name\": \"C\", \"orientation\": \"v\", \"type\": \"box\", \"y\": [0.0703141324180888, 0.19005327478225545, 0.7649152475363103, -0.45309776746017344, -2.3130922133736926, -0.24924756094441433, 0.9939519714917544, 1.0575125802824477, 0.12912244531204717, 0.6999879927297802, 0.4254820586200097, 0.6981980316347339, 0.11740602491989446, 0.9731039636958272, -1.0436267763074434, -1.8981729597515913, -0.2696704387643337, 0.4404055174883337, -1.117003666341638, 0.5248833491633296, 1.55556975307788, 0.3936419526722713, -1.1777780511831497, 1.1372304291134896, 0.42134392948915944, -0.3536796528378712, 0.38645862476696297, 0.4397330049493053, -0.5995583899765853, -3.088345635250436, -0.9953389341451572, -0.005210210023018772, 0.4778800031460717, 1.1400928822036536, -0.1580049501234492, 1.3318921436151425, 1.3722244068763931, -0.32912845471031105, 0.9678219721600827, -0.5701676386922008, 0.054913066976204246, 1.0921054696184405, 0.6650589201757625, -0.14045940512837343, 0.26210862678882774, 0.05680341897187978, -0.29950267525706964, -0.04359922378679352, 0.7038723155190757, 1.9910614401137257, -0.910129261437662, -1.558375152522652, -1.0573827716552158, 2.350659609622257, -1.4066522685836824, -0.03374132920888797, -0.19979757757692243, 0.1928378987841862, -0.9499076149876359, 1.7483319430050939, 1.187124868245697, 1.1271259258282722, -0.39338797358165134, -1.0745371604800322, 0.36081935620461, 0.5060996405249988, -1.1224468515818866, 1.0842941612827242, -0.1167295271530598, -0.692678866523593, 0.10264394233872143, 0.9709267299052492, 0.8605488206204148, 2.0740709792618746, 0.19948009011270007, -0.3358906300506767, -1.0314042038446474, -1.2141588203451976, 1.3324005510665444, -0.42322673167020547, -0.44303737973544377, -2.004972369184354, -0.6555654338432041, -0.48861654429665974, -0.2273598718459681, 0.7871420493420291, -0.014503971103790883, -1.3396536822925662, -0.7030440866204853, -0.2754524097904853, -0.41258157125870626, -1.282353355480065, -0.4813534276173748, -0.22732655646841496, -2.808855475299883, 0.7498106335470845, 0.4013557215463391, 0.09968818779256483, -2.5219142986963234, -0.4271328087332994]}, {\"boxpoints\": false, \"line\": {\"width\": 1.3}, \"marker\": {\"color\": \"rgba(128, 0, 128, 1.0)\"}, \"name\": \"D\", \"orientation\": \"v\", \"type\": \"box\", \"y\": [-0.3232727162453101, -1.3023721208298846, -0.1938009883089016, -0.7383174959684993, -0.770457584147139, 0.13188525114621988, -0.2349105376257551, -0.0996827444359189, 1.5905108456958972, 2.1244487987894356, -0.47122777014599804, 0.5305699195417404, -0.5498968011854257, 0.8395078996520113, 0.8762266498539656, 1.2141997616472122, -0.6905873098173497, -0.38216090156580546, -1.6172347029181287, 1.436675933157114, 1.0517712898634834, -0.3475537796923249, -1.4527976585035411, -1.2502530386311088, -1.6877866355005726, -0.2630199139070672, -1.811598251955438, -0.3479529540421139, 0.9512461288837505, 0.7765383001836241, -0.344785478551625, 2.072371033293312, 1.112815184404361, -0.7641262745353539, 0.7359594137808237, -0.18834231269548704, -0.5847629933254259, -0.9825632134561301, -1.5354461856792831, -1.5145174705524813, -1.2788673644631579, -1.2653660159996927, -0.12750843076115762, 0.5230941727424244, -0.23282676225496532, -2.170806998342702, -1.6426438365963276, 1.207331996891165, -0.7384803926321096, -0.11152632842392744, 1.2149929194368743, -0.07485161307949105, -0.057807944518392856, 0.4882521156951452, 0.20664760015992298, -1.2596730275223156, -0.9382453627643943, 0.5521671648716139, 1.3342221137434727, 0.2328012829778107, -0.04246213689140533, -0.5010617422783828, 0.851327216782451, -0.09189348669883422, -0.3643395496116214, 2.2611823257355463, 0.0020022193917626453, 1.284762362141067, 0.1488754095281349, 0.3512690949866529, 0.680987833270552, -0.3841178174570263, -1.051357478823983, -0.7924100727914859, 0.7791923188769143, 1.6700776446426255, 0.5468401311826265, 0.2586508910241558, 1.6508381862307775, -1.2826412134117242, -0.44182143180692623, 0.882374371157325, 1.8955919136281647, 0.2620199851072596, -1.4650408201122578, 0.3675554848580161, -0.402798118732842, -0.3169340756413098, 1.5282094639145292, -1.603676683810156, 0.6469391573191937, -0.32934298178626603, 0.7190761584371452, -0.9633785446144824, -0.7133514660454723, -1.3568416818040172, 0.8477194784856378, -0.2305236426357522, -0.6576122213303243, 0.024364686856488835]}],\n",
       "                        {\"legend\": {\"bgcolor\": \"#F5F6F9\", \"font\": {\"color\": \"#4D5663\"}}, \"paper_bgcolor\": \"#F5F6F9\", \"plot_bgcolor\": \"#F5F6F9\", \"template\": {\"data\": {\"bar\": [{\"error_x\": {\"color\": \"#2a3f5f\"}, \"error_y\": {\"color\": \"#2a3f5f\"}, \"marker\": {\"line\": {\"color\": \"#E5ECF6\", \"width\": 0.5}}, \"type\": \"bar\"}], \"barpolar\": [{\"marker\": {\"line\": {\"color\": \"#E5ECF6\", \"width\": 0.5}}, \"type\": \"barpolar\"}], \"carpet\": [{\"aaxis\": {\"endlinecolor\": \"#2a3f5f\", \"gridcolor\": \"white\", \"linecolor\": \"white\", \"minorgridcolor\": \"white\", \"startlinecolor\": \"#2a3f5f\"}, \"baxis\": {\"endlinecolor\": \"#2a3f5f\", \"gridcolor\": \"white\", \"linecolor\": \"white\", \"minorgridcolor\": \"white\", \"startlinecolor\": \"#2a3f5f\"}, \"type\": \"carpet\"}], \"choropleth\": [{\"colorbar\": {\"outlinewidth\": 0, \"ticks\": \"\"}, \"type\": \"choropleth\"}], \"contour\": [{\"colorbar\": {\"outlinewidth\": 0, \"ticks\": \"\"}, \"colorscale\": [[0.0, \"#0d0887\"], [0.1111111111111111, \"#46039f\"], [0.2222222222222222, \"#7201a8\"], [0.3333333333333333, \"#9c179e\"], [0.4444444444444444, \"#bd3786\"], [0.5555555555555556, \"#d8576b\"], [0.6666666666666666, \"#ed7953\"], [0.7777777777777778, \"#fb9f3a\"], [0.8888888888888888, \"#fdca26\"], [1.0, \"#f0f921\"]], \"type\": \"contour\"}], \"contourcarpet\": [{\"colorbar\": {\"outlinewidth\": 0, \"ticks\": \"\"}, \"type\": \"contourcarpet\"}], \"heatmap\": [{\"colorbar\": {\"outlinewidth\": 0, \"ticks\": \"\"}, \"colorscale\": [[0.0, \"#0d0887\"], [0.1111111111111111, \"#46039f\"], [0.2222222222222222, \"#7201a8\"], [0.3333333333333333, \"#9c179e\"], [0.4444444444444444, \"#bd3786\"], [0.5555555555555556, \"#d8576b\"], [0.6666666666666666, \"#ed7953\"], [0.7777777777777778, \"#fb9f3a\"], [0.8888888888888888, \"#fdca26\"], [1.0, \"#f0f921\"]], \"type\": \"heatmap\"}], \"heatmapgl\": [{\"colorbar\": {\"outlinewidth\": 0, \"ticks\": \"\"}, \"colorscale\": [[0.0, \"#0d0887\"], [0.1111111111111111, \"#46039f\"], [0.2222222222222222, \"#7201a8\"], [0.3333333333333333, \"#9c179e\"], [0.4444444444444444, \"#bd3786\"], [0.5555555555555556, \"#d8576b\"], [0.6666666666666666, \"#ed7953\"], [0.7777777777777778, \"#fb9f3a\"], [0.8888888888888888, \"#fdca26\"], [1.0, \"#f0f921\"]], \"type\": \"heatmapgl\"}], \"histogram\": [{\"marker\": {\"colorbar\": {\"outlinewidth\": 0, \"ticks\": \"\"}}, \"type\": \"histogram\"}], \"histogram2d\": [{\"colorbar\": {\"outlinewidth\": 0, \"ticks\": \"\"}, \"colorscale\": [[0.0, \"#0d0887\"], [0.1111111111111111, \"#46039f\"], [0.2222222222222222, \"#7201a8\"], [0.3333333333333333, \"#9c179e\"], [0.4444444444444444, \"#bd3786\"], [0.5555555555555556, \"#d8576b\"], [0.6666666666666666, \"#ed7953\"], [0.7777777777777778, \"#fb9f3a\"], [0.8888888888888888, \"#fdca26\"], [1.0, \"#f0f921\"]], \"type\": \"histogram2d\"}], \"histogram2dcontour\": [{\"colorbar\": {\"outlinewidth\": 0, \"ticks\": \"\"}, \"colorscale\": [[0.0, \"#0d0887\"], [0.1111111111111111, \"#46039f\"], [0.2222222222222222, \"#7201a8\"], [0.3333333333333333, \"#9c179e\"], [0.4444444444444444, \"#bd3786\"], [0.5555555555555556, \"#d8576b\"], [0.6666666666666666, \"#ed7953\"], [0.7777777777777778, \"#fb9f3a\"], [0.8888888888888888, \"#fdca26\"], [1.0, \"#f0f921\"]], \"type\": \"histogram2dcontour\"}], \"mesh3d\": [{\"colorbar\": {\"outlinewidth\": 0, \"ticks\": \"\"}, \"type\": \"mesh3d\"}], \"parcoords\": [{\"line\": {\"colorbar\": {\"outlinewidth\": 0, \"ticks\": \"\"}}, \"type\": \"parcoords\"}], \"pie\": [{\"automargin\": true, \"type\": \"pie\"}], \"scatter\": [{\"marker\": {\"colorbar\": {\"outlinewidth\": 0, \"ticks\": \"\"}}, \"type\": \"scatter\"}], \"scatter3d\": [{\"line\": {\"colorbar\": {\"outlinewidth\": 0, \"ticks\": \"\"}}, \"marker\": {\"colorbar\": {\"outlinewidth\": 0, \"ticks\": \"\"}}, \"type\": \"scatter3d\"}], \"scattercarpet\": [{\"marker\": {\"colorbar\": {\"outlinewidth\": 0, \"ticks\": \"\"}}, \"type\": \"scattercarpet\"}], \"scattergeo\": [{\"marker\": {\"colorbar\": {\"outlinewidth\": 0, \"ticks\": \"\"}}, \"type\": \"scattergeo\"}], \"scattergl\": [{\"marker\": {\"colorbar\": {\"outlinewidth\": 0, \"ticks\": \"\"}}, \"type\": \"scattergl\"}], \"scattermapbox\": [{\"marker\": {\"colorbar\": {\"outlinewidth\": 0, \"ticks\": \"\"}}, \"type\": \"scattermapbox\"}], \"scatterpolar\": [{\"marker\": {\"colorbar\": {\"outlinewidth\": 0, \"ticks\": \"\"}}, \"type\": \"scatterpolar\"}], \"scatterpolargl\": [{\"marker\": {\"colorbar\": {\"outlinewidth\": 0, \"ticks\": \"\"}}, \"type\": \"scatterpolargl\"}], \"scatterternary\": [{\"marker\": {\"colorbar\": {\"outlinewidth\": 0, \"ticks\": \"\"}}, \"type\": \"scatterternary\"}], \"surface\": [{\"colorbar\": {\"outlinewidth\": 0, \"ticks\": \"\"}, \"colorscale\": [[0.0, \"#0d0887\"], [0.1111111111111111, \"#46039f\"], [0.2222222222222222, \"#7201a8\"], [0.3333333333333333, \"#9c179e\"], [0.4444444444444444, \"#bd3786\"], [0.5555555555555556, \"#d8576b\"], [0.6666666666666666, \"#ed7953\"], [0.7777777777777778, \"#fb9f3a\"], [0.8888888888888888, \"#fdca26\"], [1.0, \"#f0f921\"]], \"type\": \"surface\"}], \"table\": [{\"cells\": {\"fill\": {\"color\": \"#EBF0F8\"}, \"line\": {\"color\": \"white\"}}, \"header\": {\"fill\": {\"color\": \"#C8D4E3\"}, \"line\": {\"color\": \"white\"}}, \"type\": \"table\"}]}, \"layout\": {\"annotationdefaults\": {\"arrowcolor\": \"#2a3f5f\", \"arrowhead\": 0, \"arrowwidth\": 1}, \"coloraxis\": {\"colorbar\": {\"outlinewidth\": 0, \"ticks\": \"\"}}, \"colorscale\": {\"diverging\": [[0, \"#8e0152\"], [0.1, \"#c51b7d\"], [0.2, \"#de77ae\"], [0.3, \"#f1b6da\"], [0.4, \"#fde0ef\"], [0.5, \"#f7f7f7\"], [0.6, \"#e6f5d0\"], [0.7, \"#b8e186\"], [0.8, \"#7fbc41\"], [0.9, \"#4d9221\"], [1, \"#276419\"]], \"sequential\": [[0.0, \"#0d0887\"], [0.1111111111111111, \"#46039f\"], [0.2222222222222222, \"#7201a8\"], [0.3333333333333333, \"#9c179e\"], [0.4444444444444444, \"#bd3786\"], [0.5555555555555556, \"#d8576b\"], [0.6666666666666666, \"#ed7953\"], [0.7777777777777778, \"#fb9f3a\"], [0.8888888888888888, \"#fdca26\"], [1.0, \"#f0f921\"]], \"sequentialminus\": [[0.0, \"#0d0887\"], [0.1111111111111111, \"#46039f\"], [0.2222222222222222, \"#7201a8\"], [0.3333333333333333, \"#9c179e\"], [0.4444444444444444, \"#bd3786\"], [0.5555555555555556, \"#d8576b\"], [0.6666666666666666, \"#ed7953\"], [0.7777777777777778, \"#fb9f3a\"], [0.8888888888888888, \"#fdca26\"], [1.0, \"#f0f921\"]]}, \"colorway\": [\"#636efa\", \"#EF553B\", \"#00cc96\", \"#ab63fa\", \"#FFA15A\", \"#19d3f3\", \"#FF6692\", \"#B6E880\", \"#FF97FF\", \"#FECB52\"], \"font\": {\"color\": \"#2a3f5f\"}, \"geo\": {\"bgcolor\": \"white\", \"lakecolor\": \"white\", \"landcolor\": \"#E5ECF6\", \"showlakes\": true, \"showland\": true, \"subunitcolor\": \"white\"}, \"hoverlabel\": {\"align\": \"left\"}, \"hovermode\": \"closest\", \"mapbox\": {\"style\": \"light\"}, \"paper_bgcolor\": \"white\", \"plot_bgcolor\": \"#E5ECF6\", \"polar\": {\"angularaxis\": {\"gridcolor\": \"white\", \"linecolor\": \"white\", \"ticks\": \"\"}, \"bgcolor\": \"#E5ECF6\", \"radialaxis\": {\"gridcolor\": \"white\", \"linecolor\": \"white\", \"ticks\": \"\"}}, \"scene\": {\"xaxis\": {\"backgroundcolor\": \"#E5ECF6\", \"gridcolor\": \"white\", \"gridwidth\": 2, \"linecolor\": \"white\", \"showbackground\": true, \"ticks\": \"\", \"zerolinecolor\": \"white\"}, \"yaxis\": {\"backgroundcolor\": \"#E5ECF6\", \"gridcolor\": \"white\", \"gridwidth\": 2, \"linecolor\": \"white\", \"showbackground\": true, \"ticks\": \"\", \"zerolinecolor\": \"white\"}, \"zaxis\": {\"backgroundcolor\": \"#E5ECF6\", \"gridcolor\": \"white\", \"gridwidth\": 2, \"linecolor\": \"white\", \"showbackground\": true, \"ticks\": \"\", \"zerolinecolor\": \"white\"}}, \"shapedefaults\": {\"line\": {\"color\": \"#2a3f5f\"}}, \"ternary\": {\"aaxis\": {\"gridcolor\": \"white\", \"linecolor\": \"white\", \"ticks\": \"\"}, \"baxis\": {\"gridcolor\": \"white\", \"linecolor\": \"white\", \"ticks\": \"\"}, \"bgcolor\": \"#E5ECF6\", \"caxis\": {\"gridcolor\": \"white\", \"linecolor\": \"white\", \"ticks\": \"\"}}, \"title\": {\"x\": 0.05}, \"xaxis\": {\"automargin\": true, \"gridcolor\": \"white\", \"linecolor\": \"white\", \"ticks\": \"\", \"title\": {\"standoff\": 15}, \"zerolinecolor\": \"white\", \"zerolinewidth\": 2}, \"yaxis\": {\"automargin\": true, \"gridcolor\": \"white\", \"linecolor\": \"white\", \"ticks\": \"\", \"title\": {\"standoff\": 15}, \"zerolinecolor\": \"white\", \"zerolinewidth\": 2}}}, \"title\": {\"font\": {\"color\": \"#4D5663\"}}, \"xaxis\": {\"gridcolor\": \"#E1E5ED\", \"showgrid\": true, \"tickfont\": {\"color\": \"#4D5663\"}, \"title\": {\"font\": {\"color\": \"#4D5663\"}, \"text\": \"\"}, \"zerolinecolor\": \"#E1E5ED\"}, \"yaxis\": {\"gridcolor\": \"#E1E5ED\", \"showgrid\": true, \"tickfont\": {\"color\": \"#4D5663\"}, \"title\": {\"font\": {\"color\": \"#4D5663\"}, \"text\": \"\"}, \"zerolinecolor\": \"#E1E5ED\"}},\n",
       "                        {\"showLink\": true, \"linkText\": \"Export to plot.ly\", \"plotlyServerURL\": \"https://plot.ly\", \"responsive\": true}\n",
       "                    ).then(function(){\n",
       "                            \n",
       "var gd = document.getElementById('714bdc59-f4ba-4710-9db6-e7b8fc8a1178');\n",
       "var x = new MutationObserver(function (mutations, observer) {{\n",
       "        var display = window.getComputedStyle(gd).display;\n",
       "        if (!display || display === 'none') {{\n",
       "            console.log([gd, 'removed!']);\n",
       "            Plotly.purge(gd);\n",
       "            observer.disconnect();\n",
       "        }}\n",
       "}});\n",
       "\n",
       "// Listen for the removal of the full notebook cells\n",
       "var notebookContainer = gd.closest('#notebook-container');\n",
       "if (notebookContainer) {{\n",
       "    x.observe(notebookContainer, {childList: true});\n",
       "}}\n",
       "\n",
       "// Listen for the clearing of the current output cell\n",
       "var outputEl = gd.closest('.output');\n",
       "if (outputEl) {{\n",
       "    x.observe(outputEl, {childList: true});\n",
       "}}\n",
       "\n",
       "                        })\n",
       "                };\n",
       "                });\n",
       "            </script>\n",
       "        </div>"
      ]
     },
     "metadata": {},
     "output_type": "display_data"
    }
   ],
   "source": [
    "df.iplot(kind='box')"
   ]
  },
  {
   "cell_type": "code",
   "execution_count": 64,
   "metadata": {},
   "outputs": [
    {
     "data": {
      "text/html": [
       "<div>\n",
       "<style scoped>\n",
       "    .dataframe tbody tr th:only-of-type {\n",
       "        vertical-align: middle;\n",
       "    }\n",
       "\n",
       "    .dataframe tbody tr th {\n",
       "        vertical-align: top;\n",
       "    }\n",
       "\n",
       "    .dataframe thead th {\n",
       "        text-align: right;\n",
       "    }\n",
       "</style>\n",
       "<table border=\"1\" class=\"dataframe\">\n",
       "  <thead>\n",
       "    <tr style=\"text-align: right;\">\n",
       "      <th></th>\n",
       "      <th>x</th>\n",
       "      <th>y</th>\n",
       "      <th>z</th>\n",
       "    </tr>\n",
       "  </thead>\n",
       "  <tbody>\n",
       "    <tr>\n",
       "      <td>0</td>\n",
       "      <td>1</td>\n",
       "      <td>10</td>\n",
       "      <td>5</td>\n",
       "    </tr>\n",
       "    <tr>\n",
       "      <td>1</td>\n",
       "      <td>2</td>\n",
       "      <td>20</td>\n",
       "      <td>4</td>\n",
       "    </tr>\n",
       "    <tr>\n",
       "      <td>2</td>\n",
       "      <td>3</td>\n",
       "      <td>30</td>\n",
       "      <td>3</td>\n",
       "    </tr>\n",
       "    <tr>\n",
       "      <td>3</td>\n",
       "      <td>4</td>\n",
       "      <td>20</td>\n",
       "      <td>2</td>\n",
       "    </tr>\n",
       "    <tr>\n",
       "      <td>4</td>\n",
       "      <td>5</td>\n",
       "      <td>10</td>\n",
       "      <td>1</td>\n",
       "    </tr>\n",
       "  </tbody>\n",
       "</table>\n",
       "</div>"
      ],
      "text/plain": [
       "   x   y  z\n",
       "0  1  10  5\n",
       "1  2  20  4\n",
       "2  3  30  3\n",
       "3  4  20  2\n",
       "4  5  10  1"
      ]
     },
     "execution_count": 64,
     "metadata": {},
     "output_type": "execute_result"
    }
   ],
   "source": [
    "df3=pd.DataFrame({'x':[1,2,3,4,5],\n",
    "                 'y':[10,20,30,20,10],\n",
    "                 'z':[5,4,3,2,1]})\n",
    "df3"
   ]
  },
  {
   "cell_type": "code",
   "execution_count": 66,
   "metadata": {},
   "outputs": [
    {
     "data": {
      "application/vnd.plotly.v1+json": {
       "config": {
        "linkText": "Export to plot.ly",
        "plotlyServerURL": "https://plot.ly",
        "showLink": true
       },
       "data": [
        {
         "colorscale": [
          [
           0,
           "rgb(165,0,38)"
          ],
          [
           0.1,
           "rgb(215,48,39)"
          ],
          [
           0.2,
           "rgb(244,109,67)"
          ],
          [
           0.3,
           "rgb(253,174,97)"
          ],
          [
           0.4,
           "rgb(254,224,144)"
          ],
          [
           0.5,
           "rgb(255,255,191)"
          ],
          [
           0.6,
           "rgb(224,243,248)"
          ],
          [
           0.7,
           "rgb(171,217,233)"
          ],
          [
           0.8,
           "rgb(116,173,209)"
          ],
          [
           0.9,
           "rgb(69,117,180)"
          ],
          [
           1,
           "rgb(49,54,149)"
          ]
         ],
         "type": "surface",
         "x": [
          0,
          1,
          2,
          3,
          4
         ],
         "y": [
          "x",
          "y",
          "z"
         ],
         "z": [
          [
           1,
           2,
           3,
           4,
           5
          ],
          [
           10,
           20,
           30,
           20,
           10
          ],
          [
           5,
           4,
           3,
           2,
           1
          ]
         ]
        }
       ],
       "layout": {
        "legend": {
         "bgcolor": "#F5F6F9",
         "font": {
          "color": "#4D5663"
         }
        },
        "paper_bgcolor": "#F5F6F9",
        "plot_bgcolor": "#F5F6F9",
        "template": {
         "data": {
          "bar": [
           {
            "error_x": {
             "color": "#2a3f5f"
            },
            "error_y": {
             "color": "#2a3f5f"
            },
            "marker": {
             "line": {
              "color": "#E5ECF6",
              "width": 0.5
             }
            },
            "type": "bar"
           }
          ],
          "barpolar": [
           {
            "marker": {
             "line": {
              "color": "#E5ECF6",
              "width": 0.5
             }
            },
            "type": "barpolar"
           }
          ],
          "carpet": [
           {
            "aaxis": {
             "endlinecolor": "#2a3f5f",
             "gridcolor": "white",
             "linecolor": "white",
             "minorgridcolor": "white",
             "startlinecolor": "#2a3f5f"
            },
            "baxis": {
             "endlinecolor": "#2a3f5f",
             "gridcolor": "white",
             "linecolor": "white",
             "minorgridcolor": "white",
             "startlinecolor": "#2a3f5f"
            },
            "type": "carpet"
           }
          ],
          "choropleth": [
           {
            "colorbar": {
             "outlinewidth": 0,
             "ticks": ""
            },
            "type": "choropleth"
           }
          ],
          "contour": [
           {
            "colorbar": {
             "outlinewidth": 0,
             "ticks": ""
            },
            "colorscale": [
             [
              0,
              "#0d0887"
             ],
             [
              0.1111111111111111,
              "#46039f"
             ],
             [
              0.2222222222222222,
              "#7201a8"
             ],
             [
              0.3333333333333333,
              "#9c179e"
             ],
             [
              0.4444444444444444,
              "#bd3786"
             ],
             [
              0.5555555555555556,
              "#d8576b"
             ],
             [
              0.6666666666666666,
              "#ed7953"
             ],
             [
              0.7777777777777778,
              "#fb9f3a"
             ],
             [
              0.8888888888888888,
              "#fdca26"
             ],
             [
              1,
              "#f0f921"
             ]
            ],
            "type": "contour"
           }
          ],
          "contourcarpet": [
           {
            "colorbar": {
             "outlinewidth": 0,
             "ticks": ""
            },
            "type": "contourcarpet"
           }
          ],
          "heatmap": [
           {
            "colorbar": {
             "outlinewidth": 0,
             "ticks": ""
            },
            "colorscale": [
             [
              0,
              "#0d0887"
             ],
             [
              0.1111111111111111,
              "#46039f"
             ],
             [
              0.2222222222222222,
              "#7201a8"
             ],
             [
              0.3333333333333333,
              "#9c179e"
             ],
             [
              0.4444444444444444,
              "#bd3786"
             ],
             [
              0.5555555555555556,
              "#d8576b"
             ],
             [
              0.6666666666666666,
              "#ed7953"
             ],
             [
              0.7777777777777778,
              "#fb9f3a"
             ],
             [
              0.8888888888888888,
              "#fdca26"
             ],
             [
              1,
              "#f0f921"
             ]
            ],
            "type": "heatmap"
           }
          ],
          "heatmapgl": [
           {
            "colorbar": {
             "outlinewidth": 0,
             "ticks": ""
            },
            "colorscale": [
             [
              0,
              "#0d0887"
             ],
             [
              0.1111111111111111,
              "#46039f"
             ],
             [
              0.2222222222222222,
              "#7201a8"
             ],
             [
              0.3333333333333333,
              "#9c179e"
             ],
             [
              0.4444444444444444,
              "#bd3786"
             ],
             [
              0.5555555555555556,
              "#d8576b"
             ],
             [
              0.6666666666666666,
              "#ed7953"
             ],
             [
              0.7777777777777778,
              "#fb9f3a"
             ],
             [
              0.8888888888888888,
              "#fdca26"
             ],
             [
              1,
              "#f0f921"
             ]
            ],
            "type": "heatmapgl"
           }
          ],
          "histogram": [
           {
            "marker": {
             "colorbar": {
              "outlinewidth": 0,
              "ticks": ""
             }
            },
            "type": "histogram"
           }
          ],
          "histogram2d": [
           {
            "colorbar": {
             "outlinewidth": 0,
             "ticks": ""
            },
            "colorscale": [
             [
              0,
              "#0d0887"
             ],
             [
              0.1111111111111111,
              "#46039f"
             ],
             [
              0.2222222222222222,
              "#7201a8"
             ],
             [
              0.3333333333333333,
              "#9c179e"
             ],
             [
              0.4444444444444444,
              "#bd3786"
             ],
             [
              0.5555555555555556,
              "#d8576b"
             ],
             [
              0.6666666666666666,
              "#ed7953"
             ],
             [
              0.7777777777777778,
              "#fb9f3a"
             ],
             [
              0.8888888888888888,
              "#fdca26"
             ],
             [
              1,
              "#f0f921"
             ]
            ],
            "type": "histogram2d"
           }
          ],
          "histogram2dcontour": [
           {
            "colorbar": {
             "outlinewidth": 0,
             "ticks": ""
            },
            "colorscale": [
             [
              0,
              "#0d0887"
             ],
             [
              0.1111111111111111,
              "#46039f"
             ],
             [
              0.2222222222222222,
              "#7201a8"
             ],
             [
              0.3333333333333333,
              "#9c179e"
             ],
             [
              0.4444444444444444,
              "#bd3786"
             ],
             [
              0.5555555555555556,
              "#d8576b"
             ],
             [
              0.6666666666666666,
              "#ed7953"
             ],
             [
              0.7777777777777778,
              "#fb9f3a"
             ],
             [
              0.8888888888888888,
              "#fdca26"
             ],
             [
              1,
              "#f0f921"
             ]
            ],
            "type": "histogram2dcontour"
           }
          ],
          "mesh3d": [
           {
            "colorbar": {
             "outlinewidth": 0,
             "ticks": ""
            },
            "type": "mesh3d"
           }
          ],
          "parcoords": [
           {
            "line": {
             "colorbar": {
              "outlinewidth": 0,
              "ticks": ""
             }
            },
            "type": "parcoords"
           }
          ],
          "pie": [
           {
            "automargin": true,
            "type": "pie"
           }
          ],
          "scatter": [
           {
            "marker": {
             "colorbar": {
              "outlinewidth": 0,
              "ticks": ""
             }
            },
            "type": "scatter"
           }
          ],
          "scatter3d": [
           {
            "line": {
             "colorbar": {
              "outlinewidth": 0,
              "ticks": ""
             }
            },
            "marker": {
             "colorbar": {
              "outlinewidth": 0,
              "ticks": ""
             }
            },
            "type": "scatter3d"
           }
          ],
          "scattercarpet": [
           {
            "marker": {
             "colorbar": {
              "outlinewidth": 0,
              "ticks": ""
             }
            },
            "type": "scattercarpet"
           }
          ],
          "scattergeo": [
           {
            "marker": {
             "colorbar": {
              "outlinewidth": 0,
              "ticks": ""
             }
            },
            "type": "scattergeo"
           }
          ],
          "scattergl": [
           {
            "marker": {
             "colorbar": {
              "outlinewidth": 0,
              "ticks": ""
             }
            },
            "type": "scattergl"
           }
          ],
          "scattermapbox": [
           {
            "marker": {
             "colorbar": {
              "outlinewidth": 0,
              "ticks": ""
             }
            },
            "type": "scattermapbox"
           }
          ],
          "scatterpolar": [
           {
            "marker": {
             "colorbar": {
              "outlinewidth": 0,
              "ticks": ""
             }
            },
            "type": "scatterpolar"
           }
          ],
          "scatterpolargl": [
           {
            "marker": {
             "colorbar": {
              "outlinewidth": 0,
              "ticks": ""
             }
            },
            "type": "scatterpolargl"
           }
          ],
          "scatterternary": [
           {
            "marker": {
             "colorbar": {
              "outlinewidth": 0,
              "ticks": ""
             }
            },
            "type": "scatterternary"
           }
          ],
          "surface": [
           {
            "colorbar": {
             "outlinewidth": 0,
             "ticks": ""
            },
            "colorscale": [
             [
              0,
              "#0d0887"
             ],
             [
              0.1111111111111111,
              "#46039f"
             ],
             [
              0.2222222222222222,
              "#7201a8"
             ],
             [
              0.3333333333333333,
              "#9c179e"
             ],
             [
              0.4444444444444444,
              "#bd3786"
             ],
             [
              0.5555555555555556,
              "#d8576b"
             ],
             [
              0.6666666666666666,
              "#ed7953"
             ],
             [
              0.7777777777777778,
              "#fb9f3a"
             ],
             [
              0.8888888888888888,
              "#fdca26"
             ],
             [
              1,
              "#f0f921"
             ]
            ],
            "type": "surface"
           }
          ],
          "table": [
           {
            "cells": {
             "fill": {
              "color": "#EBF0F8"
             },
             "line": {
              "color": "white"
             }
            },
            "header": {
             "fill": {
              "color": "#C8D4E3"
             },
             "line": {
              "color": "white"
             }
            },
            "type": "table"
           }
          ]
         },
         "layout": {
          "annotationdefaults": {
           "arrowcolor": "#2a3f5f",
           "arrowhead": 0,
           "arrowwidth": 1
          },
          "coloraxis": {
           "colorbar": {
            "outlinewidth": 0,
            "ticks": ""
           }
          },
          "colorscale": {
           "diverging": [
            [
             0,
             "#8e0152"
            ],
            [
             0.1,
             "#c51b7d"
            ],
            [
             0.2,
             "#de77ae"
            ],
            [
             0.3,
             "#f1b6da"
            ],
            [
             0.4,
             "#fde0ef"
            ],
            [
             0.5,
             "#f7f7f7"
            ],
            [
             0.6,
             "#e6f5d0"
            ],
            [
             0.7,
             "#b8e186"
            ],
            [
             0.8,
             "#7fbc41"
            ],
            [
             0.9,
             "#4d9221"
            ],
            [
             1,
             "#276419"
            ]
           ],
           "sequential": [
            [
             0,
             "#0d0887"
            ],
            [
             0.1111111111111111,
             "#46039f"
            ],
            [
             0.2222222222222222,
             "#7201a8"
            ],
            [
             0.3333333333333333,
             "#9c179e"
            ],
            [
             0.4444444444444444,
             "#bd3786"
            ],
            [
             0.5555555555555556,
             "#d8576b"
            ],
            [
             0.6666666666666666,
             "#ed7953"
            ],
            [
             0.7777777777777778,
             "#fb9f3a"
            ],
            [
             0.8888888888888888,
             "#fdca26"
            ],
            [
             1,
             "#f0f921"
            ]
           ],
           "sequentialminus": [
            [
             0,
             "#0d0887"
            ],
            [
             0.1111111111111111,
             "#46039f"
            ],
            [
             0.2222222222222222,
             "#7201a8"
            ],
            [
             0.3333333333333333,
             "#9c179e"
            ],
            [
             0.4444444444444444,
             "#bd3786"
            ],
            [
             0.5555555555555556,
             "#d8576b"
            ],
            [
             0.6666666666666666,
             "#ed7953"
            ],
            [
             0.7777777777777778,
             "#fb9f3a"
            ],
            [
             0.8888888888888888,
             "#fdca26"
            ],
            [
             1,
             "#f0f921"
            ]
           ]
          },
          "colorway": [
           "#636efa",
           "#EF553B",
           "#00cc96",
           "#ab63fa",
           "#FFA15A",
           "#19d3f3",
           "#FF6692",
           "#B6E880",
           "#FF97FF",
           "#FECB52"
          ],
          "font": {
           "color": "#2a3f5f"
          },
          "geo": {
           "bgcolor": "white",
           "lakecolor": "white",
           "landcolor": "#E5ECF6",
           "showlakes": true,
           "showland": true,
           "subunitcolor": "white"
          },
          "hoverlabel": {
           "align": "left"
          },
          "hovermode": "closest",
          "mapbox": {
           "style": "light"
          },
          "paper_bgcolor": "white",
          "plot_bgcolor": "#E5ECF6",
          "polar": {
           "angularaxis": {
            "gridcolor": "white",
            "linecolor": "white",
            "ticks": ""
           },
           "bgcolor": "#E5ECF6",
           "radialaxis": {
            "gridcolor": "white",
            "linecolor": "white",
            "ticks": ""
           }
          },
          "scene": {
           "xaxis": {
            "backgroundcolor": "#E5ECF6",
            "gridcolor": "white",
            "gridwidth": 2,
            "linecolor": "white",
            "showbackground": true,
            "ticks": "",
            "zerolinecolor": "white"
           },
           "yaxis": {
            "backgroundcolor": "#E5ECF6",
            "gridcolor": "white",
            "gridwidth": 2,
            "linecolor": "white",
            "showbackground": true,
            "ticks": "",
            "zerolinecolor": "white"
           },
           "zaxis": {
            "backgroundcolor": "#E5ECF6",
            "gridcolor": "white",
            "gridwidth": 2,
            "linecolor": "white",
            "showbackground": true,
            "ticks": "",
            "zerolinecolor": "white"
           }
          },
          "shapedefaults": {
           "line": {
            "color": "#2a3f5f"
           }
          },
          "ternary": {
           "aaxis": {
            "gridcolor": "white",
            "linecolor": "white",
            "ticks": ""
           },
           "baxis": {
            "gridcolor": "white",
            "linecolor": "white",
            "ticks": ""
           },
           "bgcolor": "#E5ECF6",
           "caxis": {
            "gridcolor": "white",
            "linecolor": "white",
            "ticks": ""
           }
          },
          "title": {
           "x": 0.05
          },
          "xaxis": {
           "automargin": true,
           "gridcolor": "white",
           "linecolor": "white",
           "ticks": "",
           "title": {
            "standoff": 15
           },
           "zerolinecolor": "white",
           "zerolinewidth": 2
          },
          "yaxis": {
           "automargin": true,
           "gridcolor": "white",
           "linecolor": "white",
           "ticks": "",
           "title": {
            "standoff": 15
           },
           "zerolinecolor": "white",
           "zerolinewidth": 2
          }
         }
        },
        "title": {
         "font": {
          "color": "#4D5663"
         }
        },
        "xaxis": {
         "gridcolor": "#E1E5ED",
         "showgrid": true,
         "tickfont": {
          "color": "#4D5663"
         },
         "title": {
          "font": {
           "color": "#4D5663"
          },
          "text": ""
         },
         "zerolinecolor": "#E1E5ED"
        },
        "yaxis": {
         "gridcolor": "#E1E5ED",
         "showgrid": true,
         "tickfont": {
          "color": "#4D5663"
         },
         "title": {
          "font": {
           "color": "#4D5663"
          },
          "text": ""
         },
         "zerolinecolor": "#E1E5ED"
        }
       }
      },
      "text/html": [
       "<div>\n",
       "        \n",
       "        \n",
       "            <div id=\"6ddaa865-5fa4-44c6-9aa3-ae0086d71ccc\" class=\"plotly-graph-div\" style=\"height:525px; width:100%;\"></div>\n",
       "            <script type=\"text/javascript\">\n",
       "                require([\"plotly\"], function(Plotly) {\n",
       "                    window.PLOTLYENV=window.PLOTLYENV || {};\n",
       "                    window.PLOTLYENV.BASE_URL='https://plot.ly';\n",
       "                    \n",
       "                if (document.getElementById(\"6ddaa865-5fa4-44c6-9aa3-ae0086d71ccc\")) {\n",
       "                    Plotly.newPlot(\n",
       "                        '6ddaa865-5fa4-44c6-9aa3-ae0086d71ccc',\n",
       "                        [{\"colorscale\": [[0.0, \"rgb(165,0,38)\"], [0.1, \"rgb(215,48,39)\"], [0.2, \"rgb(244,109,67)\"], [0.3, \"rgb(253,174,97)\"], [0.4, \"rgb(254,224,144)\"], [0.5, \"rgb(255,255,191)\"], [0.6, \"rgb(224,243,248)\"], [0.7, \"rgb(171,217,233)\"], [0.8, \"rgb(116,173,209)\"], [0.9, \"rgb(69,117,180)\"], [1.0, \"rgb(49,54,149)\"]], \"type\": \"surface\", \"x\": [0, 1, 2, 3, 4], \"y\": [\"x\", \"y\", \"z\"], \"z\": [[1, 2, 3, 4, 5], [10, 20, 30, 20, 10], [5, 4, 3, 2, 1]]}],\n",
       "                        {\"legend\": {\"bgcolor\": \"#F5F6F9\", \"font\": {\"color\": \"#4D5663\"}}, \"paper_bgcolor\": \"#F5F6F9\", \"plot_bgcolor\": \"#F5F6F9\", \"template\": {\"data\": {\"bar\": [{\"error_x\": {\"color\": \"#2a3f5f\"}, \"error_y\": {\"color\": \"#2a3f5f\"}, \"marker\": {\"line\": {\"color\": \"#E5ECF6\", \"width\": 0.5}}, \"type\": \"bar\"}], \"barpolar\": [{\"marker\": {\"line\": {\"color\": \"#E5ECF6\", \"width\": 0.5}}, \"type\": \"barpolar\"}], \"carpet\": [{\"aaxis\": {\"endlinecolor\": \"#2a3f5f\", \"gridcolor\": \"white\", \"linecolor\": \"white\", \"minorgridcolor\": \"white\", \"startlinecolor\": \"#2a3f5f\"}, \"baxis\": {\"endlinecolor\": \"#2a3f5f\", \"gridcolor\": \"white\", \"linecolor\": \"white\", \"minorgridcolor\": \"white\", \"startlinecolor\": \"#2a3f5f\"}, \"type\": \"carpet\"}], \"choropleth\": [{\"colorbar\": {\"outlinewidth\": 0, \"ticks\": \"\"}, \"type\": \"choropleth\"}], \"contour\": [{\"colorbar\": {\"outlinewidth\": 0, \"ticks\": \"\"}, \"colorscale\": [[0.0, \"#0d0887\"], [0.1111111111111111, \"#46039f\"], [0.2222222222222222, \"#7201a8\"], [0.3333333333333333, \"#9c179e\"], [0.4444444444444444, \"#bd3786\"], [0.5555555555555556, \"#d8576b\"], [0.6666666666666666, \"#ed7953\"], [0.7777777777777778, \"#fb9f3a\"], [0.8888888888888888, \"#fdca26\"], [1.0, \"#f0f921\"]], \"type\": \"contour\"}], \"contourcarpet\": [{\"colorbar\": {\"outlinewidth\": 0, \"ticks\": \"\"}, \"type\": \"contourcarpet\"}], \"heatmap\": [{\"colorbar\": {\"outlinewidth\": 0, \"ticks\": \"\"}, \"colorscale\": [[0.0, \"#0d0887\"], [0.1111111111111111, \"#46039f\"], [0.2222222222222222, \"#7201a8\"], [0.3333333333333333, \"#9c179e\"], [0.4444444444444444, \"#bd3786\"], [0.5555555555555556, \"#d8576b\"], [0.6666666666666666, \"#ed7953\"], [0.7777777777777778, \"#fb9f3a\"], [0.8888888888888888, \"#fdca26\"], [1.0, \"#f0f921\"]], \"type\": \"heatmap\"}], \"heatmapgl\": [{\"colorbar\": {\"outlinewidth\": 0, \"ticks\": \"\"}, \"colorscale\": [[0.0, \"#0d0887\"], [0.1111111111111111, \"#46039f\"], [0.2222222222222222, \"#7201a8\"], [0.3333333333333333, \"#9c179e\"], [0.4444444444444444, \"#bd3786\"], [0.5555555555555556, \"#d8576b\"], [0.6666666666666666, \"#ed7953\"], [0.7777777777777778, \"#fb9f3a\"], [0.8888888888888888, \"#fdca26\"], [1.0, \"#f0f921\"]], \"type\": \"heatmapgl\"}], \"histogram\": [{\"marker\": {\"colorbar\": {\"outlinewidth\": 0, \"ticks\": \"\"}}, \"type\": \"histogram\"}], \"histogram2d\": [{\"colorbar\": {\"outlinewidth\": 0, \"ticks\": \"\"}, \"colorscale\": [[0.0, \"#0d0887\"], [0.1111111111111111, \"#46039f\"], [0.2222222222222222, \"#7201a8\"], [0.3333333333333333, \"#9c179e\"], [0.4444444444444444, \"#bd3786\"], [0.5555555555555556, \"#d8576b\"], [0.6666666666666666, \"#ed7953\"], [0.7777777777777778, \"#fb9f3a\"], [0.8888888888888888, \"#fdca26\"], [1.0, \"#f0f921\"]], \"type\": \"histogram2d\"}], \"histogram2dcontour\": [{\"colorbar\": {\"outlinewidth\": 0, \"ticks\": \"\"}, \"colorscale\": [[0.0, \"#0d0887\"], [0.1111111111111111, \"#46039f\"], [0.2222222222222222, \"#7201a8\"], [0.3333333333333333, \"#9c179e\"], [0.4444444444444444, \"#bd3786\"], [0.5555555555555556, \"#d8576b\"], [0.6666666666666666, \"#ed7953\"], [0.7777777777777778, \"#fb9f3a\"], [0.8888888888888888, \"#fdca26\"], [1.0, \"#f0f921\"]], \"type\": \"histogram2dcontour\"}], \"mesh3d\": [{\"colorbar\": {\"outlinewidth\": 0, \"ticks\": \"\"}, \"type\": \"mesh3d\"}], \"parcoords\": [{\"line\": {\"colorbar\": {\"outlinewidth\": 0, \"ticks\": \"\"}}, \"type\": \"parcoords\"}], \"pie\": [{\"automargin\": true, \"type\": \"pie\"}], \"scatter\": [{\"marker\": {\"colorbar\": {\"outlinewidth\": 0, \"ticks\": \"\"}}, \"type\": \"scatter\"}], \"scatter3d\": [{\"line\": {\"colorbar\": {\"outlinewidth\": 0, \"ticks\": \"\"}}, \"marker\": {\"colorbar\": {\"outlinewidth\": 0, \"ticks\": \"\"}}, \"type\": \"scatter3d\"}], \"scattercarpet\": [{\"marker\": {\"colorbar\": {\"outlinewidth\": 0, \"ticks\": \"\"}}, \"type\": \"scattercarpet\"}], \"scattergeo\": [{\"marker\": {\"colorbar\": {\"outlinewidth\": 0, \"ticks\": \"\"}}, \"type\": \"scattergeo\"}], \"scattergl\": [{\"marker\": {\"colorbar\": {\"outlinewidth\": 0, \"ticks\": \"\"}}, \"type\": \"scattergl\"}], \"scattermapbox\": [{\"marker\": {\"colorbar\": {\"outlinewidth\": 0, \"ticks\": \"\"}}, \"type\": \"scattermapbox\"}], \"scatterpolar\": [{\"marker\": {\"colorbar\": {\"outlinewidth\": 0, \"ticks\": \"\"}}, \"type\": \"scatterpolar\"}], \"scatterpolargl\": [{\"marker\": {\"colorbar\": {\"outlinewidth\": 0, \"ticks\": \"\"}}, \"type\": \"scatterpolargl\"}], \"scatterternary\": [{\"marker\": {\"colorbar\": {\"outlinewidth\": 0, \"ticks\": \"\"}}, \"type\": \"scatterternary\"}], \"surface\": [{\"colorbar\": {\"outlinewidth\": 0, \"ticks\": \"\"}, \"colorscale\": [[0.0, \"#0d0887\"], [0.1111111111111111, \"#46039f\"], [0.2222222222222222, \"#7201a8\"], [0.3333333333333333, \"#9c179e\"], [0.4444444444444444, \"#bd3786\"], [0.5555555555555556, \"#d8576b\"], [0.6666666666666666, \"#ed7953\"], [0.7777777777777778, \"#fb9f3a\"], [0.8888888888888888, \"#fdca26\"], [1.0, \"#f0f921\"]], \"type\": \"surface\"}], \"table\": [{\"cells\": {\"fill\": {\"color\": \"#EBF0F8\"}, \"line\": {\"color\": \"white\"}}, \"header\": {\"fill\": {\"color\": \"#C8D4E3\"}, \"line\": {\"color\": \"white\"}}, \"type\": \"table\"}]}, \"layout\": {\"annotationdefaults\": {\"arrowcolor\": \"#2a3f5f\", \"arrowhead\": 0, \"arrowwidth\": 1}, \"coloraxis\": {\"colorbar\": {\"outlinewidth\": 0, \"ticks\": \"\"}}, \"colorscale\": {\"diverging\": [[0, \"#8e0152\"], [0.1, \"#c51b7d\"], [0.2, \"#de77ae\"], [0.3, \"#f1b6da\"], [0.4, \"#fde0ef\"], [0.5, \"#f7f7f7\"], [0.6, \"#e6f5d0\"], [0.7, \"#b8e186\"], [0.8, \"#7fbc41\"], [0.9, \"#4d9221\"], [1, \"#276419\"]], \"sequential\": [[0.0, \"#0d0887\"], [0.1111111111111111, \"#46039f\"], [0.2222222222222222, \"#7201a8\"], [0.3333333333333333, \"#9c179e\"], [0.4444444444444444, \"#bd3786\"], [0.5555555555555556, \"#d8576b\"], [0.6666666666666666, \"#ed7953\"], [0.7777777777777778, \"#fb9f3a\"], [0.8888888888888888, \"#fdca26\"], [1.0, \"#f0f921\"]], \"sequentialminus\": [[0.0, \"#0d0887\"], [0.1111111111111111, \"#46039f\"], [0.2222222222222222, \"#7201a8\"], [0.3333333333333333, \"#9c179e\"], [0.4444444444444444, \"#bd3786\"], [0.5555555555555556, \"#d8576b\"], [0.6666666666666666, \"#ed7953\"], [0.7777777777777778, \"#fb9f3a\"], [0.8888888888888888, \"#fdca26\"], [1.0, \"#f0f921\"]]}, \"colorway\": [\"#636efa\", \"#EF553B\", \"#00cc96\", \"#ab63fa\", \"#FFA15A\", \"#19d3f3\", \"#FF6692\", \"#B6E880\", \"#FF97FF\", \"#FECB52\"], \"font\": {\"color\": \"#2a3f5f\"}, \"geo\": {\"bgcolor\": \"white\", \"lakecolor\": \"white\", \"landcolor\": \"#E5ECF6\", \"showlakes\": true, \"showland\": true, \"subunitcolor\": \"white\"}, \"hoverlabel\": {\"align\": \"left\"}, \"hovermode\": \"closest\", \"mapbox\": {\"style\": \"light\"}, \"paper_bgcolor\": \"white\", \"plot_bgcolor\": \"#E5ECF6\", \"polar\": {\"angularaxis\": {\"gridcolor\": \"white\", \"linecolor\": \"white\", \"ticks\": \"\"}, \"bgcolor\": \"#E5ECF6\", \"radialaxis\": {\"gridcolor\": \"white\", \"linecolor\": \"white\", \"ticks\": \"\"}}, \"scene\": {\"xaxis\": {\"backgroundcolor\": \"#E5ECF6\", \"gridcolor\": \"white\", \"gridwidth\": 2, \"linecolor\": \"white\", \"showbackground\": true, \"ticks\": \"\", \"zerolinecolor\": \"white\"}, \"yaxis\": {\"backgroundcolor\": \"#E5ECF6\", \"gridcolor\": \"white\", \"gridwidth\": 2, \"linecolor\": \"white\", \"showbackground\": true, \"ticks\": \"\", \"zerolinecolor\": \"white\"}, \"zaxis\": {\"backgroundcolor\": \"#E5ECF6\", \"gridcolor\": \"white\", \"gridwidth\": 2, \"linecolor\": \"white\", \"showbackground\": true, \"ticks\": \"\", \"zerolinecolor\": \"white\"}}, \"shapedefaults\": {\"line\": {\"color\": \"#2a3f5f\"}}, \"ternary\": {\"aaxis\": {\"gridcolor\": \"white\", \"linecolor\": \"white\", \"ticks\": \"\"}, \"baxis\": {\"gridcolor\": \"white\", \"linecolor\": \"white\", \"ticks\": \"\"}, \"bgcolor\": \"#E5ECF6\", \"caxis\": {\"gridcolor\": \"white\", \"linecolor\": \"white\", \"ticks\": \"\"}}, \"title\": {\"x\": 0.05}, \"xaxis\": {\"automargin\": true, \"gridcolor\": \"white\", \"linecolor\": \"white\", \"ticks\": \"\", \"title\": {\"standoff\": 15}, \"zerolinecolor\": \"white\", \"zerolinewidth\": 2}, \"yaxis\": {\"automargin\": true, \"gridcolor\": \"white\", \"linecolor\": \"white\", \"ticks\": \"\", \"title\": {\"standoff\": 15}, \"zerolinecolor\": \"white\", \"zerolinewidth\": 2}}}, \"title\": {\"font\": {\"color\": \"#4D5663\"}}, \"xaxis\": {\"gridcolor\": \"#E1E5ED\", \"showgrid\": true, \"tickfont\": {\"color\": \"#4D5663\"}, \"title\": {\"font\": {\"color\": \"#4D5663\"}, \"text\": \"\"}, \"zerolinecolor\": \"#E1E5ED\"}, \"yaxis\": {\"gridcolor\": \"#E1E5ED\", \"showgrid\": true, \"tickfont\": {\"color\": \"#4D5663\"}, \"title\": {\"font\": {\"color\": \"#4D5663\"}, \"text\": \"\"}, \"zerolinecolor\": \"#E1E5ED\"}},\n",
       "                        {\"showLink\": true, \"linkText\": \"Export to plot.ly\", \"plotlyServerURL\": \"https://plot.ly\", \"responsive\": true}\n",
       "                    ).then(function(){\n",
       "                            \n",
       "var gd = document.getElementById('6ddaa865-5fa4-44c6-9aa3-ae0086d71ccc');\n",
       "var x = new MutationObserver(function (mutations, observer) {{\n",
       "        var display = window.getComputedStyle(gd).display;\n",
       "        if (!display || display === 'none') {{\n",
       "            console.log([gd, 'removed!']);\n",
       "            Plotly.purge(gd);\n",
       "            observer.disconnect();\n",
       "        }}\n",
       "}});\n",
       "\n",
       "// Listen for the removal of the full notebook cells\n",
       "var notebookContainer = gd.closest('#notebook-container');\n",
       "if (notebookContainer) {{\n",
       "    x.observe(notebookContainer, {childList: true});\n",
       "}}\n",
       "\n",
       "// Listen for the clearing of the current output cell\n",
       "var outputEl = gd.closest('.output');\n",
       "if (outputEl) {{\n",
       "    x.observe(outputEl, {childList: true});\n",
       "}}\n",
       "\n",
       "                        })\n",
       "                };\n",
       "                });\n",
       "            </script>\n",
       "        </div>"
      ]
     },
     "metadata": {},
     "output_type": "display_data"
    }
   ],
   "source": [
    "df3.iplot(kind='surface', colorscale='rdylbu')"
   ]
  },
  {
   "cell_type": "code",
   "execution_count": 68,
   "metadata": {},
   "outputs": [
    {
     "data": {
      "application/vnd.plotly.v1+json": {
       "config": {
        "linkText": "Export to plot.ly",
        "plotlyServerURL": "https://plot.ly",
        "showLink": true
       },
       "data": [
        {
         "histfunc": "count",
         "histnorm": "",
         "marker": {
          "color": "rgba(255, 153, 51, 1.0)",
          "line": {
           "color": "#4D5663",
           "width": 1.3
          }
         },
         "name": "A",
         "nbinsx": 50,
         "opacity": 0.8,
         "orientation": "v",
         "type": "histogram",
         "x": [
          1.472529121625012,
          1.130248943233051,
          -0.03482930485305292,
          -0.5732950541498779,
          0.6679167375471895,
          -0.8579231829134375,
          0.8094528586808082,
          0.3085641347607752,
          0.27377683773219197,
          0.23206478359138408,
          0.05238217602947687,
          1.6583515353500433,
          0.07790651684678294,
          -1.7301434691903925,
          -0.5641455958381295,
          0.4147172412633151,
          -0.09849314047167301,
          0.9977271515240892,
          0.8786339083285464,
          0.6950074047715827,
          0.45710903842482575,
          0.4982199907784472,
          0.12903988052103624,
          -1.4837525556196758,
          2.1559376570965503,
          0.27121817416520905,
          -0.7920459692083268,
          0.34986943200659715,
          -1.4244439368614608,
          0.32694876044997556,
          0.46860953711542114,
          -0.8163787512650883,
          1.2187153472151357,
          -0.20858295937455842,
          -1.6419227340761469,
          -1.7597511712926772,
          -0.889500156517225,
          0.7680841645055828,
          0.242169122327131,
          1.836311067999764,
          -0.3640393725187276,
          0.6913544823158839,
          0.5381815943734077,
          -1.2920024951121236,
          0.32683652775332095,
          -1.6543868904131966,
          -0.07603260838364179,
          -1.1191319473076922,
          -0.06515760125541344,
          2.6112740684691444,
          0.189885318735173,
          0.758128711401495,
          1.3565878468023498,
          -1.6605371867714478,
          -0.7657077563048298,
          -0.3795261071180454,
          -1.0575887339186927,
          -0.21917702928905666,
          -0.018563285766532843,
          -0.31467704146234077,
          -0.15156994149975483,
          1.3072808419825945,
          0.301826271055909,
          0.9387223883113914,
          -0.9159890914090407,
          0.9972746743704269,
          -0.14961035018933383,
          0.6936412738254416,
          0.02150439010857565,
          -0.09685198016522274,
          -0.17962054484657083,
          2.8387103914674565,
          1.7403528975355167,
          0.16910030614484756,
          -1.8773354305002856,
          0.825977346945175,
          0.8377635089652343,
          0.9617236811802147,
          -0.6473981950616219,
          -1.6658039916353078,
          -0.2692192979839951,
          -2.729756849044134,
          -0.22782472436569362,
          -0.501111975287052,
          0.46337026689879734,
          1.0619123546213953,
          1.6562427899245722,
          0.062163840611550794,
          0.19039780019298785,
          0.026824609638366238,
          0.8368352166533789,
          0.29023261477188106,
          -0.4892908992826225,
          0.4014711067047261,
          0.7167889751395604,
          1.2783993039707082,
          -0.45256841203177944,
          -1.104240974398623,
          0.48498329755483055,
          0.4547917796841871
         ]
        }
       ],
       "layout": {
        "barmode": "overlay",
        "legend": {
         "bgcolor": "#F5F6F9",
         "font": {
          "color": "#4D5663"
         }
        },
        "paper_bgcolor": "#F5F6F9",
        "plot_bgcolor": "#F5F6F9",
        "template": {
         "data": {
          "bar": [
           {
            "error_x": {
             "color": "#2a3f5f"
            },
            "error_y": {
             "color": "#2a3f5f"
            },
            "marker": {
             "line": {
              "color": "#E5ECF6",
              "width": 0.5
             }
            },
            "type": "bar"
           }
          ],
          "barpolar": [
           {
            "marker": {
             "line": {
              "color": "#E5ECF6",
              "width": 0.5
             }
            },
            "type": "barpolar"
           }
          ],
          "carpet": [
           {
            "aaxis": {
             "endlinecolor": "#2a3f5f",
             "gridcolor": "white",
             "linecolor": "white",
             "minorgridcolor": "white",
             "startlinecolor": "#2a3f5f"
            },
            "baxis": {
             "endlinecolor": "#2a3f5f",
             "gridcolor": "white",
             "linecolor": "white",
             "minorgridcolor": "white",
             "startlinecolor": "#2a3f5f"
            },
            "type": "carpet"
           }
          ],
          "choropleth": [
           {
            "colorbar": {
             "outlinewidth": 0,
             "ticks": ""
            },
            "type": "choropleth"
           }
          ],
          "contour": [
           {
            "colorbar": {
             "outlinewidth": 0,
             "ticks": ""
            },
            "colorscale": [
             [
              0,
              "#0d0887"
             ],
             [
              0.1111111111111111,
              "#46039f"
             ],
             [
              0.2222222222222222,
              "#7201a8"
             ],
             [
              0.3333333333333333,
              "#9c179e"
             ],
             [
              0.4444444444444444,
              "#bd3786"
             ],
             [
              0.5555555555555556,
              "#d8576b"
             ],
             [
              0.6666666666666666,
              "#ed7953"
             ],
             [
              0.7777777777777778,
              "#fb9f3a"
             ],
             [
              0.8888888888888888,
              "#fdca26"
             ],
             [
              1,
              "#f0f921"
             ]
            ],
            "type": "contour"
           }
          ],
          "contourcarpet": [
           {
            "colorbar": {
             "outlinewidth": 0,
             "ticks": ""
            },
            "type": "contourcarpet"
           }
          ],
          "heatmap": [
           {
            "colorbar": {
             "outlinewidth": 0,
             "ticks": ""
            },
            "colorscale": [
             [
              0,
              "#0d0887"
             ],
             [
              0.1111111111111111,
              "#46039f"
             ],
             [
              0.2222222222222222,
              "#7201a8"
             ],
             [
              0.3333333333333333,
              "#9c179e"
             ],
             [
              0.4444444444444444,
              "#bd3786"
             ],
             [
              0.5555555555555556,
              "#d8576b"
             ],
             [
              0.6666666666666666,
              "#ed7953"
             ],
             [
              0.7777777777777778,
              "#fb9f3a"
             ],
             [
              0.8888888888888888,
              "#fdca26"
             ],
             [
              1,
              "#f0f921"
             ]
            ],
            "type": "heatmap"
           }
          ],
          "heatmapgl": [
           {
            "colorbar": {
             "outlinewidth": 0,
             "ticks": ""
            },
            "colorscale": [
             [
              0,
              "#0d0887"
             ],
             [
              0.1111111111111111,
              "#46039f"
             ],
             [
              0.2222222222222222,
              "#7201a8"
             ],
             [
              0.3333333333333333,
              "#9c179e"
             ],
             [
              0.4444444444444444,
              "#bd3786"
             ],
             [
              0.5555555555555556,
              "#d8576b"
             ],
             [
              0.6666666666666666,
              "#ed7953"
             ],
             [
              0.7777777777777778,
              "#fb9f3a"
             ],
             [
              0.8888888888888888,
              "#fdca26"
             ],
             [
              1,
              "#f0f921"
             ]
            ],
            "type": "heatmapgl"
           }
          ],
          "histogram": [
           {
            "marker": {
             "colorbar": {
              "outlinewidth": 0,
              "ticks": ""
             }
            },
            "type": "histogram"
           }
          ],
          "histogram2d": [
           {
            "colorbar": {
             "outlinewidth": 0,
             "ticks": ""
            },
            "colorscale": [
             [
              0,
              "#0d0887"
             ],
             [
              0.1111111111111111,
              "#46039f"
             ],
             [
              0.2222222222222222,
              "#7201a8"
             ],
             [
              0.3333333333333333,
              "#9c179e"
             ],
             [
              0.4444444444444444,
              "#bd3786"
             ],
             [
              0.5555555555555556,
              "#d8576b"
             ],
             [
              0.6666666666666666,
              "#ed7953"
             ],
             [
              0.7777777777777778,
              "#fb9f3a"
             ],
             [
              0.8888888888888888,
              "#fdca26"
             ],
             [
              1,
              "#f0f921"
             ]
            ],
            "type": "histogram2d"
           }
          ],
          "histogram2dcontour": [
           {
            "colorbar": {
             "outlinewidth": 0,
             "ticks": ""
            },
            "colorscale": [
             [
              0,
              "#0d0887"
             ],
             [
              0.1111111111111111,
              "#46039f"
             ],
             [
              0.2222222222222222,
              "#7201a8"
             ],
             [
              0.3333333333333333,
              "#9c179e"
             ],
             [
              0.4444444444444444,
              "#bd3786"
             ],
             [
              0.5555555555555556,
              "#d8576b"
             ],
             [
              0.6666666666666666,
              "#ed7953"
             ],
             [
              0.7777777777777778,
              "#fb9f3a"
             ],
             [
              0.8888888888888888,
              "#fdca26"
             ],
             [
              1,
              "#f0f921"
             ]
            ],
            "type": "histogram2dcontour"
           }
          ],
          "mesh3d": [
           {
            "colorbar": {
             "outlinewidth": 0,
             "ticks": ""
            },
            "type": "mesh3d"
           }
          ],
          "parcoords": [
           {
            "line": {
             "colorbar": {
              "outlinewidth": 0,
              "ticks": ""
             }
            },
            "type": "parcoords"
           }
          ],
          "pie": [
           {
            "automargin": true,
            "type": "pie"
           }
          ],
          "scatter": [
           {
            "marker": {
             "colorbar": {
              "outlinewidth": 0,
              "ticks": ""
             }
            },
            "type": "scatter"
           }
          ],
          "scatter3d": [
           {
            "line": {
             "colorbar": {
              "outlinewidth": 0,
              "ticks": ""
             }
            },
            "marker": {
             "colorbar": {
              "outlinewidth": 0,
              "ticks": ""
             }
            },
            "type": "scatter3d"
           }
          ],
          "scattercarpet": [
           {
            "marker": {
             "colorbar": {
              "outlinewidth": 0,
              "ticks": ""
             }
            },
            "type": "scattercarpet"
           }
          ],
          "scattergeo": [
           {
            "marker": {
             "colorbar": {
              "outlinewidth": 0,
              "ticks": ""
             }
            },
            "type": "scattergeo"
           }
          ],
          "scattergl": [
           {
            "marker": {
             "colorbar": {
              "outlinewidth": 0,
              "ticks": ""
             }
            },
            "type": "scattergl"
           }
          ],
          "scattermapbox": [
           {
            "marker": {
             "colorbar": {
              "outlinewidth": 0,
              "ticks": ""
             }
            },
            "type": "scattermapbox"
           }
          ],
          "scatterpolar": [
           {
            "marker": {
             "colorbar": {
              "outlinewidth": 0,
              "ticks": ""
             }
            },
            "type": "scatterpolar"
           }
          ],
          "scatterpolargl": [
           {
            "marker": {
             "colorbar": {
              "outlinewidth": 0,
              "ticks": ""
             }
            },
            "type": "scatterpolargl"
           }
          ],
          "scatterternary": [
           {
            "marker": {
             "colorbar": {
              "outlinewidth": 0,
              "ticks": ""
             }
            },
            "type": "scatterternary"
           }
          ],
          "surface": [
           {
            "colorbar": {
             "outlinewidth": 0,
             "ticks": ""
            },
            "colorscale": [
             [
              0,
              "#0d0887"
             ],
             [
              0.1111111111111111,
              "#46039f"
             ],
             [
              0.2222222222222222,
              "#7201a8"
             ],
             [
              0.3333333333333333,
              "#9c179e"
             ],
             [
              0.4444444444444444,
              "#bd3786"
             ],
             [
              0.5555555555555556,
              "#d8576b"
             ],
             [
              0.6666666666666666,
              "#ed7953"
             ],
             [
              0.7777777777777778,
              "#fb9f3a"
             ],
             [
              0.8888888888888888,
              "#fdca26"
             ],
             [
              1,
              "#f0f921"
             ]
            ],
            "type": "surface"
           }
          ],
          "table": [
           {
            "cells": {
             "fill": {
              "color": "#EBF0F8"
             },
             "line": {
              "color": "white"
             }
            },
            "header": {
             "fill": {
              "color": "#C8D4E3"
             },
             "line": {
              "color": "white"
             }
            },
            "type": "table"
           }
          ]
         },
         "layout": {
          "annotationdefaults": {
           "arrowcolor": "#2a3f5f",
           "arrowhead": 0,
           "arrowwidth": 1
          },
          "coloraxis": {
           "colorbar": {
            "outlinewidth": 0,
            "ticks": ""
           }
          },
          "colorscale": {
           "diverging": [
            [
             0,
             "#8e0152"
            ],
            [
             0.1,
             "#c51b7d"
            ],
            [
             0.2,
             "#de77ae"
            ],
            [
             0.3,
             "#f1b6da"
            ],
            [
             0.4,
             "#fde0ef"
            ],
            [
             0.5,
             "#f7f7f7"
            ],
            [
             0.6,
             "#e6f5d0"
            ],
            [
             0.7,
             "#b8e186"
            ],
            [
             0.8,
             "#7fbc41"
            ],
            [
             0.9,
             "#4d9221"
            ],
            [
             1,
             "#276419"
            ]
           ],
           "sequential": [
            [
             0,
             "#0d0887"
            ],
            [
             0.1111111111111111,
             "#46039f"
            ],
            [
             0.2222222222222222,
             "#7201a8"
            ],
            [
             0.3333333333333333,
             "#9c179e"
            ],
            [
             0.4444444444444444,
             "#bd3786"
            ],
            [
             0.5555555555555556,
             "#d8576b"
            ],
            [
             0.6666666666666666,
             "#ed7953"
            ],
            [
             0.7777777777777778,
             "#fb9f3a"
            ],
            [
             0.8888888888888888,
             "#fdca26"
            ],
            [
             1,
             "#f0f921"
            ]
           ],
           "sequentialminus": [
            [
             0,
             "#0d0887"
            ],
            [
             0.1111111111111111,
             "#46039f"
            ],
            [
             0.2222222222222222,
             "#7201a8"
            ],
            [
             0.3333333333333333,
             "#9c179e"
            ],
            [
             0.4444444444444444,
             "#bd3786"
            ],
            [
             0.5555555555555556,
             "#d8576b"
            ],
            [
             0.6666666666666666,
             "#ed7953"
            ],
            [
             0.7777777777777778,
             "#fb9f3a"
            ],
            [
             0.8888888888888888,
             "#fdca26"
            ],
            [
             1,
             "#f0f921"
            ]
           ]
          },
          "colorway": [
           "#636efa",
           "#EF553B",
           "#00cc96",
           "#ab63fa",
           "#FFA15A",
           "#19d3f3",
           "#FF6692",
           "#B6E880",
           "#FF97FF",
           "#FECB52"
          ],
          "font": {
           "color": "#2a3f5f"
          },
          "geo": {
           "bgcolor": "white",
           "lakecolor": "white",
           "landcolor": "#E5ECF6",
           "showlakes": true,
           "showland": true,
           "subunitcolor": "white"
          },
          "hoverlabel": {
           "align": "left"
          },
          "hovermode": "closest",
          "mapbox": {
           "style": "light"
          },
          "paper_bgcolor": "white",
          "plot_bgcolor": "#E5ECF6",
          "polar": {
           "angularaxis": {
            "gridcolor": "white",
            "linecolor": "white",
            "ticks": ""
           },
           "bgcolor": "#E5ECF6",
           "radialaxis": {
            "gridcolor": "white",
            "linecolor": "white",
            "ticks": ""
           }
          },
          "scene": {
           "xaxis": {
            "backgroundcolor": "#E5ECF6",
            "gridcolor": "white",
            "gridwidth": 2,
            "linecolor": "white",
            "showbackground": true,
            "ticks": "",
            "zerolinecolor": "white"
           },
           "yaxis": {
            "backgroundcolor": "#E5ECF6",
            "gridcolor": "white",
            "gridwidth": 2,
            "linecolor": "white",
            "showbackground": true,
            "ticks": "",
            "zerolinecolor": "white"
           },
           "zaxis": {
            "backgroundcolor": "#E5ECF6",
            "gridcolor": "white",
            "gridwidth": 2,
            "linecolor": "white",
            "showbackground": true,
            "ticks": "",
            "zerolinecolor": "white"
           }
          },
          "shapedefaults": {
           "line": {
            "color": "#2a3f5f"
           }
          },
          "ternary": {
           "aaxis": {
            "gridcolor": "white",
            "linecolor": "white",
            "ticks": ""
           },
           "baxis": {
            "gridcolor": "white",
            "linecolor": "white",
            "ticks": ""
           },
           "bgcolor": "#E5ECF6",
           "caxis": {
            "gridcolor": "white",
            "linecolor": "white",
            "ticks": ""
           }
          },
          "title": {
           "x": 0.05
          },
          "xaxis": {
           "automargin": true,
           "gridcolor": "white",
           "linecolor": "white",
           "ticks": "",
           "title": {
            "standoff": 15
           },
           "zerolinecolor": "white",
           "zerolinewidth": 2
          },
          "yaxis": {
           "automargin": true,
           "gridcolor": "white",
           "linecolor": "white",
           "ticks": "",
           "title": {
            "standoff": 15
           },
           "zerolinecolor": "white",
           "zerolinewidth": 2
          }
         }
        },
        "title": {
         "font": {
          "color": "#4D5663"
         }
        },
        "xaxis": {
         "gridcolor": "#E1E5ED",
         "showgrid": true,
         "tickfont": {
          "color": "#4D5663"
         },
         "title": {
          "font": {
           "color": "#4D5663"
          },
          "text": ""
         },
         "zerolinecolor": "#E1E5ED"
        },
        "yaxis": {
         "gridcolor": "#E1E5ED",
         "showgrid": true,
         "tickfont": {
          "color": "#4D5663"
         },
         "title": {
          "font": {
           "color": "#4D5663"
          },
          "text": ""
         },
         "zerolinecolor": "#E1E5ED"
        }
       }
      },
      "text/html": [
       "<div>\n",
       "        \n",
       "        \n",
       "            <div id=\"b4ec6f6e-c454-4de3-b13d-0ffdd7104abe\" class=\"plotly-graph-div\" style=\"height:525px; width:100%;\"></div>\n",
       "            <script type=\"text/javascript\">\n",
       "                require([\"plotly\"], function(Plotly) {\n",
       "                    window.PLOTLYENV=window.PLOTLYENV || {};\n",
       "                    window.PLOTLYENV.BASE_URL='https://plot.ly';\n",
       "                    \n",
       "                if (document.getElementById(\"b4ec6f6e-c454-4de3-b13d-0ffdd7104abe\")) {\n",
       "                    Plotly.newPlot(\n",
       "                        'b4ec6f6e-c454-4de3-b13d-0ffdd7104abe',\n",
       "                        [{\"histfunc\": \"count\", \"histnorm\": \"\", \"marker\": {\"color\": \"rgba(255, 153, 51, 1.0)\", \"line\": {\"color\": \"#4D5663\", \"width\": 1.3}}, \"name\": \"A\", \"nbinsx\": 50, \"opacity\": 0.8, \"orientation\": \"v\", \"type\": \"histogram\", \"x\": [1.472529121625012, 1.130248943233051, -0.03482930485305292, -0.5732950541498779, 0.6679167375471895, -0.8579231829134375, 0.8094528586808082, 0.3085641347607752, 0.27377683773219197, 0.23206478359138408, 0.05238217602947687, 1.6583515353500433, 0.07790651684678294, -1.7301434691903925, -0.5641455958381295, 0.4147172412633151, -0.09849314047167301, 0.9977271515240892, 0.8786339083285464, 0.6950074047715827, 0.45710903842482575, 0.4982199907784472, 0.12903988052103624, -1.4837525556196758, 2.1559376570965503, 0.27121817416520905, -0.7920459692083268, 0.34986943200659715, -1.4244439368614608, 0.32694876044997556, 0.46860953711542114, -0.8163787512650883, 1.2187153472151357, -0.20858295937455842, -1.6419227340761469, -1.7597511712926772, -0.889500156517225, 0.7680841645055828, 0.242169122327131, 1.836311067999764, -0.3640393725187276, 0.6913544823158839, 0.5381815943734077, -1.2920024951121236, 0.32683652775332095, -1.6543868904131966, -0.07603260838364179, -1.1191319473076922, -0.06515760125541344, 2.6112740684691444, 0.189885318735173, 0.758128711401495, 1.3565878468023498, -1.6605371867714478, -0.7657077563048298, -0.3795261071180454, -1.0575887339186927, -0.21917702928905666, -0.018563285766532843, -0.31467704146234077, -0.15156994149975483, 1.3072808419825945, 0.301826271055909, 0.9387223883113914, -0.9159890914090407, 0.9972746743704269, -0.14961035018933383, 0.6936412738254416, 0.02150439010857565, -0.09685198016522274, -0.17962054484657083, 2.8387103914674565, 1.7403528975355167, 0.16910030614484756, -1.8773354305002856, 0.825977346945175, 0.8377635089652343, 0.9617236811802147, -0.6473981950616219, -1.6658039916353078, -0.2692192979839951, -2.729756849044134, -0.22782472436569362, -0.501111975287052, 0.46337026689879734, 1.0619123546213953, 1.6562427899245722, 0.062163840611550794, 0.19039780019298785, 0.026824609638366238, 0.8368352166533789, 0.29023261477188106, -0.4892908992826225, 0.4014711067047261, 0.7167889751395604, 1.2783993039707082, -0.45256841203177944, -1.104240974398623, 0.48498329755483055, 0.4547917796841871]}],\n",
       "                        {\"barmode\": \"overlay\", \"legend\": {\"bgcolor\": \"#F5F6F9\", \"font\": {\"color\": \"#4D5663\"}}, \"paper_bgcolor\": \"#F5F6F9\", \"plot_bgcolor\": \"#F5F6F9\", \"template\": {\"data\": {\"bar\": [{\"error_x\": {\"color\": \"#2a3f5f\"}, \"error_y\": {\"color\": \"#2a3f5f\"}, \"marker\": {\"line\": {\"color\": \"#E5ECF6\", \"width\": 0.5}}, \"type\": \"bar\"}], \"barpolar\": [{\"marker\": {\"line\": {\"color\": \"#E5ECF6\", \"width\": 0.5}}, \"type\": \"barpolar\"}], \"carpet\": [{\"aaxis\": {\"endlinecolor\": \"#2a3f5f\", \"gridcolor\": \"white\", \"linecolor\": \"white\", \"minorgridcolor\": \"white\", \"startlinecolor\": \"#2a3f5f\"}, \"baxis\": {\"endlinecolor\": \"#2a3f5f\", \"gridcolor\": \"white\", \"linecolor\": \"white\", \"minorgridcolor\": \"white\", \"startlinecolor\": \"#2a3f5f\"}, \"type\": \"carpet\"}], \"choropleth\": [{\"colorbar\": {\"outlinewidth\": 0, \"ticks\": \"\"}, \"type\": \"choropleth\"}], \"contour\": [{\"colorbar\": {\"outlinewidth\": 0, \"ticks\": \"\"}, \"colorscale\": [[0.0, \"#0d0887\"], [0.1111111111111111, \"#46039f\"], [0.2222222222222222, \"#7201a8\"], [0.3333333333333333, \"#9c179e\"], [0.4444444444444444, \"#bd3786\"], [0.5555555555555556, \"#d8576b\"], [0.6666666666666666, \"#ed7953\"], [0.7777777777777778, \"#fb9f3a\"], [0.8888888888888888, \"#fdca26\"], [1.0, \"#f0f921\"]], \"type\": \"contour\"}], \"contourcarpet\": [{\"colorbar\": {\"outlinewidth\": 0, \"ticks\": \"\"}, \"type\": \"contourcarpet\"}], \"heatmap\": [{\"colorbar\": {\"outlinewidth\": 0, \"ticks\": \"\"}, \"colorscale\": [[0.0, \"#0d0887\"], [0.1111111111111111, \"#46039f\"], [0.2222222222222222, \"#7201a8\"], [0.3333333333333333, \"#9c179e\"], [0.4444444444444444, \"#bd3786\"], [0.5555555555555556, \"#d8576b\"], [0.6666666666666666, \"#ed7953\"], [0.7777777777777778, \"#fb9f3a\"], [0.8888888888888888, \"#fdca26\"], [1.0, \"#f0f921\"]], \"type\": \"heatmap\"}], \"heatmapgl\": [{\"colorbar\": {\"outlinewidth\": 0, \"ticks\": \"\"}, \"colorscale\": [[0.0, \"#0d0887\"], [0.1111111111111111, \"#46039f\"], [0.2222222222222222, \"#7201a8\"], [0.3333333333333333, \"#9c179e\"], [0.4444444444444444, \"#bd3786\"], [0.5555555555555556, \"#d8576b\"], [0.6666666666666666, \"#ed7953\"], [0.7777777777777778, \"#fb9f3a\"], [0.8888888888888888, \"#fdca26\"], [1.0, \"#f0f921\"]], \"type\": \"heatmapgl\"}], \"histogram\": [{\"marker\": {\"colorbar\": {\"outlinewidth\": 0, \"ticks\": \"\"}}, \"type\": \"histogram\"}], \"histogram2d\": [{\"colorbar\": {\"outlinewidth\": 0, \"ticks\": \"\"}, \"colorscale\": [[0.0, \"#0d0887\"], [0.1111111111111111, \"#46039f\"], [0.2222222222222222, \"#7201a8\"], [0.3333333333333333, \"#9c179e\"], [0.4444444444444444, \"#bd3786\"], [0.5555555555555556, \"#d8576b\"], [0.6666666666666666, \"#ed7953\"], [0.7777777777777778, \"#fb9f3a\"], [0.8888888888888888, \"#fdca26\"], [1.0, \"#f0f921\"]], \"type\": \"histogram2d\"}], \"histogram2dcontour\": [{\"colorbar\": {\"outlinewidth\": 0, \"ticks\": \"\"}, \"colorscale\": [[0.0, \"#0d0887\"], [0.1111111111111111, \"#46039f\"], [0.2222222222222222, \"#7201a8\"], [0.3333333333333333, \"#9c179e\"], [0.4444444444444444, \"#bd3786\"], [0.5555555555555556, \"#d8576b\"], [0.6666666666666666, \"#ed7953\"], [0.7777777777777778, \"#fb9f3a\"], [0.8888888888888888, \"#fdca26\"], [1.0, \"#f0f921\"]], \"type\": \"histogram2dcontour\"}], \"mesh3d\": [{\"colorbar\": {\"outlinewidth\": 0, \"ticks\": \"\"}, \"type\": \"mesh3d\"}], \"parcoords\": [{\"line\": {\"colorbar\": {\"outlinewidth\": 0, \"ticks\": \"\"}}, \"type\": \"parcoords\"}], \"pie\": [{\"automargin\": true, \"type\": \"pie\"}], \"scatter\": [{\"marker\": {\"colorbar\": {\"outlinewidth\": 0, \"ticks\": \"\"}}, \"type\": \"scatter\"}], \"scatter3d\": [{\"line\": {\"colorbar\": {\"outlinewidth\": 0, \"ticks\": \"\"}}, \"marker\": {\"colorbar\": {\"outlinewidth\": 0, \"ticks\": \"\"}}, \"type\": \"scatter3d\"}], \"scattercarpet\": [{\"marker\": {\"colorbar\": {\"outlinewidth\": 0, \"ticks\": \"\"}}, \"type\": \"scattercarpet\"}], \"scattergeo\": [{\"marker\": {\"colorbar\": {\"outlinewidth\": 0, \"ticks\": \"\"}}, \"type\": \"scattergeo\"}], \"scattergl\": [{\"marker\": {\"colorbar\": {\"outlinewidth\": 0, \"ticks\": \"\"}}, \"type\": \"scattergl\"}], \"scattermapbox\": [{\"marker\": {\"colorbar\": {\"outlinewidth\": 0, \"ticks\": \"\"}}, \"type\": \"scattermapbox\"}], \"scatterpolar\": [{\"marker\": {\"colorbar\": {\"outlinewidth\": 0, \"ticks\": \"\"}}, \"type\": \"scatterpolar\"}], \"scatterpolargl\": [{\"marker\": {\"colorbar\": {\"outlinewidth\": 0, \"ticks\": \"\"}}, \"type\": \"scatterpolargl\"}], \"scatterternary\": [{\"marker\": {\"colorbar\": {\"outlinewidth\": 0, \"ticks\": \"\"}}, \"type\": \"scatterternary\"}], \"surface\": [{\"colorbar\": {\"outlinewidth\": 0, \"ticks\": \"\"}, \"colorscale\": [[0.0, \"#0d0887\"], [0.1111111111111111, \"#46039f\"], [0.2222222222222222, \"#7201a8\"], [0.3333333333333333, \"#9c179e\"], [0.4444444444444444, \"#bd3786\"], [0.5555555555555556, \"#d8576b\"], [0.6666666666666666, \"#ed7953\"], [0.7777777777777778, \"#fb9f3a\"], [0.8888888888888888, \"#fdca26\"], [1.0, \"#f0f921\"]], \"type\": \"surface\"}], \"table\": [{\"cells\": {\"fill\": {\"color\": \"#EBF0F8\"}, \"line\": {\"color\": \"white\"}}, \"header\": {\"fill\": {\"color\": \"#C8D4E3\"}, \"line\": {\"color\": \"white\"}}, \"type\": \"table\"}]}, \"layout\": {\"annotationdefaults\": {\"arrowcolor\": \"#2a3f5f\", \"arrowhead\": 0, \"arrowwidth\": 1}, \"coloraxis\": {\"colorbar\": {\"outlinewidth\": 0, \"ticks\": \"\"}}, \"colorscale\": {\"diverging\": [[0, \"#8e0152\"], [0.1, \"#c51b7d\"], [0.2, \"#de77ae\"], [0.3, \"#f1b6da\"], [0.4, \"#fde0ef\"], [0.5, \"#f7f7f7\"], [0.6, \"#e6f5d0\"], [0.7, \"#b8e186\"], [0.8, \"#7fbc41\"], [0.9, \"#4d9221\"], [1, \"#276419\"]], \"sequential\": [[0.0, \"#0d0887\"], [0.1111111111111111, \"#46039f\"], [0.2222222222222222, \"#7201a8\"], [0.3333333333333333, \"#9c179e\"], [0.4444444444444444, \"#bd3786\"], [0.5555555555555556, \"#d8576b\"], [0.6666666666666666, \"#ed7953\"], [0.7777777777777778, \"#fb9f3a\"], [0.8888888888888888, \"#fdca26\"], [1.0, \"#f0f921\"]], \"sequentialminus\": [[0.0, \"#0d0887\"], [0.1111111111111111, \"#46039f\"], [0.2222222222222222, \"#7201a8\"], [0.3333333333333333, \"#9c179e\"], [0.4444444444444444, \"#bd3786\"], [0.5555555555555556, \"#d8576b\"], [0.6666666666666666, \"#ed7953\"], [0.7777777777777778, \"#fb9f3a\"], [0.8888888888888888, \"#fdca26\"], [1.0, \"#f0f921\"]]}, \"colorway\": [\"#636efa\", \"#EF553B\", \"#00cc96\", \"#ab63fa\", \"#FFA15A\", \"#19d3f3\", \"#FF6692\", \"#B6E880\", \"#FF97FF\", \"#FECB52\"], \"font\": {\"color\": \"#2a3f5f\"}, \"geo\": {\"bgcolor\": \"white\", \"lakecolor\": \"white\", \"landcolor\": \"#E5ECF6\", \"showlakes\": true, \"showland\": true, \"subunitcolor\": \"white\"}, \"hoverlabel\": {\"align\": \"left\"}, \"hovermode\": \"closest\", \"mapbox\": {\"style\": \"light\"}, \"paper_bgcolor\": \"white\", \"plot_bgcolor\": \"#E5ECF6\", \"polar\": {\"angularaxis\": {\"gridcolor\": \"white\", \"linecolor\": \"white\", \"ticks\": \"\"}, \"bgcolor\": \"#E5ECF6\", \"radialaxis\": {\"gridcolor\": \"white\", \"linecolor\": \"white\", \"ticks\": \"\"}}, \"scene\": {\"xaxis\": {\"backgroundcolor\": \"#E5ECF6\", \"gridcolor\": \"white\", \"gridwidth\": 2, \"linecolor\": \"white\", \"showbackground\": true, \"ticks\": \"\", \"zerolinecolor\": \"white\"}, \"yaxis\": {\"backgroundcolor\": \"#E5ECF6\", \"gridcolor\": \"white\", \"gridwidth\": 2, \"linecolor\": \"white\", \"showbackground\": true, \"ticks\": \"\", \"zerolinecolor\": \"white\"}, \"zaxis\": {\"backgroundcolor\": \"#E5ECF6\", \"gridcolor\": \"white\", \"gridwidth\": 2, \"linecolor\": \"white\", \"showbackground\": true, \"ticks\": \"\", \"zerolinecolor\": \"white\"}}, \"shapedefaults\": {\"line\": {\"color\": \"#2a3f5f\"}}, \"ternary\": {\"aaxis\": {\"gridcolor\": \"white\", \"linecolor\": \"white\", \"ticks\": \"\"}, \"baxis\": {\"gridcolor\": \"white\", \"linecolor\": \"white\", \"ticks\": \"\"}, \"bgcolor\": \"#E5ECF6\", \"caxis\": {\"gridcolor\": \"white\", \"linecolor\": \"white\", \"ticks\": \"\"}}, \"title\": {\"x\": 0.05}, \"xaxis\": {\"automargin\": true, \"gridcolor\": \"white\", \"linecolor\": \"white\", \"ticks\": \"\", \"title\": {\"standoff\": 15}, \"zerolinecolor\": \"white\", \"zerolinewidth\": 2}, \"yaxis\": {\"automargin\": true, \"gridcolor\": \"white\", \"linecolor\": \"white\", \"ticks\": \"\", \"title\": {\"standoff\": 15}, \"zerolinecolor\": \"white\", \"zerolinewidth\": 2}}}, \"title\": {\"font\": {\"color\": \"#4D5663\"}}, \"xaxis\": {\"gridcolor\": \"#E1E5ED\", \"showgrid\": true, \"tickfont\": {\"color\": \"#4D5663\"}, \"title\": {\"font\": {\"color\": \"#4D5663\"}, \"text\": \"\"}, \"zerolinecolor\": \"#E1E5ED\"}, \"yaxis\": {\"gridcolor\": \"#E1E5ED\", \"showgrid\": true, \"tickfont\": {\"color\": \"#4D5663\"}, \"title\": {\"font\": {\"color\": \"#4D5663\"}, \"text\": \"\"}, \"zerolinecolor\": \"#E1E5ED\"}},\n",
       "                        {\"showLink\": true, \"linkText\": \"Export to plot.ly\", \"plotlyServerURL\": \"https://plot.ly\", \"responsive\": true}\n",
       "                    ).then(function(){\n",
       "                            \n",
       "var gd = document.getElementById('b4ec6f6e-c454-4de3-b13d-0ffdd7104abe');\n",
       "var x = new MutationObserver(function (mutations, observer) {{\n",
       "        var display = window.getComputedStyle(gd).display;\n",
       "        if (!display || display === 'none') {{\n",
       "            console.log([gd, 'removed!']);\n",
       "            Plotly.purge(gd);\n",
       "            observer.disconnect();\n",
       "        }}\n",
       "}});\n",
       "\n",
       "// Listen for the removal of the full notebook cells\n",
       "var notebookContainer = gd.closest('#notebook-container');\n",
       "if (notebookContainer) {{\n",
       "    x.observe(notebookContainer, {childList: true});\n",
       "}}\n",
       "\n",
       "// Listen for the clearing of the current output cell\n",
       "var outputEl = gd.closest('.output');\n",
       "if (outputEl) {{\n",
       "    x.observe(outputEl, {childList: true});\n",
       "}}\n",
       "\n",
       "                        })\n",
       "                };\n",
       "                });\n",
       "            </script>\n",
       "        </div>"
      ]
     },
     "metadata": {},
     "output_type": "display_data"
    }
   ],
   "source": [
    "df1['A'].iplot(kind='hist', bins=50)"
   ]
  },
  {
   "cell_type": "code",
   "execution_count": 69,
   "metadata": {},
   "outputs": [
    {
     "data": {
      "application/vnd.plotly.v1+json": {
       "config": {
        "linkText": "Export to plot.ly",
        "plotlyServerURL": "https://plot.ly",
        "showLink": true
       },
       "data": [
        {
         "histfunc": "count",
         "histnorm": "",
         "marker": {
          "color": "rgba(255, 153, 51, 1.0)",
          "line": {
           "color": "#4D5663",
           "width": 1.3
          }
         },
         "name": "A",
         "opacity": 0.8,
         "orientation": "v",
         "type": "histogram",
         "x": [
          1.472529121625012,
          1.130248943233051,
          -0.03482930485305292,
          -0.5732950541498779,
          0.6679167375471895,
          -0.8579231829134375,
          0.8094528586808082,
          0.3085641347607752,
          0.27377683773219197,
          0.23206478359138408,
          0.05238217602947687,
          1.6583515353500433,
          0.07790651684678294,
          -1.7301434691903925,
          -0.5641455958381295,
          0.4147172412633151,
          -0.09849314047167301,
          0.9977271515240892,
          0.8786339083285464,
          0.6950074047715827,
          0.45710903842482575,
          0.4982199907784472,
          0.12903988052103624,
          -1.4837525556196758,
          2.1559376570965503,
          0.27121817416520905,
          -0.7920459692083268,
          0.34986943200659715,
          -1.4244439368614608,
          0.32694876044997556,
          0.46860953711542114,
          -0.8163787512650883,
          1.2187153472151357,
          -0.20858295937455842,
          -1.6419227340761469,
          -1.7597511712926772,
          -0.889500156517225,
          0.7680841645055828,
          0.242169122327131,
          1.836311067999764,
          -0.3640393725187276,
          0.6913544823158839,
          0.5381815943734077,
          -1.2920024951121236,
          0.32683652775332095,
          -1.6543868904131966,
          -0.07603260838364179,
          -1.1191319473076922,
          -0.06515760125541344,
          2.6112740684691444,
          0.189885318735173,
          0.758128711401495,
          1.3565878468023498,
          -1.6605371867714478,
          -0.7657077563048298,
          -0.3795261071180454,
          -1.0575887339186927,
          -0.21917702928905666,
          -0.018563285766532843,
          -0.31467704146234077,
          -0.15156994149975483,
          1.3072808419825945,
          0.301826271055909,
          0.9387223883113914,
          -0.9159890914090407,
          0.9972746743704269,
          -0.14961035018933383,
          0.6936412738254416,
          0.02150439010857565,
          -0.09685198016522274,
          -0.17962054484657083,
          2.8387103914674565,
          1.7403528975355167,
          0.16910030614484756,
          -1.8773354305002856,
          0.825977346945175,
          0.8377635089652343,
          0.9617236811802147,
          -0.6473981950616219,
          -1.6658039916353078,
          -0.2692192979839951,
          -2.729756849044134,
          -0.22782472436569362,
          -0.501111975287052,
          0.46337026689879734,
          1.0619123546213953,
          1.6562427899245722,
          0.062163840611550794,
          0.19039780019298785,
          0.026824609638366238,
          0.8368352166533789,
          0.29023261477188106,
          -0.4892908992826225,
          0.4014711067047261,
          0.7167889751395604,
          1.2783993039707082,
          -0.45256841203177944,
          -1.104240974398623,
          0.48498329755483055,
          0.4547917796841871
         ]
        },
        {
         "histfunc": "count",
         "histnorm": "",
         "marker": {
          "color": "rgba(55, 128, 191, 1.0)",
          "line": {
           "color": "#4D5663",
           "width": 1.3
          }
         },
         "name": "B",
         "opacity": 0.8,
         "orientation": "v",
         "type": "histogram",
         "x": [
          -1.4490718845084207,
          0.5402426554463875,
          -1.3347985434813625,
          -0.12225119502318878,
          -1.30101789971426,
          0.38569811159209016,
          2.397904687740729,
          -2.3982480926388368,
          -0.10494367248597691,
          -0.2224254060893642,
          0.5410029274040677,
          1.2220114737266936,
          0.6413367934003551,
          0.4661400594131579,
          1.6301263489299898,
          -0.045857295111949706,
          0.22578578119008808,
          0.26281871636509874,
          0.3524366173554224,
          -0.25045607157728855,
          -0.02644007066357181,
          0.8618805448064077,
          -1.0669884903827511,
          2.202131722577417,
          -0.7113457060825948,
          -0.42921931155234017,
          0.03085513090831307,
          2.286357429921338,
          -0.2505199679788893,
          -2.49540664349453,
          -1.1157577643488887,
          0.7330552833464814,
          -0.4614404215891602,
          -1.3673002928914093,
          -1.7600123190780688,
          -2.0887547843771395,
          -2.1859340876441404,
          -0.49279846658300813,
          -1.889275646139344,
          -0.5690532456828411,
          0.4239373965316233,
          0.6397781534640425,
          -0.29671425027591325,
          0.6571556609166963,
          1.383298672469432,
          1.109761245033315,
          1.4332373810414698,
          0.6738019112262904,
          -1.1813200383895766,
          -1.6614202983027815,
          1.2398798868361367,
          0.6123687064574279,
          0.0915797315637989,
          0.006009505705794459,
          -1.0960578906870182,
          -1.1053797480590637,
          1.0352922076995237,
          0.2776270046807994,
          -0.09822942803128862,
          1.3423627824672761,
          -0.4269262478860568,
          -0.8566216988554339,
          0.4155483209694457,
          0.21352323335426418,
          0.9205293326670225,
          -2.4290809169775893,
          -1.097530893017326,
          0.0014555989292659602,
          -0.4721893111402556,
          -2.3651682013646727,
          0.9177196755689004,
          -2.6495518809284646,
          0.018826728369795518,
          0.05322287052010041,
          -1.1676072328548432,
          0.3940104502096727,
          0.3003994475771432,
          1.6651594296939112,
          -0.671156151734517,
          3.2476405756672038,
          -0.026105037598596365,
          -1.177609198277101,
          0.12516726924093127,
          -0.517430855564586,
          0.6604745556074771,
          -0.0018629645865976042,
          -1.7849289778669288,
          0.18498950224768243,
          1.442080076368799,
          0.9472992507672473,
          2.195427851378761,
          0.3966786785752604,
          -0.5002725972891627,
          -1.9460828869923503,
          -0.3608192626215061,
          1.0131320014705925,
          -0.7057725331167626,
          0.9665220645320599,
          -0.042248237084285586,
          -0.9798386628297314
         ]
        },
        {
         "histfunc": "count",
         "histnorm": "",
         "marker": {
          "color": "rgba(50, 171, 96, 1.0)",
          "line": {
           "color": "#4D5663",
           "width": 1.3
          }
         },
         "name": "C",
         "opacity": 0.8,
         "orientation": "v",
         "type": "histogram",
         "x": [
          0.2941477958735066,
          -1.2772567937568937,
          0.7441189607505856,
          -0.07469019133525433,
          0.15688826260723918,
          -0.3147237571105742,
          0.09746151352817672,
          -1.4894485007346023,
          -0.8118109462101483,
          -0.08316960538668344,
          -3.167014284398424,
          0.5384558809342364,
          1.0557522069504213,
          0.37150366384546263,
          0.7590918824347042,
          0.49357135745610187,
          -0.37733645380166997,
          0.6364367047170686,
          0.65240454392822,
          -0.5460605302037064,
          -0.2598143788964035,
          -1.0129067831437126,
          0.24442937330633968,
          -1.0076829208783498,
          -0.5501970096805181,
          0.061399346063866204,
          1.179641651882113,
          1.8840213768542848,
          -2.7297693179368894,
          0.08444274726336994,
          -0.07866577711107688,
          1.0228544923597822,
          -0.2717333568906527,
          -0.7678139093837235,
          0.8002168364713665,
          -0.6163668196735747,
          -0.7840916361031486,
          -0.5434871478375157,
          0.34616144852931713,
          -0.47902312536359887,
          -0.992535599042179,
          0.2590527094808219,
          1.2666923316053984,
          0.7476549908657724,
          -1.0512553869294554,
          -0.14237158758117616,
          -1.2929307281780056,
          1.5189203997919931,
          -0.6494858691130097,
          -0.5679015903851855,
          0.551965962231021,
          -1.6539555233879015,
          -0.22271778130394515,
          1.0386498514148697,
          0.3608835982240124,
          2.213346720878855,
          -0.9735769015751691,
          0.840128631763991,
          1.7556896787581586,
          -1.4412116307568839,
          0.2196949231023285,
          1.4992049801411589,
          -0.6611392490895978,
          -0.6304908747192904,
          1.1533356994672497,
          -0.420636670400046,
          1.443644516191686,
          1.451438062161945,
          0.483124750711282,
          -0.5236258108150692,
          0.4404690671036626,
          0.9996524509583272,
          -0.6130636059848118,
          0.6690199413988712,
          1.3263847443422256,
          -0.7556056623240177,
          0.637862832272282,
          0.38904377493049913,
          -1.3370612405882778,
          1.1933950268610702,
          0.06462007050856437,
          0.5764395379058818,
          -0.8458357075549467,
          -0.5445116781543524,
          0.3050900194252306,
          -0.2956218398366735,
          -1.7568210556812383,
          -2.624628846051485,
          0.7344870558616293,
          1.0497000890759491,
          1.5692069955925685,
          -0.8839762063095732,
          -0.2858107813208934,
          0.9699611896103433,
          -1.18056791878244,
          0.6737419030585361,
          -0.6984885465871962,
          1.0726235170641276,
          0.5217735041662983,
          1.5039611018876746
         ]
        },
        {
         "histfunc": "count",
         "histnorm": "",
         "marker": {
          "color": "rgba(128, 0, 128, 1.0)",
          "line": {
           "color": "#4D5663",
           "width": 1.3
          }
         },
         "name": "D",
         "opacity": 0.8,
         "orientation": "v",
         "type": "histogram",
         "x": [
          -0.29209677698554737,
          0.9573957896267596,
          -0.0007975772046197507,
          -0.8158976884143562,
          -1.9936338636737942,
          -1.066112859705764,
          -0.1624501274103537,
          -0.03172677523944978,
          0.4230420996426988,
          -1.5072924379640384,
          -1.0285792418506818,
          -0.4648859742555061,
          0.5488567472998651,
          -1.5509988671031387,
          -0.18731149886148526,
          -0.7307216961994965,
          0.28659201122255096,
          2.172650873228859,
          0.6037152824336763,
          -0.727575725495342,
          0.1921261607745329,
          2.0257007599249666,
          0.29878916777565295,
          -0.11662895626105096,
          0.4176466932527999,
          0.11869807879751894,
          -0.6185996268081179,
          0.5654893958419337,
          0.305655388592086,
          0.13135273742832368,
          0.12184068056708995,
          -0.5071662392557261,
          -0.568931741848525,
          0.4901084143203101,
          -0.2460586894546757,
          -0.848531489622213,
          1.3630384966893647,
          -0.3474418391715347,
          -1.1246178854325561,
          0.2727742766284284,
          0.9858324741667885,
          -1.260376384177372,
          2.1995501477694517,
          -1.1862990063877248,
          -1.27720070099572,
          -0.1394136561501857,
          -1.5767204417253653,
          -0.04261634006372652,
          -0.0851414882747124,
          -0.9119035439512653,
          -0.32281930867905156,
          0.194979954818921,
          -0.11685677866976853,
          -1.8053738746846808,
          -0.014808754132441395,
          -0.6392074518606004,
          -0.8503232038190978,
          -1.0937525430983601,
          1.187030991396334,
          1.4645556128099475,
          0.4113009102746684,
          0.1798500649884786,
          -0.6724445119030096,
          0.13446213951423927,
          1.3679920722622896,
          1.1313820175998472,
          0.46880252769541614,
          -0.39789401001271074,
          0.38433474242590737,
          -0.46326651134413627,
          0.33327001249620947,
          -0.09753287150325765,
          2.344702589914879,
          -0.9140280632719038,
          -1.4177177422630272,
          0.03634479751321479,
          -1.692481484675992,
          0.9512640830307857,
          0.19137848466118784,
          -1.1004124257636585,
          0.7043635574043291,
          -0.09092904401842151,
          1.5059008971891839,
          0.5973458990802751,
          0.34603516962923475,
          -1.812425632066957,
          -0.5333194244555364,
          -0.8625662806115877,
          -0.1353587151319946,
          -0.42633306707360935,
          0.3816695380113307,
          0.89874110435248,
          0.3626000974090412,
          -0.34626845050310656,
          1.8354956959106006,
          -0.1633850685970794,
          0.18564892606709904,
          0.3812582914116791,
          -0.9656308255591639,
          -0.011778101035519862
         ]
        }
       ],
       "layout": {
        "barmode": "overlay",
        "legend": {
         "bgcolor": "#F5F6F9",
         "font": {
          "color": "#4D5663"
         }
        },
        "paper_bgcolor": "#F5F6F9",
        "plot_bgcolor": "#F5F6F9",
        "template": {
         "data": {
          "bar": [
           {
            "error_x": {
             "color": "#2a3f5f"
            },
            "error_y": {
             "color": "#2a3f5f"
            },
            "marker": {
             "line": {
              "color": "#E5ECF6",
              "width": 0.5
             }
            },
            "type": "bar"
           }
          ],
          "barpolar": [
           {
            "marker": {
             "line": {
              "color": "#E5ECF6",
              "width": 0.5
             }
            },
            "type": "barpolar"
           }
          ],
          "carpet": [
           {
            "aaxis": {
             "endlinecolor": "#2a3f5f",
             "gridcolor": "white",
             "linecolor": "white",
             "minorgridcolor": "white",
             "startlinecolor": "#2a3f5f"
            },
            "baxis": {
             "endlinecolor": "#2a3f5f",
             "gridcolor": "white",
             "linecolor": "white",
             "minorgridcolor": "white",
             "startlinecolor": "#2a3f5f"
            },
            "type": "carpet"
           }
          ],
          "choropleth": [
           {
            "colorbar": {
             "outlinewidth": 0,
             "ticks": ""
            },
            "type": "choropleth"
           }
          ],
          "contour": [
           {
            "colorbar": {
             "outlinewidth": 0,
             "ticks": ""
            },
            "colorscale": [
             [
              0,
              "#0d0887"
             ],
             [
              0.1111111111111111,
              "#46039f"
             ],
             [
              0.2222222222222222,
              "#7201a8"
             ],
             [
              0.3333333333333333,
              "#9c179e"
             ],
             [
              0.4444444444444444,
              "#bd3786"
             ],
             [
              0.5555555555555556,
              "#d8576b"
             ],
             [
              0.6666666666666666,
              "#ed7953"
             ],
             [
              0.7777777777777778,
              "#fb9f3a"
             ],
             [
              0.8888888888888888,
              "#fdca26"
             ],
             [
              1,
              "#f0f921"
             ]
            ],
            "type": "contour"
           }
          ],
          "contourcarpet": [
           {
            "colorbar": {
             "outlinewidth": 0,
             "ticks": ""
            },
            "type": "contourcarpet"
           }
          ],
          "heatmap": [
           {
            "colorbar": {
             "outlinewidth": 0,
             "ticks": ""
            },
            "colorscale": [
             [
              0,
              "#0d0887"
             ],
             [
              0.1111111111111111,
              "#46039f"
             ],
             [
              0.2222222222222222,
              "#7201a8"
             ],
             [
              0.3333333333333333,
              "#9c179e"
             ],
             [
              0.4444444444444444,
              "#bd3786"
             ],
             [
              0.5555555555555556,
              "#d8576b"
             ],
             [
              0.6666666666666666,
              "#ed7953"
             ],
             [
              0.7777777777777778,
              "#fb9f3a"
             ],
             [
              0.8888888888888888,
              "#fdca26"
             ],
             [
              1,
              "#f0f921"
             ]
            ],
            "type": "heatmap"
           }
          ],
          "heatmapgl": [
           {
            "colorbar": {
             "outlinewidth": 0,
             "ticks": ""
            },
            "colorscale": [
             [
              0,
              "#0d0887"
             ],
             [
              0.1111111111111111,
              "#46039f"
             ],
             [
              0.2222222222222222,
              "#7201a8"
             ],
             [
              0.3333333333333333,
              "#9c179e"
             ],
             [
              0.4444444444444444,
              "#bd3786"
             ],
             [
              0.5555555555555556,
              "#d8576b"
             ],
             [
              0.6666666666666666,
              "#ed7953"
             ],
             [
              0.7777777777777778,
              "#fb9f3a"
             ],
             [
              0.8888888888888888,
              "#fdca26"
             ],
             [
              1,
              "#f0f921"
             ]
            ],
            "type": "heatmapgl"
           }
          ],
          "histogram": [
           {
            "marker": {
             "colorbar": {
              "outlinewidth": 0,
              "ticks": ""
             }
            },
            "type": "histogram"
           }
          ],
          "histogram2d": [
           {
            "colorbar": {
             "outlinewidth": 0,
             "ticks": ""
            },
            "colorscale": [
             [
              0,
              "#0d0887"
             ],
             [
              0.1111111111111111,
              "#46039f"
             ],
             [
              0.2222222222222222,
              "#7201a8"
             ],
             [
              0.3333333333333333,
              "#9c179e"
             ],
             [
              0.4444444444444444,
              "#bd3786"
             ],
             [
              0.5555555555555556,
              "#d8576b"
             ],
             [
              0.6666666666666666,
              "#ed7953"
             ],
             [
              0.7777777777777778,
              "#fb9f3a"
             ],
             [
              0.8888888888888888,
              "#fdca26"
             ],
             [
              1,
              "#f0f921"
             ]
            ],
            "type": "histogram2d"
           }
          ],
          "histogram2dcontour": [
           {
            "colorbar": {
             "outlinewidth": 0,
             "ticks": ""
            },
            "colorscale": [
             [
              0,
              "#0d0887"
             ],
             [
              0.1111111111111111,
              "#46039f"
             ],
             [
              0.2222222222222222,
              "#7201a8"
             ],
             [
              0.3333333333333333,
              "#9c179e"
             ],
             [
              0.4444444444444444,
              "#bd3786"
             ],
             [
              0.5555555555555556,
              "#d8576b"
             ],
             [
              0.6666666666666666,
              "#ed7953"
             ],
             [
              0.7777777777777778,
              "#fb9f3a"
             ],
             [
              0.8888888888888888,
              "#fdca26"
             ],
             [
              1,
              "#f0f921"
             ]
            ],
            "type": "histogram2dcontour"
           }
          ],
          "mesh3d": [
           {
            "colorbar": {
             "outlinewidth": 0,
             "ticks": ""
            },
            "type": "mesh3d"
           }
          ],
          "parcoords": [
           {
            "line": {
             "colorbar": {
              "outlinewidth": 0,
              "ticks": ""
             }
            },
            "type": "parcoords"
           }
          ],
          "pie": [
           {
            "automargin": true,
            "type": "pie"
           }
          ],
          "scatter": [
           {
            "marker": {
             "colorbar": {
              "outlinewidth": 0,
              "ticks": ""
             }
            },
            "type": "scatter"
           }
          ],
          "scatter3d": [
           {
            "line": {
             "colorbar": {
              "outlinewidth": 0,
              "ticks": ""
             }
            },
            "marker": {
             "colorbar": {
              "outlinewidth": 0,
              "ticks": ""
             }
            },
            "type": "scatter3d"
           }
          ],
          "scattercarpet": [
           {
            "marker": {
             "colorbar": {
              "outlinewidth": 0,
              "ticks": ""
             }
            },
            "type": "scattercarpet"
           }
          ],
          "scattergeo": [
           {
            "marker": {
             "colorbar": {
              "outlinewidth": 0,
              "ticks": ""
             }
            },
            "type": "scattergeo"
           }
          ],
          "scattergl": [
           {
            "marker": {
             "colorbar": {
              "outlinewidth": 0,
              "ticks": ""
             }
            },
            "type": "scattergl"
           }
          ],
          "scattermapbox": [
           {
            "marker": {
             "colorbar": {
              "outlinewidth": 0,
              "ticks": ""
             }
            },
            "type": "scattermapbox"
           }
          ],
          "scatterpolar": [
           {
            "marker": {
             "colorbar": {
              "outlinewidth": 0,
              "ticks": ""
             }
            },
            "type": "scatterpolar"
           }
          ],
          "scatterpolargl": [
           {
            "marker": {
             "colorbar": {
              "outlinewidth": 0,
              "ticks": ""
             }
            },
            "type": "scatterpolargl"
           }
          ],
          "scatterternary": [
           {
            "marker": {
             "colorbar": {
              "outlinewidth": 0,
              "ticks": ""
             }
            },
            "type": "scatterternary"
           }
          ],
          "surface": [
           {
            "colorbar": {
             "outlinewidth": 0,
             "ticks": ""
            },
            "colorscale": [
             [
              0,
              "#0d0887"
             ],
             [
              0.1111111111111111,
              "#46039f"
             ],
             [
              0.2222222222222222,
              "#7201a8"
             ],
             [
              0.3333333333333333,
              "#9c179e"
             ],
             [
              0.4444444444444444,
              "#bd3786"
             ],
             [
              0.5555555555555556,
              "#d8576b"
             ],
             [
              0.6666666666666666,
              "#ed7953"
             ],
             [
              0.7777777777777778,
              "#fb9f3a"
             ],
             [
              0.8888888888888888,
              "#fdca26"
             ],
             [
              1,
              "#f0f921"
             ]
            ],
            "type": "surface"
           }
          ],
          "table": [
           {
            "cells": {
             "fill": {
              "color": "#EBF0F8"
             },
             "line": {
              "color": "white"
             }
            },
            "header": {
             "fill": {
              "color": "#C8D4E3"
             },
             "line": {
              "color": "white"
             }
            },
            "type": "table"
           }
          ]
         },
         "layout": {
          "annotationdefaults": {
           "arrowcolor": "#2a3f5f",
           "arrowhead": 0,
           "arrowwidth": 1
          },
          "coloraxis": {
           "colorbar": {
            "outlinewidth": 0,
            "ticks": ""
           }
          },
          "colorscale": {
           "diverging": [
            [
             0,
             "#8e0152"
            ],
            [
             0.1,
             "#c51b7d"
            ],
            [
             0.2,
             "#de77ae"
            ],
            [
             0.3,
             "#f1b6da"
            ],
            [
             0.4,
             "#fde0ef"
            ],
            [
             0.5,
             "#f7f7f7"
            ],
            [
             0.6,
             "#e6f5d0"
            ],
            [
             0.7,
             "#b8e186"
            ],
            [
             0.8,
             "#7fbc41"
            ],
            [
             0.9,
             "#4d9221"
            ],
            [
             1,
             "#276419"
            ]
           ],
           "sequential": [
            [
             0,
             "#0d0887"
            ],
            [
             0.1111111111111111,
             "#46039f"
            ],
            [
             0.2222222222222222,
             "#7201a8"
            ],
            [
             0.3333333333333333,
             "#9c179e"
            ],
            [
             0.4444444444444444,
             "#bd3786"
            ],
            [
             0.5555555555555556,
             "#d8576b"
            ],
            [
             0.6666666666666666,
             "#ed7953"
            ],
            [
             0.7777777777777778,
             "#fb9f3a"
            ],
            [
             0.8888888888888888,
             "#fdca26"
            ],
            [
             1,
             "#f0f921"
            ]
           ],
           "sequentialminus": [
            [
             0,
             "#0d0887"
            ],
            [
             0.1111111111111111,
             "#46039f"
            ],
            [
             0.2222222222222222,
             "#7201a8"
            ],
            [
             0.3333333333333333,
             "#9c179e"
            ],
            [
             0.4444444444444444,
             "#bd3786"
            ],
            [
             0.5555555555555556,
             "#d8576b"
            ],
            [
             0.6666666666666666,
             "#ed7953"
            ],
            [
             0.7777777777777778,
             "#fb9f3a"
            ],
            [
             0.8888888888888888,
             "#fdca26"
            ],
            [
             1,
             "#f0f921"
            ]
           ]
          },
          "colorway": [
           "#636efa",
           "#EF553B",
           "#00cc96",
           "#ab63fa",
           "#FFA15A",
           "#19d3f3",
           "#FF6692",
           "#B6E880",
           "#FF97FF",
           "#FECB52"
          ],
          "font": {
           "color": "#2a3f5f"
          },
          "geo": {
           "bgcolor": "white",
           "lakecolor": "white",
           "landcolor": "#E5ECF6",
           "showlakes": true,
           "showland": true,
           "subunitcolor": "white"
          },
          "hoverlabel": {
           "align": "left"
          },
          "hovermode": "closest",
          "mapbox": {
           "style": "light"
          },
          "paper_bgcolor": "white",
          "plot_bgcolor": "#E5ECF6",
          "polar": {
           "angularaxis": {
            "gridcolor": "white",
            "linecolor": "white",
            "ticks": ""
           },
           "bgcolor": "#E5ECF6",
           "radialaxis": {
            "gridcolor": "white",
            "linecolor": "white",
            "ticks": ""
           }
          },
          "scene": {
           "xaxis": {
            "backgroundcolor": "#E5ECF6",
            "gridcolor": "white",
            "gridwidth": 2,
            "linecolor": "white",
            "showbackground": true,
            "ticks": "",
            "zerolinecolor": "white"
           },
           "yaxis": {
            "backgroundcolor": "#E5ECF6",
            "gridcolor": "white",
            "gridwidth": 2,
            "linecolor": "white",
            "showbackground": true,
            "ticks": "",
            "zerolinecolor": "white"
           },
           "zaxis": {
            "backgroundcolor": "#E5ECF6",
            "gridcolor": "white",
            "gridwidth": 2,
            "linecolor": "white",
            "showbackground": true,
            "ticks": "",
            "zerolinecolor": "white"
           }
          },
          "shapedefaults": {
           "line": {
            "color": "#2a3f5f"
           }
          },
          "ternary": {
           "aaxis": {
            "gridcolor": "white",
            "linecolor": "white",
            "ticks": ""
           },
           "baxis": {
            "gridcolor": "white",
            "linecolor": "white",
            "ticks": ""
           },
           "bgcolor": "#E5ECF6",
           "caxis": {
            "gridcolor": "white",
            "linecolor": "white",
            "ticks": ""
           }
          },
          "title": {
           "x": 0.05
          },
          "xaxis": {
           "automargin": true,
           "gridcolor": "white",
           "linecolor": "white",
           "ticks": "",
           "title": {
            "standoff": 15
           },
           "zerolinecolor": "white",
           "zerolinewidth": 2
          },
          "yaxis": {
           "automargin": true,
           "gridcolor": "white",
           "linecolor": "white",
           "ticks": "",
           "title": {
            "standoff": 15
           },
           "zerolinecolor": "white",
           "zerolinewidth": 2
          }
         }
        },
        "title": {
         "font": {
          "color": "#4D5663"
         }
        },
        "xaxis": {
         "gridcolor": "#E1E5ED",
         "showgrid": true,
         "tickfont": {
          "color": "#4D5663"
         },
         "title": {
          "font": {
           "color": "#4D5663"
          },
          "text": ""
         },
         "zerolinecolor": "#E1E5ED"
        },
        "yaxis": {
         "gridcolor": "#E1E5ED",
         "showgrid": true,
         "tickfont": {
          "color": "#4D5663"
         },
         "title": {
          "font": {
           "color": "#4D5663"
          },
          "text": ""
         },
         "zerolinecolor": "#E1E5ED"
        }
       }
      },
      "text/html": [
       "<div>\n",
       "        \n",
       "        \n",
       "            <div id=\"3fb0c0de-4aeb-438f-9231-e7e31f10ee90\" class=\"plotly-graph-div\" style=\"height:525px; width:100%;\"></div>\n",
       "            <script type=\"text/javascript\">\n",
       "                require([\"plotly\"], function(Plotly) {\n",
       "                    window.PLOTLYENV=window.PLOTLYENV || {};\n",
       "                    window.PLOTLYENV.BASE_URL='https://plot.ly';\n",
       "                    \n",
       "                if (document.getElementById(\"3fb0c0de-4aeb-438f-9231-e7e31f10ee90\")) {\n",
       "                    Plotly.newPlot(\n",
       "                        '3fb0c0de-4aeb-438f-9231-e7e31f10ee90',\n",
       "                        [{\"histfunc\": \"count\", \"histnorm\": \"\", \"marker\": {\"color\": \"rgba(255, 153, 51, 1.0)\", \"line\": {\"color\": \"#4D5663\", \"width\": 1.3}}, \"name\": \"A\", \"opacity\": 0.8, \"orientation\": \"v\", \"type\": \"histogram\", \"x\": [1.472529121625012, 1.130248943233051, -0.03482930485305292, -0.5732950541498779, 0.6679167375471895, -0.8579231829134375, 0.8094528586808082, 0.3085641347607752, 0.27377683773219197, 0.23206478359138408, 0.05238217602947687, 1.6583515353500433, 0.07790651684678294, -1.7301434691903925, -0.5641455958381295, 0.4147172412633151, -0.09849314047167301, 0.9977271515240892, 0.8786339083285464, 0.6950074047715827, 0.45710903842482575, 0.4982199907784472, 0.12903988052103624, -1.4837525556196758, 2.1559376570965503, 0.27121817416520905, -0.7920459692083268, 0.34986943200659715, -1.4244439368614608, 0.32694876044997556, 0.46860953711542114, -0.8163787512650883, 1.2187153472151357, -0.20858295937455842, -1.6419227340761469, -1.7597511712926772, -0.889500156517225, 0.7680841645055828, 0.242169122327131, 1.836311067999764, -0.3640393725187276, 0.6913544823158839, 0.5381815943734077, -1.2920024951121236, 0.32683652775332095, -1.6543868904131966, -0.07603260838364179, -1.1191319473076922, -0.06515760125541344, 2.6112740684691444, 0.189885318735173, 0.758128711401495, 1.3565878468023498, -1.6605371867714478, -0.7657077563048298, -0.3795261071180454, -1.0575887339186927, -0.21917702928905666, -0.018563285766532843, -0.31467704146234077, -0.15156994149975483, 1.3072808419825945, 0.301826271055909, 0.9387223883113914, -0.9159890914090407, 0.9972746743704269, -0.14961035018933383, 0.6936412738254416, 0.02150439010857565, -0.09685198016522274, -0.17962054484657083, 2.8387103914674565, 1.7403528975355167, 0.16910030614484756, -1.8773354305002856, 0.825977346945175, 0.8377635089652343, 0.9617236811802147, -0.6473981950616219, -1.6658039916353078, -0.2692192979839951, -2.729756849044134, -0.22782472436569362, -0.501111975287052, 0.46337026689879734, 1.0619123546213953, 1.6562427899245722, 0.062163840611550794, 0.19039780019298785, 0.026824609638366238, 0.8368352166533789, 0.29023261477188106, -0.4892908992826225, 0.4014711067047261, 0.7167889751395604, 1.2783993039707082, -0.45256841203177944, -1.104240974398623, 0.48498329755483055, 0.4547917796841871]}, {\"histfunc\": \"count\", \"histnorm\": \"\", \"marker\": {\"color\": \"rgba(55, 128, 191, 1.0)\", \"line\": {\"color\": \"#4D5663\", \"width\": 1.3}}, \"name\": \"B\", \"opacity\": 0.8, \"orientation\": \"v\", \"type\": \"histogram\", \"x\": [-1.4490718845084207, 0.5402426554463875, -1.3347985434813625, -0.12225119502318878, -1.30101789971426, 0.38569811159209016, 2.397904687740729, -2.3982480926388368, -0.10494367248597691, -0.2224254060893642, 0.5410029274040677, 1.2220114737266936, 0.6413367934003551, 0.4661400594131579, 1.6301263489299898, -0.045857295111949706, 0.22578578119008808, 0.26281871636509874, 0.3524366173554224, -0.25045607157728855, -0.02644007066357181, 0.8618805448064077, -1.0669884903827511, 2.202131722577417, -0.7113457060825948, -0.42921931155234017, 0.03085513090831307, 2.286357429921338, -0.2505199679788893, -2.49540664349453, -1.1157577643488887, 0.7330552833464814, -0.4614404215891602, -1.3673002928914093, -1.7600123190780688, -2.0887547843771395, -2.1859340876441404, -0.49279846658300813, -1.889275646139344, -0.5690532456828411, 0.4239373965316233, 0.6397781534640425, -0.29671425027591325, 0.6571556609166963, 1.383298672469432, 1.109761245033315, 1.4332373810414698, 0.6738019112262904, -1.1813200383895766, -1.6614202983027815, 1.2398798868361367, 0.6123687064574279, 0.0915797315637989, 0.006009505705794459, -1.0960578906870182, -1.1053797480590637, 1.0352922076995237, 0.2776270046807994, -0.09822942803128862, 1.3423627824672761, -0.4269262478860568, -0.8566216988554339, 0.4155483209694457, 0.21352323335426418, 0.9205293326670225, -2.4290809169775893, -1.097530893017326, 0.0014555989292659602, -0.4721893111402556, -2.3651682013646727, 0.9177196755689004, -2.6495518809284646, 0.018826728369795518, 0.05322287052010041, -1.1676072328548432, 0.3940104502096727, 0.3003994475771432, 1.6651594296939112, -0.671156151734517, 3.2476405756672038, -0.026105037598596365, -1.177609198277101, 0.12516726924093127, -0.517430855564586, 0.6604745556074771, -0.0018629645865976042, -1.7849289778669288, 0.18498950224768243, 1.442080076368799, 0.9472992507672473, 2.195427851378761, 0.3966786785752604, -0.5002725972891627, -1.9460828869923503, -0.3608192626215061, 1.0131320014705925, -0.7057725331167626, 0.9665220645320599, -0.042248237084285586, -0.9798386628297314]}, {\"histfunc\": \"count\", \"histnorm\": \"\", \"marker\": {\"color\": \"rgba(50, 171, 96, 1.0)\", \"line\": {\"color\": \"#4D5663\", \"width\": 1.3}}, \"name\": \"C\", \"opacity\": 0.8, \"orientation\": \"v\", \"type\": \"histogram\", \"x\": [0.2941477958735066, -1.2772567937568937, 0.7441189607505856, -0.07469019133525433, 0.15688826260723918, -0.3147237571105742, 0.09746151352817672, -1.4894485007346023, -0.8118109462101483, -0.08316960538668344, -3.167014284398424, 0.5384558809342364, 1.0557522069504213, 0.37150366384546263, 0.7590918824347042, 0.49357135745610187, -0.37733645380166997, 0.6364367047170686, 0.65240454392822, -0.5460605302037064, -0.2598143788964035, -1.0129067831437126, 0.24442937330633968, -1.0076829208783498, -0.5501970096805181, 0.061399346063866204, 1.179641651882113, 1.8840213768542848, -2.7297693179368894, 0.08444274726336994, -0.07866577711107688, 1.0228544923597822, -0.2717333568906527, -0.7678139093837235, 0.8002168364713665, -0.6163668196735747, -0.7840916361031486, -0.5434871478375157, 0.34616144852931713, -0.47902312536359887, -0.992535599042179, 0.2590527094808219, 1.2666923316053984, 0.7476549908657724, -1.0512553869294554, -0.14237158758117616, -1.2929307281780056, 1.5189203997919931, -0.6494858691130097, -0.5679015903851855, 0.551965962231021, -1.6539555233879015, -0.22271778130394515, 1.0386498514148697, 0.3608835982240124, 2.213346720878855, -0.9735769015751691, 0.840128631763991, 1.7556896787581586, -1.4412116307568839, 0.2196949231023285, 1.4992049801411589, -0.6611392490895978, -0.6304908747192904, 1.1533356994672497, -0.420636670400046, 1.443644516191686, 1.451438062161945, 0.483124750711282, -0.5236258108150692, 0.4404690671036626, 0.9996524509583272, -0.6130636059848118, 0.6690199413988712, 1.3263847443422256, -0.7556056623240177, 0.637862832272282, 0.38904377493049913, -1.3370612405882778, 1.1933950268610702, 0.06462007050856437, 0.5764395379058818, -0.8458357075549467, -0.5445116781543524, 0.3050900194252306, -0.2956218398366735, -1.7568210556812383, -2.624628846051485, 0.7344870558616293, 1.0497000890759491, 1.5692069955925685, -0.8839762063095732, -0.2858107813208934, 0.9699611896103433, -1.18056791878244, 0.6737419030585361, -0.6984885465871962, 1.0726235170641276, 0.5217735041662983, 1.5039611018876746]}, {\"histfunc\": \"count\", \"histnorm\": \"\", \"marker\": {\"color\": \"rgba(128, 0, 128, 1.0)\", \"line\": {\"color\": \"#4D5663\", \"width\": 1.3}}, \"name\": \"D\", \"opacity\": 0.8, \"orientation\": \"v\", \"type\": \"histogram\", \"x\": [-0.29209677698554737, 0.9573957896267596, -0.0007975772046197507, -0.8158976884143562, -1.9936338636737942, -1.066112859705764, -0.1624501274103537, -0.03172677523944978, 0.4230420996426988, -1.5072924379640384, -1.0285792418506818, -0.4648859742555061, 0.5488567472998651, -1.5509988671031387, -0.18731149886148526, -0.7307216961994965, 0.28659201122255096, 2.172650873228859, 0.6037152824336763, -0.727575725495342, 0.1921261607745329, 2.0257007599249666, 0.29878916777565295, -0.11662895626105096, 0.4176466932527999, 0.11869807879751894, -0.6185996268081179, 0.5654893958419337, 0.305655388592086, 0.13135273742832368, 0.12184068056708995, -0.5071662392557261, -0.568931741848525, 0.4901084143203101, -0.2460586894546757, -0.848531489622213, 1.3630384966893647, -0.3474418391715347, -1.1246178854325561, 0.2727742766284284, 0.9858324741667885, -1.260376384177372, 2.1995501477694517, -1.1862990063877248, -1.27720070099572, -0.1394136561501857, -1.5767204417253653, -0.04261634006372652, -0.0851414882747124, -0.9119035439512653, -0.32281930867905156, 0.194979954818921, -0.11685677866976853, -1.8053738746846808, -0.014808754132441395, -0.6392074518606004, -0.8503232038190978, -1.0937525430983601, 1.187030991396334, 1.4645556128099475, 0.4113009102746684, 0.1798500649884786, -0.6724445119030096, 0.13446213951423927, 1.3679920722622896, 1.1313820175998472, 0.46880252769541614, -0.39789401001271074, 0.38433474242590737, -0.46326651134413627, 0.33327001249620947, -0.09753287150325765, 2.344702589914879, -0.9140280632719038, -1.4177177422630272, 0.03634479751321479, -1.692481484675992, 0.9512640830307857, 0.19137848466118784, -1.1004124257636585, 0.7043635574043291, -0.09092904401842151, 1.5059008971891839, 0.5973458990802751, 0.34603516962923475, -1.812425632066957, -0.5333194244555364, -0.8625662806115877, -0.1353587151319946, -0.42633306707360935, 0.3816695380113307, 0.89874110435248, 0.3626000974090412, -0.34626845050310656, 1.8354956959106006, -0.1633850685970794, 0.18564892606709904, 0.3812582914116791, -0.9656308255591639, -0.011778101035519862]}],\n",
       "                        {\"barmode\": \"overlay\", \"legend\": {\"bgcolor\": \"#F5F6F9\", \"font\": {\"color\": \"#4D5663\"}}, \"paper_bgcolor\": \"#F5F6F9\", \"plot_bgcolor\": \"#F5F6F9\", \"template\": {\"data\": {\"bar\": [{\"error_x\": {\"color\": \"#2a3f5f\"}, \"error_y\": {\"color\": \"#2a3f5f\"}, \"marker\": {\"line\": {\"color\": \"#E5ECF6\", \"width\": 0.5}}, \"type\": \"bar\"}], \"barpolar\": [{\"marker\": {\"line\": {\"color\": \"#E5ECF6\", \"width\": 0.5}}, \"type\": \"barpolar\"}], \"carpet\": [{\"aaxis\": {\"endlinecolor\": \"#2a3f5f\", \"gridcolor\": \"white\", \"linecolor\": \"white\", \"minorgridcolor\": \"white\", \"startlinecolor\": \"#2a3f5f\"}, \"baxis\": {\"endlinecolor\": \"#2a3f5f\", \"gridcolor\": \"white\", \"linecolor\": \"white\", \"minorgridcolor\": \"white\", \"startlinecolor\": \"#2a3f5f\"}, \"type\": \"carpet\"}], \"choropleth\": [{\"colorbar\": {\"outlinewidth\": 0, \"ticks\": \"\"}, \"type\": \"choropleth\"}], \"contour\": [{\"colorbar\": {\"outlinewidth\": 0, \"ticks\": \"\"}, \"colorscale\": [[0.0, \"#0d0887\"], [0.1111111111111111, \"#46039f\"], [0.2222222222222222, \"#7201a8\"], [0.3333333333333333, \"#9c179e\"], [0.4444444444444444, \"#bd3786\"], [0.5555555555555556, \"#d8576b\"], [0.6666666666666666, \"#ed7953\"], [0.7777777777777778, \"#fb9f3a\"], [0.8888888888888888, \"#fdca26\"], [1.0, \"#f0f921\"]], \"type\": \"contour\"}], \"contourcarpet\": [{\"colorbar\": {\"outlinewidth\": 0, \"ticks\": \"\"}, \"type\": \"contourcarpet\"}], \"heatmap\": [{\"colorbar\": {\"outlinewidth\": 0, \"ticks\": \"\"}, \"colorscale\": [[0.0, \"#0d0887\"], [0.1111111111111111, \"#46039f\"], [0.2222222222222222, \"#7201a8\"], [0.3333333333333333, \"#9c179e\"], [0.4444444444444444, \"#bd3786\"], [0.5555555555555556, \"#d8576b\"], [0.6666666666666666, \"#ed7953\"], [0.7777777777777778, \"#fb9f3a\"], [0.8888888888888888, \"#fdca26\"], [1.0, \"#f0f921\"]], \"type\": \"heatmap\"}], \"heatmapgl\": [{\"colorbar\": {\"outlinewidth\": 0, \"ticks\": \"\"}, \"colorscale\": [[0.0, \"#0d0887\"], [0.1111111111111111, \"#46039f\"], [0.2222222222222222, \"#7201a8\"], [0.3333333333333333, \"#9c179e\"], [0.4444444444444444, \"#bd3786\"], [0.5555555555555556, \"#d8576b\"], [0.6666666666666666, \"#ed7953\"], [0.7777777777777778, \"#fb9f3a\"], [0.8888888888888888, \"#fdca26\"], [1.0, \"#f0f921\"]], \"type\": \"heatmapgl\"}], \"histogram\": [{\"marker\": {\"colorbar\": {\"outlinewidth\": 0, \"ticks\": \"\"}}, \"type\": \"histogram\"}], \"histogram2d\": [{\"colorbar\": {\"outlinewidth\": 0, \"ticks\": \"\"}, \"colorscale\": [[0.0, \"#0d0887\"], [0.1111111111111111, \"#46039f\"], [0.2222222222222222, \"#7201a8\"], [0.3333333333333333, \"#9c179e\"], [0.4444444444444444, \"#bd3786\"], [0.5555555555555556, \"#d8576b\"], [0.6666666666666666, \"#ed7953\"], [0.7777777777777778, \"#fb9f3a\"], [0.8888888888888888, \"#fdca26\"], [1.0, \"#f0f921\"]], \"type\": \"histogram2d\"}], \"histogram2dcontour\": [{\"colorbar\": {\"outlinewidth\": 0, \"ticks\": \"\"}, \"colorscale\": [[0.0, \"#0d0887\"], [0.1111111111111111, \"#46039f\"], [0.2222222222222222, \"#7201a8\"], [0.3333333333333333, \"#9c179e\"], [0.4444444444444444, \"#bd3786\"], [0.5555555555555556, \"#d8576b\"], [0.6666666666666666, \"#ed7953\"], [0.7777777777777778, \"#fb9f3a\"], [0.8888888888888888, \"#fdca26\"], [1.0, \"#f0f921\"]], \"type\": \"histogram2dcontour\"}], \"mesh3d\": [{\"colorbar\": {\"outlinewidth\": 0, \"ticks\": \"\"}, \"type\": \"mesh3d\"}], \"parcoords\": [{\"line\": {\"colorbar\": {\"outlinewidth\": 0, \"ticks\": \"\"}}, \"type\": \"parcoords\"}], \"pie\": [{\"automargin\": true, \"type\": \"pie\"}], \"scatter\": [{\"marker\": {\"colorbar\": {\"outlinewidth\": 0, \"ticks\": \"\"}}, \"type\": \"scatter\"}], \"scatter3d\": [{\"line\": {\"colorbar\": {\"outlinewidth\": 0, \"ticks\": \"\"}}, \"marker\": {\"colorbar\": {\"outlinewidth\": 0, \"ticks\": \"\"}}, \"type\": \"scatter3d\"}], \"scattercarpet\": [{\"marker\": {\"colorbar\": {\"outlinewidth\": 0, \"ticks\": \"\"}}, \"type\": \"scattercarpet\"}], \"scattergeo\": [{\"marker\": {\"colorbar\": {\"outlinewidth\": 0, \"ticks\": \"\"}}, \"type\": \"scattergeo\"}], \"scattergl\": [{\"marker\": {\"colorbar\": {\"outlinewidth\": 0, \"ticks\": \"\"}}, \"type\": \"scattergl\"}], \"scattermapbox\": [{\"marker\": {\"colorbar\": {\"outlinewidth\": 0, \"ticks\": \"\"}}, \"type\": \"scattermapbox\"}], \"scatterpolar\": [{\"marker\": {\"colorbar\": {\"outlinewidth\": 0, \"ticks\": \"\"}}, \"type\": \"scatterpolar\"}], \"scatterpolargl\": [{\"marker\": {\"colorbar\": {\"outlinewidth\": 0, \"ticks\": \"\"}}, \"type\": \"scatterpolargl\"}], \"scatterternary\": [{\"marker\": {\"colorbar\": {\"outlinewidth\": 0, \"ticks\": \"\"}}, \"type\": \"scatterternary\"}], \"surface\": [{\"colorbar\": {\"outlinewidth\": 0, \"ticks\": \"\"}, \"colorscale\": [[0.0, \"#0d0887\"], [0.1111111111111111, \"#46039f\"], [0.2222222222222222, \"#7201a8\"], [0.3333333333333333, \"#9c179e\"], [0.4444444444444444, \"#bd3786\"], [0.5555555555555556, \"#d8576b\"], [0.6666666666666666, \"#ed7953\"], [0.7777777777777778, \"#fb9f3a\"], [0.8888888888888888, \"#fdca26\"], [1.0, \"#f0f921\"]], \"type\": \"surface\"}], \"table\": [{\"cells\": {\"fill\": {\"color\": \"#EBF0F8\"}, \"line\": {\"color\": \"white\"}}, \"header\": {\"fill\": {\"color\": \"#C8D4E3\"}, \"line\": {\"color\": \"white\"}}, \"type\": \"table\"}]}, \"layout\": {\"annotationdefaults\": {\"arrowcolor\": \"#2a3f5f\", \"arrowhead\": 0, \"arrowwidth\": 1}, \"coloraxis\": {\"colorbar\": {\"outlinewidth\": 0, \"ticks\": \"\"}}, \"colorscale\": {\"diverging\": [[0, \"#8e0152\"], [0.1, \"#c51b7d\"], [0.2, \"#de77ae\"], [0.3, \"#f1b6da\"], [0.4, \"#fde0ef\"], [0.5, \"#f7f7f7\"], [0.6, \"#e6f5d0\"], [0.7, \"#b8e186\"], [0.8, \"#7fbc41\"], [0.9, \"#4d9221\"], [1, \"#276419\"]], \"sequential\": [[0.0, \"#0d0887\"], [0.1111111111111111, \"#46039f\"], [0.2222222222222222, \"#7201a8\"], [0.3333333333333333, \"#9c179e\"], [0.4444444444444444, \"#bd3786\"], [0.5555555555555556, \"#d8576b\"], [0.6666666666666666, \"#ed7953\"], [0.7777777777777778, \"#fb9f3a\"], [0.8888888888888888, \"#fdca26\"], [1.0, \"#f0f921\"]], \"sequentialminus\": [[0.0, \"#0d0887\"], [0.1111111111111111, \"#46039f\"], [0.2222222222222222, \"#7201a8\"], [0.3333333333333333, \"#9c179e\"], [0.4444444444444444, \"#bd3786\"], [0.5555555555555556, \"#d8576b\"], [0.6666666666666666, \"#ed7953\"], [0.7777777777777778, \"#fb9f3a\"], [0.8888888888888888, \"#fdca26\"], [1.0, \"#f0f921\"]]}, \"colorway\": [\"#636efa\", \"#EF553B\", \"#00cc96\", \"#ab63fa\", \"#FFA15A\", \"#19d3f3\", \"#FF6692\", \"#B6E880\", \"#FF97FF\", \"#FECB52\"], \"font\": {\"color\": \"#2a3f5f\"}, \"geo\": {\"bgcolor\": \"white\", \"lakecolor\": \"white\", \"landcolor\": \"#E5ECF6\", \"showlakes\": true, \"showland\": true, \"subunitcolor\": \"white\"}, \"hoverlabel\": {\"align\": \"left\"}, \"hovermode\": \"closest\", \"mapbox\": {\"style\": \"light\"}, \"paper_bgcolor\": \"white\", \"plot_bgcolor\": \"#E5ECF6\", \"polar\": {\"angularaxis\": {\"gridcolor\": \"white\", \"linecolor\": \"white\", \"ticks\": \"\"}, \"bgcolor\": \"#E5ECF6\", \"radialaxis\": {\"gridcolor\": \"white\", \"linecolor\": \"white\", \"ticks\": \"\"}}, \"scene\": {\"xaxis\": {\"backgroundcolor\": \"#E5ECF6\", \"gridcolor\": \"white\", \"gridwidth\": 2, \"linecolor\": \"white\", \"showbackground\": true, \"ticks\": \"\", \"zerolinecolor\": \"white\"}, \"yaxis\": {\"backgroundcolor\": \"#E5ECF6\", \"gridcolor\": \"white\", \"gridwidth\": 2, \"linecolor\": \"white\", \"showbackground\": true, \"ticks\": \"\", \"zerolinecolor\": \"white\"}, \"zaxis\": {\"backgroundcolor\": \"#E5ECF6\", \"gridcolor\": \"white\", \"gridwidth\": 2, \"linecolor\": \"white\", \"showbackground\": true, \"ticks\": \"\", \"zerolinecolor\": \"white\"}}, \"shapedefaults\": {\"line\": {\"color\": \"#2a3f5f\"}}, \"ternary\": {\"aaxis\": {\"gridcolor\": \"white\", \"linecolor\": \"white\", \"ticks\": \"\"}, \"baxis\": {\"gridcolor\": \"white\", \"linecolor\": \"white\", \"ticks\": \"\"}, \"bgcolor\": \"#E5ECF6\", \"caxis\": {\"gridcolor\": \"white\", \"linecolor\": \"white\", \"ticks\": \"\"}}, \"title\": {\"x\": 0.05}, \"xaxis\": {\"automargin\": true, \"gridcolor\": \"white\", \"linecolor\": \"white\", \"ticks\": \"\", \"title\": {\"standoff\": 15}, \"zerolinecolor\": \"white\", \"zerolinewidth\": 2}, \"yaxis\": {\"automargin\": true, \"gridcolor\": \"white\", \"linecolor\": \"white\", \"ticks\": \"\", \"title\": {\"standoff\": 15}, \"zerolinecolor\": \"white\", \"zerolinewidth\": 2}}}, \"title\": {\"font\": {\"color\": \"#4D5663\"}}, \"xaxis\": {\"gridcolor\": \"#E1E5ED\", \"showgrid\": true, \"tickfont\": {\"color\": \"#4D5663\"}, \"title\": {\"font\": {\"color\": \"#4D5663\"}, \"text\": \"\"}, \"zerolinecolor\": \"#E1E5ED\"}, \"yaxis\": {\"gridcolor\": \"#E1E5ED\", \"showgrid\": true, \"tickfont\": {\"color\": \"#4D5663\"}, \"title\": {\"font\": {\"color\": \"#4D5663\"}, \"text\": \"\"}, \"zerolinecolor\": \"#E1E5ED\"}},\n",
       "                        {\"showLink\": true, \"linkText\": \"Export to plot.ly\", \"plotlyServerURL\": \"https://plot.ly\", \"responsive\": true}\n",
       "                    ).then(function(){\n",
       "                            \n",
       "var gd = document.getElementById('3fb0c0de-4aeb-438f-9231-e7e31f10ee90');\n",
       "var x = new MutationObserver(function (mutations, observer) {{\n",
       "        var display = window.getComputedStyle(gd).display;\n",
       "        if (!display || display === 'none') {{\n",
       "            console.log([gd, 'removed!']);\n",
       "            Plotly.purge(gd);\n",
       "            observer.disconnect();\n",
       "        }}\n",
       "}});\n",
       "\n",
       "// Listen for the removal of the full notebook cells\n",
       "var notebookContainer = gd.closest('#notebook-container');\n",
       "if (notebookContainer) {{\n",
       "    x.observe(notebookContainer, {childList: true});\n",
       "}}\n",
       "\n",
       "// Listen for the clearing of the current output cell\n",
       "var outputEl = gd.closest('.output');\n",
       "if (outputEl) {{\n",
       "    x.observe(outputEl, {childList: true});\n",
       "}}\n",
       "\n",
       "                        })\n",
       "                };\n",
       "                });\n",
       "            </script>\n",
       "        </div>"
      ]
     },
     "metadata": {},
     "output_type": "display_data"
    }
   ],
   "source": [
    "df1.iplot(kind='hist')"
   ]
  },
  {
   "cell_type": "code",
   "execution_count": 70,
   "metadata": {},
   "outputs": [
    {
     "data": {
      "application/vnd.plotly.v1+json": {
       "config": {
        "linkText": "Export to plot.ly",
        "plotlyServerURL": "https://plot.ly",
        "showLink": true
       },
       "data": [
        {
         "line": {
          "color": "rgba(255, 153, 51, 1.0)",
          "dash": "solid",
          "shape": "linear",
          "width": 1.3
         },
         "mode": "lines",
         "name": "A",
         "text": "",
         "type": "scatter",
         "x": [
          0,
          1,
          2,
          3,
          4,
          5,
          6,
          7,
          8,
          9,
          10,
          11,
          12,
          13,
          14,
          15,
          16,
          17,
          18,
          19,
          20,
          21,
          22,
          23,
          24,
          25,
          26,
          27,
          28,
          29,
          30,
          31,
          32,
          33,
          34,
          35,
          36,
          37,
          38,
          39,
          40,
          41,
          42,
          43,
          44,
          45,
          46,
          47,
          48,
          49,
          50,
          51,
          52,
          53,
          54,
          55,
          56,
          57,
          58,
          59,
          60,
          61,
          62,
          63,
          64,
          65,
          66,
          67,
          68,
          69,
          70,
          71,
          72,
          73,
          74,
          75,
          76,
          77,
          78,
          79,
          80,
          81,
          82,
          83,
          84,
          85,
          86,
          87,
          88,
          89,
          90,
          91,
          92,
          93,
          94,
          95,
          96,
          97,
          98,
          99
         ],
         "y": [
          -0.5160893132420591,
          0.36977198935695393,
          -0.6376530691724629,
          0.7044135024122548,
          -1.1034524796225154,
          0.18995613604102796,
          1.0717395131931318,
          -1.1566232110185277,
          0.2556698499063951,
          0.5725995974595516,
          -0.36381883858858116,
          1.0103077817703432,
          1.476189693036634,
          -0.5748720896488182,
          -0.2215621934905954,
          -1.07820378595533,
          0.11377440007673718,
          -0.21710303674269152,
          1.741337878579764,
          -1.581788230197421,
          0.3408540077117913,
          0.06468467098202953,
          -0.08958541958578416,
          -1.0976825062982054,
          0.20587012230384977,
          0.15526210176672633,
          -1.4710172507266472,
          -1.5898496382747582,
          1.933842648453371,
          1.3434021909533982,
          -1.1521091041379217,
          0.4419615696660577,
          -0.16628800682196257,
          -1.4480584864258539,
          0.3123710794716179,
          -0.52394678356154,
          -0.441630283342012,
          0.9452090149897328,
          -1.2064242590616512,
          1.1817294448147204,
          0.33122354886341154,
          -1.6262334908065013,
          -0.8389948237700519,
          1.031431848359973,
          1.2031977015556656,
          0.18550822410689938,
          -1.175243952995447,
          -0.6584166787766687,
          0.9887952073970762,
          0.21156316886778626,
          0.2573308942094357,
          1.0822115201377114,
          0.0893732644979548,
          -0.5664590218906942,
          -1.6638718228029925,
          -1.2917239916142056,
          0.2929735459136377,
          2.5478516788504653,
          0.5037298828464585,
          -0.30616463748656453,
          0.22976770170748828,
          -1.6430115398381078,
          0.3782966808445278,
          -0.6707144055727559,
          0.9662254536100778,
          0.05403658594513106,
          1.6963707263809569,
          -0.27137490608059545,
          2.0744991017355194,
          0.4924299961297372,
          1.3781820121299793,
          -0.48366849539538426,
          -1.7087393101924184,
          -0.485364483723951,
          -0.23435836832249668,
          0.2905414892465712,
          0.7161490897993718,
          -1.2102095389991587,
          -1.9790457068431644,
          -0.3062877098370745,
          -1.5736209553674065,
          -0.2370271325390344,
          -1.750204964521023,
          1.0059491828068852,
          -0.7688308794485004,
          -1.063682547612927,
          -0.17069113902811184,
          2.842214926335593,
          0.3460617492715024,
          -0.6364441697277597,
          1.091925228098203,
          0.5369717265743313,
          -1.4397140669293151,
          1.1309675075453305,
          0.20621529416792664,
          -1.343819528847644,
          -1.5133197759626105,
          -0.22642951661224134,
          -1.2650842530126634,
          0.6603795222805372
         ]
        },
        {
         "line": {
          "color": "rgba(55, 128, 191, 1.0)",
          "dash": "solid",
          "shape": "linear",
          "width": 1.3
         },
         "mode": "lines",
         "name": "B",
         "text": "",
         "type": "scatter",
         "x": [
          0,
          1,
          2,
          3,
          4,
          5,
          6,
          7,
          8,
          9,
          10,
          11,
          12,
          13,
          14,
          15,
          16,
          17,
          18,
          19,
          20,
          21,
          22,
          23,
          24,
          25,
          26,
          27,
          28,
          29,
          30,
          31,
          32,
          33,
          34,
          35,
          36,
          37,
          38,
          39,
          40,
          41,
          42,
          43,
          44,
          45,
          46,
          47,
          48,
          49,
          50,
          51,
          52,
          53,
          54,
          55,
          56,
          57,
          58,
          59,
          60,
          61,
          62,
          63,
          64,
          65,
          66,
          67,
          68,
          69,
          70,
          71,
          72,
          73,
          74,
          75,
          76,
          77,
          78,
          79,
          80,
          81,
          82,
          83,
          84,
          85,
          86,
          87,
          88,
          89,
          90,
          91,
          92,
          93,
          94,
          95,
          96,
          97,
          98,
          99
         ],
         "y": [
          -0.4830398773165511,
          1.2408811625268137,
          0.35530306722702254,
          -1.3102028346656933,
          0.9040202858708412,
          -0.2513789085826711,
          1.0617367873785306,
          0.24040970267410283,
          0.827258916418403,
          1.9976499284971543,
          0.3137952421614047,
          -1.0432083076324876,
          -0.292705909934658,
          0.729655968186065,
          0.3200609000624027,
          0.10861925178958326,
          -0.9615508927232922,
          -0.9412335616344917,
          -0.38492043027423195,
          -0.15540031244231772,
          -1.4203836484554058,
          -1.9499836347747668,
          0.5780627164204831,
          -0.27688033160590975,
          0.6231901699429303,
          0.07282580554383271,
          -1.5664406555916939,
          0.19284932685719997,
          -1.2346770993468668,
          0.5547972272950802,
          -0.054526653474334406,
          0.40306859970845954,
          -1.764266154643761,
          -1.7167434892062916,
          1.396501337951955,
          -0.5891546375959679,
          -0.9400859853208022,
          -1.0951725544195938,
          -0.1451749974209162,
          0.6510147700211207,
          0.8695826195519815,
          0.21227681655430053,
          -1.00063014199676,
          0.8463286192775679,
          -1.257467598158746,
          0.08542665525475628,
          -1.0614606233725465,
          -0.20102845884704343,
          0.6608800537318047,
          1.5744309963631247,
          -0.3926634023799547,
          0.1685080497220934,
          0.8997902536174733,
          1.8906953239859532,
          -1.610348449562404,
          0.7199856916604425,
          0.762291672726165,
          -0.3374305801061693,
          -0.35411774905218735,
          -0.738177506851164,
          0.8205055534126645,
          -0.4730687265559447,
          1.4154248967549288,
          0.3853470037735814,
          -0.07311205894815102,
          1.992048587260967,
          -0.8096304208333129,
          1.4539187210384725,
          -0.3461594054538799,
          0.5635285262483997,
          0.6793775822531479,
          -0.28478963274363117,
          0.13762039067999338,
          -0.48589524156264796,
          0.2853300886202101,
          0.3134625340586329,
          -0.3459729648201667,
          0.469202684773011,
          -0.3116713747630819,
          -2.423447231628767,
          1.0044667674654812,
          1.5862055534815358,
          1.8575910070321242,
          0.3362284436156032,
          0.7325614247944798,
          -0.4677723508415738,
          0.27622986839544966,
          -0.1399069058961382,
          -0.6845228467429334,
          0.6999198420486332,
          -0.1651068930756629,
          0.9206199046424066,
          -1.2727579433040814,
          0.8914926995078791,
          -0.18333885923645754,
          0.15916393986291397,
          1.2985410347134188,
          -0.004254649023660233,
          0.6777775188939851,
          1.5663705543478634
         ]
        },
        {
         "connectgaps": false,
         "fill": "tozeroy",
         "line": {
          "color": "green",
          "dash": "solid",
          "shape": "linear",
          "width": 0.5
         },
         "mode": "lines",
         "name": "Spread",
         "showlegend": false,
         "type": "scatter",
         "x": [
          0,
          1,
          2,
          3,
          4,
          5,
          6,
          7,
          8,
          9,
          10,
          11,
          12,
          13,
          14,
          15,
          16,
          17,
          18,
          19,
          20,
          21,
          22,
          23,
          24,
          25,
          26,
          27,
          28,
          29,
          30,
          31,
          32,
          33,
          34,
          35,
          36,
          37,
          38,
          39,
          40,
          41,
          42,
          43,
          44,
          45,
          46,
          47,
          48,
          49,
          50,
          51,
          52,
          53,
          54,
          55,
          56,
          57,
          58,
          59,
          60,
          61,
          62,
          63,
          64,
          65,
          66,
          67,
          68,
          69,
          70,
          71,
          72,
          73,
          74,
          75,
          76,
          77,
          78,
          79,
          80,
          81,
          82,
          83,
          84,
          85,
          86,
          87,
          88,
          89,
          90,
          91,
          92,
          93,
          94,
          95,
          96,
          97,
          98,
          99
         ],
         "xaxis": "x2",
         "y": [
          "",
          "",
          "",
          2.014616337077948,
          "",
          0.44133504462369905,
          0.010002725814601154,
          "",
          "",
          "",
          "",
          2.053516089402831,
          1.7688956029712921,
          "",
          "",
          "",
          1.0753252928000294,
          0.7241305248918002,
          2.1262583088539957,
          "",
          1.761237656167197,
          2.0146683057567962,
          "",
          "",
          "",
          0.08243629622289363,
          0.09542340486504663,
          "",
          3.1685197478002376,
          0.788604963658318,
          "",
          0.03889296995759817,
          1.5979781478217985,
          0.2686850027804377,
          "",
          0.06520785403442786,
          0.49845570197879024,
          2.040381569409327,
          "",
          0.5307146747935997,
          "",
          "",
          0.16163531822670818,
          0.18510322908240506,
          2.4606652997144116,
          0.1000815688521431,
          "",
          "",
          0.32791515366527146,
          "",
          0.6499942965893903,
          0.913703470415618,
          "",
          "",
          "",
          "",
          "",
          2.8852822589566345,
          0.8578476318986459,
          0.4320128693645995,
          "",
          "",
          "",
          "",
          1.039337512558229,
          "",
          2.5060011472142696,
          "",
          2.4206585071893993,
          "",
          0.6988044298768313,
          "",
          "",
          0.000530757838696938,
          "",
          "",
          1.0621220546195385,
          "",
          "",
          2.1171595217916925,
          "",
          "",
          "",
          0.6697207391912819,
          "",
          "",
          "",
          2.982121832231731,
          1.0305845960144357,
          "",
          1.257032121173866,
          "",
          "",
          0.23947480803745136,
          0.38955415340438415,
          "",
          "",
          "",
          "",
          ""
         ],
         "yaxis": "y2"
        },
        {
         "connectgaps": false,
         "fill": "tozeroy",
         "line": {
          "color": "red",
          "dash": "solid",
          "shape": "linear",
          "width": 0.5
         },
         "mode": "lines",
         "name": "Spread",
         "showlegend": false,
         "type": "scatter",
         "x": [
          0,
          1,
          2,
          3,
          4,
          5,
          6,
          7,
          8,
          9,
          10,
          11,
          12,
          13,
          14,
          15,
          16,
          17,
          18,
          19,
          20,
          21,
          22,
          23,
          24,
          25,
          26,
          27,
          28,
          29,
          30,
          31,
          32,
          33,
          34,
          35,
          36,
          37,
          38,
          39,
          40,
          41,
          42,
          43,
          44,
          45,
          46,
          47,
          48,
          49,
          50,
          51,
          52,
          53,
          54,
          55,
          56,
          57,
          58,
          59,
          60,
          61,
          62,
          63,
          64,
          65,
          66,
          67,
          68,
          69,
          70,
          71,
          72,
          73,
          74,
          75,
          76,
          77,
          78,
          79,
          80,
          81,
          82,
          83,
          84,
          85,
          86,
          87,
          88,
          89,
          90,
          91,
          92,
          93,
          94,
          95,
          96,
          97,
          98,
          99
         ],
         "xaxis": "x2",
         "y": [
          -0.033049435925507964,
          -0.8711091731698597,
          -0.9929561363994854,
          "",
          -2.0074727654933566,
          "",
          "",
          -1.3970329136926305,
          -0.5715890665120079,
          -1.4250503310376028,
          -0.6776140807499859,
          "",
          "",
          -1.3045280578348832,
          -0.5416230935529981,
          -1.1868230377449132,
          "",
          "",
          "",
          -1.4263879177551033,
          "",
          "",
          -0.6676481360062673,
          -0.8208021746922957,
          -0.41732004763908054,
          "",
          "",
          -1.7826989651319582,
          "",
          "",
          -1.0975824506635872,
          "",
          "",
          "",
          -1.0841302584803372,
          "",
          "",
          "",
          -1.061249261640735,
          "",
          -0.5383590706885699,
          -1.8385103073608018,
          "",
          "",
          "",
          "",
          -0.1137833296229005,
          -0.4573882199296252,
          "",
          -1.3628678274953385,
          "",
          "",
          -0.8104169891195185,
          -2.4571543458766474,
          -0.05352337324058842,
          -2.011709683274648,
          -0.4693181268125273,
          "",
          "",
          "",
          -0.5907378517051762,
          -1.1699428132821632,
          -1.037128215910401,
          -1.0560614093463372,
          "",
          -1.938012001315836,
          "",
          -1.725293627119068,
          "",
          -0.07109853011866246,
          "",
          -0.19887886265175309,
          -1.8463597008724117,
          "",
          -0.5196884569427067,
          -0.022921044812061697,
          "",
          -1.6794122237721698,
          -1.6673743320800825,
          "",
          -2.578087722832888,
          -1.82323268602057,
          -3.607795971553147,
          "",
          -1.5013923042429802,
          -0.5959101967713532,
          -0.4469210074235615,
          "",
          "",
          -1.3363640117763929,
          "",
          -0.3836481780680753,
          -0.1669561236252337,
          "",
          "",
          -1.5029834687105579,
          -2.811860810676029,
          -0.2221748675885811,
          -1.9428617719066485,
          -0.9059910320673262
         ],
         "yaxis": "y2"
        }
       ],
       "layout": {
        "hovermode": "x",
        "legend": {
         "bgcolor": "#F5F6F9",
         "font": {
          "color": "#4D5663"
         }
        },
        "paper_bgcolor": "#F5F6F9",
        "plot_bgcolor": "#F5F6F9",
        "template": {
         "data": {
          "bar": [
           {
            "error_x": {
             "color": "#2a3f5f"
            },
            "error_y": {
             "color": "#2a3f5f"
            },
            "marker": {
             "line": {
              "color": "#E5ECF6",
              "width": 0.5
             }
            },
            "type": "bar"
           }
          ],
          "barpolar": [
           {
            "marker": {
             "line": {
              "color": "#E5ECF6",
              "width": 0.5
             }
            },
            "type": "barpolar"
           }
          ],
          "carpet": [
           {
            "aaxis": {
             "endlinecolor": "#2a3f5f",
             "gridcolor": "white",
             "linecolor": "white",
             "minorgridcolor": "white",
             "startlinecolor": "#2a3f5f"
            },
            "baxis": {
             "endlinecolor": "#2a3f5f",
             "gridcolor": "white",
             "linecolor": "white",
             "minorgridcolor": "white",
             "startlinecolor": "#2a3f5f"
            },
            "type": "carpet"
           }
          ],
          "choropleth": [
           {
            "colorbar": {
             "outlinewidth": 0,
             "ticks": ""
            },
            "type": "choropleth"
           }
          ],
          "contour": [
           {
            "colorbar": {
             "outlinewidth": 0,
             "ticks": ""
            },
            "colorscale": [
             [
              0,
              "#0d0887"
             ],
             [
              0.1111111111111111,
              "#46039f"
             ],
             [
              0.2222222222222222,
              "#7201a8"
             ],
             [
              0.3333333333333333,
              "#9c179e"
             ],
             [
              0.4444444444444444,
              "#bd3786"
             ],
             [
              0.5555555555555556,
              "#d8576b"
             ],
             [
              0.6666666666666666,
              "#ed7953"
             ],
             [
              0.7777777777777778,
              "#fb9f3a"
             ],
             [
              0.8888888888888888,
              "#fdca26"
             ],
             [
              1,
              "#f0f921"
             ]
            ],
            "type": "contour"
           }
          ],
          "contourcarpet": [
           {
            "colorbar": {
             "outlinewidth": 0,
             "ticks": ""
            },
            "type": "contourcarpet"
           }
          ],
          "heatmap": [
           {
            "colorbar": {
             "outlinewidth": 0,
             "ticks": ""
            },
            "colorscale": [
             [
              0,
              "#0d0887"
             ],
             [
              0.1111111111111111,
              "#46039f"
             ],
             [
              0.2222222222222222,
              "#7201a8"
             ],
             [
              0.3333333333333333,
              "#9c179e"
             ],
             [
              0.4444444444444444,
              "#bd3786"
             ],
             [
              0.5555555555555556,
              "#d8576b"
             ],
             [
              0.6666666666666666,
              "#ed7953"
             ],
             [
              0.7777777777777778,
              "#fb9f3a"
             ],
             [
              0.8888888888888888,
              "#fdca26"
             ],
             [
              1,
              "#f0f921"
             ]
            ],
            "type": "heatmap"
           }
          ],
          "heatmapgl": [
           {
            "colorbar": {
             "outlinewidth": 0,
             "ticks": ""
            },
            "colorscale": [
             [
              0,
              "#0d0887"
             ],
             [
              0.1111111111111111,
              "#46039f"
             ],
             [
              0.2222222222222222,
              "#7201a8"
             ],
             [
              0.3333333333333333,
              "#9c179e"
             ],
             [
              0.4444444444444444,
              "#bd3786"
             ],
             [
              0.5555555555555556,
              "#d8576b"
             ],
             [
              0.6666666666666666,
              "#ed7953"
             ],
             [
              0.7777777777777778,
              "#fb9f3a"
             ],
             [
              0.8888888888888888,
              "#fdca26"
             ],
             [
              1,
              "#f0f921"
             ]
            ],
            "type": "heatmapgl"
           }
          ],
          "histogram": [
           {
            "marker": {
             "colorbar": {
              "outlinewidth": 0,
              "ticks": ""
             }
            },
            "type": "histogram"
           }
          ],
          "histogram2d": [
           {
            "colorbar": {
             "outlinewidth": 0,
             "ticks": ""
            },
            "colorscale": [
             [
              0,
              "#0d0887"
             ],
             [
              0.1111111111111111,
              "#46039f"
             ],
             [
              0.2222222222222222,
              "#7201a8"
             ],
             [
              0.3333333333333333,
              "#9c179e"
             ],
             [
              0.4444444444444444,
              "#bd3786"
             ],
             [
              0.5555555555555556,
              "#d8576b"
             ],
             [
              0.6666666666666666,
              "#ed7953"
             ],
             [
              0.7777777777777778,
              "#fb9f3a"
             ],
             [
              0.8888888888888888,
              "#fdca26"
             ],
             [
              1,
              "#f0f921"
             ]
            ],
            "type": "histogram2d"
           }
          ],
          "histogram2dcontour": [
           {
            "colorbar": {
             "outlinewidth": 0,
             "ticks": ""
            },
            "colorscale": [
             [
              0,
              "#0d0887"
             ],
             [
              0.1111111111111111,
              "#46039f"
             ],
             [
              0.2222222222222222,
              "#7201a8"
             ],
             [
              0.3333333333333333,
              "#9c179e"
             ],
             [
              0.4444444444444444,
              "#bd3786"
             ],
             [
              0.5555555555555556,
              "#d8576b"
             ],
             [
              0.6666666666666666,
              "#ed7953"
             ],
             [
              0.7777777777777778,
              "#fb9f3a"
             ],
             [
              0.8888888888888888,
              "#fdca26"
             ],
             [
              1,
              "#f0f921"
             ]
            ],
            "type": "histogram2dcontour"
           }
          ],
          "mesh3d": [
           {
            "colorbar": {
             "outlinewidth": 0,
             "ticks": ""
            },
            "type": "mesh3d"
           }
          ],
          "parcoords": [
           {
            "line": {
             "colorbar": {
              "outlinewidth": 0,
              "ticks": ""
             }
            },
            "type": "parcoords"
           }
          ],
          "pie": [
           {
            "automargin": true,
            "type": "pie"
           }
          ],
          "scatter": [
           {
            "marker": {
             "colorbar": {
              "outlinewidth": 0,
              "ticks": ""
             }
            },
            "type": "scatter"
           }
          ],
          "scatter3d": [
           {
            "line": {
             "colorbar": {
              "outlinewidth": 0,
              "ticks": ""
             }
            },
            "marker": {
             "colorbar": {
              "outlinewidth": 0,
              "ticks": ""
             }
            },
            "type": "scatter3d"
           }
          ],
          "scattercarpet": [
           {
            "marker": {
             "colorbar": {
              "outlinewidth": 0,
              "ticks": ""
             }
            },
            "type": "scattercarpet"
           }
          ],
          "scattergeo": [
           {
            "marker": {
             "colorbar": {
              "outlinewidth": 0,
              "ticks": ""
             }
            },
            "type": "scattergeo"
           }
          ],
          "scattergl": [
           {
            "marker": {
             "colorbar": {
              "outlinewidth": 0,
              "ticks": ""
             }
            },
            "type": "scattergl"
           }
          ],
          "scattermapbox": [
           {
            "marker": {
             "colorbar": {
              "outlinewidth": 0,
              "ticks": ""
             }
            },
            "type": "scattermapbox"
           }
          ],
          "scatterpolar": [
           {
            "marker": {
             "colorbar": {
              "outlinewidth": 0,
              "ticks": ""
             }
            },
            "type": "scatterpolar"
           }
          ],
          "scatterpolargl": [
           {
            "marker": {
             "colorbar": {
              "outlinewidth": 0,
              "ticks": ""
             }
            },
            "type": "scatterpolargl"
           }
          ],
          "scatterternary": [
           {
            "marker": {
             "colorbar": {
              "outlinewidth": 0,
              "ticks": ""
             }
            },
            "type": "scatterternary"
           }
          ],
          "surface": [
           {
            "colorbar": {
             "outlinewidth": 0,
             "ticks": ""
            },
            "colorscale": [
             [
              0,
              "#0d0887"
             ],
             [
              0.1111111111111111,
              "#46039f"
             ],
             [
              0.2222222222222222,
              "#7201a8"
             ],
             [
              0.3333333333333333,
              "#9c179e"
             ],
             [
              0.4444444444444444,
              "#bd3786"
             ],
             [
              0.5555555555555556,
              "#d8576b"
             ],
             [
              0.6666666666666666,
              "#ed7953"
             ],
             [
              0.7777777777777778,
              "#fb9f3a"
             ],
             [
              0.8888888888888888,
              "#fdca26"
             ],
             [
              1,
              "#f0f921"
             ]
            ],
            "type": "surface"
           }
          ],
          "table": [
           {
            "cells": {
             "fill": {
              "color": "#EBF0F8"
             },
             "line": {
              "color": "white"
             }
            },
            "header": {
             "fill": {
              "color": "#C8D4E3"
             },
             "line": {
              "color": "white"
             }
            },
            "type": "table"
           }
          ]
         },
         "layout": {
          "annotationdefaults": {
           "arrowcolor": "#2a3f5f",
           "arrowhead": 0,
           "arrowwidth": 1
          },
          "coloraxis": {
           "colorbar": {
            "outlinewidth": 0,
            "ticks": ""
           }
          },
          "colorscale": {
           "diverging": [
            [
             0,
             "#8e0152"
            ],
            [
             0.1,
             "#c51b7d"
            ],
            [
             0.2,
             "#de77ae"
            ],
            [
             0.3,
             "#f1b6da"
            ],
            [
             0.4,
             "#fde0ef"
            ],
            [
             0.5,
             "#f7f7f7"
            ],
            [
             0.6,
             "#e6f5d0"
            ],
            [
             0.7,
             "#b8e186"
            ],
            [
             0.8,
             "#7fbc41"
            ],
            [
             0.9,
             "#4d9221"
            ],
            [
             1,
             "#276419"
            ]
           ],
           "sequential": [
            [
             0,
             "#0d0887"
            ],
            [
             0.1111111111111111,
             "#46039f"
            ],
            [
             0.2222222222222222,
             "#7201a8"
            ],
            [
             0.3333333333333333,
             "#9c179e"
            ],
            [
             0.4444444444444444,
             "#bd3786"
            ],
            [
             0.5555555555555556,
             "#d8576b"
            ],
            [
             0.6666666666666666,
             "#ed7953"
            ],
            [
             0.7777777777777778,
             "#fb9f3a"
            ],
            [
             0.8888888888888888,
             "#fdca26"
            ],
            [
             1,
             "#f0f921"
            ]
           ],
           "sequentialminus": [
            [
             0,
             "#0d0887"
            ],
            [
             0.1111111111111111,
             "#46039f"
            ],
            [
             0.2222222222222222,
             "#7201a8"
            ],
            [
             0.3333333333333333,
             "#9c179e"
            ],
            [
             0.4444444444444444,
             "#bd3786"
            ],
            [
             0.5555555555555556,
             "#d8576b"
            ],
            [
             0.6666666666666666,
             "#ed7953"
            ],
            [
             0.7777777777777778,
             "#fb9f3a"
            ],
            [
             0.8888888888888888,
             "#fdca26"
            ],
            [
             1,
             "#f0f921"
            ]
           ]
          },
          "colorway": [
           "#636efa",
           "#EF553B",
           "#00cc96",
           "#ab63fa",
           "#FFA15A",
           "#19d3f3",
           "#FF6692",
           "#B6E880",
           "#FF97FF",
           "#FECB52"
          ],
          "font": {
           "color": "#2a3f5f"
          },
          "geo": {
           "bgcolor": "white",
           "lakecolor": "white",
           "landcolor": "#E5ECF6",
           "showlakes": true,
           "showland": true,
           "subunitcolor": "white"
          },
          "hoverlabel": {
           "align": "left"
          },
          "hovermode": "closest",
          "mapbox": {
           "style": "light"
          },
          "paper_bgcolor": "white",
          "plot_bgcolor": "#E5ECF6",
          "polar": {
           "angularaxis": {
            "gridcolor": "white",
            "linecolor": "white",
            "ticks": ""
           },
           "bgcolor": "#E5ECF6",
           "radialaxis": {
            "gridcolor": "white",
            "linecolor": "white",
            "ticks": ""
           }
          },
          "scene": {
           "xaxis": {
            "backgroundcolor": "#E5ECF6",
            "gridcolor": "white",
            "gridwidth": 2,
            "linecolor": "white",
            "showbackground": true,
            "ticks": "",
            "zerolinecolor": "white"
           },
           "yaxis": {
            "backgroundcolor": "#E5ECF6",
            "gridcolor": "white",
            "gridwidth": 2,
            "linecolor": "white",
            "showbackground": true,
            "ticks": "",
            "zerolinecolor": "white"
           },
           "zaxis": {
            "backgroundcolor": "#E5ECF6",
            "gridcolor": "white",
            "gridwidth": 2,
            "linecolor": "white",
            "showbackground": true,
            "ticks": "",
            "zerolinecolor": "white"
           }
          },
          "shapedefaults": {
           "line": {
            "color": "#2a3f5f"
           }
          },
          "ternary": {
           "aaxis": {
            "gridcolor": "white",
            "linecolor": "white",
            "ticks": ""
           },
           "baxis": {
            "gridcolor": "white",
            "linecolor": "white",
            "ticks": ""
           },
           "bgcolor": "#E5ECF6",
           "caxis": {
            "gridcolor": "white",
            "linecolor": "white",
            "ticks": ""
           }
          },
          "title": {
           "x": 0.05
          },
          "xaxis": {
           "automargin": true,
           "gridcolor": "white",
           "linecolor": "white",
           "ticks": "",
           "title": {
            "standoff": 15
           },
           "zerolinecolor": "white",
           "zerolinewidth": 2
          },
          "yaxis": {
           "automargin": true,
           "gridcolor": "white",
           "linecolor": "white",
           "ticks": "",
           "title": {
            "standoff": 15
           },
           "zerolinecolor": "white",
           "zerolinewidth": 2
          }
         }
        },
        "title": {
         "font": {
          "color": "#4D5663"
         }
        },
        "xaxis": {
         "gridcolor": "#E1E5ED",
         "showgrid": true,
         "tickfont": {
          "color": "#4D5663"
         },
         "title": {
          "font": {
           "color": "#4D5663"
          },
          "text": ""
         },
         "zerolinecolor": "#E1E5ED"
        },
        "xaxis2": {
         "anchor": "y2",
         "gridcolor": "#E1E5ED",
         "showgrid": true,
         "showticklabels": false,
         "tickfont": {
          "color": "#4D5663"
         },
         "title": {
          "font": {
           "color": "#4D5663"
          },
          "text": ""
         },
         "zerolinecolor": "#E1E5ED"
        },
        "yaxis": {
         "domain": [
          0.3,
          1
         ],
         "gridcolor": "#E1E5ED",
         "showgrid": true,
         "tickfont": {
          "color": "#4D5663"
         },
         "title": {
          "font": {
           "color": "#4D5663"
          },
          "text": ""
         },
         "zerolinecolor": "#E1E5ED"
        },
        "yaxis2": {
         "domain": [
          0,
          0.25
         ],
         "gridcolor": "#E1E5ED",
         "showgrid": true,
         "tickfont": {
          "color": "#4D5663"
         },
         "title": {
          "font": {
           "color": "#4D5663"
          },
          "text": "Spread"
         },
         "zerolinecolor": "#E1E5ED"
        }
       }
      },
      "text/html": [
       "<div>\n",
       "        \n",
       "        \n",
       "            <div id=\"671717a5-1078-4358-a724-f6ece9499333\" class=\"plotly-graph-div\" style=\"height:525px; width:100%;\"></div>\n",
       "            <script type=\"text/javascript\">\n",
       "                require([\"plotly\"], function(Plotly) {\n",
       "                    window.PLOTLYENV=window.PLOTLYENV || {};\n",
       "                    window.PLOTLYENV.BASE_URL='https://plot.ly';\n",
       "                    \n",
       "                if (document.getElementById(\"671717a5-1078-4358-a724-f6ece9499333\")) {\n",
       "                    Plotly.newPlot(\n",
       "                        '671717a5-1078-4358-a724-f6ece9499333',\n",
       "                        [{\"line\": {\"color\": \"rgba(255, 153, 51, 1.0)\", \"dash\": \"solid\", \"shape\": \"linear\", \"width\": 1.3}, \"mode\": \"lines\", \"name\": \"A\", \"text\": \"\", \"type\": \"scatter\", \"x\": [0, 1, 2, 3, 4, 5, 6, 7, 8, 9, 10, 11, 12, 13, 14, 15, 16, 17, 18, 19, 20, 21, 22, 23, 24, 25, 26, 27, 28, 29, 30, 31, 32, 33, 34, 35, 36, 37, 38, 39, 40, 41, 42, 43, 44, 45, 46, 47, 48, 49, 50, 51, 52, 53, 54, 55, 56, 57, 58, 59, 60, 61, 62, 63, 64, 65, 66, 67, 68, 69, 70, 71, 72, 73, 74, 75, 76, 77, 78, 79, 80, 81, 82, 83, 84, 85, 86, 87, 88, 89, 90, 91, 92, 93, 94, 95, 96, 97, 98, 99], \"y\": [-0.5160893132420591, 0.36977198935695393, -0.6376530691724629, 0.7044135024122548, -1.1034524796225154, 0.18995613604102796, 1.0717395131931318, -1.1566232110185277, 0.2556698499063951, 0.5725995974595516, -0.36381883858858116, 1.0103077817703432, 1.476189693036634, -0.5748720896488182, -0.2215621934905954, -1.07820378595533, 0.11377440007673718, -0.21710303674269152, 1.741337878579764, -1.581788230197421, 0.3408540077117913, 0.06468467098202953, -0.08958541958578416, -1.0976825062982054, 0.20587012230384977, 0.15526210176672633, -1.4710172507266472, -1.5898496382747582, 1.933842648453371, 1.3434021909533982, -1.1521091041379217, 0.4419615696660577, -0.16628800682196257, -1.4480584864258539, 0.3123710794716179, -0.52394678356154, -0.441630283342012, 0.9452090149897328, -1.2064242590616512, 1.1817294448147204, 0.33122354886341154, -1.6262334908065013, -0.8389948237700519, 1.031431848359973, 1.2031977015556656, 0.18550822410689938, -1.175243952995447, -0.6584166787766687, 0.9887952073970762, 0.21156316886778626, 0.2573308942094357, 1.0822115201377114, 0.0893732644979548, -0.5664590218906942, -1.6638718228029925, -1.2917239916142056, 0.2929735459136377, 2.5478516788504653, 0.5037298828464585, -0.30616463748656453, 0.22976770170748828, -1.6430115398381078, 0.3782966808445278, -0.6707144055727559, 0.9662254536100778, 0.05403658594513106, 1.6963707263809569, -0.27137490608059545, 2.0744991017355194, 0.4924299961297372, 1.3781820121299793, -0.48366849539538426, -1.7087393101924184, -0.485364483723951, -0.23435836832249668, 0.2905414892465712, 0.7161490897993718, -1.2102095389991587, -1.9790457068431644, -0.3062877098370745, -1.5736209553674065, -0.2370271325390344, -1.750204964521023, 1.0059491828068852, -0.7688308794485004, -1.063682547612927, -0.17069113902811184, 2.842214926335593, 0.3460617492715024, -0.6364441697277597, 1.091925228098203, 0.5369717265743313, -1.4397140669293151, 1.1309675075453305, 0.20621529416792664, -1.343819528847644, -1.5133197759626105, -0.22642951661224134, -1.2650842530126634, 0.6603795222805372]}, {\"line\": {\"color\": \"rgba(55, 128, 191, 1.0)\", \"dash\": \"solid\", \"shape\": \"linear\", \"width\": 1.3}, \"mode\": \"lines\", \"name\": \"B\", \"text\": \"\", \"type\": \"scatter\", \"x\": [0, 1, 2, 3, 4, 5, 6, 7, 8, 9, 10, 11, 12, 13, 14, 15, 16, 17, 18, 19, 20, 21, 22, 23, 24, 25, 26, 27, 28, 29, 30, 31, 32, 33, 34, 35, 36, 37, 38, 39, 40, 41, 42, 43, 44, 45, 46, 47, 48, 49, 50, 51, 52, 53, 54, 55, 56, 57, 58, 59, 60, 61, 62, 63, 64, 65, 66, 67, 68, 69, 70, 71, 72, 73, 74, 75, 76, 77, 78, 79, 80, 81, 82, 83, 84, 85, 86, 87, 88, 89, 90, 91, 92, 93, 94, 95, 96, 97, 98, 99], \"y\": [-0.4830398773165511, 1.2408811625268137, 0.35530306722702254, -1.3102028346656933, 0.9040202858708412, -0.2513789085826711, 1.0617367873785306, 0.24040970267410283, 0.827258916418403, 1.9976499284971543, 0.3137952421614047, -1.0432083076324876, -0.292705909934658, 0.729655968186065, 0.3200609000624027, 0.10861925178958326, -0.9615508927232922, -0.9412335616344917, -0.38492043027423195, -0.15540031244231772, -1.4203836484554058, -1.9499836347747668, 0.5780627164204831, -0.27688033160590975, 0.6231901699429303, 0.07282580554383271, -1.5664406555916939, 0.19284932685719997, -1.2346770993468668, 0.5547972272950802, -0.054526653474334406, 0.40306859970845954, -1.764266154643761, -1.7167434892062916, 1.396501337951955, -0.5891546375959679, -0.9400859853208022, -1.0951725544195938, -0.1451749974209162, 0.6510147700211207, 0.8695826195519815, 0.21227681655430053, -1.00063014199676, 0.8463286192775679, -1.257467598158746, 0.08542665525475628, -1.0614606233725465, -0.20102845884704343, 0.6608800537318047, 1.5744309963631247, -0.3926634023799547, 0.1685080497220934, 0.8997902536174733, 1.8906953239859532, -1.610348449562404, 0.7199856916604425, 0.762291672726165, -0.3374305801061693, -0.35411774905218735, -0.738177506851164, 0.8205055534126645, -0.4730687265559447, 1.4154248967549288, 0.3853470037735814, -0.07311205894815102, 1.992048587260967, -0.8096304208333129, 1.4539187210384725, -0.3461594054538799, 0.5635285262483997, 0.6793775822531479, -0.28478963274363117, 0.13762039067999338, -0.48589524156264796, 0.2853300886202101, 0.3134625340586329, -0.3459729648201667, 0.469202684773011, -0.3116713747630819, -2.423447231628767, 1.0044667674654812, 1.5862055534815358, 1.8575910070321242, 0.3362284436156032, 0.7325614247944798, -0.4677723508415738, 0.27622986839544966, -0.1399069058961382, -0.6845228467429334, 0.6999198420486332, -0.1651068930756629, 0.9206199046424066, -1.2727579433040814, 0.8914926995078791, -0.18333885923645754, 0.15916393986291397, 1.2985410347134188, -0.004254649023660233, 0.6777775188939851, 1.5663705543478634]}, {\"connectgaps\": false, \"fill\": \"tozeroy\", \"line\": {\"color\": \"green\", \"dash\": \"solid\", \"shape\": \"linear\", \"width\": 0.5}, \"mode\": \"lines\", \"name\": \"Spread\", \"showlegend\": false, \"type\": \"scatter\", \"x\": [0, 1, 2, 3, 4, 5, 6, 7, 8, 9, 10, 11, 12, 13, 14, 15, 16, 17, 18, 19, 20, 21, 22, 23, 24, 25, 26, 27, 28, 29, 30, 31, 32, 33, 34, 35, 36, 37, 38, 39, 40, 41, 42, 43, 44, 45, 46, 47, 48, 49, 50, 51, 52, 53, 54, 55, 56, 57, 58, 59, 60, 61, 62, 63, 64, 65, 66, 67, 68, 69, 70, 71, 72, 73, 74, 75, 76, 77, 78, 79, 80, 81, 82, 83, 84, 85, 86, 87, 88, 89, 90, 91, 92, 93, 94, 95, 96, 97, 98, 99], \"xaxis\": \"x2\", \"y\": [\"\", \"\", \"\", 2.014616337077948, \"\", 0.44133504462369905, 0.010002725814601154, \"\", \"\", \"\", \"\", 2.053516089402831, 1.7688956029712921, \"\", \"\", \"\", 1.0753252928000294, 0.7241305248918002, 2.1262583088539957, \"\", 1.761237656167197, 2.0146683057567962, \"\", \"\", \"\", 0.08243629622289363, 0.09542340486504663, \"\", 3.1685197478002376, 0.788604963658318, \"\", 0.03889296995759817, 1.5979781478217985, 0.2686850027804377, \"\", 0.06520785403442786, 0.49845570197879024, 2.040381569409327, \"\", 0.5307146747935997, \"\", \"\", 0.16163531822670818, 0.18510322908240506, 2.4606652997144116, 0.1000815688521431, \"\", \"\", 0.32791515366527146, \"\", 0.6499942965893903, 0.913703470415618, \"\", \"\", \"\", \"\", \"\", 2.8852822589566345, 0.8578476318986459, 0.4320128693645995, \"\", \"\", \"\", \"\", 1.039337512558229, \"\", 2.5060011472142696, \"\", 2.4206585071893993, \"\", 0.6988044298768313, \"\", \"\", 0.000530757838696938, \"\", \"\", 1.0621220546195385, \"\", \"\", 2.1171595217916925, \"\", \"\", \"\", 0.6697207391912819, \"\", \"\", \"\", 2.982121832231731, 1.0305845960144357, \"\", 1.257032121173866, \"\", \"\", 0.23947480803745136, 0.38955415340438415, \"\", \"\", \"\", \"\", \"\"], \"yaxis\": \"y2\"}, {\"connectgaps\": false, \"fill\": \"tozeroy\", \"line\": {\"color\": \"red\", \"dash\": \"solid\", \"shape\": \"linear\", \"width\": 0.5}, \"mode\": \"lines\", \"name\": \"Spread\", \"showlegend\": false, \"type\": \"scatter\", \"x\": [0, 1, 2, 3, 4, 5, 6, 7, 8, 9, 10, 11, 12, 13, 14, 15, 16, 17, 18, 19, 20, 21, 22, 23, 24, 25, 26, 27, 28, 29, 30, 31, 32, 33, 34, 35, 36, 37, 38, 39, 40, 41, 42, 43, 44, 45, 46, 47, 48, 49, 50, 51, 52, 53, 54, 55, 56, 57, 58, 59, 60, 61, 62, 63, 64, 65, 66, 67, 68, 69, 70, 71, 72, 73, 74, 75, 76, 77, 78, 79, 80, 81, 82, 83, 84, 85, 86, 87, 88, 89, 90, 91, 92, 93, 94, 95, 96, 97, 98, 99], \"xaxis\": \"x2\", \"y\": [-0.033049435925507964, -0.8711091731698597, -0.9929561363994854, \"\", -2.0074727654933566, \"\", \"\", -1.3970329136926305, -0.5715890665120079, -1.4250503310376028, -0.6776140807499859, \"\", \"\", -1.3045280578348832, -0.5416230935529981, -1.1868230377449132, \"\", \"\", \"\", -1.4263879177551033, \"\", \"\", -0.6676481360062673, -0.8208021746922957, -0.41732004763908054, \"\", \"\", -1.7826989651319582, \"\", \"\", -1.0975824506635872, \"\", \"\", \"\", -1.0841302584803372, \"\", \"\", \"\", -1.061249261640735, \"\", -0.5383590706885699, -1.8385103073608018, \"\", \"\", \"\", \"\", -0.1137833296229005, -0.4573882199296252, \"\", -1.3628678274953385, \"\", \"\", -0.8104169891195185, -2.4571543458766474, -0.05352337324058842, -2.011709683274648, -0.4693181268125273, \"\", \"\", \"\", -0.5907378517051762, -1.1699428132821632, -1.037128215910401, -1.0560614093463372, \"\", -1.938012001315836, \"\", -1.725293627119068, \"\", -0.07109853011866246, \"\", -0.19887886265175309, -1.8463597008724117, \"\", -0.5196884569427067, -0.022921044812061697, \"\", -1.6794122237721698, -1.6673743320800825, \"\", -2.578087722832888, -1.82323268602057, -3.607795971553147, \"\", -1.5013923042429802, -0.5959101967713532, -0.4469210074235615, \"\", \"\", -1.3363640117763929, \"\", -0.3836481780680753, -0.1669561236252337, \"\", \"\", -1.5029834687105579, -2.811860810676029, -0.2221748675885811, -1.9428617719066485, -0.9059910320673262], \"yaxis\": \"y2\"}],\n",
       "                        {\"hovermode\": \"x\", \"legend\": {\"bgcolor\": \"#F5F6F9\", \"font\": {\"color\": \"#4D5663\"}}, \"paper_bgcolor\": \"#F5F6F9\", \"plot_bgcolor\": \"#F5F6F9\", \"template\": {\"data\": {\"bar\": [{\"error_x\": {\"color\": \"#2a3f5f\"}, \"error_y\": {\"color\": \"#2a3f5f\"}, \"marker\": {\"line\": {\"color\": \"#E5ECF6\", \"width\": 0.5}}, \"type\": \"bar\"}], \"barpolar\": [{\"marker\": {\"line\": {\"color\": \"#E5ECF6\", \"width\": 0.5}}, \"type\": \"barpolar\"}], \"carpet\": [{\"aaxis\": {\"endlinecolor\": \"#2a3f5f\", \"gridcolor\": \"white\", \"linecolor\": \"white\", \"minorgridcolor\": \"white\", \"startlinecolor\": \"#2a3f5f\"}, \"baxis\": {\"endlinecolor\": \"#2a3f5f\", \"gridcolor\": \"white\", \"linecolor\": \"white\", \"minorgridcolor\": \"white\", \"startlinecolor\": \"#2a3f5f\"}, \"type\": \"carpet\"}], \"choropleth\": [{\"colorbar\": {\"outlinewidth\": 0, \"ticks\": \"\"}, \"type\": \"choropleth\"}], \"contour\": [{\"colorbar\": {\"outlinewidth\": 0, \"ticks\": \"\"}, \"colorscale\": [[0.0, \"#0d0887\"], [0.1111111111111111, \"#46039f\"], [0.2222222222222222, \"#7201a8\"], [0.3333333333333333, \"#9c179e\"], [0.4444444444444444, \"#bd3786\"], [0.5555555555555556, \"#d8576b\"], [0.6666666666666666, \"#ed7953\"], [0.7777777777777778, \"#fb9f3a\"], [0.8888888888888888, \"#fdca26\"], [1.0, \"#f0f921\"]], \"type\": \"contour\"}], \"contourcarpet\": [{\"colorbar\": {\"outlinewidth\": 0, \"ticks\": \"\"}, \"type\": \"contourcarpet\"}], \"heatmap\": [{\"colorbar\": {\"outlinewidth\": 0, \"ticks\": \"\"}, \"colorscale\": [[0.0, \"#0d0887\"], [0.1111111111111111, \"#46039f\"], [0.2222222222222222, \"#7201a8\"], [0.3333333333333333, \"#9c179e\"], [0.4444444444444444, \"#bd3786\"], [0.5555555555555556, \"#d8576b\"], [0.6666666666666666, \"#ed7953\"], [0.7777777777777778, \"#fb9f3a\"], [0.8888888888888888, \"#fdca26\"], [1.0, \"#f0f921\"]], \"type\": \"heatmap\"}], \"heatmapgl\": [{\"colorbar\": {\"outlinewidth\": 0, \"ticks\": \"\"}, \"colorscale\": [[0.0, \"#0d0887\"], [0.1111111111111111, \"#46039f\"], [0.2222222222222222, \"#7201a8\"], [0.3333333333333333, \"#9c179e\"], [0.4444444444444444, \"#bd3786\"], [0.5555555555555556, \"#d8576b\"], [0.6666666666666666, \"#ed7953\"], [0.7777777777777778, \"#fb9f3a\"], [0.8888888888888888, \"#fdca26\"], [1.0, \"#f0f921\"]], \"type\": \"heatmapgl\"}], \"histogram\": [{\"marker\": {\"colorbar\": {\"outlinewidth\": 0, \"ticks\": \"\"}}, \"type\": \"histogram\"}], \"histogram2d\": [{\"colorbar\": {\"outlinewidth\": 0, \"ticks\": \"\"}, \"colorscale\": [[0.0, \"#0d0887\"], [0.1111111111111111, \"#46039f\"], [0.2222222222222222, \"#7201a8\"], [0.3333333333333333, \"#9c179e\"], [0.4444444444444444, \"#bd3786\"], [0.5555555555555556, \"#d8576b\"], [0.6666666666666666, \"#ed7953\"], [0.7777777777777778, \"#fb9f3a\"], [0.8888888888888888, \"#fdca26\"], [1.0, \"#f0f921\"]], \"type\": \"histogram2d\"}], \"histogram2dcontour\": [{\"colorbar\": {\"outlinewidth\": 0, \"ticks\": \"\"}, \"colorscale\": [[0.0, \"#0d0887\"], [0.1111111111111111, \"#46039f\"], [0.2222222222222222, \"#7201a8\"], [0.3333333333333333, \"#9c179e\"], [0.4444444444444444, \"#bd3786\"], [0.5555555555555556, \"#d8576b\"], [0.6666666666666666, \"#ed7953\"], [0.7777777777777778, \"#fb9f3a\"], [0.8888888888888888, \"#fdca26\"], [1.0, \"#f0f921\"]], \"type\": \"histogram2dcontour\"}], \"mesh3d\": [{\"colorbar\": {\"outlinewidth\": 0, \"ticks\": \"\"}, \"type\": \"mesh3d\"}], \"parcoords\": [{\"line\": {\"colorbar\": {\"outlinewidth\": 0, \"ticks\": \"\"}}, \"type\": \"parcoords\"}], \"pie\": [{\"automargin\": true, \"type\": \"pie\"}], \"scatter\": [{\"marker\": {\"colorbar\": {\"outlinewidth\": 0, \"ticks\": \"\"}}, \"type\": \"scatter\"}], \"scatter3d\": [{\"line\": {\"colorbar\": {\"outlinewidth\": 0, \"ticks\": \"\"}}, \"marker\": {\"colorbar\": {\"outlinewidth\": 0, \"ticks\": \"\"}}, \"type\": \"scatter3d\"}], \"scattercarpet\": [{\"marker\": {\"colorbar\": {\"outlinewidth\": 0, \"ticks\": \"\"}}, \"type\": \"scattercarpet\"}], \"scattergeo\": [{\"marker\": {\"colorbar\": {\"outlinewidth\": 0, \"ticks\": \"\"}}, \"type\": \"scattergeo\"}], \"scattergl\": [{\"marker\": {\"colorbar\": {\"outlinewidth\": 0, \"ticks\": \"\"}}, \"type\": \"scattergl\"}], \"scattermapbox\": [{\"marker\": {\"colorbar\": {\"outlinewidth\": 0, \"ticks\": \"\"}}, \"type\": \"scattermapbox\"}], \"scatterpolar\": [{\"marker\": {\"colorbar\": {\"outlinewidth\": 0, \"ticks\": \"\"}}, \"type\": \"scatterpolar\"}], \"scatterpolargl\": [{\"marker\": {\"colorbar\": {\"outlinewidth\": 0, \"ticks\": \"\"}}, \"type\": \"scatterpolargl\"}], \"scatterternary\": [{\"marker\": {\"colorbar\": {\"outlinewidth\": 0, \"ticks\": \"\"}}, \"type\": \"scatterternary\"}], \"surface\": [{\"colorbar\": {\"outlinewidth\": 0, \"ticks\": \"\"}, \"colorscale\": [[0.0, \"#0d0887\"], [0.1111111111111111, \"#46039f\"], [0.2222222222222222, \"#7201a8\"], [0.3333333333333333, \"#9c179e\"], [0.4444444444444444, \"#bd3786\"], [0.5555555555555556, \"#d8576b\"], [0.6666666666666666, \"#ed7953\"], [0.7777777777777778, \"#fb9f3a\"], [0.8888888888888888, \"#fdca26\"], [1.0, \"#f0f921\"]], \"type\": \"surface\"}], \"table\": [{\"cells\": {\"fill\": {\"color\": \"#EBF0F8\"}, \"line\": {\"color\": \"white\"}}, \"header\": {\"fill\": {\"color\": \"#C8D4E3\"}, \"line\": {\"color\": \"white\"}}, \"type\": \"table\"}]}, \"layout\": {\"annotationdefaults\": {\"arrowcolor\": \"#2a3f5f\", \"arrowhead\": 0, \"arrowwidth\": 1}, \"coloraxis\": {\"colorbar\": {\"outlinewidth\": 0, \"ticks\": \"\"}}, \"colorscale\": {\"diverging\": [[0, \"#8e0152\"], [0.1, \"#c51b7d\"], [0.2, \"#de77ae\"], [0.3, \"#f1b6da\"], [0.4, \"#fde0ef\"], [0.5, \"#f7f7f7\"], [0.6, \"#e6f5d0\"], [0.7, \"#b8e186\"], [0.8, \"#7fbc41\"], [0.9, \"#4d9221\"], [1, \"#276419\"]], \"sequential\": [[0.0, \"#0d0887\"], [0.1111111111111111, \"#46039f\"], [0.2222222222222222, \"#7201a8\"], [0.3333333333333333, \"#9c179e\"], [0.4444444444444444, \"#bd3786\"], [0.5555555555555556, \"#d8576b\"], [0.6666666666666666, \"#ed7953\"], [0.7777777777777778, \"#fb9f3a\"], [0.8888888888888888, \"#fdca26\"], [1.0, \"#f0f921\"]], \"sequentialminus\": [[0.0, \"#0d0887\"], [0.1111111111111111, \"#46039f\"], [0.2222222222222222, \"#7201a8\"], [0.3333333333333333, \"#9c179e\"], [0.4444444444444444, \"#bd3786\"], [0.5555555555555556, \"#d8576b\"], [0.6666666666666666, \"#ed7953\"], [0.7777777777777778, \"#fb9f3a\"], [0.8888888888888888, \"#fdca26\"], [1.0, \"#f0f921\"]]}, \"colorway\": [\"#636efa\", \"#EF553B\", \"#00cc96\", \"#ab63fa\", \"#FFA15A\", \"#19d3f3\", \"#FF6692\", \"#B6E880\", \"#FF97FF\", \"#FECB52\"], \"font\": {\"color\": \"#2a3f5f\"}, \"geo\": {\"bgcolor\": \"white\", \"lakecolor\": \"white\", \"landcolor\": \"#E5ECF6\", \"showlakes\": true, \"showland\": true, \"subunitcolor\": \"white\"}, \"hoverlabel\": {\"align\": \"left\"}, \"hovermode\": \"closest\", \"mapbox\": {\"style\": \"light\"}, \"paper_bgcolor\": \"white\", \"plot_bgcolor\": \"#E5ECF6\", \"polar\": {\"angularaxis\": {\"gridcolor\": \"white\", \"linecolor\": \"white\", \"ticks\": \"\"}, \"bgcolor\": \"#E5ECF6\", \"radialaxis\": {\"gridcolor\": \"white\", \"linecolor\": \"white\", \"ticks\": \"\"}}, \"scene\": {\"xaxis\": {\"backgroundcolor\": \"#E5ECF6\", \"gridcolor\": \"white\", \"gridwidth\": 2, \"linecolor\": \"white\", \"showbackground\": true, \"ticks\": \"\", \"zerolinecolor\": \"white\"}, \"yaxis\": {\"backgroundcolor\": \"#E5ECF6\", \"gridcolor\": \"white\", \"gridwidth\": 2, \"linecolor\": \"white\", \"showbackground\": true, \"ticks\": \"\", \"zerolinecolor\": \"white\"}, \"zaxis\": {\"backgroundcolor\": \"#E5ECF6\", \"gridcolor\": \"white\", \"gridwidth\": 2, \"linecolor\": \"white\", \"showbackground\": true, \"ticks\": \"\", \"zerolinecolor\": \"white\"}}, \"shapedefaults\": {\"line\": {\"color\": \"#2a3f5f\"}}, \"ternary\": {\"aaxis\": {\"gridcolor\": \"white\", \"linecolor\": \"white\", \"ticks\": \"\"}, \"baxis\": {\"gridcolor\": \"white\", \"linecolor\": \"white\", \"ticks\": \"\"}, \"bgcolor\": \"#E5ECF6\", \"caxis\": {\"gridcolor\": \"white\", \"linecolor\": \"white\", \"ticks\": \"\"}}, \"title\": {\"x\": 0.05}, \"xaxis\": {\"automargin\": true, \"gridcolor\": \"white\", \"linecolor\": \"white\", \"ticks\": \"\", \"title\": {\"standoff\": 15}, \"zerolinecolor\": \"white\", \"zerolinewidth\": 2}, \"yaxis\": {\"automargin\": true, \"gridcolor\": \"white\", \"linecolor\": \"white\", \"ticks\": \"\", \"title\": {\"standoff\": 15}, \"zerolinecolor\": \"white\", \"zerolinewidth\": 2}}}, \"title\": {\"font\": {\"color\": \"#4D5663\"}}, \"xaxis\": {\"gridcolor\": \"#E1E5ED\", \"showgrid\": true, \"tickfont\": {\"color\": \"#4D5663\"}, \"title\": {\"font\": {\"color\": \"#4D5663\"}, \"text\": \"\"}, \"zerolinecolor\": \"#E1E5ED\"}, \"xaxis2\": {\"anchor\": \"y2\", \"gridcolor\": \"#E1E5ED\", \"showgrid\": true, \"showticklabels\": false, \"tickfont\": {\"color\": \"#4D5663\"}, \"title\": {\"font\": {\"color\": \"#4D5663\"}, \"text\": \"\"}, \"zerolinecolor\": \"#E1E5ED\"}, \"yaxis\": {\"domain\": [0.3, 1], \"gridcolor\": \"#E1E5ED\", \"showgrid\": true, \"tickfont\": {\"color\": \"#4D5663\"}, \"title\": {\"font\": {\"color\": \"#4D5663\"}, \"text\": \"\"}, \"zerolinecolor\": \"#E1E5ED\"}, \"yaxis2\": {\"domain\": [0, 0.25], \"gridcolor\": \"#E1E5ED\", \"showgrid\": true, \"tickfont\": {\"color\": \"#4D5663\"}, \"title\": {\"font\": {\"color\": \"#4D5663\"}, \"text\": \"Spread\"}, \"zerolinecolor\": \"#E1E5ED\"}},\n",
       "                        {\"showLink\": true, \"linkText\": \"Export to plot.ly\", \"plotlyServerURL\": \"https://plot.ly\", \"responsive\": true}\n",
       "                    ).then(function(){\n",
       "                            \n",
       "var gd = document.getElementById('671717a5-1078-4358-a724-f6ece9499333');\n",
       "var x = new MutationObserver(function (mutations, observer) {{\n",
       "        var display = window.getComputedStyle(gd).display;\n",
       "        if (!display || display === 'none') {{\n",
       "            console.log([gd, 'removed!']);\n",
       "            Plotly.purge(gd);\n",
       "            observer.disconnect();\n",
       "        }}\n",
       "}});\n",
       "\n",
       "// Listen for the removal of the full notebook cells\n",
       "var notebookContainer = gd.closest('#notebook-container');\n",
       "if (notebookContainer) {{\n",
       "    x.observe(notebookContainer, {childList: true});\n",
       "}}\n",
       "\n",
       "// Listen for the clearing of the current output cell\n",
       "var outputEl = gd.closest('.output');\n",
       "if (outputEl) {{\n",
       "    x.observe(outputEl, {childList: true});\n",
       "}}\n",
       "\n",
       "                        })\n",
       "                };\n",
       "                });\n",
       "            </script>\n",
       "        </div>"
      ]
     },
     "metadata": {},
     "output_type": "display_data"
    }
   ],
   "source": [
    "df[['A','B']].iplot(kind='spread')"
   ]
  },
  {
   "cell_type": "code",
   "execution_count": 81,
   "metadata": {},
   "outputs": [
    {
     "data": {
      "application/vnd.plotly.v1+json": {
       "config": {
        "linkText": "Export to plot.ly",
        "plotlyServerURL": "https://plot.ly",
        "showLink": true
       },
       "data": [
        {
         "marker": {
          "color": [
           "rgb(255, 153, 51)",
           "rgb(55, 128, 191)",
           "rgb(50, 171, 96)",
           "rgb(128, 0, 128)",
           "rgb(219, 64, 82)",
           "rgb(0, 128, 128)",
           "rgb(255, 255, 51)",
           "rgb(128, 128, 0)",
           "rgb(251, 128, 114)",
           "rgb(128, 177, 211)"
          ],
          "line": {
           "width": 1.3
          },
          "size": [
           51,
           80,
           57,
           39,
           12,
           33,
           54,
           57,
           67,
           23,
           34,
           47,
           70,
           22,
           53,
           41,
           64,
           108,
           71,
           41,
           62,
           104,
           64,
           55,
           67,
           60,
           43,
           70,
           64,
           60,
           60,
           46,
           44,
           69,
           52,
           38,
           89,
           49,
           32,
           64,
           80,
           28,
           108,
           30,
           28,
           54,
           21,
           56,
           55,
           36,
           50,
           62,
           55,
           16,
           57,
           43,
           38,
           32,
           85,
           91,
           67,
           62,
           42,
           61,
           89,
           84,
           68,
           48,
           66,
           47,
           65,
           55,
           112,
           36,
           25,
           58,
           18,
           79,
           62,
           32,
           74,
           55,
           92,
           71,
           65,
           16,
           45,
           38,
           54,
           48,
           66,
           78,
           66,
           49,
           100,
           54,
           62,
           66,
           35,
           57
          ],
          "symbol": "circle"
         },
         "mode": "markers",
         "text": "",
         "type": "scatter",
         "x": [
          1.472529121625012,
          1.130248943233051,
          -0.03482930485305292,
          -0.5732950541498779,
          0.6679167375471895,
          -0.8579231829134375,
          0.8094528586808082,
          0.3085641347607752,
          0.27377683773219197,
          0.23206478359138408,
          0.05238217602947687,
          1.6583515353500433,
          0.07790651684678294,
          -1.7301434691903925,
          -0.5641455958381295,
          0.4147172412633151,
          -0.09849314047167301,
          0.9977271515240892,
          0.8786339083285464,
          0.6950074047715827,
          0.45710903842482575,
          0.4982199907784472,
          0.12903988052103624,
          -1.4837525556196758,
          2.1559376570965503,
          0.27121817416520905,
          -0.7920459692083268,
          0.34986943200659715,
          -1.4244439368614608,
          0.32694876044997556,
          0.46860953711542114,
          -0.8163787512650883,
          1.2187153472151357,
          -0.20858295937455842,
          -1.6419227340761469,
          -1.7597511712926772,
          -0.889500156517225,
          0.7680841645055828,
          0.242169122327131,
          1.836311067999764,
          -0.3640393725187276,
          0.6913544823158839,
          0.5381815943734077,
          -1.2920024951121236,
          0.32683652775332095,
          -1.6543868904131966,
          -0.07603260838364179,
          -1.1191319473076922,
          -0.06515760125541344,
          2.6112740684691444,
          0.189885318735173,
          0.758128711401495,
          1.3565878468023498,
          -1.6605371867714478,
          -0.7657077563048298,
          -0.3795261071180454,
          -1.0575887339186927,
          -0.21917702928905666,
          -0.018563285766532843,
          -0.31467704146234077,
          -0.15156994149975483,
          1.3072808419825945,
          0.301826271055909,
          0.9387223883113914,
          -0.9159890914090407,
          0.9972746743704269,
          -0.14961035018933383,
          0.6936412738254416,
          0.02150439010857565,
          -0.09685198016522274,
          -0.17962054484657083,
          2.8387103914674565,
          1.7403528975355167,
          0.16910030614484756,
          -1.8773354305002856,
          0.825977346945175,
          0.8377635089652343,
          0.9617236811802147,
          -0.6473981950616219,
          -1.6658039916353078,
          -0.2692192979839951,
          -2.729756849044134,
          -0.22782472436569362,
          -0.501111975287052,
          0.46337026689879734,
          1.0619123546213953,
          1.6562427899245722,
          0.062163840611550794,
          0.19039780019298785,
          0.026824609638366238,
          0.8368352166533789,
          0.29023261477188106,
          -0.4892908992826225,
          0.4014711067047261,
          0.7167889751395604,
          1.2783993039707082,
          -0.45256841203177944,
          -1.104240974398623,
          0.48498329755483055,
          0.4547917796841871
         ],
         "y": [
          -1.4490718845084207,
          0.5402426554463875,
          -1.3347985434813625,
          -0.12225119502318878,
          -1.30101789971426,
          0.38569811159209016,
          2.397904687740729,
          -2.3982480926388368,
          -0.10494367248597691,
          -0.2224254060893642,
          0.5410029274040677,
          1.2220114737266936,
          0.6413367934003551,
          0.4661400594131579,
          1.6301263489299898,
          -0.045857295111949706,
          0.22578578119008808,
          0.26281871636509874,
          0.3524366173554224,
          -0.25045607157728855,
          -0.02644007066357181,
          0.8618805448064077,
          -1.0669884903827511,
          2.202131722577417,
          -0.7113457060825948,
          -0.42921931155234017,
          0.03085513090831307,
          2.286357429921338,
          -0.2505199679788893,
          -2.49540664349453,
          -1.1157577643488887,
          0.7330552833464814,
          -0.4614404215891602,
          -1.3673002928914093,
          -1.7600123190780688,
          -2.0887547843771395,
          -2.1859340876441404,
          -0.49279846658300813,
          -1.889275646139344,
          -0.5690532456828411,
          0.4239373965316233,
          0.6397781534640425,
          -0.29671425027591325,
          0.6571556609166963,
          1.383298672469432,
          1.109761245033315,
          1.4332373810414698,
          0.6738019112262904,
          -1.1813200383895766,
          -1.6614202983027815,
          1.2398798868361367,
          0.6123687064574279,
          0.0915797315637989,
          0.006009505705794459,
          -1.0960578906870182,
          -1.1053797480590637,
          1.0352922076995237,
          0.2776270046807994,
          -0.09822942803128862,
          1.3423627824672761,
          -0.4269262478860568,
          -0.8566216988554339,
          0.4155483209694457,
          0.21352323335426418,
          0.9205293326670225,
          -2.4290809169775893,
          -1.097530893017326,
          0.0014555989292659602,
          -0.4721893111402556,
          -2.3651682013646727,
          0.9177196755689004,
          -2.6495518809284646,
          0.018826728369795518,
          0.05322287052010041,
          -1.1676072328548432,
          0.3940104502096727,
          0.3003994475771432,
          1.6651594296939112,
          -0.671156151734517,
          3.2476405756672038,
          -0.026105037598596365,
          -1.177609198277101,
          0.12516726924093127,
          -0.517430855564586,
          0.6604745556074771,
          -0.0018629645865976042,
          -1.7849289778669288,
          0.18498950224768243,
          1.442080076368799,
          0.9472992507672473,
          2.195427851378761,
          0.3966786785752604,
          -0.5002725972891627,
          -1.9460828869923503,
          -0.3608192626215061,
          1.0131320014705925,
          -0.7057725331167626,
          0.9665220645320599,
          -0.042248237084285586,
          -0.9798386628297314
         ]
        }
       ],
       "layout": {
        "legend": {
         "bgcolor": "#F5F6F9",
         "font": {
          "color": "#4D5663"
         }
        },
        "paper_bgcolor": "#F5F6F9",
        "plot_bgcolor": "#F5F6F9",
        "template": {
         "data": {
          "bar": [
           {
            "error_x": {
             "color": "#2a3f5f"
            },
            "error_y": {
             "color": "#2a3f5f"
            },
            "marker": {
             "line": {
              "color": "#E5ECF6",
              "width": 0.5
             }
            },
            "type": "bar"
           }
          ],
          "barpolar": [
           {
            "marker": {
             "line": {
              "color": "#E5ECF6",
              "width": 0.5
             }
            },
            "type": "barpolar"
           }
          ],
          "carpet": [
           {
            "aaxis": {
             "endlinecolor": "#2a3f5f",
             "gridcolor": "white",
             "linecolor": "white",
             "minorgridcolor": "white",
             "startlinecolor": "#2a3f5f"
            },
            "baxis": {
             "endlinecolor": "#2a3f5f",
             "gridcolor": "white",
             "linecolor": "white",
             "minorgridcolor": "white",
             "startlinecolor": "#2a3f5f"
            },
            "type": "carpet"
           }
          ],
          "choropleth": [
           {
            "colorbar": {
             "outlinewidth": 0,
             "ticks": ""
            },
            "type": "choropleth"
           }
          ],
          "contour": [
           {
            "colorbar": {
             "outlinewidth": 0,
             "ticks": ""
            },
            "colorscale": [
             [
              0,
              "#0d0887"
             ],
             [
              0.1111111111111111,
              "#46039f"
             ],
             [
              0.2222222222222222,
              "#7201a8"
             ],
             [
              0.3333333333333333,
              "#9c179e"
             ],
             [
              0.4444444444444444,
              "#bd3786"
             ],
             [
              0.5555555555555556,
              "#d8576b"
             ],
             [
              0.6666666666666666,
              "#ed7953"
             ],
             [
              0.7777777777777778,
              "#fb9f3a"
             ],
             [
              0.8888888888888888,
              "#fdca26"
             ],
             [
              1,
              "#f0f921"
             ]
            ],
            "type": "contour"
           }
          ],
          "contourcarpet": [
           {
            "colorbar": {
             "outlinewidth": 0,
             "ticks": ""
            },
            "type": "contourcarpet"
           }
          ],
          "heatmap": [
           {
            "colorbar": {
             "outlinewidth": 0,
             "ticks": ""
            },
            "colorscale": [
             [
              0,
              "#0d0887"
             ],
             [
              0.1111111111111111,
              "#46039f"
             ],
             [
              0.2222222222222222,
              "#7201a8"
             ],
             [
              0.3333333333333333,
              "#9c179e"
             ],
             [
              0.4444444444444444,
              "#bd3786"
             ],
             [
              0.5555555555555556,
              "#d8576b"
             ],
             [
              0.6666666666666666,
              "#ed7953"
             ],
             [
              0.7777777777777778,
              "#fb9f3a"
             ],
             [
              0.8888888888888888,
              "#fdca26"
             ],
             [
              1,
              "#f0f921"
             ]
            ],
            "type": "heatmap"
           }
          ],
          "heatmapgl": [
           {
            "colorbar": {
             "outlinewidth": 0,
             "ticks": ""
            },
            "colorscale": [
             [
              0,
              "#0d0887"
             ],
             [
              0.1111111111111111,
              "#46039f"
             ],
             [
              0.2222222222222222,
              "#7201a8"
             ],
             [
              0.3333333333333333,
              "#9c179e"
             ],
             [
              0.4444444444444444,
              "#bd3786"
             ],
             [
              0.5555555555555556,
              "#d8576b"
             ],
             [
              0.6666666666666666,
              "#ed7953"
             ],
             [
              0.7777777777777778,
              "#fb9f3a"
             ],
             [
              0.8888888888888888,
              "#fdca26"
             ],
             [
              1,
              "#f0f921"
             ]
            ],
            "type": "heatmapgl"
           }
          ],
          "histogram": [
           {
            "marker": {
             "colorbar": {
              "outlinewidth": 0,
              "ticks": ""
             }
            },
            "type": "histogram"
           }
          ],
          "histogram2d": [
           {
            "colorbar": {
             "outlinewidth": 0,
             "ticks": ""
            },
            "colorscale": [
             [
              0,
              "#0d0887"
             ],
             [
              0.1111111111111111,
              "#46039f"
             ],
             [
              0.2222222222222222,
              "#7201a8"
             ],
             [
              0.3333333333333333,
              "#9c179e"
             ],
             [
              0.4444444444444444,
              "#bd3786"
             ],
             [
              0.5555555555555556,
              "#d8576b"
             ],
             [
              0.6666666666666666,
              "#ed7953"
             ],
             [
              0.7777777777777778,
              "#fb9f3a"
             ],
             [
              0.8888888888888888,
              "#fdca26"
             ],
             [
              1,
              "#f0f921"
             ]
            ],
            "type": "histogram2d"
           }
          ],
          "histogram2dcontour": [
           {
            "colorbar": {
             "outlinewidth": 0,
             "ticks": ""
            },
            "colorscale": [
             [
              0,
              "#0d0887"
             ],
             [
              0.1111111111111111,
              "#46039f"
             ],
             [
              0.2222222222222222,
              "#7201a8"
             ],
             [
              0.3333333333333333,
              "#9c179e"
             ],
             [
              0.4444444444444444,
              "#bd3786"
             ],
             [
              0.5555555555555556,
              "#d8576b"
             ],
             [
              0.6666666666666666,
              "#ed7953"
             ],
             [
              0.7777777777777778,
              "#fb9f3a"
             ],
             [
              0.8888888888888888,
              "#fdca26"
             ],
             [
              1,
              "#f0f921"
             ]
            ],
            "type": "histogram2dcontour"
           }
          ],
          "mesh3d": [
           {
            "colorbar": {
             "outlinewidth": 0,
             "ticks": ""
            },
            "type": "mesh3d"
           }
          ],
          "parcoords": [
           {
            "line": {
             "colorbar": {
              "outlinewidth": 0,
              "ticks": ""
             }
            },
            "type": "parcoords"
           }
          ],
          "pie": [
           {
            "automargin": true,
            "type": "pie"
           }
          ],
          "scatter": [
           {
            "marker": {
             "colorbar": {
              "outlinewidth": 0,
              "ticks": ""
             }
            },
            "type": "scatter"
           }
          ],
          "scatter3d": [
           {
            "line": {
             "colorbar": {
              "outlinewidth": 0,
              "ticks": ""
             }
            },
            "marker": {
             "colorbar": {
              "outlinewidth": 0,
              "ticks": ""
             }
            },
            "type": "scatter3d"
           }
          ],
          "scattercarpet": [
           {
            "marker": {
             "colorbar": {
              "outlinewidth": 0,
              "ticks": ""
             }
            },
            "type": "scattercarpet"
           }
          ],
          "scattergeo": [
           {
            "marker": {
             "colorbar": {
              "outlinewidth": 0,
              "ticks": ""
             }
            },
            "type": "scattergeo"
           }
          ],
          "scattergl": [
           {
            "marker": {
             "colorbar": {
              "outlinewidth": 0,
              "ticks": ""
             }
            },
            "type": "scattergl"
           }
          ],
          "scattermapbox": [
           {
            "marker": {
             "colorbar": {
              "outlinewidth": 0,
              "ticks": ""
             }
            },
            "type": "scattermapbox"
           }
          ],
          "scatterpolar": [
           {
            "marker": {
             "colorbar": {
              "outlinewidth": 0,
              "ticks": ""
             }
            },
            "type": "scatterpolar"
           }
          ],
          "scatterpolargl": [
           {
            "marker": {
             "colorbar": {
              "outlinewidth": 0,
              "ticks": ""
             }
            },
            "type": "scatterpolargl"
           }
          ],
          "scatterternary": [
           {
            "marker": {
             "colorbar": {
              "outlinewidth": 0,
              "ticks": ""
             }
            },
            "type": "scatterternary"
           }
          ],
          "surface": [
           {
            "colorbar": {
             "outlinewidth": 0,
             "ticks": ""
            },
            "colorscale": [
             [
              0,
              "#0d0887"
             ],
             [
              0.1111111111111111,
              "#46039f"
             ],
             [
              0.2222222222222222,
              "#7201a8"
             ],
             [
              0.3333333333333333,
              "#9c179e"
             ],
             [
              0.4444444444444444,
              "#bd3786"
             ],
             [
              0.5555555555555556,
              "#d8576b"
             ],
             [
              0.6666666666666666,
              "#ed7953"
             ],
             [
              0.7777777777777778,
              "#fb9f3a"
             ],
             [
              0.8888888888888888,
              "#fdca26"
             ],
             [
              1,
              "#f0f921"
             ]
            ],
            "type": "surface"
           }
          ],
          "table": [
           {
            "cells": {
             "fill": {
              "color": "#EBF0F8"
             },
             "line": {
              "color": "white"
             }
            },
            "header": {
             "fill": {
              "color": "#C8D4E3"
             },
             "line": {
              "color": "white"
             }
            },
            "type": "table"
           }
          ]
         },
         "layout": {
          "annotationdefaults": {
           "arrowcolor": "#2a3f5f",
           "arrowhead": 0,
           "arrowwidth": 1
          },
          "coloraxis": {
           "colorbar": {
            "outlinewidth": 0,
            "ticks": ""
           }
          },
          "colorscale": {
           "diverging": [
            [
             0,
             "#8e0152"
            ],
            [
             0.1,
             "#c51b7d"
            ],
            [
             0.2,
             "#de77ae"
            ],
            [
             0.3,
             "#f1b6da"
            ],
            [
             0.4,
             "#fde0ef"
            ],
            [
             0.5,
             "#f7f7f7"
            ],
            [
             0.6,
             "#e6f5d0"
            ],
            [
             0.7,
             "#b8e186"
            ],
            [
             0.8,
             "#7fbc41"
            ],
            [
             0.9,
             "#4d9221"
            ],
            [
             1,
             "#276419"
            ]
           ],
           "sequential": [
            [
             0,
             "#0d0887"
            ],
            [
             0.1111111111111111,
             "#46039f"
            ],
            [
             0.2222222222222222,
             "#7201a8"
            ],
            [
             0.3333333333333333,
             "#9c179e"
            ],
            [
             0.4444444444444444,
             "#bd3786"
            ],
            [
             0.5555555555555556,
             "#d8576b"
            ],
            [
             0.6666666666666666,
             "#ed7953"
            ],
            [
             0.7777777777777778,
             "#fb9f3a"
            ],
            [
             0.8888888888888888,
             "#fdca26"
            ],
            [
             1,
             "#f0f921"
            ]
           ],
           "sequentialminus": [
            [
             0,
             "#0d0887"
            ],
            [
             0.1111111111111111,
             "#46039f"
            ],
            [
             0.2222222222222222,
             "#7201a8"
            ],
            [
             0.3333333333333333,
             "#9c179e"
            ],
            [
             0.4444444444444444,
             "#bd3786"
            ],
            [
             0.5555555555555556,
             "#d8576b"
            ],
            [
             0.6666666666666666,
             "#ed7953"
            ],
            [
             0.7777777777777778,
             "#fb9f3a"
            ],
            [
             0.8888888888888888,
             "#fdca26"
            ],
            [
             1,
             "#f0f921"
            ]
           ]
          },
          "colorway": [
           "#636efa",
           "#EF553B",
           "#00cc96",
           "#ab63fa",
           "#FFA15A",
           "#19d3f3",
           "#FF6692",
           "#B6E880",
           "#FF97FF",
           "#FECB52"
          ],
          "font": {
           "color": "#2a3f5f"
          },
          "geo": {
           "bgcolor": "white",
           "lakecolor": "white",
           "landcolor": "#E5ECF6",
           "showlakes": true,
           "showland": true,
           "subunitcolor": "white"
          },
          "hoverlabel": {
           "align": "left"
          },
          "hovermode": "closest",
          "mapbox": {
           "style": "light"
          },
          "paper_bgcolor": "white",
          "plot_bgcolor": "#E5ECF6",
          "polar": {
           "angularaxis": {
            "gridcolor": "white",
            "linecolor": "white",
            "ticks": ""
           },
           "bgcolor": "#E5ECF6",
           "radialaxis": {
            "gridcolor": "white",
            "linecolor": "white",
            "ticks": ""
           }
          },
          "scene": {
           "xaxis": {
            "backgroundcolor": "#E5ECF6",
            "gridcolor": "white",
            "gridwidth": 2,
            "linecolor": "white",
            "showbackground": true,
            "ticks": "",
            "zerolinecolor": "white"
           },
           "yaxis": {
            "backgroundcolor": "#E5ECF6",
            "gridcolor": "white",
            "gridwidth": 2,
            "linecolor": "white",
            "showbackground": true,
            "ticks": "",
            "zerolinecolor": "white"
           },
           "zaxis": {
            "backgroundcolor": "#E5ECF6",
            "gridcolor": "white",
            "gridwidth": 2,
            "linecolor": "white",
            "showbackground": true,
            "ticks": "",
            "zerolinecolor": "white"
           }
          },
          "shapedefaults": {
           "line": {
            "color": "#2a3f5f"
           }
          },
          "ternary": {
           "aaxis": {
            "gridcolor": "white",
            "linecolor": "white",
            "ticks": ""
           },
           "baxis": {
            "gridcolor": "white",
            "linecolor": "white",
            "ticks": ""
           },
           "bgcolor": "#E5ECF6",
           "caxis": {
            "gridcolor": "white",
            "linecolor": "white",
            "ticks": ""
           }
          },
          "title": {
           "x": 0.05
          },
          "xaxis": {
           "automargin": true,
           "gridcolor": "white",
           "linecolor": "white",
           "ticks": "",
           "title": {
            "standoff": 15
           },
           "zerolinecolor": "white",
           "zerolinewidth": 2
          },
          "yaxis": {
           "automargin": true,
           "gridcolor": "white",
           "linecolor": "white",
           "ticks": "",
           "title": {
            "standoff": 15
           },
           "zerolinecolor": "white",
           "zerolinewidth": 2
          }
         }
        },
        "title": {
         "font": {
          "color": "#4D5663"
         }
        },
        "xaxis": {
         "gridcolor": "#E1E5ED",
         "showgrid": true,
         "tickfont": {
          "color": "#4D5663"
         },
         "title": {
          "font": {
           "color": "#4D5663"
          },
          "text": ""
         },
         "zerolinecolor": "#E1E5ED"
        },
        "yaxis": {
         "gridcolor": "#E1E5ED",
         "showgrid": true,
         "tickfont": {
          "color": "#4D5663"
         },
         "title": {
          "font": {
           "color": "#4D5663"
          },
          "text": ""
         },
         "zerolinecolor": "#E1E5ED"
        }
       }
      },
      "text/html": [
       "<div>\n",
       "        \n",
       "        \n",
       "            <div id=\"82667710-7990-47a6-b511-40bdb1ff3430\" class=\"plotly-graph-div\" style=\"height:525px; width:100%;\"></div>\n",
       "            <script type=\"text/javascript\">\n",
       "                require([\"plotly\"], function(Plotly) {\n",
       "                    window.PLOTLYENV=window.PLOTLYENV || {};\n",
       "                    window.PLOTLYENV.BASE_URL='https://plot.ly';\n",
       "                    \n",
       "                if (document.getElementById(\"82667710-7990-47a6-b511-40bdb1ff3430\")) {\n",
       "                    Plotly.newPlot(\n",
       "                        '82667710-7990-47a6-b511-40bdb1ff3430',\n",
       "                        [{\"marker\": {\"color\": [\"rgb(255, 153, 51)\", \"rgb(55, 128, 191)\", \"rgb(50, 171, 96)\", \"rgb(128, 0, 128)\", \"rgb(219, 64, 82)\", \"rgb(0, 128, 128)\", \"rgb(255, 255, 51)\", \"rgb(128, 128, 0)\", \"rgb(251, 128, 114)\", \"rgb(128, 177, 211)\"], \"line\": {\"width\": 1.3}, \"size\": [51, 80, 57, 39, 12, 33, 54, 57, 67, 23, 34, 47, 70, 22, 53, 41, 64, 108, 71, 41, 62, 104, 64, 55, 67, 60, 43, 70, 64, 60, 60, 46, 44, 69, 52, 38, 89, 49, 32, 64, 80, 28, 108, 30, 28, 54, 21, 56, 55, 36, 50, 62, 55, 16, 57, 43, 38, 32, 85, 91, 67, 62, 42, 61, 89, 84, 68, 48, 66, 47, 65, 55, 112, 36, 25, 58, 18, 79, 62, 32, 74, 55, 92, 71, 65, 16, 45, 38, 54, 48, 66, 78, 66, 49, 100, 54, 62, 66, 35, 57], \"symbol\": \"circle\"}, \"mode\": \"markers\", \"text\": \"\", \"type\": \"scatter\", \"x\": [1.472529121625012, 1.130248943233051, -0.03482930485305292, -0.5732950541498779, 0.6679167375471895, -0.8579231829134375, 0.8094528586808082, 0.3085641347607752, 0.27377683773219197, 0.23206478359138408, 0.05238217602947687, 1.6583515353500433, 0.07790651684678294, -1.7301434691903925, -0.5641455958381295, 0.4147172412633151, -0.09849314047167301, 0.9977271515240892, 0.8786339083285464, 0.6950074047715827, 0.45710903842482575, 0.4982199907784472, 0.12903988052103624, -1.4837525556196758, 2.1559376570965503, 0.27121817416520905, -0.7920459692083268, 0.34986943200659715, -1.4244439368614608, 0.32694876044997556, 0.46860953711542114, -0.8163787512650883, 1.2187153472151357, -0.20858295937455842, -1.6419227340761469, -1.7597511712926772, -0.889500156517225, 0.7680841645055828, 0.242169122327131, 1.836311067999764, -0.3640393725187276, 0.6913544823158839, 0.5381815943734077, -1.2920024951121236, 0.32683652775332095, -1.6543868904131966, -0.07603260838364179, -1.1191319473076922, -0.06515760125541344, 2.6112740684691444, 0.189885318735173, 0.758128711401495, 1.3565878468023498, -1.6605371867714478, -0.7657077563048298, -0.3795261071180454, -1.0575887339186927, -0.21917702928905666, -0.018563285766532843, -0.31467704146234077, -0.15156994149975483, 1.3072808419825945, 0.301826271055909, 0.9387223883113914, -0.9159890914090407, 0.9972746743704269, -0.14961035018933383, 0.6936412738254416, 0.02150439010857565, -0.09685198016522274, -0.17962054484657083, 2.8387103914674565, 1.7403528975355167, 0.16910030614484756, -1.8773354305002856, 0.825977346945175, 0.8377635089652343, 0.9617236811802147, -0.6473981950616219, -1.6658039916353078, -0.2692192979839951, -2.729756849044134, -0.22782472436569362, -0.501111975287052, 0.46337026689879734, 1.0619123546213953, 1.6562427899245722, 0.062163840611550794, 0.19039780019298785, 0.026824609638366238, 0.8368352166533789, 0.29023261477188106, -0.4892908992826225, 0.4014711067047261, 0.7167889751395604, 1.2783993039707082, -0.45256841203177944, -1.104240974398623, 0.48498329755483055, 0.4547917796841871], \"y\": [-1.4490718845084207, 0.5402426554463875, -1.3347985434813625, -0.12225119502318878, -1.30101789971426, 0.38569811159209016, 2.397904687740729, -2.3982480926388368, -0.10494367248597691, -0.2224254060893642, 0.5410029274040677, 1.2220114737266936, 0.6413367934003551, 0.4661400594131579, 1.6301263489299898, -0.045857295111949706, 0.22578578119008808, 0.26281871636509874, 0.3524366173554224, -0.25045607157728855, -0.02644007066357181, 0.8618805448064077, -1.0669884903827511, 2.202131722577417, -0.7113457060825948, -0.42921931155234017, 0.03085513090831307, 2.286357429921338, -0.2505199679788893, -2.49540664349453, -1.1157577643488887, 0.7330552833464814, -0.4614404215891602, -1.3673002928914093, -1.7600123190780688, -2.0887547843771395, -2.1859340876441404, -0.49279846658300813, -1.889275646139344, -0.5690532456828411, 0.4239373965316233, 0.6397781534640425, -0.29671425027591325, 0.6571556609166963, 1.383298672469432, 1.109761245033315, 1.4332373810414698, 0.6738019112262904, -1.1813200383895766, -1.6614202983027815, 1.2398798868361367, 0.6123687064574279, 0.0915797315637989, 0.006009505705794459, -1.0960578906870182, -1.1053797480590637, 1.0352922076995237, 0.2776270046807994, -0.09822942803128862, 1.3423627824672761, -0.4269262478860568, -0.8566216988554339, 0.4155483209694457, 0.21352323335426418, 0.9205293326670225, -2.4290809169775893, -1.097530893017326, 0.0014555989292659602, -0.4721893111402556, -2.3651682013646727, 0.9177196755689004, -2.6495518809284646, 0.018826728369795518, 0.05322287052010041, -1.1676072328548432, 0.3940104502096727, 0.3003994475771432, 1.6651594296939112, -0.671156151734517, 3.2476405756672038, -0.026105037598596365, -1.177609198277101, 0.12516726924093127, -0.517430855564586, 0.6604745556074771, -0.0018629645865976042, -1.7849289778669288, 0.18498950224768243, 1.442080076368799, 0.9472992507672473, 2.195427851378761, 0.3966786785752604, -0.5002725972891627, -1.9460828869923503, -0.3608192626215061, 1.0131320014705925, -0.7057725331167626, 0.9665220645320599, -0.042248237084285586, -0.9798386628297314]}],\n",
       "                        {\"legend\": {\"bgcolor\": \"#F5F6F9\", \"font\": {\"color\": \"#4D5663\"}}, \"paper_bgcolor\": \"#F5F6F9\", \"plot_bgcolor\": \"#F5F6F9\", \"template\": {\"data\": {\"bar\": [{\"error_x\": {\"color\": \"#2a3f5f\"}, \"error_y\": {\"color\": \"#2a3f5f\"}, \"marker\": {\"line\": {\"color\": \"#E5ECF6\", \"width\": 0.5}}, \"type\": \"bar\"}], \"barpolar\": [{\"marker\": {\"line\": {\"color\": \"#E5ECF6\", \"width\": 0.5}}, \"type\": \"barpolar\"}], \"carpet\": [{\"aaxis\": {\"endlinecolor\": \"#2a3f5f\", \"gridcolor\": \"white\", \"linecolor\": \"white\", \"minorgridcolor\": \"white\", \"startlinecolor\": \"#2a3f5f\"}, \"baxis\": {\"endlinecolor\": \"#2a3f5f\", \"gridcolor\": \"white\", \"linecolor\": \"white\", \"minorgridcolor\": \"white\", \"startlinecolor\": \"#2a3f5f\"}, \"type\": \"carpet\"}], \"choropleth\": [{\"colorbar\": {\"outlinewidth\": 0, \"ticks\": \"\"}, \"type\": \"choropleth\"}], \"contour\": [{\"colorbar\": {\"outlinewidth\": 0, \"ticks\": \"\"}, \"colorscale\": [[0.0, \"#0d0887\"], [0.1111111111111111, \"#46039f\"], [0.2222222222222222, \"#7201a8\"], [0.3333333333333333, \"#9c179e\"], [0.4444444444444444, \"#bd3786\"], [0.5555555555555556, \"#d8576b\"], [0.6666666666666666, \"#ed7953\"], [0.7777777777777778, \"#fb9f3a\"], [0.8888888888888888, \"#fdca26\"], [1.0, \"#f0f921\"]], \"type\": \"contour\"}], \"contourcarpet\": [{\"colorbar\": {\"outlinewidth\": 0, \"ticks\": \"\"}, \"type\": \"contourcarpet\"}], \"heatmap\": [{\"colorbar\": {\"outlinewidth\": 0, \"ticks\": \"\"}, \"colorscale\": [[0.0, \"#0d0887\"], [0.1111111111111111, \"#46039f\"], [0.2222222222222222, \"#7201a8\"], [0.3333333333333333, \"#9c179e\"], [0.4444444444444444, \"#bd3786\"], [0.5555555555555556, \"#d8576b\"], [0.6666666666666666, \"#ed7953\"], [0.7777777777777778, \"#fb9f3a\"], [0.8888888888888888, \"#fdca26\"], [1.0, \"#f0f921\"]], \"type\": \"heatmap\"}], \"heatmapgl\": [{\"colorbar\": {\"outlinewidth\": 0, \"ticks\": \"\"}, \"colorscale\": [[0.0, \"#0d0887\"], [0.1111111111111111, \"#46039f\"], [0.2222222222222222, \"#7201a8\"], [0.3333333333333333, \"#9c179e\"], [0.4444444444444444, \"#bd3786\"], [0.5555555555555556, \"#d8576b\"], [0.6666666666666666, \"#ed7953\"], [0.7777777777777778, \"#fb9f3a\"], [0.8888888888888888, \"#fdca26\"], [1.0, \"#f0f921\"]], \"type\": \"heatmapgl\"}], \"histogram\": [{\"marker\": {\"colorbar\": {\"outlinewidth\": 0, \"ticks\": \"\"}}, \"type\": \"histogram\"}], \"histogram2d\": [{\"colorbar\": {\"outlinewidth\": 0, \"ticks\": \"\"}, \"colorscale\": [[0.0, \"#0d0887\"], [0.1111111111111111, \"#46039f\"], [0.2222222222222222, \"#7201a8\"], [0.3333333333333333, \"#9c179e\"], [0.4444444444444444, \"#bd3786\"], [0.5555555555555556, \"#d8576b\"], [0.6666666666666666, \"#ed7953\"], [0.7777777777777778, \"#fb9f3a\"], [0.8888888888888888, \"#fdca26\"], [1.0, \"#f0f921\"]], \"type\": \"histogram2d\"}], \"histogram2dcontour\": [{\"colorbar\": {\"outlinewidth\": 0, \"ticks\": \"\"}, \"colorscale\": [[0.0, \"#0d0887\"], [0.1111111111111111, \"#46039f\"], [0.2222222222222222, \"#7201a8\"], [0.3333333333333333, \"#9c179e\"], [0.4444444444444444, \"#bd3786\"], [0.5555555555555556, \"#d8576b\"], [0.6666666666666666, \"#ed7953\"], [0.7777777777777778, \"#fb9f3a\"], [0.8888888888888888, \"#fdca26\"], [1.0, \"#f0f921\"]], \"type\": \"histogram2dcontour\"}], \"mesh3d\": [{\"colorbar\": {\"outlinewidth\": 0, \"ticks\": \"\"}, \"type\": \"mesh3d\"}], \"parcoords\": [{\"line\": {\"colorbar\": {\"outlinewidth\": 0, \"ticks\": \"\"}}, \"type\": \"parcoords\"}], \"pie\": [{\"automargin\": true, \"type\": \"pie\"}], \"scatter\": [{\"marker\": {\"colorbar\": {\"outlinewidth\": 0, \"ticks\": \"\"}}, \"type\": \"scatter\"}], \"scatter3d\": [{\"line\": {\"colorbar\": {\"outlinewidth\": 0, \"ticks\": \"\"}}, \"marker\": {\"colorbar\": {\"outlinewidth\": 0, \"ticks\": \"\"}}, \"type\": \"scatter3d\"}], \"scattercarpet\": [{\"marker\": {\"colorbar\": {\"outlinewidth\": 0, \"ticks\": \"\"}}, \"type\": \"scattercarpet\"}], \"scattergeo\": [{\"marker\": {\"colorbar\": {\"outlinewidth\": 0, \"ticks\": \"\"}}, \"type\": \"scattergeo\"}], \"scattergl\": [{\"marker\": {\"colorbar\": {\"outlinewidth\": 0, \"ticks\": \"\"}}, \"type\": \"scattergl\"}], \"scattermapbox\": [{\"marker\": {\"colorbar\": {\"outlinewidth\": 0, \"ticks\": \"\"}}, \"type\": \"scattermapbox\"}], \"scatterpolar\": [{\"marker\": {\"colorbar\": {\"outlinewidth\": 0, \"ticks\": \"\"}}, \"type\": \"scatterpolar\"}], \"scatterpolargl\": [{\"marker\": {\"colorbar\": {\"outlinewidth\": 0, \"ticks\": \"\"}}, \"type\": \"scatterpolargl\"}], \"scatterternary\": [{\"marker\": {\"colorbar\": {\"outlinewidth\": 0, \"ticks\": \"\"}}, \"type\": \"scatterternary\"}], \"surface\": [{\"colorbar\": {\"outlinewidth\": 0, \"ticks\": \"\"}, \"colorscale\": [[0.0, \"#0d0887\"], [0.1111111111111111, \"#46039f\"], [0.2222222222222222, \"#7201a8\"], [0.3333333333333333, \"#9c179e\"], [0.4444444444444444, \"#bd3786\"], [0.5555555555555556, \"#d8576b\"], [0.6666666666666666, \"#ed7953\"], [0.7777777777777778, \"#fb9f3a\"], [0.8888888888888888, \"#fdca26\"], [1.0, \"#f0f921\"]], \"type\": \"surface\"}], \"table\": [{\"cells\": {\"fill\": {\"color\": \"#EBF0F8\"}, \"line\": {\"color\": \"white\"}}, \"header\": {\"fill\": {\"color\": \"#C8D4E3\"}, \"line\": {\"color\": \"white\"}}, \"type\": \"table\"}]}, \"layout\": {\"annotationdefaults\": {\"arrowcolor\": \"#2a3f5f\", \"arrowhead\": 0, \"arrowwidth\": 1}, \"coloraxis\": {\"colorbar\": {\"outlinewidth\": 0, \"ticks\": \"\"}}, \"colorscale\": {\"diverging\": [[0, \"#8e0152\"], [0.1, \"#c51b7d\"], [0.2, \"#de77ae\"], [0.3, \"#f1b6da\"], [0.4, \"#fde0ef\"], [0.5, \"#f7f7f7\"], [0.6, \"#e6f5d0\"], [0.7, \"#b8e186\"], [0.8, \"#7fbc41\"], [0.9, \"#4d9221\"], [1, \"#276419\"]], \"sequential\": [[0.0, \"#0d0887\"], [0.1111111111111111, \"#46039f\"], [0.2222222222222222, \"#7201a8\"], [0.3333333333333333, \"#9c179e\"], [0.4444444444444444, \"#bd3786\"], [0.5555555555555556, \"#d8576b\"], [0.6666666666666666, \"#ed7953\"], [0.7777777777777778, \"#fb9f3a\"], [0.8888888888888888, \"#fdca26\"], [1.0, \"#f0f921\"]], \"sequentialminus\": [[0.0, \"#0d0887\"], [0.1111111111111111, \"#46039f\"], [0.2222222222222222, \"#7201a8\"], [0.3333333333333333, \"#9c179e\"], [0.4444444444444444, \"#bd3786\"], [0.5555555555555556, \"#d8576b\"], [0.6666666666666666, \"#ed7953\"], [0.7777777777777778, \"#fb9f3a\"], [0.8888888888888888, \"#fdca26\"], [1.0, \"#f0f921\"]]}, \"colorway\": [\"#636efa\", \"#EF553B\", \"#00cc96\", \"#ab63fa\", \"#FFA15A\", \"#19d3f3\", \"#FF6692\", \"#B6E880\", \"#FF97FF\", \"#FECB52\"], \"font\": {\"color\": \"#2a3f5f\"}, \"geo\": {\"bgcolor\": \"white\", \"lakecolor\": \"white\", \"landcolor\": \"#E5ECF6\", \"showlakes\": true, \"showland\": true, \"subunitcolor\": \"white\"}, \"hoverlabel\": {\"align\": \"left\"}, \"hovermode\": \"closest\", \"mapbox\": {\"style\": \"light\"}, \"paper_bgcolor\": \"white\", \"plot_bgcolor\": \"#E5ECF6\", \"polar\": {\"angularaxis\": {\"gridcolor\": \"white\", \"linecolor\": \"white\", \"ticks\": \"\"}, \"bgcolor\": \"#E5ECF6\", \"radialaxis\": {\"gridcolor\": \"white\", \"linecolor\": \"white\", \"ticks\": \"\"}}, \"scene\": {\"xaxis\": {\"backgroundcolor\": \"#E5ECF6\", \"gridcolor\": \"white\", \"gridwidth\": 2, \"linecolor\": \"white\", \"showbackground\": true, \"ticks\": \"\", \"zerolinecolor\": \"white\"}, \"yaxis\": {\"backgroundcolor\": \"#E5ECF6\", \"gridcolor\": \"white\", \"gridwidth\": 2, \"linecolor\": \"white\", \"showbackground\": true, \"ticks\": \"\", \"zerolinecolor\": \"white\"}, \"zaxis\": {\"backgroundcolor\": \"#E5ECF6\", \"gridcolor\": \"white\", \"gridwidth\": 2, \"linecolor\": \"white\", \"showbackground\": true, \"ticks\": \"\", \"zerolinecolor\": \"white\"}}, \"shapedefaults\": {\"line\": {\"color\": \"#2a3f5f\"}}, \"ternary\": {\"aaxis\": {\"gridcolor\": \"white\", \"linecolor\": \"white\", \"ticks\": \"\"}, \"baxis\": {\"gridcolor\": \"white\", \"linecolor\": \"white\", \"ticks\": \"\"}, \"bgcolor\": \"#E5ECF6\", \"caxis\": {\"gridcolor\": \"white\", \"linecolor\": \"white\", \"ticks\": \"\"}}, \"title\": {\"x\": 0.05}, \"xaxis\": {\"automargin\": true, \"gridcolor\": \"white\", \"linecolor\": \"white\", \"ticks\": \"\", \"title\": {\"standoff\": 15}, \"zerolinecolor\": \"white\", \"zerolinewidth\": 2}, \"yaxis\": {\"automargin\": true, \"gridcolor\": \"white\", \"linecolor\": \"white\", \"ticks\": \"\", \"title\": {\"standoff\": 15}, \"zerolinecolor\": \"white\", \"zerolinewidth\": 2}}}, \"title\": {\"font\": {\"color\": \"#4D5663\"}}, \"xaxis\": {\"gridcolor\": \"#E1E5ED\", \"showgrid\": true, \"tickfont\": {\"color\": \"#4D5663\"}, \"title\": {\"font\": {\"color\": \"#4D5663\"}, \"text\": \"\"}, \"zerolinecolor\": \"#E1E5ED\"}, \"yaxis\": {\"gridcolor\": \"#E1E5ED\", \"showgrid\": true, \"tickfont\": {\"color\": \"#4D5663\"}, \"title\": {\"font\": {\"color\": \"#4D5663\"}, \"text\": \"\"}, \"zerolinecolor\": \"#E1E5ED\"}},\n",
       "                        {\"showLink\": true, \"linkText\": \"Export to plot.ly\", \"plotlyServerURL\": \"https://plot.ly\", \"responsive\": true}\n",
       "                    ).then(function(){\n",
       "                            \n",
       "var gd = document.getElementById('82667710-7990-47a6-b511-40bdb1ff3430');\n",
       "var x = new MutationObserver(function (mutations, observer) {{\n",
       "        var display = window.getComputedStyle(gd).display;\n",
       "        if (!display || display === 'none') {{\n",
       "            console.log([gd, 'removed!']);\n",
       "            Plotly.purge(gd);\n",
       "            observer.disconnect();\n",
       "        }}\n",
       "}});\n",
       "\n",
       "// Listen for the removal of the full notebook cells\n",
       "var notebookContainer = gd.closest('#notebook-container');\n",
       "if (notebookContainer) {{\n",
       "    x.observe(notebookContainer, {childList: true});\n",
       "}}\n",
       "\n",
       "// Listen for the clearing of the current output cell\n",
       "var outputEl = gd.closest('.output');\n",
       "if (outputEl) {{\n",
       "    x.observe(outputEl, {childList: true});\n",
       "}}\n",
       "\n",
       "                        })\n",
       "                };\n",
       "                });\n",
       "            </script>\n",
       "        </div>"
      ]
     },
     "metadata": {},
     "output_type": "display_data"
    }
   ],
   "source": [
    "df1.iplot(kind='bubble',x='A', y='B', size='D')"
   ]
  },
  {
   "cell_type": "code",
   "execution_count": 78,
   "metadata": {},
   "outputs": [
    {
     "data": {
      "application/vnd.plotly.v1+json": {
       "config": {
        "linkText": "Export to plot.ly",
        "plotlyServerURL": "https://plot.ly",
        "showLink": true
       },
       "data": [
        {
         "histfunc": "count",
         "histnorm": "",
         "marker": {
          "color": "rgba(255, 153, 51, 1.0)",
          "line": {
           "color": "#4D5663",
           "width": 1.3
          }
         },
         "name": "A",
         "nbinsx": 10,
         "opacity": 0.8,
         "orientation": "v",
         "type": "histogram",
         "x": [
          1.472529121625012,
          1.130248943233051,
          -0.03482930485305292,
          -0.5732950541498779,
          0.6679167375471895,
          -0.8579231829134375,
          0.8094528586808082,
          0.3085641347607752,
          0.27377683773219197,
          0.23206478359138408,
          0.05238217602947687,
          1.6583515353500433,
          0.07790651684678294,
          -1.7301434691903925,
          -0.5641455958381295,
          0.4147172412633151,
          -0.09849314047167301,
          0.9977271515240892,
          0.8786339083285464,
          0.6950074047715827,
          0.45710903842482575,
          0.4982199907784472,
          0.12903988052103624,
          -1.4837525556196758,
          2.1559376570965503,
          0.27121817416520905,
          -0.7920459692083268,
          0.34986943200659715,
          -1.4244439368614608,
          0.32694876044997556,
          0.46860953711542114,
          -0.8163787512650883,
          1.2187153472151357,
          -0.20858295937455842,
          -1.6419227340761469,
          -1.7597511712926772,
          -0.889500156517225,
          0.7680841645055828,
          0.242169122327131,
          1.836311067999764,
          -0.3640393725187276,
          0.6913544823158839,
          0.5381815943734077,
          -1.2920024951121236,
          0.32683652775332095,
          -1.6543868904131966,
          -0.07603260838364179,
          -1.1191319473076922,
          -0.06515760125541344,
          2.6112740684691444,
          0.189885318735173,
          0.758128711401495,
          1.3565878468023498,
          -1.6605371867714478,
          -0.7657077563048298,
          -0.3795261071180454,
          -1.0575887339186927,
          -0.21917702928905666,
          -0.018563285766532843,
          -0.31467704146234077,
          -0.15156994149975483,
          1.3072808419825945,
          0.301826271055909,
          0.9387223883113914,
          -0.9159890914090407,
          0.9972746743704269,
          -0.14961035018933383,
          0.6936412738254416,
          0.02150439010857565,
          -0.09685198016522274,
          -0.17962054484657083,
          2.8387103914674565,
          1.7403528975355167,
          0.16910030614484756,
          -1.8773354305002856,
          0.825977346945175,
          0.8377635089652343,
          0.9617236811802147,
          -0.6473981950616219,
          -1.6658039916353078,
          -0.2692192979839951,
          -2.729756849044134,
          -0.22782472436569362,
          -0.501111975287052,
          0.46337026689879734,
          1.0619123546213953,
          1.6562427899245722,
          0.062163840611550794,
          0.19039780019298785,
          0.026824609638366238,
          0.8368352166533789,
          0.29023261477188106,
          -0.4892908992826225,
          0.4014711067047261,
          0.7167889751395604,
          1.2783993039707082,
          -0.45256841203177944,
          -1.104240974398623,
          0.48498329755483055,
          0.4547917796841871
         ],
         "xaxis": "x",
         "yaxis": "y"
        },
        {
         "line": {
          "color": "rgba(128, 128, 128, 1.0)",
          "dash": "solid",
          "shape": "linear",
          "width": 1.3
         },
         "marker": {
          "size": 2,
          "symbol": "circle"
         },
         "mode": "markers",
         "name": "A",
         "text": "",
         "type": "scatter",
         "x": [
          -1.4490718845084207,
          0.5402426554463875,
          -1.3347985434813625,
          -0.12225119502318878,
          -1.30101789971426,
          0.38569811159209016,
          2.397904687740729,
          -2.3982480926388368,
          -0.10494367248597691,
          -0.2224254060893642,
          0.5410029274040677,
          1.2220114737266936,
          0.6413367934003551,
          0.4661400594131579,
          1.6301263489299898,
          -0.045857295111949706,
          0.22578578119008808,
          0.26281871636509874,
          0.3524366173554224,
          -0.25045607157728855,
          -0.02644007066357181,
          0.8618805448064077,
          -1.0669884903827511,
          2.202131722577417,
          -0.7113457060825948,
          -0.42921931155234017,
          0.03085513090831307,
          2.286357429921338,
          -0.2505199679788893,
          -2.49540664349453,
          -1.1157577643488887,
          0.7330552833464814,
          -0.4614404215891602,
          -1.3673002928914093,
          -1.7600123190780688,
          -2.0887547843771395,
          -2.1859340876441404,
          -0.49279846658300813,
          -1.889275646139344,
          -0.5690532456828411,
          0.4239373965316233,
          0.6397781534640425,
          -0.29671425027591325,
          0.6571556609166963,
          1.383298672469432,
          1.109761245033315,
          1.4332373810414698,
          0.6738019112262904,
          -1.1813200383895766,
          -1.6614202983027815,
          1.2398798868361367,
          0.6123687064574279,
          0.0915797315637989,
          0.006009505705794459,
          -1.0960578906870182,
          -1.1053797480590637,
          1.0352922076995237,
          0.2776270046807994,
          -0.09822942803128862,
          1.3423627824672761,
          -0.4269262478860568,
          -0.8566216988554339,
          0.4155483209694457,
          0.21352323335426418,
          0.9205293326670225,
          -2.4290809169775893,
          -1.097530893017326,
          0.0014555989292659602,
          -0.4721893111402556,
          -2.3651682013646727,
          0.9177196755689004,
          -2.6495518809284646,
          0.018826728369795518,
          0.05322287052010041,
          -1.1676072328548432,
          0.3940104502096727,
          0.3003994475771432,
          1.6651594296939112,
          -0.671156151734517,
          3.2476405756672038,
          -0.026105037598596365,
          -1.177609198277101,
          0.12516726924093127,
          -0.517430855564586,
          0.6604745556074771,
          -0.0018629645865976042,
          -1.7849289778669288,
          0.18498950224768243,
          1.442080076368799,
          0.9472992507672473,
          2.195427851378761,
          0.3966786785752604,
          -0.5002725972891627,
          -1.9460828869923503,
          -0.3608192626215061,
          1.0131320014705925,
          -0.7057725331167626,
          0.9665220645320599,
          -0.042248237084285586,
          -0.9798386628297314
         ],
         "xaxis": "x2",
         "y": [
          1.472529121625012,
          1.130248943233051,
          -0.03482930485305292,
          -0.5732950541498779,
          0.6679167375471895,
          -0.8579231829134375,
          0.8094528586808082,
          0.3085641347607752,
          0.27377683773219197,
          0.23206478359138408,
          0.05238217602947687,
          1.6583515353500433,
          0.07790651684678294,
          -1.7301434691903925,
          -0.5641455958381295,
          0.4147172412633151,
          -0.09849314047167301,
          0.9977271515240892,
          0.8786339083285464,
          0.6950074047715827,
          0.45710903842482575,
          0.4982199907784472,
          0.12903988052103624,
          -1.4837525556196758,
          2.1559376570965503,
          0.27121817416520905,
          -0.7920459692083268,
          0.34986943200659715,
          -1.4244439368614608,
          0.32694876044997556,
          0.46860953711542114,
          -0.8163787512650883,
          1.2187153472151357,
          -0.20858295937455842,
          -1.6419227340761469,
          -1.7597511712926772,
          -0.889500156517225,
          0.7680841645055828,
          0.242169122327131,
          1.836311067999764,
          -0.3640393725187276,
          0.6913544823158839,
          0.5381815943734077,
          -1.2920024951121236,
          0.32683652775332095,
          -1.6543868904131966,
          -0.07603260838364179,
          -1.1191319473076922,
          -0.06515760125541344,
          2.6112740684691444,
          0.189885318735173,
          0.758128711401495,
          1.3565878468023498,
          -1.6605371867714478,
          -0.7657077563048298,
          -0.3795261071180454,
          -1.0575887339186927,
          -0.21917702928905666,
          -0.018563285766532843,
          -0.31467704146234077,
          -0.15156994149975483,
          1.3072808419825945,
          0.301826271055909,
          0.9387223883113914,
          -0.9159890914090407,
          0.9972746743704269,
          -0.14961035018933383,
          0.6936412738254416,
          0.02150439010857565,
          -0.09685198016522274,
          -0.17962054484657083,
          2.8387103914674565,
          1.7403528975355167,
          0.16910030614484756,
          -1.8773354305002856,
          0.825977346945175,
          0.8377635089652343,
          0.9617236811802147,
          -0.6473981950616219,
          -1.6658039916353078,
          -0.2692192979839951,
          -2.729756849044134,
          -0.22782472436569362,
          -0.501111975287052,
          0.46337026689879734,
          1.0619123546213953,
          1.6562427899245722,
          0.062163840611550794,
          0.19039780019298785,
          0.026824609638366238,
          0.8368352166533789,
          0.29023261477188106,
          -0.4892908992826225,
          0.4014711067047261,
          0.7167889751395604,
          1.2783993039707082,
          -0.45256841203177944,
          -1.104240974398623,
          0.48498329755483055,
          0.4547917796841871
         ],
         "yaxis": "y2"
        },
        {
         "line": {
          "color": "rgba(128, 128, 128, 1.0)",
          "dash": "solid",
          "shape": "linear",
          "width": 1.3
         },
         "marker": {
          "size": 2,
          "symbol": "circle"
         },
         "mode": "markers",
         "name": "A",
         "text": "",
         "type": "scatter",
         "x": [
          0.2941477958735066,
          -1.2772567937568937,
          0.7441189607505856,
          -0.07469019133525433,
          0.15688826260723918,
          -0.3147237571105742,
          0.09746151352817672,
          -1.4894485007346023,
          -0.8118109462101483,
          -0.08316960538668344,
          -3.167014284398424,
          0.5384558809342364,
          1.0557522069504213,
          0.37150366384546263,
          0.7590918824347042,
          0.49357135745610187,
          -0.37733645380166997,
          0.6364367047170686,
          0.65240454392822,
          -0.5460605302037064,
          -0.2598143788964035,
          -1.0129067831437126,
          0.24442937330633968,
          -1.0076829208783498,
          -0.5501970096805181,
          0.061399346063866204,
          1.179641651882113,
          1.8840213768542848,
          -2.7297693179368894,
          0.08444274726336994,
          -0.07866577711107688,
          1.0228544923597822,
          -0.2717333568906527,
          -0.7678139093837235,
          0.8002168364713665,
          -0.6163668196735747,
          -0.7840916361031486,
          -0.5434871478375157,
          0.34616144852931713,
          -0.47902312536359887,
          -0.992535599042179,
          0.2590527094808219,
          1.2666923316053984,
          0.7476549908657724,
          -1.0512553869294554,
          -0.14237158758117616,
          -1.2929307281780056,
          1.5189203997919931,
          -0.6494858691130097,
          -0.5679015903851855,
          0.551965962231021,
          -1.6539555233879015,
          -0.22271778130394515,
          1.0386498514148697,
          0.3608835982240124,
          2.213346720878855,
          -0.9735769015751691,
          0.840128631763991,
          1.7556896787581586,
          -1.4412116307568839,
          0.2196949231023285,
          1.4992049801411589,
          -0.6611392490895978,
          -0.6304908747192904,
          1.1533356994672497,
          -0.420636670400046,
          1.443644516191686,
          1.451438062161945,
          0.483124750711282,
          -0.5236258108150692,
          0.4404690671036626,
          0.9996524509583272,
          -0.6130636059848118,
          0.6690199413988712,
          1.3263847443422256,
          -0.7556056623240177,
          0.637862832272282,
          0.38904377493049913,
          -1.3370612405882778,
          1.1933950268610702,
          0.06462007050856437,
          0.5764395379058818,
          -0.8458357075549467,
          -0.5445116781543524,
          0.3050900194252306,
          -0.2956218398366735,
          -1.7568210556812383,
          -2.624628846051485,
          0.7344870558616293,
          1.0497000890759491,
          1.5692069955925685,
          -0.8839762063095732,
          -0.2858107813208934,
          0.9699611896103433,
          -1.18056791878244,
          0.6737419030585361,
          -0.6984885465871962,
          1.0726235170641276,
          0.5217735041662983,
          1.5039611018876746
         ],
         "xaxis": "x3",
         "y": [
          1.472529121625012,
          1.130248943233051,
          -0.03482930485305292,
          -0.5732950541498779,
          0.6679167375471895,
          -0.8579231829134375,
          0.8094528586808082,
          0.3085641347607752,
          0.27377683773219197,
          0.23206478359138408,
          0.05238217602947687,
          1.6583515353500433,
          0.07790651684678294,
          -1.7301434691903925,
          -0.5641455958381295,
          0.4147172412633151,
          -0.09849314047167301,
          0.9977271515240892,
          0.8786339083285464,
          0.6950074047715827,
          0.45710903842482575,
          0.4982199907784472,
          0.12903988052103624,
          -1.4837525556196758,
          2.1559376570965503,
          0.27121817416520905,
          -0.7920459692083268,
          0.34986943200659715,
          -1.4244439368614608,
          0.32694876044997556,
          0.46860953711542114,
          -0.8163787512650883,
          1.2187153472151357,
          -0.20858295937455842,
          -1.6419227340761469,
          -1.7597511712926772,
          -0.889500156517225,
          0.7680841645055828,
          0.242169122327131,
          1.836311067999764,
          -0.3640393725187276,
          0.6913544823158839,
          0.5381815943734077,
          -1.2920024951121236,
          0.32683652775332095,
          -1.6543868904131966,
          -0.07603260838364179,
          -1.1191319473076922,
          -0.06515760125541344,
          2.6112740684691444,
          0.189885318735173,
          0.758128711401495,
          1.3565878468023498,
          -1.6605371867714478,
          -0.7657077563048298,
          -0.3795261071180454,
          -1.0575887339186927,
          -0.21917702928905666,
          -0.018563285766532843,
          -0.31467704146234077,
          -0.15156994149975483,
          1.3072808419825945,
          0.301826271055909,
          0.9387223883113914,
          -0.9159890914090407,
          0.9972746743704269,
          -0.14961035018933383,
          0.6936412738254416,
          0.02150439010857565,
          -0.09685198016522274,
          -0.17962054484657083,
          2.8387103914674565,
          1.7403528975355167,
          0.16910030614484756,
          -1.8773354305002856,
          0.825977346945175,
          0.8377635089652343,
          0.9617236811802147,
          -0.6473981950616219,
          -1.6658039916353078,
          -0.2692192979839951,
          -2.729756849044134,
          -0.22782472436569362,
          -0.501111975287052,
          0.46337026689879734,
          1.0619123546213953,
          1.6562427899245722,
          0.062163840611550794,
          0.19039780019298785,
          0.026824609638366238,
          0.8368352166533789,
          0.29023261477188106,
          -0.4892908992826225,
          0.4014711067047261,
          0.7167889751395604,
          1.2783993039707082,
          -0.45256841203177944,
          -1.104240974398623,
          0.48498329755483055,
          0.4547917796841871
         ],
         "yaxis": "y3"
        },
        {
         "line": {
          "color": "rgba(128, 128, 128, 1.0)",
          "dash": "solid",
          "shape": "linear",
          "width": 1.3
         },
         "marker": {
          "size": 2,
          "symbol": "circle"
         },
         "mode": "markers",
         "name": "A",
         "text": "",
         "type": "scatter",
         "x": [
          -0.29209677698554737,
          0.9573957896267596,
          -0.0007975772046197507,
          -0.8158976884143562,
          -1.9936338636737942,
          -1.066112859705764,
          -0.1624501274103537,
          -0.03172677523944978,
          0.4230420996426988,
          -1.5072924379640384,
          -1.0285792418506818,
          -0.4648859742555061,
          0.5488567472998651,
          -1.5509988671031387,
          -0.18731149886148526,
          -0.7307216961994965,
          0.28659201122255096,
          2.172650873228859,
          0.6037152824336763,
          -0.727575725495342,
          0.1921261607745329,
          2.0257007599249666,
          0.29878916777565295,
          -0.11662895626105096,
          0.4176466932527999,
          0.11869807879751894,
          -0.6185996268081179,
          0.5654893958419337,
          0.305655388592086,
          0.13135273742832368,
          0.12184068056708995,
          -0.5071662392557261,
          -0.568931741848525,
          0.4901084143203101,
          -0.2460586894546757,
          -0.848531489622213,
          1.3630384966893647,
          -0.3474418391715347,
          -1.1246178854325561,
          0.2727742766284284,
          0.9858324741667885,
          -1.260376384177372,
          2.1995501477694517,
          -1.1862990063877248,
          -1.27720070099572,
          -0.1394136561501857,
          -1.5767204417253653,
          -0.04261634006372652,
          -0.0851414882747124,
          -0.9119035439512653,
          -0.32281930867905156,
          0.194979954818921,
          -0.11685677866976853,
          -1.8053738746846808,
          -0.014808754132441395,
          -0.6392074518606004,
          -0.8503232038190978,
          -1.0937525430983601,
          1.187030991396334,
          1.4645556128099475,
          0.4113009102746684,
          0.1798500649884786,
          -0.6724445119030096,
          0.13446213951423927,
          1.3679920722622896,
          1.1313820175998472,
          0.46880252769541614,
          -0.39789401001271074,
          0.38433474242590737,
          -0.46326651134413627,
          0.33327001249620947,
          -0.09753287150325765,
          2.344702589914879,
          -0.9140280632719038,
          -1.4177177422630272,
          0.03634479751321479,
          -1.692481484675992,
          0.9512640830307857,
          0.19137848466118784,
          -1.1004124257636585,
          0.7043635574043291,
          -0.09092904401842151,
          1.5059008971891839,
          0.5973458990802751,
          0.34603516962923475,
          -1.812425632066957,
          -0.5333194244555364,
          -0.8625662806115877,
          -0.1353587151319946,
          -0.42633306707360935,
          0.3816695380113307,
          0.89874110435248,
          0.3626000974090412,
          -0.34626845050310656,
          1.8354956959106006,
          -0.1633850685970794,
          0.18564892606709904,
          0.3812582914116791,
          -0.9656308255591639,
          -0.011778101035519862
         ],
         "xaxis": "x4",
         "y": [
          1.472529121625012,
          1.130248943233051,
          -0.03482930485305292,
          -0.5732950541498779,
          0.6679167375471895,
          -0.8579231829134375,
          0.8094528586808082,
          0.3085641347607752,
          0.27377683773219197,
          0.23206478359138408,
          0.05238217602947687,
          1.6583515353500433,
          0.07790651684678294,
          -1.7301434691903925,
          -0.5641455958381295,
          0.4147172412633151,
          -0.09849314047167301,
          0.9977271515240892,
          0.8786339083285464,
          0.6950074047715827,
          0.45710903842482575,
          0.4982199907784472,
          0.12903988052103624,
          -1.4837525556196758,
          2.1559376570965503,
          0.27121817416520905,
          -0.7920459692083268,
          0.34986943200659715,
          -1.4244439368614608,
          0.32694876044997556,
          0.46860953711542114,
          -0.8163787512650883,
          1.2187153472151357,
          -0.20858295937455842,
          -1.6419227340761469,
          -1.7597511712926772,
          -0.889500156517225,
          0.7680841645055828,
          0.242169122327131,
          1.836311067999764,
          -0.3640393725187276,
          0.6913544823158839,
          0.5381815943734077,
          -1.2920024951121236,
          0.32683652775332095,
          -1.6543868904131966,
          -0.07603260838364179,
          -1.1191319473076922,
          -0.06515760125541344,
          2.6112740684691444,
          0.189885318735173,
          0.758128711401495,
          1.3565878468023498,
          -1.6605371867714478,
          -0.7657077563048298,
          -0.3795261071180454,
          -1.0575887339186927,
          -0.21917702928905666,
          -0.018563285766532843,
          -0.31467704146234077,
          -0.15156994149975483,
          1.3072808419825945,
          0.301826271055909,
          0.9387223883113914,
          -0.9159890914090407,
          0.9972746743704269,
          -0.14961035018933383,
          0.6936412738254416,
          0.02150439010857565,
          -0.09685198016522274,
          -0.17962054484657083,
          2.8387103914674565,
          1.7403528975355167,
          0.16910030614484756,
          -1.8773354305002856,
          0.825977346945175,
          0.8377635089652343,
          0.9617236811802147,
          -0.6473981950616219,
          -1.6658039916353078,
          -0.2692192979839951,
          -2.729756849044134,
          -0.22782472436569362,
          -0.501111975287052,
          0.46337026689879734,
          1.0619123546213953,
          1.6562427899245722,
          0.062163840611550794,
          0.19039780019298785,
          0.026824609638366238,
          0.8368352166533789,
          0.29023261477188106,
          -0.4892908992826225,
          0.4014711067047261,
          0.7167889751395604,
          1.2783993039707082,
          -0.45256841203177944,
          -1.104240974398623,
          0.48498329755483055,
          0.4547917796841871
         ],
         "yaxis": "y4"
        },
        {
         "line": {
          "color": "rgba(128, 128, 128, 1.0)",
          "dash": "solid",
          "shape": "linear",
          "width": 1.3
         },
         "marker": {
          "size": 2,
          "symbol": "circle"
         },
         "mode": "markers",
         "name": "B",
         "text": "",
         "type": "scatter",
         "x": [
          1.472529121625012,
          1.130248943233051,
          -0.03482930485305292,
          -0.5732950541498779,
          0.6679167375471895,
          -0.8579231829134375,
          0.8094528586808082,
          0.3085641347607752,
          0.27377683773219197,
          0.23206478359138408,
          0.05238217602947687,
          1.6583515353500433,
          0.07790651684678294,
          -1.7301434691903925,
          -0.5641455958381295,
          0.4147172412633151,
          -0.09849314047167301,
          0.9977271515240892,
          0.8786339083285464,
          0.6950074047715827,
          0.45710903842482575,
          0.4982199907784472,
          0.12903988052103624,
          -1.4837525556196758,
          2.1559376570965503,
          0.27121817416520905,
          -0.7920459692083268,
          0.34986943200659715,
          -1.4244439368614608,
          0.32694876044997556,
          0.46860953711542114,
          -0.8163787512650883,
          1.2187153472151357,
          -0.20858295937455842,
          -1.6419227340761469,
          -1.7597511712926772,
          -0.889500156517225,
          0.7680841645055828,
          0.242169122327131,
          1.836311067999764,
          -0.3640393725187276,
          0.6913544823158839,
          0.5381815943734077,
          -1.2920024951121236,
          0.32683652775332095,
          -1.6543868904131966,
          -0.07603260838364179,
          -1.1191319473076922,
          -0.06515760125541344,
          2.6112740684691444,
          0.189885318735173,
          0.758128711401495,
          1.3565878468023498,
          -1.6605371867714478,
          -0.7657077563048298,
          -0.3795261071180454,
          -1.0575887339186927,
          -0.21917702928905666,
          -0.018563285766532843,
          -0.31467704146234077,
          -0.15156994149975483,
          1.3072808419825945,
          0.301826271055909,
          0.9387223883113914,
          -0.9159890914090407,
          0.9972746743704269,
          -0.14961035018933383,
          0.6936412738254416,
          0.02150439010857565,
          -0.09685198016522274,
          -0.17962054484657083,
          2.8387103914674565,
          1.7403528975355167,
          0.16910030614484756,
          -1.8773354305002856,
          0.825977346945175,
          0.8377635089652343,
          0.9617236811802147,
          -0.6473981950616219,
          -1.6658039916353078,
          -0.2692192979839951,
          -2.729756849044134,
          -0.22782472436569362,
          -0.501111975287052,
          0.46337026689879734,
          1.0619123546213953,
          1.6562427899245722,
          0.062163840611550794,
          0.19039780019298785,
          0.026824609638366238,
          0.8368352166533789,
          0.29023261477188106,
          -0.4892908992826225,
          0.4014711067047261,
          0.7167889751395604,
          1.2783993039707082,
          -0.45256841203177944,
          -1.104240974398623,
          0.48498329755483055,
          0.4547917796841871
         ],
         "xaxis": "x5",
         "y": [
          -1.4490718845084207,
          0.5402426554463875,
          -1.3347985434813625,
          -0.12225119502318878,
          -1.30101789971426,
          0.38569811159209016,
          2.397904687740729,
          -2.3982480926388368,
          -0.10494367248597691,
          -0.2224254060893642,
          0.5410029274040677,
          1.2220114737266936,
          0.6413367934003551,
          0.4661400594131579,
          1.6301263489299898,
          -0.045857295111949706,
          0.22578578119008808,
          0.26281871636509874,
          0.3524366173554224,
          -0.25045607157728855,
          -0.02644007066357181,
          0.8618805448064077,
          -1.0669884903827511,
          2.202131722577417,
          -0.7113457060825948,
          -0.42921931155234017,
          0.03085513090831307,
          2.286357429921338,
          -0.2505199679788893,
          -2.49540664349453,
          -1.1157577643488887,
          0.7330552833464814,
          -0.4614404215891602,
          -1.3673002928914093,
          -1.7600123190780688,
          -2.0887547843771395,
          -2.1859340876441404,
          -0.49279846658300813,
          -1.889275646139344,
          -0.5690532456828411,
          0.4239373965316233,
          0.6397781534640425,
          -0.29671425027591325,
          0.6571556609166963,
          1.383298672469432,
          1.109761245033315,
          1.4332373810414698,
          0.6738019112262904,
          -1.1813200383895766,
          -1.6614202983027815,
          1.2398798868361367,
          0.6123687064574279,
          0.0915797315637989,
          0.006009505705794459,
          -1.0960578906870182,
          -1.1053797480590637,
          1.0352922076995237,
          0.2776270046807994,
          -0.09822942803128862,
          1.3423627824672761,
          -0.4269262478860568,
          -0.8566216988554339,
          0.4155483209694457,
          0.21352323335426418,
          0.9205293326670225,
          -2.4290809169775893,
          -1.097530893017326,
          0.0014555989292659602,
          -0.4721893111402556,
          -2.3651682013646727,
          0.9177196755689004,
          -2.6495518809284646,
          0.018826728369795518,
          0.05322287052010041,
          -1.1676072328548432,
          0.3940104502096727,
          0.3003994475771432,
          1.6651594296939112,
          -0.671156151734517,
          3.2476405756672038,
          -0.026105037598596365,
          -1.177609198277101,
          0.12516726924093127,
          -0.517430855564586,
          0.6604745556074771,
          -0.0018629645865976042,
          -1.7849289778669288,
          0.18498950224768243,
          1.442080076368799,
          0.9472992507672473,
          2.195427851378761,
          0.3966786785752604,
          -0.5002725972891627,
          -1.9460828869923503,
          -0.3608192626215061,
          1.0131320014705925,
          -0.7057725331167626,
          0.9665220645320599,
          -0.042248237084285586,
          -0.9798386628297314
         ],
         "yaxis": "y5"
        },
        {
         "histfunc": "count",
         "histnorm": "",
         "marker": {
          "color": "rgba(55, 128, 191, 1.0)",
          "line": {
           "color": "#4D5663",
           "width": 1.3
          }
         },
         "name": "B",
         "nbinsx": 10,
         "opacity": 0.8,
         "orientation": "v",
         "type": "histogram",
         "x": [
          -1.4490718845084207,
          0.5402426554463875,
          -1.3347985434813625,
          -0.12225119502318878,
          -1.30101789971426,
          0.38569811159209016,
          2.397904687740729,
          -2.3982480926388368,
          -0.10494367248597691,
          -0.2224254060893642,
          0.5410029274040677,
          1.2220114737266936,
          0.6413367934003551,
          0.4661400594131579,
          1.6301263489299898,
          -0.045857295111949706,
          0.22578578119008808,
          0.26281871636509874,
          0.3524366173554224,
          -0.25045607157728855,
          -0.02644007066357181,
          0.8618805448064077,
          -1.0669884903827511,
          2.202131722577417,
          -0.7113457060825948,
          -0.42921931155234017,
          0.03085513090831307,
          2.286357429921338,
          -0.2505199679788893,
          -2.49540664349453,
          -1.1157577643488887,
          0.7330552833464814,
          -0.4614404215891602,
          -1.3673002928914093,
          -1.7600123190780688,
          -2.0887547843771395,
          -2.1859340876441404,
          -0.49279846658300813,
          -1.889275646139344,
          -0.5690532456828411,
          0.4239373965316233,
          0.6397781534640425,
          -0.29671425027591325,
          0.6571556609166963,
          1.383298672469432,
          1.109761245033315,
          1.4332373810414698,
          0.6738019112262904,
          -1.1813200383895766,
          -1.6614202983027815,
          1.2398798868361367,
          0.6123687064574279,
          0.0915797315637989,
          0.006009505705794459,
          -1.0960578906870182,
          -1.1053797480590637,
          1.0352922076995237,
          0.2776270046807994,
          -0.09822942803128862,
          1.3423627824672761,
          -0.4269262478860568,
          -0.8566216988554339,
          0.4155483209694457,
          0.21352323335426418,
          0.9205293326670225,
          -2.4290809169775893,
          -1.097530893017326,
          0.0014555989292659602,
          -0.4721893111402556,
          -2.3651682013646727,
          0.9177196755689004,
          -2.6495518809284646,
          0.018826728369795518,
          0.05322287052010041,
          -1.1676072328548432,
          0.3940104502096727,
          0.3003994475771432,
          1.6651594296939112,
          -0.671156151734517,
          3.2476405756672038,
          -0.026105037598596365,
          -1.177609198277101,
          0.12516726924093127,
          -0.517430855564586,
          0.6604745556074771,
          -0.0018629645865976042,
          -1.7849289778669288,
          0.18498950224768243,
          1.442080076368799,
          0.9472992507672473,
          2.195427851378761,
          0.3966786785752604,
          -0.5002725972891627,
          -1.9460828869923503,
          -0.3608192626215061,
          1.0131320014705925,
          -0.7057725331167626,
          0.9665220645320599,
          -0.042248237084285586,
          -0.9798386628297314
         ],
         "xaxis": "x6",
         "yaxis": "y6"
        },
        {
         "line": {
          "color": "rgba(128, 128, 128, 1.0)",
          "dash": "solid",
          "shape": "linear",
          "width": 1.3
         },
         "marker": {
          "size": 2,
          "symbol": "circle"
         },
         "mode": "markers",
         "name": "B",
         "text": "",
         "type": "scatter",
         "x": [
          0.2941477958735066,
          -1.2772567937568937,
          0.7441189607505856,
          -0.07469019133525433,
          0.15688826260723918,
          -0.3147237571105742,
          0.09746151352817672,
          -1.4894485007346023,
          -0.8118109462101483,
          -0.08316960538668344,
          -3.167014284398424,
          0.5384558809342364,
          1.0557522069504213,
          0.37150366384546263,
          0.7590918824347042,
          0.49357135745610187,
          -0.37733645380166997,
          0.6364367047170686,
          0.65240454392822,
          -0.5460605302037064,
          -0.2598143788964035,
          -1.0129067831437126,
          0.24442937330633968,
          -1.0076829208783498,
          -0.5501970096805181,
          0.061399346063866204,
          1.179641651882113,
          1.8840213768542848,
          -2.7297693179368894,
          0.08444274726336994,
          -0.07866577711107688,
          1.0228544923597822,
          -0.2717333568906527,
          -0.7678139093837235,
          0.8002168364713665,
          -0.6163668196735747,
          -0.7840916361031486,
          -0.5434871478375157,
          0.34616144852931713,
          -0.47902312536359887,
          -0.992535599042179,
          0.2590527094808219,
          1.2666923316053984,
          0.7476549908657724,
          -1.0512553869294554,
          -0.14237158758117616,
          -1.2929307281780056,
          1.5189203997919931,
          -0.6494858691130097,
          -0.5679015903851855,
          0.551965962231021,
          -1.6539555233879015,
          -0.22271778130394515,
          1.0386498514148697,
          0.3608835982240124,
          2.213346720878855,
          -0.9735769015751691,
          0.840128631763991,
          1.7556896787581586,
          -1.4412116307568839,
          0.2196949231023285,
          1.4992049801411589,
          -0.6611392490895978,
          -0.6304908747192904,
          1.1533356994672497,
          -0.420636670400046,
          1.443644516191686,
          1.451438062161945,
          0.483124750711282,
          -0.5236258108150692,
          0.4404690671036626,
          0.9996524509583272,
          -0.6130636059848118,
          0.6690199413988712,
          1.3263847443422256,
          -0.7556056623240177,
          0.637862832272282,
          0.38904377493049913,
          -1.3370612405882778,
          1.1933950268610702,
          0.06462007050856437,
          0.5764395379058818,
          -0.8458357075549467,
          -0.5445116781543524,
          0.3050900194252306,
          -0.2956218398366735,
          -1.7568210556812383,
          -2.624628846051485,
          0.7344870558616293,
          1.0497000890759491,
          1.5692069955925685,
          -0.8839762063095732,
          -0.2858107813208934,
          0.9699611896103433,
          -1.18056791878244,
          0.6737419030585361,
          -0.6984885465871962,
          1.0726235170641276,
          0.5217735041662983,
          1.5039611018876746
         ],
         "xaxis": "x7",
         "y": [
          -1.4490718845084207,
          0.5402426554463875,
          -1.3347985434813625,
          -0.12225119502318878,
          -1.30101789971426,
          0.38569811159209016,
          2.397904687740729,
          -2.3982480926388368,
          -0.10494367248597691,
          -0.2224254060893642,
          0.5410029274040677,
          1.2220114737266936,
          0.6413367934003551,
          0.4661400594131579,
          1.6301263489299898,
          -0.045857295111949706,
          0.22578578119008808,
          0.26281871636509874,
          0.3524366173554224,
          -0.25045607157728855,
          -0.02644007066357181,
          0.8618805448064077,
          -1.0669884903827511,
          2.202131722577417,
          -0.7113457060825948,
          -0.42921931155234017,
          0.03085513090831307,
          2.286357429921338,
          -0.2505199679788893,
          -2.49540664349453,
          -1.1157577643488887,
          0.7330552833464814,
          -0.4614404215891602,
          -1.3673002928914093,
          -1.7600123190780688,
          -2.0887547843771395,
          -2.1859340876441404,
          -0.49279846658300813,
          -1.889275646139344,
          -0.5690532456828411,
          0.4239373965316233,
          0.6397781534640425,
          -0.29671425027591325,
          0.6571556609166963,
          1.383298672469432,
          1.109761245033315,
          1.4332373810414698,
          0.6738019112262904,
          -1.1813200383895766,
          -1.6614202983027815,
          1.2398798868361367,
          0.6123687064574279,
          0.0915797315637989,
          0.006009505705794459,
          -1.0960578906870182,
          -1.1053797480590637,
          1.0352922076995237,
          0.2776270046807994,
          -0.09822942803128862,
          1.3423627824672761,
          -0.4269262478860568,
          -0.8566216988554339,
          0.4155483209694457,
          0.21352323335426418,
          0.9205293326670225,
          -2.4290809169775893,
          -1.097530893017326,
          0.0014555989292659602,
          -0.4721893111402556,
          -2.3651682013646727,
          0.9177196755689004,
          -2.6495518809284646,
          0.018826728369795518,
          0.05322287052010041,
          -1.1676072328548432,
          0.3940104502096727,
          0.3003994475771432,
          1.6651594296939112,
          -0.671156151734517,
          3.2476405756672038,
          -0.026105037598596365,
          -1.177609198277101,
          0.12516726924093127,
          -0.517430855564586,
          0.6604745556074771,
          -0.0018629645865976042,
          -1.7849289778669288,
          0.18498950224768243,
          1.442080076368799,
          0.9472992507672473,
          2.195427851378761,
          0.3966786785752604,
          -0.5002725972891627,
          -1.9460828869923503,
          -0.3608192626215061,
          1.0131320014705925,
          -0.7057725331167626,
          0.9665220645320599,
          -0.042248237084285586,
          -0.9798386628297314
         ],
         "yaxis": "y7"
        },
        {
         "line": {
          "color": "rgba(128, 128, 128, 1.0)",
          "dash": "solid",
          "shape": "linear",
          "width": 1.3
         },
         "marker": {
          "size": 2,
          "symbol": "circle"
         },
         "mode": "markers",
         "name": "B",
         "text": "",
         "type": "scatter",
         "x": [
          -0.29209677698554737,
          0.9573957896267596,
          -0.0007975772046197507,
          -0.8158976884143562,
          -1.9936338636737942,
          -1.066112859705764,
          -0.1624501274103537,
          -0.03172677523944978,
          0.4230420996426988,
          -1.5072924379640384,
          -1.0285792418506818,
          -0.4648859742555061,
          0.5488567472998651,
          -1.5509988671031387,
          -0.18731149886148526,
          -0.7307216961994965,
          0.28659201122255096,
          2.172650873228859,
          0.6037152824336763,
          -0.727575725495342,
          0.1921261607745329,
          2.0257007599249666,
          0.29878916777565295,
          -0.11662895626105096,
          0.4176466932527999,
          0.11869807879751894,
          -0.6185996268081179,
          0.5654893958419337,
          0.305655388592086,
          0.13135273742832368,
          0.12184068056708995,
          -0.5071662392557261,
          -0.568931741848525,
          0.4901084143203101,
          -0.2460586894546757,
          -0.848531489622213,
          1.3630384966893647,
          -0.3474418391715347,
          -1.1246178854325561,
          0.2727742766284284,
          0.9858324741667885,
          -1.260376384177372,
          2.1995501477694517,
          -1.1862990063877248,
          -1.27720070099572,
          -0.1394136561501857,
          -1.5767204417253653,
          -0.04261634006372652,
          -0.0851414882747124,
          -0.9119035439512653,
          -0.32281930867905156,
          0.194979954818921,
          -0.11685677866976853,
          -1.8053738746846808,
          -0.014808754132441395,
          -0.6392074518606004,
          -0.8503232038190978,
          -1.0937525430983601,
          1.187030991396334,
          1.4645556128099475,
          0.4113009102746684,
          0.1798500649884786,
          -0.6724445119030096,
          0.13446213951423927,
          1.3679920722622896,
          1.1313820175998472,
          0.46880252769541614,
          -0.39789401001271074,
          0.38433474242590737,
          -0.46326651134413627,
          0.33327001249620947,
          -0.09753287150325765,
          2.344702589914879,
          -0.9140280632719038,
          -1.4177177422630272,
          0.03634479751321479,
          -1.692481484675992,
          0.9512640830307857,
          0.19137848466118784,
          -1.1004124257636585,
          0.7043635574043291,
          -0.09092904401842151,
          1.5059008971891839,
          0.5973458990802751,
          0.34603516962923475,
          -1.812425632066957,
          -0.5333194244555364,
          -0.8625662806115877,
          -0.1353587151319946,
          -0.42633306707360935,
          0.3816695380113307,
          0.89874110435248,
          0.3626000974090412,
          -0.34626845050310656,
          1.8354956959106006,
          -0.1633850685970794,
          0.18564892606709904,
          0.3812582914116791,
          -0.9656308255591639,
          -0.011778101035519862
         ],
         "xaxis": "x8",
         "y": [
          -1.4490718845084207,
          0.5402426554463875,
          -1.3347985434813625,
          -0.12225119502318878,
          -1.30101789971426,
          0.38569811159209016,
          2.397904687740729,
          -2.3982480926388368,
          -0.10494367248597691,
          -0.2224254060893642,
          0.5410029274040677,
          1.2220114737266936,
          0.6413367934003551,
          0.4661400594131579,
          1.6301263489299898,
          -0.045857295111949706,
          0.22578578119008808,
          0.26281871636509874,
          0.3524366173554224,
          -0.25045607157728855,
          -0.02644007066357181,
          0.8618805448064077,
          -1.0669884903827511,
          2.202131722577417,
          -0.7113457060825948,
          -0.42921931155234017,
          0.03085513090831307,
          2.286357429921338,
          -0.2505199679788893,
          -2.49540664349453,
          -1.1157577643488887,
          0.7330552833464814,
          -0.4614404215891602,
          -1.3673002928914093,
          -1.7600123190780688,
          -2.0887547843771395,
          -2.1859340876441404,
          -0.49279846658300813,
          -1.889275646139344,
          -0.5690532456828411,
          0.4239373965316233,
          0.6397781534640425,
          -0.29671425027591325,
          0.6571556609166963,
          1.383298672469432,
          1.109761245033315,
          1.4332373810414698,
          0.6738019112262904,
          -1.1813200383895766,
          -1.6614202983027815,
          1.2398798868361367,
          0.6123687064574279,
          0.0915797315637989,
          0.006009505705794459,
          -1.0960578906870182,
          -1.1053797480590637,
          1.0352922076995237,
          0.2776270046807994,
          -0.09822942803128862,
          1.3423627824672761,
          -0.4269262478860568,
          -0.8566216988554339,
          0.4155483209694457,
          0.21352323335426418,
          0.9205293326670225,
          -2.4290809169775893,
          -1.097530893017326,
          0.0014555989292659602,
          -0.4721893111402556,
          -2.3651682013646727,
          0.9177196755689004,
          -2.6495518809284646,
          0.018826728369795518,
          0.05322287052010041,
          -1.1676072328548432,
          0.3940104502096727,
          0.3003994475771432,
          1.6651594296939112,
          -0.671156151734517,
          3.2476405756672038,
          -0.026105037598596365,
          -1.177609198277101,
          0.12516726924093127,
          -0.517430855564586,
          0.6604745556074771,
          -0.0018629645865976042,
          -1.7849289778669288,
          0.18498950224768243,
          1.442080076368799,
          0.9472992507672473,
          2.195427851378761,
          0.3966786785752604,
          -0.5002725972891627,
          -1.9460828869923503,
          -0.3608192626215061,
          1.0131320014705925,
          -0.7057725331167626,
          0.9665220645320599,
          -0.042248237084285586,
          -0.9798386628297314
         ],
         "yaxis": "y8"
        },
        {
         "line": {
          "color": "rgba(128, 128, 128, 1.0)",
          "dash": "solid",
          "shape": "linear",
          "width": 1.3
         },
         "marker": {
          "size": 2,
          "symbol": "circle"
         },
         "mode": "markers",
         "name": "C",
         "text": "",
         "type": "scatter",
         "x": [
          1.472529121625012,
          1.130248943233051,
          -0.03482930485305292,
          -0.5732950541498779,
          0.6679167375471895,
          -0.8579231829134375,
          0.8094528586808082,
          0.3085641347607752,
          0.27377683773219197,
          0.23206478359138408,
          0.05238217602947687,
          1.6583515353500433,
          0.07790651684678294,
          -1.7301434691903925,
          -0.5641455958381295,
          0.4147172412633151,
          -0.09849314047167301,
          0.9977271515240892,
          0.8786339083285464,
          0.6950074047715827,
          0.45710903842482575,
          0.4982199907784472,
          0.12903988052103624,
          -1.4837525556196758,
          2.1559376570965503,
          0.27121817416520905,
          -0.7920459692083268,
          0.34986943200659715,
          -1.4244439368614608,
          0.32694876044997556,
          0.46860953711542114,
          -0.8163787512650883,
          1.2187153472151357,
          -0.20858295937455842,
          -1.6419227340761469,
          -1.7597511712926772,
          -0.889500156517225,
          0.7680841645055828,
          0.242169122327131,
          1.836311067999764,
          -0.3640393725187276,
          0.6913544823158839,
          0.5381815943734077,
          -1.2920024951121236,
          0.32683652775332095,
          -1.6543868904131966,
          -0.07603260838364179,
          -1.1191319473076922,
          -0.06515760125541344,
          2.6112740684691444,
          0.189885318735173,
          0.758128711401495,
          1.3565878468023498,
          -1.6605371867714478,
          -0.7657077563048298,
          -0.3795261071180454,
          -1.0575887339186927,
          -0.21917702928905666,
          -0.018563285766532843,
          -0.31467704146234077,
          -0.15156994149975483,
          1.3072808419825945,
          0.301826271055909,
          0.9387223883113914,
          -0.9159890914090407,
          0.9972746743704269,
          -0.14961035018933383,
          0.6936412738254416,
          0.02150439010857565,
          -0.09685198016522274,
          -0.17962054484657083,
          2.8387103914674565,
          1.7403528975355167,
          0.16910030614484756,
          -1.8773354305002856,
          0.825977346945175,
          0.8377635089652343,
          0.9617236811802147,
          -0.6473981950616219,
          -1.6658039916353078,
          -0.2692192979839951,
          -2.729756849044134,
          -0.22782472436569362,
          -0.501111975287052,
          0.46337026689879734,
          1.0619123546213953,
          1.6562427899245722,
          0.062163840611550794,
          0.19039780019298785,
          0.026824609638366238,
          0.8368352166533789,
          0.29023261477188106,
          -0.4892908992826225,
          0.4014711067047261,
          0.7167889751395604,
          1.2783993039707082,
          -0.45256841203177944,
          -1.104240974398623,
          0.48498329755483055,
          0.4547917796841871
         ],
         "xaxis": "x9",
         "y": [
          0.2941477958735066,
          -1.2772567937568937,
          0.7441189607505856,
          -0.07469019133525433,
          0.15688826260723918,
          -0.3147237571105742,
          0.09746151352817672,
          -1.4894485007346023,
          -0.8118109462101483,
          -0.08316960538668344,
          -3.167014284398424,
          0.5384558809342364,
          1.0557522069504213,
          0.37150366384546263,
          0.7590918824347042,
          0.49357135745610187,
          -0.37733645380166997,
          0.6364367047170686,
          0.65240454392822,
          -0.5460605302037064,
          -0.2598143788964035,
          -1.0129067831437126,
          0.24442937330633968,
          -1.0076829208783498,
          -0.5501970096805181,
          0.061399346063866204,
          1.179641651882113,
          1.8840213768542848,
          -2.7297693179368894,
          0.08444274726336994,
          -0.07866577711107688,
          1.0228544923597822,
          -0.2717333568906527,
          -0.7678139093837235,
          0.8002168364713665,
          -0.6163668196735747,
          -0.7840916361031486,
          -0.5434871478375157,
          0.34616144852931713,
          -0.47902312536359887,
          -0.992535599042179,
          0.2590527094808219,
          1.2666923316053984,
          0.7476549908657724,
          -1.0512553869294554,
          -0.14237158758117616,
          -1.2929307281780056,
          1.5189203997919931,
          -0.6494858691130097,
          -0.5679015903851855,
          0.551965962231021,
          -1.6539555233879015,
          -0.22271778130394515,
          1.0386498514148697,
          0.3608835982240124,
          2.213346720878855,
          -0.9735769015751691,
          0.840128631763991,
          1.7556896787581586,
          -1.4412116307568839,
          0.2196949231023285,
          1.4992049801411589,
          -0.6611392490895978,
          -0.6304908747192904,
          1.1533356994672497,
          -0.420636670400046,
          1.443644516191686,
          1.451438062161945,
          0.483124750711282,
          -0.5236258108150692,
          0.4404690671036626,
          0.9996524509583272,
          -0.6130636059848118,
          0.6690199413988712,
          1.3263847443422256,
          -0.7556056623240177,
          0.637862832272282,
          0.38904377493049913,
          -1.3370612405882778,
          1.1933950268610702,
          0.06462007050856437,
          0.5764395379058818,
          -0.8458357075549467,
          -0.5445116781543524,
          0.3050900194252306,
          -0.2956218398366735,
          -1.7568210556812383,
          -2.624628846051485,
          0.7344870558616293,
          1.0497000890759491,
          1.5692069955925685,
          -0.8839762063095732,
          -0.2858107813208934,
          0.9699611896103433,
          -1.18056791878244,
          0.6737419030585361,
          -0.6984885465871962,
          1.0726235170641276,
          0.5217735041662983,
          1.5039611018876746
         ],
         "yaxis": "y9"
        },
        {
         "line": {
          "color": "rgba(128, 128, 128, 1.0)",
          "dash": "solid",
          "shape": "linear",
          "width": 1.3
         },
         "marker": {
          "size": 2,
          "symbol": "circle"
         },
         "mode": "markers",
         "name": "C",
         "text": "",
         "type": "scatter",
         "x": [
          -1.4490718845084207,
          0.5402426554463875,
          -1.3347985434813625,
          -0.12225119502318878,
          -1.30101789971426,
          0.38569811159209016,
          2.397904687740729,
          -2.3982480926388368,
          -0.10494367248597691,
          -0.2224254060893642,
          0.5410029274040677,
          1.2220114737266936,
          0.6413367934003551,
          0.4661400594131579,
          1.6301263489299898,
          -0.045857295111949706,
          0.22578578119008808,
          0.26281871636509874,
          0.3524366173554224,
          -0.25045607157728855,
          -0.02644007066357181,
          0.8618805448064077,
          -1.0669884903827511,
          2.202131722577417,
          -0.7113457060825948,
          -0.42921931155234017,
          0.03085513090831307,
          2.286357429921338,
          -0.2505199679788893,
          -2.49540664349453,
          -1.1157577643488887,
          0.7330552833464814,
          -0.4614404215891602,
          -1.3673002928914093,
          -1.7600123190780688,
          -2.0887547843771395,
          -2.1859340876441404,
          -0.49279846658300813,
          -1.889275646139344,
          -0.5690532456828411,
          0.4239373965316233,
          0.6397781534640425,
          -0.29671425027591325,
          0.6571556609166963,
          1.383298672469432,
          1.109761245033315,
          1.4332373810414698,
          0.6738019112262904,
          -1.1813200383895766,
          -1.6614202983027815,
          1.2398798868361367,
          0.6123687064574279,
          0.0915797315637989,
          0.006009505705794459,
          -1.0960578906870182,
          -1.1053797480590637,
          1.0352922076995237,
          0.2776270046807994,
          -0.09822942803128862,
          1.3423627824672761,
          -0.4269262478860568,
          -0.8566216988554339,
          0.4155483209694457,
          0.21352323335426418,
          0.9205293326670225,
          -2.4290809169775893,
          -1.097530893017326,
          0.0014555989292659602,
          -0.4721893111402556,
          -2.3651682013646727,
          0.9177196755689004,
          -2.6495518809284646,
          0.018826728369795518,
          0.05322287052010041,
          -1.1676072328548432,
          0.3940104502096727,
          0.3003994475771432,
          1.6651594296939112,
          -0.671156151734517,
          3.2476405756672038,
          -0.026105037598596365,
          -1.177609198277101,
          0.12516726924093127,
          -0.517430855564586,
          0.6604745556074771,
          -0.0018629645865976042,
          -1.7849289778669288,
          0.18498950224768243,
          1.442080076368799,
          0.9472992507672473,
          2.195427851378761,
          0.3966786785752604,
          -0.5002725972891627,
          -1.9460828869923503,
          -0.3608192626215061,
          1.0131320014705925,
          -0.7057725331167626,
          0.9665220645320599,
          -0.042248237084285586,
          -0.9798386628297314
         ],
         "xaxis": "x10",
         "y": [
          0.2941477958735066,
          -1.2772567937568937,
          0.7441189607505856,
          -0.07469019133525433,
          0.15688826260723918,
          -0.3147237571105742,
          0.09746151352817672,
          -1.4894485007346023,
          -0.8118109462101483,
          -0.08316960538668344,
          -3.167014284398424,
          0.5384558809342364,
          1.0557522069504213,
          0.37150366384546263,
          0.7590918824347042,
          0.49357135745610187,
          -0.37733645380166997,
          0.6364367047170686,
          0.65240454392822,
          -0.5460605302037064,
          -0.2598143788964035,
          -1.0129067831437126,
          0.24442937330633968,
          -1.0076829208783498,
          -0.5501970096805181,
          0.061399346063866204,
          1.179641651882113,
          1.8840213768542848,
          -2.7297693179368894,
          0.08444274726336994,
          -0.07866577711107688,
          1.0228544923597822,
          -0.2717333568906527,
          -0.7678139093837235,
          0.8002168364713665,
          -0.6163668196735747,
          -0.7840916361031486,
          -0.5434871478375157,
          0.34616144852931713,
          -0.47902312536359887,
          -0.992535599042179,
          0.2590527094808219,
          1.2666923316053984,
          0.7476549908657724,
          -1.0512553869294554,
          -0.14237158758117616,
          -1.2929307281780056,
          1.5189203997919931,
          -0.6494858691130097,
          -0.5679015903851855,
          0.551965962231021,
          -1.6539555233879015,
          -0.22271778130394515,
          1.0386498514148697,
          0.3608835982240124,
          2.213346720878855,
          -0.9735769015751691,
          0.840128631763991,
          1.7556896787581586,
          -1.4412116307568839,
          0.2196949231023285,
          1.4992049801411589,
          -0.6611392490895978,
          -0.6304908747192904,
          1.1533356994672497,
          -0.420636670400046,
          1.443644516191686,
          1.451438062161945,
          0.483124750711282,
          -0.5236258108150692,
          0.4404690671036626,
          0.9996524509583272,
          -0.6130636059848118,
          0.6690199413988712,
          1.3263847443422256,
          -0.7556056623240177,
          0.637862832272282,
          0.38904377493049913,
          -1.3370612405882778,
          1.1933950268610702,
          0.06462007050856437,
          0.5764395379058818,
          -0.8458357075549467,
          -0.5445116781543524,
          0.3050900194252306,
          -0.2956218398366735,
          -1.7568210556812383,
          -2.624628846051485,
          0.7344870558616293,
          1.0497000890759491,
          1.5692069955925685,
          -0.8839762063095732,
          -0.2858107813208934,
          0.9699611896103433,
          -1.18056791878244,
          0.6737419030585361,
          -0.6984885465871962,
          1.0726235170641276,
          0.5217735041662983,
          1.5039611018876746
         ],
         "yaxis": "y10"
        },
        {
         "histfunc": "count",
         "histnorm": "",
         "marker": {
          "color": "rgba(50, 171, 96, 1.0)",
          "line": {
           "color": "#4D5663",
           "width": 1.3
          }
         },
         "name": "C",
         "nbinsx": 10,
         "opacity": 0.8,
         "orientation": "v",
         "type": "histogram",
         "x": [
          0.2941477958735066,
          -1.2772567937568937,
          0.7441189607505856,
          -0.07469019133525433,
          0.15688826260723918,
          -0.3147237571105742,
          0.09746151352817672,
          -1.4894485007346023,
          -0.8118109462101483,
          -0.08316960538668344,
          -3.167014284398424,
          0.5384558809342364,
          1.0557522069504213,
          0.37150366384546263,
          0.7590918824347042,
          0.49357135745610187,
          -0.37733645380166997,
          0.6364367047170686,
          0.65240454392822,
          -0.5460605302037064,
          -0.2598143788964035,
          -1.0129067831437126,
          0.24442937330633968,
          -1.0076829208783498,
          -0.5501970096805181,
          0.061399346063866204,
          1.179641651882113,
          1.8840213768542848,
          -2.7297693179368894,
          0.08444274726336994,
          -0.07866577711107688,
          1.0228544923597822,
          -0.2717333568906527,
          -0.7678139093837235,
          0.8002168364713665,
          -0.6163668196735747,
          -0.7840916361031486,
          -0.5434871478375157,
          0.34616144852931713,
          -0.47902312536359887,
          -0.992535599042179,
          0.2590527094808219,
          1.2666923316053984,
          0.7476549908657724,
          -1.0512553869294554,
          -0.14237158758117616,
          -1.2929307281780056,
          1.5189203997919931,
          -0.6494858691130097,
          -0.5679015903851855,
          0.551965962231021,
          -1.6539555233879015,
          -0.22271778130394515,
          1.0386498514148697,
          0.3608835982240124,
          2.213346720878855,
          -0.9735769015751691,
          0.840128631763991,
          1.7556896787581586,
          -1.4412116307568839,
          0.2196949231023285,
          1.4992049801411589,
          -0.6611392490895978,
          -0.6304908747192904,
          1.1533356994672497,
          -0.420636670400046,
          1.443644516191686,
          1.451438062161945,
          0.483124750711282,
          -0.5236258108150692,
          0.4404690671036626,
          0.9996524509583272,
          -0.6130636059848118,
          0.6690199413988712,
          1.3263847443422256,
          -0.7556056623240177,
          0.637862832272282,
          0.38904377493049913,
          -1.3370612405882778,
          1.1933950268610702,
          0.06462007050856437,
          0.5764395379058818,
          -0.8458357075549467,
          -0.5445116781543524,
          0.3050900194252306,
          -0.2956218398366735,
          -1.7568210556812383,
          -2.624628846051485,
          0.7344870558616293,
          1.0497000890759491,
          1.5692069955925685,
          -0.8839762063095732,
          -0.2858107813208934,
          0.9699611896103433,
          -1.18056791878244,
          0.6737419030585361,
          -0.6984885465871962,
          1.0726235170641276,
          0.5217735041662983,
          1.5039611018876746
         ],
         "xaxis": "x11",
         "yaxis": "y11"
        },
        {
         "line": {
          "color": "rgba(128, 128, 128, 1.0)",
          "dash": "solid",
          "shape": "linear",
          "width": 1.3
         },
         "marker": {
          "size": 2,
          "symbol": "circle"
         },
         "mode": "markers",
         "name": "C",
         "text": "",
         "type": "scatter",
         "x": [
          -0.29209677698554737,
          0.9573957896267596,
          -0.0007975772046197507,
          -0.8158976884143562,
          -1.9936338636737942,
          -1.066112859705764,
          -0.1624501274103537,
          -0.03172677523944978,
          0.4230420996426988,
          -1.5072924379640384,
          -1.0285792418506818,
          -0.4648859742555061,
          0.5488567472998651,
          -1.5509988671031387,
          -0.18731149886148526,
          -0.7307216961994965,
          0.28659201122255096,
          2.172650873228859,
          0.6037152824336763,
          -0.727575725495342,
          0.1921261607745329,
          2.0257007599249666,
          0.29878916777565295,
          -0.11662895626105096,
          0.4176466932527999,
          0.11869807879751894,
          -0.6185996268081179,
          0.5654893958419337,
          0.305655388592086,
          0.13135273742832368,
          0.12184068056708995,
          -0.5071662392557261,
          -0.568931741848525,
          0.4901084143203101,
          -0.2460586894546757,
          -0.848531489622213,
          1.3630384966893647,
          -0.3474418391715347,
          -1.1246178854325561,
          0.2727742766284284,
          0.9858324741667885,
          -1.260376384177372,
          2.1995501477694517,
          -1.1862990063877248,
          -1.27720070099572,
          -0.1394136561501857,
          -1.5767204417253653,
          -0.04261634006372652,
          -0.0851414882747124,
          -0.9119035439512653,
          -0.32281930867905156,
          0.194979954818921,
          -0.11685677866976853,
          -1.8053738746846808,
          -0.014808754132441395,
          -0.6392074518606004,
          -0.8503232038190978,
          -1.0937525430983601,
          1.187030991396334,
          1.4645556128099475,
          0.4113009102746684,
          0.1798500649884786,
          -0.6724445119030096,
          0.13446213951423927,
          1.3679920722622896,
          1.1313820175998472,
          0.46880252769541614,
          -0.39789401001271074,
          0.38433474242590737,
          -0.46326651134413627,
          0.33327001249620947,
          -0.09753287150325765,
          2.344702589914879,
          -0.9140280632719038,
          -1.4177177422630272,
          0.03634479751321479,
          -1.692481484675992,
          0.9512640830307857,
          0.19137848466118784,
          -1.1004124257636585,
          0.7043635574043291,
          -0.09092904401842151,
          1.5059008971891839,
          0.5973458990802751,
          0.34603516962923475,
          -1.812425632066957,
          -0.5333194244555364,
          -0.8625662806115877,
          -0.1353587151319946,
          -0.42633306707360935,
          0.3816695380113307,
          0.89874110435248,
          0.3626000974090412,
          -0.34626845050310656,
          1.8354956959106006,
          -0.1633850685970794,
          0.18564892606709904,
          0.3812582914116791,
          -0.9656308255591639,
          -0.011778101035519862
         ],
         "xaxis": "x12",
         "y": [
          0.2941477958735066,
          -1.2772567937568937,
          0.7441189607505856,
          -0.07469019133525433,
          0.15688826260723918,
          -0.3147237571105742,
          0.09746151352817672,
          -1.4894485007346023,
          -0.8118109462101483,
          -0.08316960538668344,
          -3.167014284398424,
          0.5384558809342364,
          1.0557522069504213,
          0.37150366384546263,
          0.7590918824347042,
          0.49357135745610187,
          -0.37733645380166997,
          0.6364367047170686,
          0.65240454392822,
          -0.5460605302037064,
          -0.2598143788964035,
          -1.0129067831437126,
          0.24442937330633968,
          -1.0076829208783498,
          -0.5501970096805181,
          0.061399346063866204,
          1.179641651882113,
          1.8840213768542848,
          -2.7297693179368894,
          0.08444274726336994,
          -0.07866577711107688,
          1.0228544923597822,
          -0.2717333568906527,
          -0.7678139093837235,
          0.8002168364713665,
          -0.6163668196735747,
          -0.7840916361031486,
          -0.5434871478375157,
          0.34616144852931713,
          -0.47902312536359887,
          -0.992535599042179,
          0.2590527094808219,
          1.2666923316053984,
          0.7476549908657724,
          -1.0512553869294554,
          -0.14237158758117616,
          -1.2929307281780056,
          1.5189203997919931,
          -0.6494858691130097,
          -0.5679015903851855,
          0.551965962231021,
          -1.6539555233879015,
          -0.22271778130394515,
          1.0386498514148697,
          0.3608835982240124,
          2.213346720878855,
          -0.9735769015751691,
          0.840128631763991,
          1.7556896787581586,
          -1.4412116307568839,
          0.2196949231023285,
          1.4992049801411589,
          -0.6611392490895978,
          -0.6304908747192904,
          1.1533356994672497,
          -0.420636670400046,
          1.443644516191686,
          1.451438062161945,
          0.483124750711282,
          -0.5236258108150692,
          0.4404690671036626,
          0.9996524509583272,
          -0.6130636059848118,
          0.6690199413988712,
          1.3263847443422256,
          -0.7556056623240177,
          0.637862832272282,
          0.38904377493049913,
          -1.3370612405882778,
          1.1933950268610702,
          0.06462007050856437,
          0.5764395379058818,
          -0.8458357075549467,
          -0.5445116781543524,
          0.3050900194252306,
          -0.2956218398366735,
          -1.7568210556812383,
          -2.624628846051485,
          0.7344870558616293,
          1.0497000890759491,
          1.5692069955925685,
          -0.8839762063095732,
          -0.2858107813208934,
          0.9699611896103433,
          -1.18056791878244,
          0.6737419030585361,
          -0.6984885465871962,
          1.0726235170641276,
          0.5217735041662983,
          1.5039611018876746
         ],
         "yaxis": "y12"
        },
        {
         "line": {
          "color": "rgba(128, 128, 128, 1.0)",
          "dash": "solid",
          "shape": "linear",
          "width": 1.3
         },
         "marker": {
          "size": 2,
          "symbol": "circle"
         },
         "mode": "markers",
         "name": "D",
         "text": "",
         "type": "scatter",
         "x": [
          1.472529121625012,
          1.130248943233051,
          -0.03482930485305292,
          -0.5732950541498779,
          0.6679167375471895,
          -0.8579231829134375,
          0.8094528586808082,
          0.3085641347607752,
          0.27377683773219197,
          0.23206478359138408,
          0.05238217602947687,
          1.6583515353500433,
          0.07790651684678294,
          -1.7301434691903925,
          -0.5641455958381295,
          0.4147172412633151,
          -0.09849314047167301,
          0.9977271515240892,
          0.8786339083285464,
          0.6950074047715827,
          0.45710903842482575,
          0.4982199907784472,
          0.12903988052103624,
          -1.4837525556196758,
          2.1559376570965503,
          0.27121817416520905,
          -0.7920459692083268,
          0.34986943200659715,
          -1.4244439368614608,
          0.32694876044997556,
          0.46860953711542114,
          -0.8163787512650883,
          1.2187153472151357,
          -0.20858295937455842,
          -1.6419227340761469,
          -1.7597511712926772,
          -0.889500156517225,
          0.7680841645055828,
          0.242169122327131,
          1.836311067999764,
          -0.3640393725187276,
          0.6913544823158839,
          0.5381815943734077,
          -1.2920024951121236,
          0.32683652775332095,
          -1.6543868904131966,
          -0.07603260838364179,
          -1.1191319473076922,
          -0.06515760125541344,
          2.6112740684691444,
          0.189885318735173,
          0.758128711401495,
          1.3565878468023498,
          -1.6605371867714478,
          -0.7657077563048298,
          -0.3795261071180454,
          -1.0575887339186927,
          -0.21917702928905666,
          -0.018563285766532843,
          -0.31467704146234077,
          -0.15156994149975483,
          1.3072808419825945,
          0.301826271055909,
          0.9387223883113914,
          -0.9159890914090407,
          0.9972746743704269,
          -0.14961035018933383,
          0.6936412738254416,
          0.02150439010857565,
          -0.09685198016522274,
          -0.17962054484657083,
          2.8387103914674565,
          1.7403528975355167,
          0.16910030614484756,
          -1.8773354305002856,
          0.825977346945175,
          0.8377635089652343,
          0.9617236811802147,
          -0.6473981950616219,
          -1.6658039916353078,
          -0.2692192979839951,
          -2.729756849044134,
          -0.22782472436569362,
          -0.501111975287052,
          0.46337026689879734,
          1.0619123546213953,
          1.6562427899245722,
          0.062163840611550794,
          0.19039780019298785,
          0.026824609638366238,
          0.8368352166533789,
          0.29023261477188106,
          -0.4892908992826225,
          0.4014711067047261,
          0.7167889751395604,
          1.2783993039707082,
          -0.45256841203177944,
          -1.104240974398623,
          0.48498329755483055,
          0.4547917796841871
         ],
         "xaxis": "x13",
         "y": [
          -0.29209677698554737,
          0.9573957896267596,
          -0.0007975772046197507,
          -0.8158976884143562,
          -1.9936338636737942,
          -1.066112859705764,
          -0.1624501274103537,
          -0.03172677523944978,
          0.4230420996426988,
          -1.5072924379640384,
          -1.0285792418506818,
          -0.4648859742555061,
          0.5488567472998651,
          -1.5509988671031387,
          -0.18731149886148526,
          -0.7307216961994965,
          0.28659201122255096,
          2.172650873228859,
          0.6037152824336763,
          -0.727575725495342,
          0.1921261607745329,
          2.0257007599249666,
          0.29878916777565295,
          -0.11662895626105096,
          0.4176466932527999,
          0.11869807879751894,
          -0.6185996268081179,
          0.5654893958419337,
          0.305655388592086,
          0.13135273742832368,
          0.12184068056708995,
          -0.5071662392557261,
          -0.568931741848525,
          0.4901084143203101,
          -0.2460586894546757,
          -0.848531489622213,
          1.3630384966893647,
          -0.3474418391715347,
          -1.1246178854325561,
          0.2727742766284284,
          0.9858324741667885,
          -1.260376384177372,
          2.1995501477694517,
          -1.1862990063877248,
          -1.27720070099572,
          -0.1394136561501857,
          -1.5767204417253653,
          -0.04261634006372652,
          -0.0851414882747124,
          -0.9119035439512653,
          -0.32281930867905156,
          0.194979954818921,
          -0.11685677866976853,
          -1.8053738746846808,
          -0.014808754132441395,
          -0.6392074518606004,
          -0.8503232038190978,
          -1.0937525430983601,
          1.187030991396334,
          1.4645556128099475,
          0.4113009102746684,
          0.1798500649884786,
          -0.6724445119030096,
          0.13446213951423927,
          1.3679920722622896,
          1.1313820175998472,
          0.46880252769541614,
          -0.39789401001271074,
          0.38433474242590737,
          -0.46326651134413627,
          0.33327001249620947,
          -0.09753287150325765,
          2.344702589914879,
          -0.9140280632719038,
          -1.4177177422630272,
          0.03634479751321479,
          -1.692481484675992,
          0.9512640830307857,
          0.19137848466118784,
          -1.1004124257636585,
          0.7043635574043291,
          -0.09092904401842151,
          1.5059008971891839,
          0.5973458990802751,
          0.34603516962923475,
          -1.812425632066957,
          -0.5333194244555364,
          -0.8625662806115877,
          -0.1353587151319946,
          -0.42633306707360935,
          0.3816695380113307,
          0.89874110435248,
          0.3626000974090412,
          -0.34626845050310656,
          1.8354956959106006,
          -0.1633850685970794,
          0.18564892606709904,
          0.3812582914116791,
          -0.9656308255591639,
          -0.011778101035519862
         ],
         "yaxis": "y13"
        },
        {
         "line": {
          "color": "rgba(128, 128, 128, 1.0)",
          "dash": "solid",
          "shape": "linear",
          "width": 1.3
         },
         "marker": {
          "size": 2,
          "symbol": "circle"
         },
         "mode": "markers",
         "name": "D",
         "text": "",
         "type": "scatter",
         "x": [
          -1.4490718845084207,
          0.5402426554463875,
          -1.3347985434813625,
          -0.12225119502318878,
          -1.30101789971426,
          0.38569811159209016,
          2.397904687740729,
          -2.3982480926388368,
          -0.10494367248597691,
          -0.2224254060893642,
          0.5410029274040677,
          1.2220114737266936,
          0.6413367934003551,
          0.4661400594131579,
          1.6301263489299898,
          -0.045857295111949706,
          0.22578578119008808,
          0.26281871636509874,
          0.3524366173554224,
          -0.25045607157728855,
          -0.02644007066357181,
          0.8618805448064077,
          -1.0669884903827511,
          2.202131722577417,
          -0.7113457060825948,
          -0.42921931155234017,
          0.03085513090831307,
          2.286357429921338,
          -0.2505199679788893,
          -2.49540664349453,
          -1.1157577643488887,
          0.7330552833464814,
          -0.4614404215891602,
          -1.3673002928914093,
          -1.7600123190780688,
          -2.0887547843771395,
          -2.1859340876441404,
          -0.49279846658300813,
          -1.889275646139344,
          -0.5690532456828411,
          0.4239373965316233,
          0.6397781534640425,
          -0.29671425027591325,
          0.6571556609166963,
          1.383298672469432,
          1.109761245033315,
          1.4332373810414698,
          0.6738019112262904,
          -1.1813200383895766,
          -1.6614202983027815,
          1.2398798868361367,
          0.6123687064574279,
          0.0915797315637989,
          0.006009505705794459,
          -1.0960578906870182,
          -1.1053797480590637,
          1.0352922076995237,
          0.2776270046807994,
          -0.09822942803128862,
          1.3423627824672761,
          -0.4269262478860568,
          -0.8566216988554339,
          0.4155483209694457,
          0.21352323335426418,
          0.9205293326670225,
          -2.4290809169775893,
          -1.097530893017326,
          0.0014555989292659602,
          -0.4721893111402556,
          -2.3651682013646727,
          0.9177196755689004,
          -2.6495518809284646,
          0.018826728369795518,
          0.05322287052010041,
          -1.1676072328548432,
          0.3940104502096727,
          0.3003994475771432,
          1.6651594296939112,
          -0.671156151734517,
          3.2476405756672038,
          -0.026105037598596365,
          -1.177609198277101,
          0.12516726924093127,
          -0.517430855564586,
          0.6604745556074771,
          -0.0018629645865976042,
          -1.7849289778669288,
          0.18498950224768243,
          1.442080076368799,
          0.9472992507672473,
          2.195427851378761,
          0.3966786785752604,
          -0.5002725972891627,
          -1.9460828869923503,
          -0.3608192626215061,
          1.0131320014705925,
          -0.7057725331167626,
          0.9665220645320599,
          -0.042248237084285586,
          -0.9798386628297314
         ],
         "xaxis": "x14",
         "y": [
          -0.29209677698554737,
          0.9573957896267596,
          -0.0007975772046197507,
          -0.8158976884143562,
          -1.9936338636737942,
          -1.066112859705764,
          -0.1624501274103537,
          -0.03172677523944978,
          0.4230420996426988,
          -1.5072924379640384,
          -1.0285792418506818,
          -0.4648859742555061,
          0.5488567472998651,
          -1.5509988671031387,
          -0.18731149886148526,
          -0.7307216961994965,
          0.28659201122255096,
          2.172650873228859,
          0.6037152824336763,
          -0.727575725495342,
          0.1921261607745329,
          2.0257007599249666,
          0.29878916777565295,
          -0.11662895626105096,
          0.4176466932527999,
          0.11869807879751894,
          -0.6185996268081179,
          0.5654893958419337,
          0.305655388592086,
          0.13135273742832368,
          0.12184068056708995,
          -0.5071662392557261,
          -0.568931741848525,
          0.4901084143203101,
          -0.2460586894546757,
          -0.848531489622213,
          1.3630384966893647,
          -0.3474418391715347,
          -1.1246178854325561,
          0.2727742766284284,
          0.9858324741667885,
          -1.260376384177372,
          2.1995501477694517,
          -1.1862990063877248,
          -1.27720070099572,
          -0.1394136561501857,
          -1.5767204417253653,
          -0.04261634006372652,
          -0.0851414882747124,
          -0.9119035439512653,
          -0.32281930867905156,
          0.194979954818921,
          -0.11685677866976853,
          -1.8053738746846808,
          -0.014808754132441395,
          -0.6392074518606004,
          -0.8503232038190978,
          -1.0937525430983601,
          1.187030991396334,
          1.4645556128099475,
          0.4113009102746684,
          0.1798500649884786,
          -0.6724445119030096,
          0.13446213951423927,
          1.3679920722622896,
          1.1313820175998472,
          0.46880252769541614,
          -0.39789401001271074,
          0.38433474242590737,
          -0.46326651134413627,
          0.33327001249620947,
          -0.09753287150325765,
          2.344702589914879,
          -0.9140280632719038,
          -1.4177177422630272,
          0.03634479751321479,
          -1.692481484675992,
          0.9512640830307857,
          0.19137848466118784,
          -1.1004124257636585,
          0.7043635574043291,
          -0.09092904401842151,
          1.5059008971891839,
          0.5973458990802751,
          0.34603516962923475,
          -1.812425632066957,
          -0.5333194244555364,
          -0.8625662806115877,
          -0.1353587151319946,
          -0.42633306707360935,
          0.3816695380113307,
          0.89874110435248,
          0.3626000974090412,
          -0.34626845050310656,
          1.8354956959106006,
          -0.1633850685970794,
          0.18564892606709904,
          0.3812582914116791,
          -0.9656308255591639,
          -0.011778101035519862
         ],
         "yaxis": "y14"
        },
        {
         "line": {
          "color": "rgba(128, 128, 128, 1.0)",
          "dash": "solid",
          "shape": "linear",
          "width": 1.3
         },
         "marker": {
          "size": 2,
          "symbol": "circle"
         },
         "mode": "markers",
         "name": "D",
         "text": "",
         "type": "scatter",
         "x": [
          0.2941477958735066,
          -1.2772567937568937,
          0.7441189607505856,
          -0.07469019133525433,
          0.15688826260723918,
          -0.3147237571105742,
          0.09746151352817672,
          -1.4894485007346023,
          -0.8118109462101483,
          -0.08316960538668344,
          -3.167014284398424,
          0.5384558809342364,
          1.0557522069504213,
          0.37150366384546263,
          0.7590918824347042,
          0.49357135745610187,
          -0.37733645380166997,
          0.6364367047170686,
          0.65240454392822,
          -0.5460605302037064,
          -0.2598143788964035,
          -1.0129067831437126,
          0.24442937330633968,
          -1.0076829208783498,
          -0.5501970096805181,
          0.061399346063866204,
          1.179641651882113,
          1.8840213768542848,
          -2.7297693179368894,
          0.08444274726336994,
          -0.07866577711107688,
          1.0228544923597822,
          -0.2717333568906527,
          -0.7678139093837235,
          0.8002168364713665,
          -0.6163668196735747,
          -0.7840916361031486,
          -0.5434871478375157,
          0.34616144852931713,
          -0.47902312536359887,
          -0.992535599042179,
          0.2590527094808219,
          1.2666923316053984,
          0.7476549908657724,
          -1.0512553869294554,
          -0.14237158758117616,
          -1.2929307281780056,
          1.5189203997919931,
          -0.6494858691130097,
          -0.5679015903851855,
          0.551965962231021,
          -1.6539555233879015,
          -0.22271778130394515,
          1.0386498514148697,
          0.3608835982240124,
          2.213346720878855,
          -0.9735769015751691,
          0.840128631763991,
          1.7556896787581586,
          -1.4412116307568839,
          0.2196949231023285,
          1.4992049801411589,
          -0.6611392490895978,
          -0.6304908747192904,
          1.1533356994672497,
          -0.420636670400046,
          1.443644516191686,
          1.451438062161945,
          0.483124750711282,
          -0.5236258108150692,
          0.4404690671036626,
          0.9996524509583272,
          -0.6130636059848118,
          0.6690199413988712,
          1.3263847443422256,
          -0.7556056623240177,
          0.637862832272282,
          0.38904377493049913,
          -1.3370612405882778,
          1.1933950268610702,
          0.06462007050856437,
          0.5764395379058818,
          -0.8458357075549467,
          -0.5445116781543524,
          0.3050900194252306,
          -0.2956218398366735,
          -1.7568210556812383,
          -2.624628846051485,
          0.7344870558616293,
          1.0497000890759491,
          1.5692069955925685,
          -0.8839762063095732,
          -0.2858107813208934,
          0.9699611896103433,
          -1.18056791878244,
          0.6737419030585361,
          -0.6984885465871962,
          1.0726235170641276,
          0.5217735041662983,
          1.5039611018876746
         ],
         "xaxis": "x15",
         "y": [
          -0.29209677698554737,
          0.9573957896267596,
          -0.0007975772046197507,
          -0.8158976884143562,
          -1.9936338636737942,
          -1.066112859705764,
          -0.1624501274103537,
          -0.03172677523944978,
          0.4230420996426988,
          -1.5072924379640384,
          -1.0285792418506818,
          -0.4648859742555061,
          0.5488567472998651,
          -1.5509988671031387,
          -0.18731149886148526,
          -0.7307216961994965,
          0.28659201122255096,
          2.172650873228859,
          0.6037152824336763,
          -0.727575725495342,
          0.1921261607745329,
          2.0257007599249666,
          0.29878916777565295,
          -0.11662895626105096,
          0.4176466932527999,
          0.11869807879751894,
          -0.6185996268081179,
          0.5654893958419337,
          0.305655388592086,
          0.13135273742832368,
          0.12184068056708995,
          -0.5071662392557261,
          -0.568931741848525,
          0.4901084143203101,
          -0.2460586894546757,
          -0.848531489622213,
          1.3630384966893647,
          -0.3474418391715347,
          -1.1246178854325561,
          0.2727742766284284,
          0.9858324741667885,
          -1.260376384177372,
          2.1995501477694517,
          -1.1862990063877248,
          -1.27720070099572,
          -0.1394136561501857,
          -1.5767204417253653,
          -0.04261634006372652,
          -0.0851414882747124,
          -0.9119035439512653,
          -0.32281930867905156,
          0.194979954818921,
          -0.11685677866976853,
          -1.8053738746846808,
          -0.014808754132441395,
          -0.6392074518606004,
          -0.8503232038190978,
          -1.0937525430983601,
          1.187030991396334,
          1.4645556128099475,
          0.4113009102746684,
          0.1798500649884786,
          -0.6724445119030096,
          0.13446213951423927,
          1.3679920722622896,
          1.1313820175998472,
          0.46880252769541614,
          -0.39789401001271074,
          0.38433474242590737,
          -0.46326651134413627,
          0.33327001249620947,
          -0.09753287150325765,
          2.344702589914879,
          -0.9140280632719038,
          -1.4177177422630272,
          0.03634479751321479,
          -1.692481484675992,
          0.9512640830307857,
          0.19137848466118784,
          -1.1004124257636585,
          0.7043635574043291,
          -0.09092904401842151,
          1.5059008971891839,
          0.5973458990802751,
          0.34603516962923475,
          -1.812425632066957,
          -0.5333194244555364,
          -0.8625662806115877,
          -0.1353587151319946,
          -0.42633306707360935,
          0.3816695380113307,
          0.89874110435248,
          0.3626000974090412,
          -0.34626845050310656,
          1.8354956959106006,
          -0.1633850685970794,
          0.18564892606709904,
          0.3812582914116791,
          -0.9656308255591639,
          -0.011778101035519862
         ],
         "yaxis": "y15"
        },
        {
         "histfunc": "count",
         "histnorm": "",
         "marker": {
          "color": "rgba(128, 0, 128, 1.0)",
          "line": {
           "color": "#4D5663",
           "width": 1.3
          }
         },
         "name": "D",
         "nbinsx": 10,
         "opacity": 0.8,
         "orientation": "v",
         "type": "histogram",
         "x": [
          -0.29209677698554737,
          0.9573957896267596,
          -0.0007975772046197507,
          -0.8158976884143562,
          -1.9936338636737942,
          -1.066112859705764,
          -0.1624501274103537,
          -0.03172677523944978,
          0.4230420996426988,
          -1.5072924379640384,
          -1.0285792418506818,
          -0.4648859742555061,
          0.5488567472998651,
          -1.5509988671031387,
          -0.18731149886148526,
          -0.7307216961994965,
          0.28659201122255096,
          2.172650873228859,
          0.6037152824336763,
          -0.727575725495342,
          0.1921261607745329,
          2.0257007599249666,
          0.29878916777565295,
          -0.11662895626105096,
          0.4176466932527999,
          0.11869807879751894,
          -0.6185996268081179,
          0.5654893958419337,
          0.305655388592086,
          0.13135273742832368,
          0.12184068056708995,
          -0.5071662392557261,
          -0.568931741848525,
          0.4901084143203101,
          -0.2460586894546757,
          -0.848531489622213,
          1.3630384966893647,
          -0.3474418391715347,
          -1.1246178854325561,
          0.2727742766284284,
          0.9858324741667885,
          -1.260376384177372,
          2.1995501477694517,
          -1.1862990063877248,
          -1.27720070099572,
          -0.1394136561501857,
          -1.5767204417253653,
          -0.04261634006372652,
          -0.0851414882747124,
          -0.9119035439512653,
          -0.32281930867905156,
          0.194979954818921,
          -0.11685677866976853,
          -1.8053738746846808,
          -0.014808754132441395,
          -0.6392074518606004,
          -0.8503232038190978,
          -1.0937525430983601,
          1.187030991396334,
          1.4645556128099475,
          0.4113009102746684,
          0.1798500649884786,
          -0.6724445119030096,
          0.13446213951423927,
          1.3679920722622896,
          1.1313820175998472,
          0.46880252769541614,
          -0.39789401001271074,
          0.38433474242590737,
          -0.46326651134413627,
          0.33327001249620947,
          -0.09753287150325765,
          2.344702589914879,
          -0.9140280632719038,
          -1.4177177422630272,
          0.03634479751321479,
          -1.692481484675992,
          0.9512640830307857,
          0.19137848466118784,
          -1.1004124257636585,
          0.7043635574043291,
          -0.09092904401842151,
          1.5059008971891839,
          0.5973458990802751,
          0.34603516962923475,
          -1.812425632066957,
          -0.5333194244555364,
          -0.8625662806115877,
          -0.1353587151319946,
          -0.42633306707360935,
          0.3816695380113307,
          0.89874110435248,
          0.3626000974090412,
          -0.34626845050310656,
          1.8354956959106006,
          -0.1633850685970794,
          0.18564892606709904,
          0.3812582914116791,
          -0.9656308255591639,
          -0.011778101035519862
         ],
         "xaxis": "x16",
         "yaxis": "y16"
        }
       ],
       "layout": {
        "bargap": 0.02,
        "legend": {
         "bgcolor": "#F5F6F9",
         "font": {
          "color": "#4D5663"
         }
        },
        "paper_bgcolor": "#F5F6F9",
        "plot_bgcolor": "#F5F6F9",
        "showlegend": false,
        "template": {
         "data": {
          "bar": [
           {
            "error_x": {
             "color": "#2a3f5f"
            },
            "error_y": {
             "color": "#2a3f5f"
            },
            "marker": {
             "line": {
              "color": "#E5ECF6",
              "width": 0.5
             }
            },
            "type": "bar"
           }
          ],
          "barpolar": [
           {
            "marker": {
             "line": {
              "color": "#E5ECF6",
              "width": 0.5
             }
            },
            "type": "barpolar"
           }
          ],
          "carpet": [
           {
            "aaxis": {
             "endlinecolor": "#2a3f5f",
             "gridcolor": "white",
             "linecolor": "white",
             "minorgridcolor": "white",
             "startlinecolor": "#2a3f5f"
            },
            "baxis": {
             "endlinecolor": "#2a3f5f",
             "gridcolor": "white",
             "linecolor": "white",
             "minorgridcolor": "white",
             "startlinecolor": "#2a3f5f"
            },
            "type": "carpet"
           }
          ],
          "choropleth": [
           {
            "colorbar": {
             "outlinewidth": 0,
             "ticks": ""
            },
            "type": "choropleth"
           }
          ],
          "contour": [
           {
            "colorbar": {
             "outlinewidth": 0,
             "ticks": ""
            },
            "colorscale": [
             [
              0,
              "#0d0887"
             ],
             [
              0.1111111111111111,
              "#46039f"
             ],
             [
              0.2222222222222222,
              "#7201a8"
             ],
             [
              0.3333333333333333,
              "#9c179e"
             ],
             [
              0.4444444444444444,
              "#bd3786"
             ],
             [
              0.5555555555555556,
              "#d8576b"
             ],
             [
              0.6666666666666666,
              "#ed7953"
             ],
             [
              0.7777777777777778,
              "#fb9f3a"
             ],
             [
              0.8888888888888888,
              "#fdca26"
             ],
             [
              1,
              "#f0f921"
             ]
            ],
            "type": "contour"
           }
          ],
          "contourcarpet": [
           {
            "colorbar": {
             "outlinewidth": 0,
             "ticks": ""
            },
            "type": "contourcarpet"
           }
          ],
          "heatmap": [
           {
            "colorbar": {
             "outlinewidth": 0,
             "ticks": ""
            },
            "colorscale": [
             [
              0,
              "#0d0887"
             ],
             [
              0.1111111111111111,
              "#46039f"
             ],
             [
              0.2222222222222222,
              "#7201a8"
             ],
             [
              0.3333333333333333,
              "#9c179e"
             ],
             [
              0.4444444444444444,
              "#bd3786"
             ],
             [
              0.5555555555555556,
              "#d8576b"
             ],
             [
              0.6666666666666666,
              "#ed7953"
             ],
             [
              0.7777777777777778,
              "#fb9f3a"
             ],
             [
              0.8888888888888888,
              "#fdca26"
             ],
             [
              1,
              "#f0f921"
             ]
            ],
            "type": "heatmap"
           }
          ],
          "heatmapgl": [
           {
            "colorbar": {
             "outlinewidth": 0,
             "ticks": ""
            },
            "colorscale": [
             [
              0,
              "#0d0887"
             ],
             [
              0.1111111111111111,
              "#46039f"
             ],
             [
              0.2222222222222222,
              "#7201a8"
             ],
             [
              0.3333333333333333,
              "#9c179e"
             ],
             [
              0.4444444444444444,
              "#bd3786"
             ],
             [
              0.5555555555555556,
              "#d8576b"
             ],
             [
              0.6666666666666666,
              "#ed7953"
             ],
             [
              0.7777777777777778,
              "#fb9f3a"
             ],
             [
              0.8888888888888888,
              "#fdca26"
             ],
             [
              1,
              "#f0f921"
             ]
            ],
            "type": "heatmapgl"
           }
          ],
          "histogram": [
           {
            "marker": {
             "colorbar": {
              "outlinewidth": 0,
              "ticks": ""
             }
            },
            "type": "histogram"
           }
          ],
          "histogram2d": [
           {
            "colorbar": {
             "outlinewidth": 0,
             "ticks": ""
            },
            "colorscale": [
             [
              0,
              "#0d0887"
             ],
             [
              0.1111111111111111,
              "#46039f"
             ],
             [
              0.2222222222222222,
              "#7201a8"
             ],
             [
              0.3333333333333333,
              "#9c179e"
             ],
             [
              0.4444444444444444,
              "#bd3786"
             ],
             [
              0.5555555555555556,
              "#d8576b"
             ],
             [
              0.6666666666666666,
              "#ed7953"
             ],
             [
              0.7777777777777778,
              "#fb9f3a"
             ],
             [
              0.8888888888888888,
              "#fdca26"
             ],
             [
              1,
              "#f0f921"
             ]
            ],
            "type": "histogram2d"
           }
          ],
          "histogram2dcontour": [
           {
            "colorbar": {
             "outlinewidth": 0,
             "ticks": ""
            },
            "colorscale": [
             [
              0,
              "#0d0887"
             ],
             [
              0.1111111111111111,
              "#46039f"
             ],
             [
              0.2222222222222222,
              "#7201a8"
             ],
             [
              0.3333333333333333,
              "#9c179e"
             ],
             [
              0.4444444444444444,
              "#bd3786"
             ],
             [
              0.5555555555555556,
              "#d8576b"
             ],
             [
              0.6666666666666666,
              "#ed7953"
             ],
             [
              0.7777777777777778,
              "#fb9f3a"
             ],
             [
              0.8888888888888888,
              "#fdca26"
             ],
             [
              1,
              "#f0f921"
             ]
            ],
            "type": "histogram2dcontour"
           }
          ],
          "mesh3d": [
           {
            "colorbar": {
             "outlinewidth": 0,
             "ticks": ""
            },
            "type": "mesh3d"
           }
          ],
          "parcoords": [
           {
            "line": {
             "colorbar": {
              "outlinewidth": 0,
              "ticks": ""
             }
            },
            "type": "parcoords"
           }
          ],
          "pie": [
           {
            "automargin": true,
            "type": "pie"
           }
          ],
          "scatter": [
           {
            "marker": {
             "colorbar": {
              "outlinewidth": 0,
              "ticks": ""
             }
            },
            "type": "scatter"
           }
          ],
          "scatter3d": [
           {
            "line": {
             "colorbar": {
              "outlinewidth": 0,
              "ticks": ""
             }
            },
            "marker": {
             "colorbar": {
              "outlinewidth": 0,
              "ticks": ""
             }
            },
            "type": "scatter3d"
           }
          ],
          "scattercarpet": [
           {
            "marker": {
             "colorbar": {
              "outlinewidth": 0,
              "ticks": ""
             }
            },
            "type": "scattercarpet"
           }
          ],
          "scattergeo": [
           {
            "marker": {
             "colorbar": {
              "outlinewidth": 0,
              "ticks": ""
             }
            },
            "type": "scattergeo"
           }
          ],
          "scattergl": [
           {
            "marker": {
             "colorbar": {
              "outlinewidth": 0,
              "ticks": ""
             }
            },
            "type": "scattergl"
           }
          ],
          "scattermapbox": [
           {
            "marker": {
             "colorbar": {
              "outlinewidth": 0,
              "ticks": ""
             }
            },
            "type": "scattermapbox"
           }
          ],
          "scatterpolar": [
           {
            "marker": {
             "colorbar": {
              "outlinewidth": 0,
              "ticks": ""
             }
            },
            "type": "scatterpolar"
           }
          ],
          "scatterpolargl": [
           {
            "marker": {
             "colorbar": {
              "outlinewidth": 0,
              "ticks": ""
             }
            },
            "type": "scatterpolargl"
           }
          ],
          "scatterternary": [
           {
            "marker": {
             "colorbar": {
              "outlinewidth": 0,
              "ticks": ""
             }
            },
            "type": "scatterternary"
           }
          ],
          "surface": [
           {
            "colorbar": {
             "outlinewidth": 0,
             "ticks": ""
            },
            "colorscale": [
             [
              0,
              "#0d0887"
             ],
             [
              0.1111111111111111,
              "#46039f"
             ],
             [
              0.2222222222222222,
              "#7201a8"
             ],
             [
              0.3333333333333333,
              "#9c179e"
             ],
             [
              0.4444444444444444,
              "#bd3786"
             ],
             [
              0.5555555555555556,
              "#d8576b"
             ],
             [
              0.6666666666666666,
              "#ed7953"
             ],
             [
              0.7777777777777778,
              "#fb9f3a"
             ],
             [
              0.8888888888888888,
              "#fdca26"
             ],
             [
              1,
              "#f0f921"
             ]
            ],
            "type": "surface"
           }
          ],
          "table": [
           {
            "cells": {
             "fill": {
              "color": "#EBF0F8"
             },
             "line": {
              "color": "white"
             }
            },
            "header": {
             "fill": {
              "color": "#C8D4E3"
             },
             "line": {
              "color": "white"
             }
            },
            "type": "table"
           }
          ]
         },
         "layout": {
          "annotationdefaults": {
           "arrowcolor": "#2a3f5f",
           "arrowhead": 0,
           "arrowwidth": 1
          },
          "coloraxis": {
           "colorbar": {
            "outlinewidth": 0,
            "ticks": ""
           }
          },
          "colorscale": {
           "diverging": [
            [
             0,
             "#8e0152"
            ],
            [
             0.1,
             "#c51b7d"
            ],
            [
             0.2,
             "#de77ae"
            ],
            [
             0.3,
             "#f1b6da"
            ],
            [
             0.4,
             "#fde0ef"
            ],
            [
             0.5,
             "#f7f7f7"
            ],
            [
             0.6,
             "#e6f5d0"
            ],
            [
             0.7,
             "#b8e186"
            ],
            [
             0.8,
             "#7fbc41"
            ],
            [
             0.9,
             "#4d9221"
            ],
            [
             1,
             "#276419"
            ]
           ],
           "sequential": [
            [
             0,
             "#0d0887"
            ],
            [
             0.1111111111111111,
             "#46039f"
            ],
            [
             0.2222222222222222,
             "#7201a8"
            ],
            [
             0.3333333333333333,
             "#9c179e"
            ],
            [
             0.4444444444444444,
             "#bd3786"
            ],
            [
             0.5555555555555556,
             "#d8576b"
            ],
            [
             0.6666666666666666,
             "#ed7953"
            ],
            [
             0.7777777777777778,
             "#fb9f3a"
            ],
            [
             0.8888888888888888,
             "#fdca26"
            ],
            [
             1,
             "#f0f921"
            ]
           ],
           "sequentialminus": [
            [
             0,
             "#0d0887"
            ],
            [
             0.1111111111111111,
             "#46039f"
            ],
            [
             0.2222222222222222,
             "#7201a8"
            ],
            [
             0.3333333333333333,
             "#9c179e"
            ],
            [
             0.4444444444444444,
             "#bd3786"
            ],
            [
             0.5555555555555556,
             "#d8576b"
            ],
            [
             0.6666666666666666,
             "#ed7953"
            ],
            [
             0.7777777777777778,
             "#fb9f3a"
            ],
            [
             0.8888888888888888,
             "#fdca26"
            ],
            [
             1,
             "#f0f921"
            ]
           ]
          },
          "colorway": [
           "#636efa",
           "#EF553B",
           "#00cc96",
           "#ab63fa",
           "#FFA15A",
           "#19d3f3",
           "#FF6692",
           "#B6E880",
           "#FF97FF",
           "#FECB52"
          ],
          "font": {
           "color": "#2a3f5f"
          },
          "geo": {
           "bgcolor": "white",
           "lakecolor": "white",
           "landcolor": "#E5ECF6",
           "showlakes": true,
           "showland": true,
           "subunitcolor": "white"
          },
          "hoverlabel": {
           "align": "left"
          },
          "hovermode": "closest",
          "mapbox": {
           "style": "light"
          },
          "paper_bgcolor": "white",
          "plot_bgcolor": "#E5ECF6",
          "polar": {
           "angularaxis": {
            "gridcolor": "white",
            "linecolor": "white",
            "ticks": ""
           },
           "bgcolor": "#E5ECF6",
           "radialaxis": {
            "gridcolor": "white",
            "linecolor": "white",
            "ticks": ""
           }
          },
          "scene": {
           "xaxis": {
            "backgroundcolor": "#E5ECF6",
            "gridcolor": "white",
            "gridwidth": 2,
            "linecolor": "white",
            "showbackground": true,
            "ticks": "",
            "zerolinecolor": "white"
           },
           "yaxis": {
            "backgroundcolor": "#E5ECF6",
            "gridcolor": "white",
            "gridwidth": 2,
            "linecolor": "white",
            "showbackground": true,
            "ticks": "",
            "zerolinecolor": "white"
           },
           "zaxis": {
            "backgroundcolor": "#E5ECF6",
            "gridcolor": "white",
            "gridwidth": 2,
            "linecolor": "white",
            "showbackground": true,
            "ticks": "",
            "zerolinecolor": "white"
           }
          },
          "shapedefaults": {
           "line": {
            "color": "#2a3f5f"
           }
          },
          "ternary": {
           "aaxis": {
            "gridcolor": "white",
            "linecolor": "white",
            "ticks": ""
           },
           "baxis": {
            "gridcolor": "white",
            "linecolor": "white",
            "ticks": ""
           },
           "bgcolor": "#E5ECF6",
           "caxis": {
            "gridcolor": "white",
            "linecolor": "white",
            "ticks": ""
           }
          },
          "title": {
           "x": 0.05
          },
          "xaxis": {
           "automargin": true,
           "gridcolor": "white",
           "linecolor": "white",
           "ticks": "",
           "title": {
            "standoff": 15
           },
           "zerolinecolor": "white",
           "zerolinewidth": 2
          },
          "yaxis": {
           "automargin": true,
           "gridcolor": "white",
           "linecolor": "white",
           "ticks": "",
           "title": {
            "standoff": 15
           },
           "zerolinecolor": "white",
           "zerolinewidth": 2
          }
         }
        },
        "title": {
         "font": {
          "color": "#4D5663"
         }
        },
        "xaxis": {
         "anchor": "y",
         "domain": [
          0,
          0.2125
         ],
         "gridcolor": "#E1E5ED",
         "showgrid": false,
         "tickfont": {
          "color": "#4D5663"
         },
         "title": {
          "font": {
           "color": "#4D5663"
          },
          "text": ""
         },
         "zerolinecolor": "#E1E5ED"
        },
        "xaxis10": {
         "anchor": "y10",
         "domain": [
          0.2625,
          0.475
         ],
         "gridcolor": "#E1E5ED",
         "showgrid": false,
         "tickfont": {
          "color": "#4D5663"
         },
         "title": {
          "font": {
           "color": "#4D5663"
          },
          "text": ""
         },
         "zerolinecolor": "#E1E5ED"
        },
        "xaxis11": {
         "anchor": "y11",
         "domain": [
          0.525,
          0.7375
         ],
         "gridcolor": "#E1E5ED",
         "showgrid": false,
         "tickfont": {
          "color": "#4D5663"
         },
         "title": {
          "font": {
           "color": "#4D5663"
          },
          "text": ""
         },
         "zerolinecolor": "#E1E5ED"
        },
        "xaxis12": {
         "anchor": "y12",
         "domain": [
          0.7875,
          1
         ],
         "gridcolor": "#E1E5ED",
         "showgrid": false,
         "tickfont": {
          "color": "#4D5663"
         },
         "title": {
          "font": {
           "color": "#4D5663"
          },
          "text": ""
         },
         "zerolinecolor": "#E1E5ED"
        },
        "xaxis13": {
         "anchor": "y13",
         "domain": [
          0,
          0.2125
         ],
         "gridcolor": "#E1E5ED",
         "showgrid": false,
         "tickfont": {
          "color": "#4D5663"
         },
         "title": {
          "font": {
           "color": "#4D5663"
          },
          "text": ""
         },
         "zerolinecolor": "#E1E5ED"
        },
        "xaxis14": {
         "anchor": "y14",
         "domain": [
          0.2625,
          0.475
         ],
         "gridcolor": "#E1E5ED",
         "showgrid": false,
         "tickfont": {
          "color": "#4D5663"
         },
         "title": {
          "font": {
           "color": "#4D5663"
          },
          "text": ""
         },
         "zerolinecolor": "#E1E5ED"
        },
        "xaxis15": {
         "anchor": "y15",
         "domain": [
          0.525,
          0.7375
         ],
         "gridcolor": "#E1E5ED",
         "showgrid": false,
         "tickfont": {
          "color": "#4D5663"
         },
         "title": {
          "font": {
           "color": "#4D5663"
          },
          "text": ""
         },
         "zerolinecolor": "#E1E5ED"
        },
        "xaxis16": {
         "anchor": "y16",
         "domain": [
          0.7875,
          1
         ],
         "gridcolor": "#E1E5ED",
         "showgrid": false,
         "tickfont": {
          "color": "#4D5663"
         },
         "title": {
          "font": {
           "color": "#4D5663"
          },
          "text": ""
         },
         "zerolinecolor": "#E1E5ED"
        },
        "xaxis2": {
         "anchor": "y2",
         "domain": [
          0.2625,
          0.475
         ],
         "gridcolor": "#E1E5ED",
         "showgrid": false,
         "tickfont": {
          "color": "#4D5663"
         },
         "title": {
          "font": {
           "color": "#4D5663"
          },
          "text": ""
         },
         "zerolinecolor": "#E1E5ED"
        },
        "xaxis3": {
         "anchor": "y3",
         "domain": [
          0.525,
          0.7375
         ],
         "gridcolor": "#E1E5ED",
         "showgrid": false,
         "tickfont": {
          "color": "#4D5663"
         },
         "title": {
          "font": {
           "color": "#4D5663"
          },
          "text": ""
         },
         "zerolinecolor": "#E1E5ED"
        },
        "xaxis4": {
         "anchor": "y4",
         "domain": [
          0.7875,
          1
         ],
         "gridcolor": "#E1E5ED",
         "showgrid": false,
         "tickfont": {
          "color": "#4D5663"
         },
         "title": {
          "font": {
           "color": "#4D5663"
          },
          "text": ""
         },
         "zerolinecolor": "#E1E5ED"
        },
        "xaxis5": {
         "anchor": "y5",
         "domain": [
          0,
          0.2125
         ],
         "gridcolor": "#E1E5ED",
         "showgrid": false,
         "tickfont": {
          "color": "#4D5663"
         },
         "title": {
          "font": {
           "color": "#4D5663"
          },
          "text": ""
         },
         "zerolinecolor": "#E1E5ED"
        },
        "xaxis6": {
         "anchor": "y6",
         "domain": [
          0.2625,
          0.475
         ],
         "gridcolor": "#E1E5ED",
         "showgrid": false,
         "tickfont": {
          "color": "#4D5663"
         },
         "title": {
          "font": {
           "color": "#4D5663"
          },
          "text": ""
         },
         "zerolinecolor": "#E1E5ED"
        },
        "xaxis7": {
         "anchor": "y7",
         "domain": [
          0.525,
          0.7375
         ],
         "gridcolor": "#E1E5ED",
         "showgrid": false,
         "tickfont": {
          "color": "#4D5663"
         },
         "title": {
          "font": {
           "color": "#4D5663"
          },
          "text": ""
         },
         "zerolinecolor": "#E1E5ED"
        },
        "xaxis8": {
         "anchor": "y8",
         "domain": [
          0.7875,
          1
         ],
         "gridcolor": "#E1E5ED",
         "showgrid": false,
         "tickfont": {
          "color": "#4D5663"
         },
         "title": {
          "font": {
           "color": "#4D5663"
          },
          "text": ""
         },
         "zerolinecolor": "#E1E5ED"
        },
        "xaxis9": {
         "anchor": "y9",
         "domain": [
          0,
          0.2125
         ],
         "gridcolor": "#E1E5ED",
         "showgrid": false,
         "tickfont": {
          "color": "#4D5663"
         },
         "title": {
          "font": {
           "color": "#4D5663"
          },
          "text": ""
         },
         "zerolinecolor": "#E1E5ED"
        },
        "yaxis": {
         "anchor": "x",
         "domain": [
          0.8025,
          1
         ],
         "gridcolor": "#E1E5ED",
         "showgrid": false,
         "tickfont": {
          "color": "#4D5663"
         },
         "title": {
          "font": {
           "color": "#4D5663"
          },
          "text": ""
         },
         "zerolinecolor": "#E1E5ED"
        },
        "yaxis10": {
         "anchor": "x10",
         "domain": [
          0.2675,
          0.465
         ],
         "gridcolor": "#E1E5ED",
         "showgrid": false,
         "tickfont": {
          "color": "#4D5663"
         },
         "title": {
          "font": {
           "color": "#4D5663"
          },
          "text": ""
         },
         "zerolinecolor": "#E1E5ED"
        },
        "yaxis11": {
         "anchor": "x11",
         "domain": [
          0.2675,
          0.465
         ],
         "gridcolor": "#E1E5ED",
         "showgrid": false,
         "tickfont": {
          "color": "#4D5663"
         },
         "title": {
          "font": {
           "color": "#4D5663"
          },
          "text": ""
         },
         "zerolinecolor": "#E1E5ED"
        },
        "yaxis12": {
         "anchor": "x12",
         "domain": [
          0.2675,
          0.465
         ],
         "gridcolor": "#E1E5ED",
         "showgrid": false,
         "tickfont": {
          "color": "#4D5663"
         },
         "title": {
          "font": {
           "color": "#4D5663"
          },
          "text": ""
         },
         "zerolinecolor": "#E1E5ED"
        },
        "yaxis13": {
         "anchor": "x13",
         "domain": [
          0,
          0.1975
         ],
         "gridcolor": "#E1E5ED",
         "showgrid": false,
         "tickfont": {
          "color": "#4D5663"
         },
         "title": {
          "font": {
           "color": "#4D5663"
          },
          "text": ""
         },
         "zerolinecolor": "#E1E5ED"
        },
        "yaxis14": {
         "anchor": "x14",
         "domain": [
          0,
          0.1975
         ],
         "gridcolor": "#E1E5ED",
         "showgrid": false,
         "tickfont": {
          "color": "#4D5663"
         },
         "title": {
          "font": {
           "color": "#4D5663"
          },
          "text": ""
         },
         "zerolinecolor": "#E1E5ED"
        },
        "yaxis15": {
         "anchor": "x15",
         "domain": [
          0,
          0.1975
         ],
         "gridcolor": "#E1E5ED",
         "showgrid": false,
         "tickfont": {
          "color": "#4D5663"
         },
         "title": {
          "font": {
           "color": "#4D5663"
          },
          "text": ""
         },
         "zerolinecolor": "#E1E5ED"
        },
        "yaxis16": {
         "anchor": "x16",
         "domain": [
          0,
          0.1975
         ],
         "gridcolor": "#E1E5ED",
         "showgrid": false,
         "tickfont": {
          "color": "#4D5663"
         },
         "title": {
          "font": {
           "color": "#4D5663"
          },
          "text": ""
         },
         "zerolinecolor": "#E1E5ED"
        },
        "yaxis2": {
         "anchor": "x2",
         "domain": [
          0.8025,
          1
         ],
         "gridcolor": "#E1E5ED",
         "showgrid": false,
         "tickfont": {
          "color": "#4D5663"
         },
         "title": {
          "font": {
           "color": "#4D5663"
          },
          "text": ""
         },
         "zerolinecolor": "#E1E5ED"
        },
        "yaxis3": {
         "anchor": "x3",
         "domain": [
          0.8025,
          1
         ],
         "gridcolor": "#E1E5ED",
         "showgrid": false,
         "tickfont": {
          "color": "#4D5663"
         },
         "title": {
          "font": {
           "color": "#4D5663"
          },
          "text": ""
         },
         "zerolinecolor": "#E1E5ED"
        },
        "yaxis4": {
         "anchor": "x4",
         "domain": [
          0.8025,
          1
         ],
         "gridcolor": "#E1E5ED",
         "showgrid": false,
         "tickfont": {
          "color": "#4D5663"
         },
         "title": {
          "font": {
           "color": "#4D5663"
          },
          "text": ""
         },
         "zerolinecolor": "#E1E5ED"
        },
        "yaxis5": {
         "anchor": "x5",
         "domain": [
          0.535,
          0.7325
         ],
         "gridcolor": "#E1E5ED",
         "showgrid": false,
         "tickfont": {
          "color": "#4D5663"
         },
         "title": {
          "font": {
           "color": "#4D5663"
          },
          "text": ""
         },
         "zerolinecolor": "#E1E5ED"
        },
        "yaxis6": {
         "anchor": "x6",
         "domain": [
          0.535,
          0.7325
         ],
         "gridcolor": "#E1E5ED",
         "showgrid": false,
         "tickfont": {
          "color": "#4D5663"
         },
         "title": {
          "font": {
           "color": "#4D5663"
          },
          "text": ""
         },
         "zerolinecolor": "#E1E5ED"
        },
        "yaxis7": {
         "anchor": "x7",
         "domain": [
          0.535,
          0.7325
         ],
         "gridcolor": "#E1E5ED",
         "showgrid": false,
         "tickfont": {
          "color": "#4D5663"
         },
         "title": {
          "font": {
           "color": "#4D5663"
          },
          "text": ""
         },
         "zerolinecolor": "#E1E5ED"
        },
        "yaxis8": {
         "anchor": "x8",
         "domain": [
          0.535,
          0.7325
         ],
         "gridcolor": "#E1E5ED",
         "showgrid": false,
         "tickfont": {
          "color": "#4D5663"
         },
         "title": {
          "font": {
           "color": "#4D5663"
          },
          "text": ""
         },
         "zerolinecolor": "#E1E5ED"
        },
        "yaxis9": {
         "anchor": "x9",
         "domain": [
          0.2675,
          0.465
         ],
         "gridcolor": "#E1E5ED",
         "showgrid": false,
         "tickfont": {
          "color": "#4D5663"
         },
         "title": {
          "font": {
           "color": "#4D5663"
          },
          "text": ""
         },
         "zerolinecolor": "#E1E5ED"
        }
       }
      },
      "text/html": [
       "<div>\n",
       "        \n",
       "        \n",
       "            <div id=\"984a5456-2493-40d5-ad0e-66280a26415d\" class=\"plotly-graph-div\" style=\"height:525px; width:100%;\"></div>\n",
       "            <script type=\"text/javascript\">\n",
       "                require([\"plotly\"], function(Plotly) {\n",
       "                    window.PLOTLYENV=window.PLOTLYENV || {};\n",
       "                    window.PLOTLYENV.BASE_URL='https://plot.ly';\n",
       "                    \n",
       "                if (document.getElementById(\"984a5456-2493-40d5-ad0e-66280a26415d\")) {\n",
       "                    Plotly.newPlot(\n",
       "                        '984a5456-2493-40d5-ad0e-66280a26415d',\n",
       "                        [{\"histfunc\": \"count\", \"histnorm\": \"\", \"marker\": {\"color\": \"rgba(255, 153, 51, 1.0)\", \"line\": {\"color\": \"#4D5663\", \"width\": 1.3}}, \"name\": \"A\", \"nbinsx\": 10, \"opacity\": 0.8, \"orientation\": \"v\", \"type\": \"histogram\", \"x\": [1.472529121625012, 1.130248943233051, -0.03482930485305292, -0.5732950541498779, 0.6679167375471895, -0.8579231829134375, 0.8094528586808082, 0.3085641347607752, 0.27377683773219197, 0.23206478359138408, 0.05238217602947687, 1.6583515353500433, 0.07790651684678294, -1.7301434691903925, -0.5641455958381295, 0.4147172412633151, -0.09849314047167301, 0.9977271515240892, 0.8786339083285464, 0.6950074047715827, 0.45710903842482575, 0.4982199907784472, 0.12903988052103624, -1.4837525556196758, 2.1559376570965503, 0.27121817416520905, -0.7920459692083268, 0.34986943200659715, -1.4244439368614608, 0.32694876044997556, 0.46860953711542114, -0.8163787512650883, 1.2187153472151357, -0.20858295937455842, -1.6419227340761469, -1.7597511712926772, -0.889500156517225, 0.7680841645055828, 0.242169122327131, 1.836311067999764, -0.3640393725187276, 0.6913544823158839, 0.5381815943734077, -1.2920024951121236, 0.32683652775332095, -1.6543868904131966, -0.07603260838364179, -1.1191319473076922, -0.06515760125541344, 2.6112740684691444, 0.189885318735173, 0.758128711401495, 1.3565878468023498, -1.6605371867714478, -0.7657077563048298, -0.3795261071180454, -1.0575887339186927, -0.21917702928905666, -0.018563285766532843, -0.31467704146234077, -0.15156994149975483, 1.3072808419825945, 0.301826271055909, 0.9387223883113914, -0.9159890914090407, 0.9972746743704269, -0.14961035018933383, 0.6936412738254416, 0.02150439010857565, -0.09685198016522274, -0.17962054484657083, 2.8387103914674565, 1.7403528975355167, 0.16910030614484756, -1.8773354305002856, 0.825977346945175, 0.8377635089652343, 0.9617236811802147, -0.6473981950616219, -1.6658039916353078, -0.2692192979839951, -2.729756849044134, -0.22782472436569362, -0.501111975287052, 0.46337026689879734, 1.0619123546213953, 1.6562427899245722, 0.062163840611550794, 0.19039780019298785, 0.026824609638366238, 0.8368352166533789, 0.29023261477188106, -0.4892908992826225, 0.4014711067047261, 0.7167889751395604, 1.2783993039707082, -0.45256841203177944, -1.104240974398623, 0.48498329755483055, 0.4547917796841871], \"xaxis\": \"x\", \"yaxis\": \"y\"}, {\"line\": {\"color\": \"rgba(128, 128, 128, 1.0)\", \"dash\": \"solid\", \"shape\": \"linear\", \"width\": 1.3}, \"marker\": {\"size\": 2, \"symbol\": \"circle\"}, \"mode\": \"markers\", \"name\": \"A\", \"text\": \"\", \"type\": \"scatter\", \"x\": [-1.4490718845084207, 0.5402426554463875, -1.3347985434813625, -0.12225119502318878, -1.30101789971426, 0.38569811159209016, 2.397904687740729, -2.3982480926388368, -0.10494367248597691, -0.2224254060893642, 0.5410029274040677, 1.2220114737266936, 0.6413367934003551, 0.4661400594131579, 1.6301263489299898, -0.045857295111949706, 0.22578578119008808, 0.26281871636509874, 0.3524366173554224, -0.25045607157728855, -0.02644007066357181, 0.8618805448064077, -1.0669884903827511, 2.202131722577417, -0.7113457060825948, -0.42921931155234017, 0.03085513090831307, 2.286357429921338, -0.2505199679788893, -2.49540664349453, -1.1157577643488887, 0.7330552833464814, -0.4614404215891602, -1.3673002928914093, -1.7600123190780688, -2.0887547843771395, -2.1859340876441404, -0.49279846658300813, -1.889275646139344, -0.5690532456828411, 0.4239373965316233, 0.6397781534640425, -0.29671425027591325, 0.6571556609166963, 1.383298672469432, 1.109761245033315, 1.4332373810414698, 0.6738019112262904, -1.1813200383895766, -1.6614202983027815, 1.2398798868361367, 0.6123687064574279, 0.0915797315637989, 0.006009505705794459, -1.0960578906870182, -1.1053797480590637, 1.0352922076995237, 0.2776270046807994, -0.09822942803128862, 1.3423627824672761, -0.4269262478860568, -0.8566216988554339, 0.4155483209694457, 0.21352323335426418, 0.9205293326670225, -2.4290809169775893, -1.097530893017326, 0.0014555989292659602, -0.4721893111402556, -2.3651682013646727, 0.9177196755689004, -2.6495518809284646, 0.018826728369795518, 0.05322287052010041, -1.1676072328548432, 0.3940104502096727, 0.3003994475771432, 1.6651594296939112, -0.671156151734517, 3.2476405756672038, -0.026105037598596365, -1.177609198277101, 0.12516726924093127, -0.517430855564586, 0.6604745556074771, -0.0018629645865976042, -1.7849289778669288, 0.18498950224768243, 1.442080076368799, 0.9472992507672473, 2.195427851378761, 0.3966786785752604, -0.5002725972891627, -1.9460828869923503, -0.3608192626215061, 1.0131320014705925, -0.7057725331167626, 0.9665220645320599, -0.042248237084285586, -0.9798386628297314], \"xaxis\": \"x2\", \"y\": [1.472529121625012, 1.130248943233051, -0.03482930485305292, -0.5732950541498779, 0.6679167375471895, -0.8579231829134375, 0.8094528586808082, 0.3085641347607752, 0.27377683773219197, 0.23206478359138408, 0.05238217602947687, 1.6583515353500433, 0.07790651684678294, -1.7301434691903925, -0.5641455958381295, 0.4147172412633151, -0.09849314047167301, 0.9977271515240892, 0.8786339083285464, 0.6950074047715827, 0.45710903842482575, 0.4982199907784472, 0.12903988052103624, -1.4837525556196758, 2.1559376570965503, 0.27121817416520905, -0.7920459692083268, 0.34986943200659715, -1.4244439368614608, 0.32694876044997556, 0.46860953711542114, -0.8163787512650883, 1.2187153472151357, -0.20858295937455842, -1.6419227340761469, -1.7597511712926772, -0.889500156517225, 0.7680841645055828, 0.242169122327131, 1.836311067999764, -0.3640393725187276, 0.6913544823158839, 0.5381815943734077, -1.2920024951121236, 0.32683652775332095, -1.6543868904131966, -0.07603260838364179, -1.1191319473076922, -0.06515760125541344, 2.6112740684691444, 0.189885318735173, 0.758128711401495, 1.3565878468023498, -1.6605371867714478, -0.7657077563048298, -0.3795261071180454, -1.0575887339186927, -0.21917702928905666, -0.018563285766532843, -0.31467704146234077, -0.15156994149975483, 1.3072808419825945, 0.301826271055909, 0.9387223883113914, -0.9159890914090407, 0.9972746743704269, -0.14961035018933383, 0.6936412738254416, 0.02150439010857565, -0.09685198016522274, -0.17962054484657083, 2.8387103914674565, 1.7403528975355167, 0.16910030614484756, -1.8773354305002856, 0.825977346945175, 0.8377635089652343, 0.9617236811802147, -0.6473981950616219, -1.6658039916353078, -0.2692192979839951, -2.729756849044134, -0.22782472436569362, -0.501111975287052, 0.46337026689879734, 1.0619123546213953, 1.6562427899245722, 0.062163840611550794, 0.19039780019298785, 0.026824609638366238, 0.8368352166533789, 0.29023261477188106, -0.4892908992826225, 0.4014711067047261, 0.7167889751395604, 1.2783993039707082, -0.45256841203177944, -1.104240974398623, 0.48498329755483055, 0.4547917796841871], \"yaxis\": \"y2\"}, {\"line\": {\"color\": \"rgba(128, 128, 128, 1.0)\", \"dash\": \"solid\", \"shape\": \"linear\", \"width\": 1.3}, \"marker\": {\"size\": 2, \"symbol\": \"circle\"}, \"mode\": \"markers\", \"name\": \"A\", \"text\": \"\", \"type\": \"scatter\", \"x\": [0.2941477958735066, -1.2772567937568937, 0.7441189607505856, -0.07469019133525433, 0.15688826260723918, -0.3147237571105742, 0.09746151352817672, -1.4894485007346023, -0.8118109462101483, -0.08316960538668344, -3.167014284398424, 0.5384558809342364, 1.0557522069504213, 0.37150366384546263, 0.7590918824347042, 0.49357135745610187, -0.37733645380166997, 0.6364367047170686, 0.65240454392822, -0.5460605302037064, -0.2598143788964035, -1.0129067831437126, 0.24442937330633968, -1.0076829208783498, -0.5501970096805181, 0.061399346063866204, 1.179641651882113, 1.8840213768542848, -2.7297693179368894, 0.08444274726336994, -0.07866577711107688, 1.0228544923597822, -0.2717333568906527, -0.7678139093837235, 0.8002168364713665, -0.6163668196735747, -0.7840916361031486, -0.5434871478375157, 0.34616144852931713, -0.47902312536359887, -0.992535599042179, 0.2590527094808219, 1.2666923316053984, 0.7476549908657724, -1.0512553869294554, -0.14237158758117616, -1.2929307281780056, 1.5189203997919931, -0.6494858691130097, -0.5679015903851855, 0.551965962231021, -1.6539555233879015, -0.22271778130394515, 1.0386498514148697, 0.3608835982240124, 2.213346720878855, -0.9735769015751691, 0.840128631763991, 1.7556896787581586, -1.4412116307568839, 0.2196949231023285, 1.4992049801411589, -0.6611392490895978, -0.6304908747192904, 1.1533356994672497, -0.420636670400046, 1.443644516191686, 1.451438062161945, 0.483124750711282, -0.5236258108150692, 0.4404690671036626, 0.9996524509583272, -0.6130636059848118, 0.6690199413988712, 1.3263847443422256, -0.7556056623240177, 0.637862832272282, 0.38904377493049913, -1.3370612405882778, 1.1933950268610702, 0.06462007050856437, 0.5764395379058818, -0.8458357075549467, -0.5445116781543524, 0.3050900194252306, -0.2956218398366735, -1.7568210556812383, -2.624628846051485, 0.7344870558616293, 1.0497000890759491, 1.5692069955925685, -0.8839762063095732, -0.2858107813208934, 0.9699611896103433, -1.18056791878244, 0.6737419030585361, -0.6984885465871962, 1.0726235170641276, 0.5217735041662983, 1.5039611018876746], \"xaxis\": \"x3\", \"y\": [1.472529121625012, 1.130248943233051, -0.03482930485305292, -0.5732950541498779, 0.6679167375471895, -0.8579231829134375, 0.8094528586808082, 0.3085641347607752, 0.27377683773219197, 0.23206478359138408, 0.05238217602947687, 1.6583515353500433, 0.07790651684678294, -1.7301434691903925, -0.5641455958381295, 0.4147172412633151, -0.09849314047167301, 0.9977271515240892, 0.8786339083285464, 0.6950074047715827, 0.45710903842482575, 0.4982199907784472, 0.12903988052103624, -1.4837525556196758, 2.1559376570965503, 0.27121817416520905, -0.7920459692083268, 0.34986943200659715, -1.4244439368614608, 0.32694876044997556, 0.46860953711542114, -0.8163787512650883, 1.2187153472151357, -0.20858295937455842, -1.6419227340761469, -1.7597511712926772, -0.889500156517225, 0.7680841645055828, 0.242169122327131, 1.836311067999764, -0.3640393725187276, 0.6913544823158839, 0.5381815943734077, -1.2920024951121236, 0.32683652775332095, -1.6543868904131966, -0.07603260838364179, -1.1191319473076922, -0.06515760125541344, 2.6112740684691444, 0.189885318735173, 0.758128711401495, 1.3565878468023498, -1.6605371867714478, -0.7657077563048298, -0.3795261071180454, -1.0575887339186927, -0.21917702928905666, -0.018563285766532843, -0.31467704146234077, -0.15156994149975483, 1.3072808419825945, 0.301826271055909, 0.9387223883113914, -0.9159890914090407, 0.9972746743704269, -0.14961035018933383, 0.6936412738254416, 0.02150439010857565, -0.09685198016522274, -0.17962054484657083, 2.8387103914674565, 1.7403528975355167, 0.16910030614484756, -1.8773354305002856, 0.825977346945175, 0.8377635089652343, 0.9617236811802147, -0.6473981950616219, -1.6658039916353078, -0.2692192979839951, -2.729756849044134, -0.22782472436569362, -0.501111975287052, 0.46337026689879734, 1.0619123546213953, 1.6562427899245722, 0.062163840611550794, 0.19039780019298785, 0.026824609638366238, 0.8368352166533789, 0.29023261477188106, -0.4892908992826225, 0.4014711067047261, 0.7167889751395604, 1.2783993039707082, -0.45256841203177944, -1.104240974398623, 0.48498329755483055, 0.4547917796841871], \"yaxis\": \"y3\"}, {\"line\": {\"color\": \"rgba(128, 128, 128, 1.0)\", \"dash\": \"solid\", \"shape\": \"linear\", \"width\": 1.3}, \"marker\": {\"size\": 2, \"symbol\": \"circle\"}, \"mode\": \"markers\", \"name\": \"A\", \"text\": \"\", \"type\": \"scatter\", \"x\": [-0.29209677698554737, 0.9573957896267596, -0.0007975772046197507, -0.8158976884143562, -1.9936338636737942, -1.066112859705764, -0.1624501274103537, -0.03172677523944978, 0.4230420996426988, -1.5072924379640384, -1.0285792418506818, -0.4648859742555061, 0.5488567472998651, -1.5509988671031387, -0.18731149886148526, -0.7307216961994965, 0.28659201122255096, 2.172650873228859, 0.6037152824336763, -0.727575725495342, 0.1921261607745329, 2.0257007599249666, 0.29878916777565295, -0.11662895626105096, 0.4176466932527999, 0.11869807879751894, -0.6185996268081179, 0.5654893958419337, 0.305655388592086, 0.13135273742832368, 0.12184068056708995, -0.5071662392557261, -0.568931741848525, 0.4901084143203101, -0.2460586894546757, -0.848531489622213, 1.3630384966893647, -0.3474418391715347, -1.1246178854325561, 0.2727742766284284, 0.9858324741667885, -1.260376384177372, 2.1995501477694517, -1.1862990063877248, -1.27720070099572, -0.1394136561501857, -1.5767204417253653, -0.04261634006372652, -0.0851414882747124, -0.9119035439512653, -0.32281930867905156, 0.194979954818921, -0.11685677866976853, -1.8053738746846808, -0.014808754132441395, -0.6392074518606004, -0.8503232038190978, -1.0937525430983601, 1.187030991396334, 1.4645556128099475, 0.4113009102746684, 0.1798500649884786, -0.6724445119030096, 0.13446213951423927, 1.3679920722622896, 1.1313820175998472, 0.46880252769541614, -0.39789401001271074, 0.38433474242590737, -0.46326651134413627, 0.33327001249620947, -0.09753287150325765, 2.344702589914879, -0.9140280632719038, -1.4177177422630272, 0.03634479751321479, -1.692481484675992, 0.9512640830307857, 0.19137848466118784, -1.1004124257636585, 0.7043635574043291, -0.09092904401842151, 1.5059008971891839, 0.5973458990802751, 0.34603516962923475, -1.812425632066957, -0.5333194244555364, -0.8625662806115877, -0.1353587151319946, -0.42633306707360935, 0.3816695380113307, 0.89874110435248, 0.3626000974090412, -0.34626845050310656, 1.8354956959106006, -0.1633850685970794, 0.18564892606709904, 0.3812582914116791, -0.9656308255591639, -0.011778101035519862], \"xaxis\": \"x4\", \"y\": [1.472529121625012, 1.130248943233051, -0.03482930485305292, -0.5732950541498779, 0.6679167375471895, -0.8579231829134375, 0.8094528586808082, 0.3085641347607752, 0.27377683773219197, 0.23206478359138408, 0.05238217602947687, 1.6583515353500433, 0.07790651684678294, -1.7301434691903925, -0.5641455958381295, 0.4147172412633151, -0.09849314047167301, 0.9977271515240892, 0.8786339083285464, 0.6950074047715827, 0.45710903842482575, 0.4982199907784472, 0.12903988052103624, -1.4837525556196758, 2.1559376570965503, 0.27121817416520905, -0.7920459692083268, 0.34986943200659715, -1.4244439368614608, 0.32694876044997556, 0.46860953711542114, -0.8163787512650883, 1.2187153472151357, -0.20858295937455842, -1.6419227340761469, -1.7597511712926772, -0.889500156517225, 0.7680841645055828, 0.242169122327131, 1.836311067999764, -0.3640393725187276, 0.6913544823158839, 0.5381815943734077, -1.2920024951121236, 0.32683652775332095, -1.6543868904131966, -0.07603260838364179, -1.1191319473076922, -0.06515760125541344, 2.6112740684691444, 0.189885318735173, 0.758128711401495, 1.3565878468023498, -1.6605371867714478, -0.7657077563048298, -0.3795261071180454, -1.0575887339186927, -0.21917702928905666, -0.018563285766532843, -0.31467704146234077, -0.15156994149975483, 1.3072808419825945, 0.301826271055909, 0.9387223883113914, -0.9159890914090407, 0.9972746743704269, -0.14961035018933383, 0.6936412738254416, 0.02150439010857565, -0.09685198016522274, -0.17962054484657083, 2.8387103914674565, 1.7403528975355167, 0.16910030614484756, -1.8773354305002856, 0.825977346945175, 0.8377635089652343, 0.9617236811802147, -0.6473981950616219, -1.6658039916353078, -0.2692192979839951, -2.729756849044134, -0.22782472436569362, -0.501111975287052, 0.46337026689879734, 1.0619123546213953, 1.6562427899245722, 0.062163840611550794, 0.19039780019298785, 0.026824609638366238, 0.8368352166533789, 0.29023261477188106, -0.4892908992826225, 0.4014711067047261, 0.7167889751395604, 1.2783993039707082, -0.45256841203177944, -1.104240974398623, 0.48498329755483055, 0.4547917796841871], \"yaxis\": \"y4\"}, {\"line\": {\"color\": \"rgba(128, 128, 128, 1.0)\", \"dash\": \"solid\", \"shape\": \"linear\", \"width\": 1.3}, \"marker\": {\"size\": 2, \"symbol\": \"circle\"}, \"mode\": \"markers\", \"name\": \"B\", \"text\": \"\", \"type\": \"scatter\", \"x\": [1.472529121625012, 1.130248943233051, -0.03482930485305292, -0.5732950541498779, 0.6679167375471895, -0.8579231829134375, 0.8094528586808082, 0.3085641347607752, 0.27377683773219197, 0.23206478359138408, 0.05238217602947687, 1.6583515353500433, 0.07790651684678294, -1.7301434691903925, -0.5641455958381295, 0.4147172412633151, -0.09849314047167301, 0.9977271515240892, 0.8786339083285464, 0.6950074047715827, 0.45710903842482575, 0.4982199907784472, 0.12903988052103624, -1.4837525556196758, 2.1559376570965503, 0.27121817416520905, -0.7920459692083268, 0.34986943200659715, -1.4244439368614608, 0.32694876044997556, 0.46860953711542114, -0.8163787512650883, 1.2187153472151357, -0.20858295937455842, -1.6419227340761469, -1.7597511712926772, -0.889500156517225, 0.7680841645055828, 0.242169122327131, 1.836311067999764, -0.3640393725187276, 0.6913544823158839, 0.5381815943734077, -1.2920024951121236, 0.32683652775332095, -1.6543868904131966, -0.07603260838364179, -1.1191319473076922, -0.06515760125541344, 2.6112740684691444, 0.189885318735173, 0.758128711401495, 1.3565878468023498, -1.6605371867714478, -0.7657077563048298, -0.3795261071180454, -1.0575887339186927, -0.21917702928905666, -0.018563285766532843, -0.31467704146234077, -0.15156994149975483, 1.3072808419825945, 0.301826271055909, 0.9387223883113914, -0.9159890914090407, 0.9972746743704269, -0.14961035018933383, 0.6936412738254416, 0.02150439010857565, -0.09685198016522274, -0.17962054484657083, 2.8387103914674565, 1.7403528975355167, 0.16910030614484756, -1.8773354305002856, 0.825977346945175, 0.8377635089652343, 0.9617236811802147, -0.6473981950616219, -1.6658039916353078, -0.2692192979839951, -2.729756849044134, -0.22782472436569362, -0.501111975287052, 0.46337026689879734, 1.0619123546213953, 1.6562427899245722, 0.062163840611550794, 0.19039780019298785, 0.026824609638366238, 0.8368352166533789, 0.29023261477188106, -0.4892908992826225, 0.4014711067047261, 0.7167889751395604, 1.2783993039707082, -0.45256841203177944, -1.104240974398623, 0.48498329755483055, 0.4547917796841871], \"xaxis\": \"x5\", \"y\": [-1.4490718845084207, 0.5402426554463875, -1.3347985434813625, -0.12225119502318878, -1.30101789971426, 0.38569811159209016, 2.397904687740729, -2.3982480926388368, -0.10494367248597691, -0.2224254060893642, 0.5410029274040677, 1.2220114737266936, 0.6413367934003551, 0.4661400594131579, 1.6301263489299898, -0.045857295111949706, 0.22578578119008808, 0.26281871636509874, 0.3524366173554224, -0.25045607157728855, -0.02644007066357181, 0.8618805448064077, -1.0669884903827511, 2.202131722577417, -0.7113457060825948, -0.42921931155234017, 0.03085513090831307, 2.286357429921338, -0.2505199679788893, -2.49540664349453, -1.1157577643488887, 0.7330552833464814, -0.4614404215891602, -1.3673002928914093, -1.7600123190780688, -2.0887547843771395, -2.1859340876441404, -0.49279846658300813, -1.889275646139344, -0.5690532456828411, 0.4239373965316233, 0.6397781534640425, -0.29671425027591325, 0.6571556609166963, 1.383298672469432, 1.109761245033315, 1.4332373810414698, 0.6738019112262904, -1.1813200383895766, -1.6614202983027815, 1.2398798868361367, 0.6123687064574279, 0.0915797315637989, 0.006009505705794459, -1.0960578906870182, -1.1053797480590637, 1.0352922076995237, 0.2776270046807994, -0.09822942803128862, 1.3423627824672761, -0.4269262478860568, -0.8566216988554339, 0.4155483209694457, 0.21352323335426418, 0.9205293326670225, -2.4290809169775893, -1.097530893017326, 0.0014555989292659602, -0.4721893111402556, -2.3651682013646727, 0.9177196755689004, -2.6495518809284646, 0.018826728369795518, 0.05322287052010041, -1.1676072328548432, 0.3940104502096727, 0.3003994475771432, 1.6651594296939112, -0.671156151734517, 3.2476405756672038, -0.026105037598596365, -1.177609198277101, 0.12516726924093127, -0.517430855564586, 0.6604745556074771, -0.0018629645865976042, -1.7849289778669288, 0.18498950224768243, 1.442080076368799, 0.9472992507672473, 2.195427851378761, 0.3966786785752604, -0.5002725972891627, -1.9460828869923503, -0.3608192626215061, 1.0131320014705925, -0.7057725331167626, 0.9665220645320599, -0.042248237084285586, -0.9798386628297314], \"yaxis\": \"y5\"}, {\"histfunc\": \"count\", \"histnorm\": \"\", \"marker\": {\"color\": \"rgba(55, 128, 191, 1.0)\", \"line\": {\"color\": \"#4D5663\", \"width\": 1.3}}, \"name\": \"B\", \"nbinsx\": 10, \"opacity\": 0.8, \"orientation\": \"v\", \"type\": \"histogram\", \"x\": [-1.4490718845084207, 0.5402426554463875, -1.3347985434813625, -0.12225119502318878, -1.30101789971426, 0.38569811159209016, 2.397904687740729, -2.3982480926388368, -0.10494367248597691, -0.2224254060893642, 0.5410029274040677, 1.2220114737266936, 0.6413367934003551, 0.4661400594131579, 1.6301263489299898, -0.045857295111949706, 0.22578578119008808, 0.26281871636509874, 0.3524366173554224, -0.25045607157728855, -0.02644007066357181, 0.8618805448064077, -1.0669884903827511, 2.202131722577417, -0.7113457060825948, -0.42921931155234017, 0.03085513090831307, 2.286357429921338, -0.2505199679788893, -2.49540664349453, -1.1157577643488887, 0.7330552833464814, -0.4614404215891602, -1.3673002928914093, -1.7600123190780688, -2.0887547843771395, -2.1859340876441404, -0.49279846658300813, -1.889275646139344, -0.5690532456828411, 0.4239373965316233, 0.6397781534640425, -0.29671425027591325, 0.6571556609166963, 1.383298672469432, 1.109761245033315, 1.4332373810414698, 0.6738019112262904, -1.1813200383895766, -1.6614202983027815, 1.2398798868361367, 0.6123687064574279, 0.0915797315637989, 0.006009505705794459, -1.0960578906870182, -1.1053797480590637, 1.0352922076995237, 0.2776270046807994, -0.09822942803128862, 1.3423627824672761, -0.4269262478860568, -0.8566216988554339, 0.4155483209694457, 0.21352323335426418, 0.9205293326670225, -2.4290809169775893, -1.097530893017326, 0.0014555989292659602, -0.4721893111402556, -2.3651682013646727, 0.9177196755689004, -2.6495518809284646, 0.018826728369795518, 0.05322287052010041, -1.1676072328548432, 0.3940104502096727, 0.3003994475771432, 1.6651594296939112, -0.671156151734517, 3.2476405756672038, -0.026105037598596365, -1.177609198277101, 0.12516726924093127, -0.517430855564586, 0.6604745556074771, -0.0018629645865976042, -1.7849289778669288, 0.18498950224768243, 1.442080076368799, 0.9472992507672473, 2.195427851378761, 0.3966786785752604, -0.5002725972891627, -1.9460828869923503, -0.3608192626215061, 1.0131320014705925, -0.7057725331167626, 0.9665220645320599, -0.042248237084285586, -0.9798386628297314], \"xaxis\": \"x6\", \"yaxis\": \"y6\"}, {\"line\": {\"color\": \"rgba(128, 128, 128, 1.0)\", \"dash\": \"solid\", \"shape\": \"linear\", \"width\": 1.3}, \"marker\": {\"size\": 2, \"symbol\": \"circle\"}, \"mode\": \"markers\", \"name\": \"B\", \"text\": \"\", \"type\": \"scatter\", \"x\": [0.2941477958735066, -1.2772567937568937, 0.7441189607505856, -0.07469019133525433, 0.15688826260723918, -0.3147237571105742, 0.09746151352817672, -1.4894485007346023, -0.8118109462101483, -0.08316960538668344, -3.167014284398424, 0.5384558809342364, 1.0557522069504213, 0.37150366384546263, 0.7590918824347042, 0.49357135745610187, -0.37733645380166997, 0.6364367047170686, 0.65240454392822, -0.5460605302037064, -0.2598143788964035, -1.0129067831437126, 0.24442937330633968, -1.0076829208783498, -0.5501970096805181, 0.061399346063866204, 1.179641651882113, 1.8840213768542848, -2.7297693179368894, 0.08444274726336994, -0.07866577711107688, 1.0228544923597822, -0.2717333568906527, -0.7678139093837235, 0.8002168364713665, -0.6163668196735747, -0.7840916361031486, -0.5434871478375157, 0.34616144852931713, -0.47902312536359887, -0.992535599042179, 0.2590527094808219, 1.2666923316053984, 0.7476549908657724, -1.0512553869294554, -0.14237158758117616, -1.2929307281780056, 1.5189203997919931, -0.6494858691130097, -0.5679015903851855, 0.551965962231021, -1.6539555233879015, -0.22271778130394515, 1.0386498514148697, 0.3608835982240124, 2.213346720878855, -0.9735769015751691, 0.840128631763991, 1.7556896787581586, -1.4412116307568839, 0.2196949231023285, 1.4992049801411589, -0.6611392490895978, -0.6304908747192904, 1.1533356994672497, -0.420636670400046, 1.443644516191686, 1.451438062161945, 0.483124750711282, -0.5236258108150692, 0.4404690671036626, 0.9996524509583272, -0.6130636059848118, 0.6690199413988712, 1.3263847443422256, -0.7556056623240177, 0.637862832272282, 0.38904377493049913, -1.3370612405882778, 1.1933950268610702, 0.06462007050856437, 0.5764395379058818, -0.8458357075549467, -0.5445116781543524, 0.3050900194252306, -0.2956218398366735, -1.7568210556812383, -2.624628846051485, 0.7344870558616293, 1.0497000890759491, 1.5692069955925685, -0.8839762063095732, -0.2858107813208934, 0.9699611896103433, -1.18056791878244, 0.6737419030585361, -0.6984885465871962, 1.0726235170641276, 0.5217735041662983, 1.5039611018876746], \"xaxis\": \"x7\", \"y\": [-1.4490718845084207, 0.5402426554463875, -1.3347985434813625, -0.12225119502318878, -1.30101789971426, 0.38569811159209016, 2.397904687740729, -2.3982480926388368, -0.10494367248597691, -0.2224254060893642, 0.5410029274040677, 1.2220114737266936, 0.6413367934003551, 0.4661400594131579, 1.6301263489299898, -0.045857295111949706, 0.22578578119008808, 0.26281871636509874, 0.3524366173554224, -0.25045607157728855, -0.02644007066357181, 0.8618805448064077, -1.0669884903827511, 2.202131722577417, -0.7113457060825948, -0.42921931155234017, 0.03085513090831307, 2.286357429921338, -0.2505199679788893, -2.49540664349453, -1.1157577643488887, 0.7330552833464814, -0.4614404215891602, -1.3673002928914093, -1.7600123190780688, -2.0887547843771395, -2.1859340876441404, -0.49279846658300813, -1.889275646139344, -0.5690532456828411, 0.4239373965316233, 0.6397781534640425, -0.29671425027591325, 0.6571556609166963, 1.383298672469432, 1.109761245033315, 1.4332373810414698, 0.6738019112262904, -1.1813200383895766, -1.6614202983027815, 1.2398798868361367, 0.6123687064574279, 0.0915797315637989, 0.006009505705794459, -1.0960578906870182, -1.1053797480590637, 1.0352922076995237, 0.2776270046807994, -0.09822942803128862, 1.3423627824672761, -0.4269262478860568, -0.8566216988554339, 0.4155483209694457, 0.21352323335426418, 0.9205293326670225, -2.4290809169775893, -1.097530893017326, 0.0014555989292659602, -0.4721893111402556, -2.3651682013646727, 0.9177196755689004, -2.6495518809284646, 0.018826728369795518, 0.05322287052010041, -1.1676072328548432, 0.3940104502096727, 0.3003994475771432, 1.6651594296939112, -0.671156151734517, 3.2476405756672038, -0.026105037598596365, -1.177609198277101, 0.12516726924093127, -0.517430855564586, 0.6604745556074771, -0.0018629645865976042, -1.7849289778669288, 0.18498950224768243, 1.442080076368799, 0.9472992507672473, 2.195427851378761, 0.3966786785752604, -0.5002725972891627, -1.9460828869923503, -0.3608192626215061, 1.0131320014705925, -0.7057725331167626, 0.9665220645320599, -0.042248237084285586, -0.9798386628297314], \"yaxis\": \"y7\"}, {\"line\": {\"color\": \"rgba(128, 128, 128, 1.0)\", \"dash\": \"solid\", \"shape\": \"linear\", \"width\": 1.3}, \"marker\": {\"size\": 2, \"symbol\": \"circle\"}, \"mode\": \"markers\", \"name\": \"B\", \"text\": \"\", \"type\": \"scatter\", \"x\": [-0.29209677698554737, 0.9573957896267596, -0.0007975772046197507, -0.8158976884143562, -1.9936338636737942, -1.066112859705764, -0.1624501274103537, -0.03172677523944978, 0.4230420996426988, -1.5072924379640384, -1.0285792418506818, -0.4648859742555061, 0.5488567472998651, -1.5509988671031387, -0.18731149886148526, -0.7307216961994965, 0.28659201122255096, 2.172650873228859, 0.6037152824336763, -0.727575725495342, 0.1921261607745329, 2.0257007599249666, 0.29878916777565295, -0.11662895626105096, 0.4176466932527999, 0.11869807879751894, -0.6185996268081179, 0.5654893958419337, 0.305655388592086, 0.13135273742832368, 0.12184068056708995, -0.5071662392557261, -0.568931741848525, 0.4901084143203101, -0.2460586894546757, -0.848531489622213, 1.3630384966893647, -0.3474418391715347, -1.1246178854325561, 0.2727742766284284, 0.9858324741667885, -1.260376384177372, 2.1995501477694517, -1.1862990063877248, -1.27720070099572, -0.1394136561501857, -1.5767204417253653, -0.04261634006372652, -0.0851414882747124, -0.9119035439512653, -0.32281930867905156, 0.194979954818921, -0.11685677866976853, -1.8053738746846808, -0.014808754132441395, -0.6392074518606004, -0.8503232038190978, -1.0937525430983601, 1.187030991396334, 1.4645556128099475, 0.4113009102746684, 0.1798500649884786, -0.6724445119030096, 0.13446213951423927, 1.3679920722622896, 1.1313820175998472, 0.46880252769541614, -0.39789401001271074, 0.38433474242590737, -0.46326651134413627, 0.33327001249620947, -0.09753287150325765, 2.344702589914879, -0.9140280632719038, -1.4177177422630272, 0.03634479751321479, -1.692481484675992, 0.9512640830307857, 0.19137848466118784, -1.1004124257636585, 0.7043635574043291, -0.09092904401842151, 1.5059008971891839, 0.5973458990802751, 0.34603516962923475, -1.812425632066957, -0.5333194244555364, -0.8625662806115877, -0.1353587151319946, -0.42633306707360935, 0.3816695380113307, 0.89874110435248, 0.3626000974090412, -0.34626845050310656, 1.8354956959106006, -0.1633850685970794, 0.18564892606709904, 0.3812582914116791, -0.9656308255591639, -0.011778101035519862], \"xaxis\": \"x8\", \"y\": [-1.4490718845084207, 0.5402426554463875, -1.3347985434813625, -0.12225119502318878, -1.30101789971426, 0.38569811159209016, 2.397904687740729, -2.3982480926388368, -0.10494367248597691, -0.2224254060893642, 0.5410029274040677, 1.2220114737266936, 0.6413367934003551, 0.4661400594131579, 1.6301263489299898, -0.045857295111949706, 0.22578578119008808, 0.26281871636509874, 0.3524366173554224, -0.25045607157728855, -0.02644007066357181, 0.8618805448064077, -1.0669884903827511, 2.202131722577417, -0.7113457060825948, -0.42921931155234017, 0.03085513090831307, 2.286357429921338, -0.2505199679788893, -2.49540664349453, -1.1157577643488887, 0.7330552833464814, -0.4614404215891602, -1.3673002928914093, -1.7600123190780688, -2.0887547843771395, -2.1859340876441404, -0.49279846658300813, -1.889275646139344, -0.5690532456828411, 0.4239373965316233, 0.6397781534640425, -0.29671425027591325, 0.6571556609166963, 1.383298672469432, 1.109761245033315, 1.4332373810414698, 0.6738019112262904, -1.1813200383895766, -1.6614202983027815, 1.2398798868361367, 0.6123687064574279, 0.0915797315637989, 0.006009505705794459, -1.0960578906870182, -1.1053797480590637, 1.0352922076995237, 0.2776270046807994, -0.09822942803128862, 1.3423627824672761, -0.4269262478860568, -0.8566216988554339, 0.4155483209694457, 0.21352323335426418, 0.9205293326670225, -2.4290809169775893, -1.097530893017326, 0.0014555989292659602, -0.4721893111402556, -2.3651682013646727, 0.9177196755689004, -2.6495518809284646, 0.018826728369795518, 0.05322287052010041, -1.1676072328548432, 0.3940104502096727, 0.3003994475771432, 1.6651594296939112, -0.671156151734517, 3.2476405756672038, -0.026105037598596365, -1.177609198277101, 0.12516726924093127, -0.517430855564586, 0.6604745556074771, -0.0018629645865976042, -1.7849289778669288, 0.18498950224768243, 1.442080076368799, 0.9472992507672473, 2.195427851378761, 0.3966786785752604, -0.5002725972891627, -1.9460828869923503, -0.3608192626215061, 1.0131320014705925, -0.7057725331167626, 0.9665220645320599, -0.042248237084285586, -0.9798386628297314], \"yaxis\": \"y8\"}, {\"line\": {\"color\": \"rgba(128, 128, 128, 1.0)\", \"dash\": \"solid\", \"shape\": \"linear\", \"width\": 1.3}, \"marker\": {\"size\": 2, \"symbol\": \"circle\"}, \"mode\": \"markers\", \"name\": \"C\", \"text\": \"\", \"type\": \"scatter\", \"x\": [1.472529121625012, 1.130248943233051, -0.03482930485305292, -0.5732950541498779, 0.6679167375471895, -0.8579231829134375, 0.8094528586808082, 0.3085641347607752, 0.27377683773219197, 0.23206478359138408, 0.05238217602947687, 1.6583515353500433, 0.07790651684678294, -1.7301434691903925, -0.5641455958381295, 0.4147172412633151, -0.09849314047167301, 0.9977271515240892, 0.8786339083285464, 0.6950074047715827, 0.45710903842482575, 0.4982199907784472, 0.12903988052103624, -1.4837525556196758, 2.1559376570965503, 0.27121817416520905, -0.7920459692083268, 0.34986943200659715, -1.4244439368614608, 0.32694876044997556, 0.46860953711542114, -0.8163787512650883, 1.2187153472151357, -0.20858295937455842, -1.6419227340761469, -1.7597511712926772, -0.889500156517225, 0.7680841645055828, 0.242169122327131, 1.836311067999764, -0.3640393725187276, 0.6913544823158839, 0.5381815943734077, -1.2920024951121236, 0.32683652775332095, -1.6543868904131966, -0.07603260838364179, -1.1191319473076922, -0.06515760125541344, 2.6112740684691444, 0.189885318735173, 0.758128711401495, 1.3565878468023498, -1.6605371867714478, -0.7657077563048298, -0.3795261071180454, -1.0575887339186927, -0.21917702928905666, -0.018563285766532843, -0.31467704146234077, -0.15156994149975483, 1.3072808419825945, 0.301826271055909, 0.9387223883113914, -0.9159890914090407, 0.9972746743704269, -0.14961035018933383, 0.6936412738254416, 0.02150439010857565, -0.09685198016522274, -0.17962054484657083, 2.8387103914674565, 1.7403528975355167, 0.16910030614484756, -1.8773354305002856, 0.825977346945175, 0.8377635089652343, 0.9617236811802147, -0.6473981950616219, -1.6658039916353078, -0.2692192979839951, -2.729756849044134, -0.22782472436569362, -0.501111975287052, 0.46337026689879734, 1.0619123546213953, 1.6562427899245722, 0.062163840611550794, 0.19039780019298785, 0.026824609638366238, 0.8368352166533789, 0.29023261477188106, -0.4892908992826225, 0.4014711067047261, 0.7167889751395604, 1.2783993039707082, -0.45256841203177944, -1.104240974398623, 0.48498329755483055, 0.4547917796841871], \"xaxis\": \"x9\", \"y\": [0.2941477958735066, -1.2772567937568937, 0.7441189607505856, -0.07469019133525433, 0.15688826260723918, -0.3147237571105742, 0.09746151352817672, -1.4894485007346023, -0.8118109462101483, -0.08316960538668344, -3.167014284398424, 0.5384558809342364, 1.0557522069504213, 0.37150366384546263, 0.7590918824347042, 0.49357135745610187, -0.37733645380166997, 0.6364367047170686, 0.65240454392822, -0.5460605302037064, -0.2598143788964035, -1.0129067831437126, 0.24442937330633968, -1.0076829208783498, -0.5501970096805181, 0.061399346063866204, 1.179641651882113, 1.8840213768542848, -2.7297693179368894, 0.08444274726336994, -0.07866577711107688, 1.0228544923597822, -0.2717333568906527, -0.7678139093837235, 0.8002168364713665, -0.6163668196735747, -0.7840916361031486, -0.5434871478375157, 0.34616144852931713, -0.47902312536359887, -0.992535599042179, 0.2590527094808219, 1.2666923316053984, 0.7476549908657724, -1.0512553869294554, -0.14237158758117616, -1.2929307281780056, 1.5189203997919931, -0.6494858691130097, -0.5679015903851855, 0.551965962231021, -1.6539555233879015, -0.22271778130394515, 1.0386498514148697, 0.3608835982240124, 2.213346720878855, -0.9735769015751691, 0.840128631763991, 1.7556896787581586, -1.4412116307568839, 0.2196949231023285, 1.4992049801411589, -0.6611392490895978, -0.6304908747192904, 1.1533356994672497, -0.420636670400046, 1.443644516191686, 1.451438062161945, 0.483124750711282, -0.5236258108150692, 0.4404690671036626, 0.9996524509583272, -0.6130636059848118, 0.6690199413988712, 1.3263847443422256, -0.7556056623240177, 0.637862832272282, 0.38904377493049913, -1.3370612405882778, 1.1933950268610702, 0.06462007050856437, 0.5764395379058818, -0.8458357075549467, -0.5445116781543524, 0.3050900194252306, -0.2956218398366735, -1.7568210556812383, -2.624628846051485, 0.7344870558616293, 1.0497000890759491, 1.5692069955925685, -0.8839762063095732, -0.2858107813208934, 0.9699611896103433, -1.18056791878244, 0.6737419030585361, -0.6984885465871962, 1.0726235170641276, 0.5217735041662983, 1.5039611018876746], \"yaxis\": \"y9\"}, {\"line\": {\"color\": \"rgba(128, 128, 128, 1.0)\", \"dash\": \"solid\", \"shape\": \"linear\", \"width\": 1.3}, \"marker\": {\"size\": 2, \"symbol\": \"circle\"}, \"mode\": \"markers\", \"name\": \"C\", \"text\": \"\", \"type\": \"scatter\", \"x\": [-1.4490718845084207, 0.5402426554463875, -1.3347985434813625, -0.12225119502318878, -1.30101789971426, 0.38569811159209016, 2.397904687740729, -2.3982480926388368, -0.10494367248597691, -0.2224254060893642, 0.5410029274040677, 1.2220114737266936, 0.6413367934003551, 0.4661400594131579, 1.6301263489299898, -0.045857295111949706, 0.22578578119008808, 0.26281871636509874, 0.3524366173554224, -0.25045607157728855, -0.02644007066357181, 0.8618805448064077, -1.0669884903827511, 2.202131722577417, -0.7113457060825948, -0.42921931155234017, 0.03085513090831307, 2.286357429921338, -0.2505199679788893, -2.49540664349453, -1.1157577643488887, 0.7330552833464814, -0.4614404215891602, -1.3673002928914093, -1.7600123190780688, -2.0887547843771395, -2.1859340876441404, -0.49279846658300813, -1.889275646139344, -0.5690532456828411, 0.4239373965316233, 0.6397781534640425, -0.29671425027591325, 0.6571556609166963, 1.383298672469432, 1.109761245033315, 1.4332373810414698, 0.6738019112262904, -1.1813200383895766, -1.6614202983027815, 1.2398798868361367, 0.6123687064574279, 0.0915797315637989, 0.006009505705794459, -1.0960578906870182, -1.1053797480590637, 1.0352922076995237, 0.2776270046807994, -0.09822942803128862, 1.3423627824672761, -0.4269262478860568, -0.8566216988554339, 0.4155483209694457, 0.21352323335426418, 0.9205293326670225, -2.4290809169775893, -1.097530893017326, 0.0014555989292659602, -0.4721893111402556, -2.3651682013646727, 0.9177196755689004, -2.6495518809284646, 0.018826728369795518, 0.05322287052010041, -1.1676072328548432, 0.3940104502096727, 0.3003994475771432, 1.6651594296939112, -0.671156151734517, 3.2476405756672038, -0.026105037598596365, -1.177609198277101, 0.12516726924093127, -0.517430855564586, 0.6604745556074771, -0.0018629645865976042, -1.7849289778669288, 0.18498950224768243, 1.442080076368799, 0.9472992507672473, 2.195427851378761, 0.3966786785752604, -0.5002725972891627, -1.9460828869923503, -0.3608192626215061, 1.0131320014705925, -0.7057725331167626, 0.9665220645320599, -0.042248237084285586, -0.9798386628297314], \"xaxis\": \"x10\", \"y\": [0.2941477958735066, -1.2772567937568937, 0.7441189607505856, -0.07469019133525433, 0.15688826260723918, -0.3147237571105742, 0.09746151352817672, -1.4894485007346023, -0.8118109462101483, -0.08316960538668344, -3.167014284398424, 0.5384558809342364, 1.0557522069504213, 0.37150366384546263, 0.7590918824347042, 0.49357135745610187, -0.37733645380166997, 0.6364367047170686, 0.65240454392822, -0.5460605302037064, -0.2598143788964035, -1.0129067831437126, 0.24442937330633968, -1.0076829208783498, -0.5501970096805181, 0.061399346063866204, 1.179641651882113, 1.8840213768542848, -2.7297693179368894, 0.08444274726336994, -0.07866577711107688, 1.0228544923597822, -0.2717333568906527, -0.7678139093837235, 0.8002168364713665, -0.6163668196735747, -0.7840916361031486, -0.5434871478375157, 0.34616144852931713, -0.47902312536359887, -0.992535599042179, 0.2590527094808219, 1.2666923316053984, 0.7476549908657724, -1.0512553869294554, -0.14237158758117616, -1.2929307281780056, 1.5189203997919931, -0.6494858691130097, -0.5679015903851855, 0.551965962231021, -1.6539555233879015, -0.22271778130394515, 1.0386498514148697, 0.3608835982240124, 2.213346720878855, -0.9735769015751691, 0.840128631763991, 1.7556896787581586, -1.4412116307568839, 0.2196949231023285, 1.4992049801411589, -0.6611392490895978, -0.6304908747192904, 1.1533356994672497, -0.420636670400046, 1.443644516191686, 1.451438062161945, 0.483124750711282, -0.5236258108150692, 0.4404690671036626, 0.9996524509583272, -0.6130636059848118, 0.6690199413988712, 1.3263847443422256, -0.7556056623240177, 0.637862832272282, 0.38904377493049913, -1.3370612405882778, 1.1933950268610702, 0.06462007050856437, 0.5764395379058818, -0.8458357075549467, -0.5445116781543524, 0.3050900194252306, -0.2956218398366735, -1.7568210556812383, -2.624628846051485, 0.7344870558616293, 1.0497000890759491, 1.5692069955925685, -0.8839762063095732, -0.2858107813208934, 0.9699611896103433, -1.18056791878244, 0.6737419030585361, -0.6984885465871962, 1.0726235170641276, 0.5217735041662983, 1.5039611018876746], \"yaxis\": \"y10\"}, {\"histfunc\": \"count\", \"histnorm\": \"\", \"marker\": {\"color\": \"rgba(50, 171, 96, 1.0)\", \"line\": {\"color\": \"#4D5663\", \"width\": 1.3}}, \"name\": \"C\", \"nbinsx\": 10, \"opacity\": 0.8, \"orientation\": \"v\", \"type\": \"histogram\", \"x\": [0.2941477958735066, -1.2772567937568937, 0.7441189607505856, -0.07469019133525433, 0.15688826260723918, -0.3147237571105742, 0.09746151352817672, -1.4894485007346023, -0.8118109462101483, -0.08316960538668344, -3.167014284398424, 0.5384558809342364, 1.0557522069504213, 0.37150366384546263, 0.7590918824347042, 0.49357135745610187, -0.37733645380166997, 0.6364367047170686, 0.65240454392822, -0.5460605302037064, -0.2598143788964035, -1.0129067831437126, 0.24442937330633968, -1.0076829208783498, -0.5501970096805181, 0.061399346063866204, 1.179641651882113, 1.8840213768542848, -2.7297693179368894, 0.08444274726336994, -0.07866577711107688, 1.0228544923597822, -0.2717333568906527, -0.7678139093837235, 0.8002168364713665, -0.6163668196735747, -0.7840916361031486, -0.5434871478375157, 0.34616144852931713, -0.47902312536359887, -0.992535599042179, 0.2590527094808219, 1.2666923316053984, 0.7476549908657724, -1.0512553869294554, -0.14237158758117616, -1.2929307281780056, 1.5189203997919931, -0.6494858691130097, -0.5679015903851855, 0.551965962231021, -1.6539555233879015, -0.22271778130394515, 1.0386498514148697, 0.3608835982240124, 2.213346720878855, -0.9735769015751691, 0.840128631763991, 1.7556896787581586, -1.4412116307568839, 0.2196949231023285, 1.4992049801411589, -0.6611392490895978, -0.6304908747192904, 1.1533356994672497, -0.420636670400046, 1.443644516191686, 1.451438062161945, 0.483124750711282, -0.5236258108150692, 0.4404690671036626, 0.9996524509583272, -0.6130636059848118, 0.6690199413988712, 1.3263847443422256, -0.7556056623240177, 0.637862832272282, 0.38904377493049913, -1.3370612405882778, 1.1933950268610702, 0.06462007050856437, 0.5764395379058818, -0.8458357075549467, -0.5445116781543524, 0.3050900194252306, -0.2956218398366735, -1.7568210556812383, -2.624628846051485, 0.7344870558616293, 1.0497000890759491, 1.5692069955925685, -0.8839762063095732, -0.2858107813208934, 0.9699611896103433, -1.18056791878244, 0.6737419030585361, -0.6984885465871962, 1.0726235170641276, 0.5217735041662983, 1.5039611018876746], \"xaxis\": \"x11\", \"yaxis\": \"y11\"}, {\"line\": {\"color\": \"rgba(128, 128, 128, 1.0)\", \"dash\": \"solid\", \"shape\": \"linear\", \"width\": 1.3}, \"marker\": {\"size\": 2, \"symbol\": \"circle\"}, \"mode\": \"markers\", \"name\": \"C\", \"text\": \"\", \"type\": \"scatter\", \"x\": [-0.29209677698554737, 0.9573957896267596, -0.0007975772046197507, -0.8158976884143562, -1.9936338636737942, -1.066112859705764, -0.1624501274103537, -0.03172677523944978, 0.4230420996426988, -1.5072924379640384, -1.0285792418506818, -0.4648859742555061, 0.5488567472998651, -1.5509988671031387, -0.18731149886148526, -0.7307216961994965, 0.28659201122255096, 2.172650873228859, 0.6037152824336763, -0.727575725495342, 0.1921261607745329, 2.0257007599249666, 0.29878916777565295, -0.11662895626105096, 0.4176466932527999, 0.11869807879751894, -0.6185996268081179, 0.5654893958419337, 0.305655388592086, 0.13135273742832368, 0.12184068056708995, -0.5071662392557261, -0.568931741848525, 0.4901084143203101, -0.2460586894546757, -0.848531489622213, 1.3630384966893647, -0.3474418391715347, -1.1246178854325561, 0.2727742766284284, 0.9858324741667885, -1.260376384177372, 2.1995501477694517, -1.1862990063877248, -1.27720070099572, -0.1394136561501857, -1.5767204417253653, -0.04261634006372652, -0.0851414882747124, -0.9119035439512653, -0.32281930867905156, 0.194979954818921, -0.11685677866976853, -1.8053738746846808, -0.014808754132441395, -0.6392074518606004, -0.8503232038190978, -1.0937525430983601, 1.187030991396334, 1.4645556128099475, 0.4113009102746684, 0.1798500649884786, -0.6724445119030096, 0.13446213951423927, 1.3679920722622896, 1.1313820175998472, 0.46880252769541614, -0.39789401001271074, 0.38433474242590737, -0.46326651134413627, 0.33327001249620947, -0.09753287150325765, 2.344702589914879, -0.9140280632719038, -1.4177177422630272, 0.03634479751321479, -1.692481484675992, 0.9512640830307857, 0.19137848466118784, -1.1004124257636585, 0.7043635574043291, -0.09092904401842151, 1.5059008971891839, 0.5973458990802751, 0.34603516962923475, -1.812425632066957, -0.5333194244555364, -0.8625662806115877, -0.1353587151319946, -0.42633306707360935, 0.3816695380113307, 0.89874110435248, 0.3626000974090412, -0.34626845050310656, 1.8354956959106006, -0.1633850685970794, 0.18564892606709904, 0.3812582914116791, -0.9656308255591639, -0.011778101035519862], \"xaxis\": \"x12\", \"y\": [0.2941477958735066, -1.2772567937568937, 0.7441189607505856, -0.07469019133525433, 0.15688826260723918, -0.3147237571105742, 0.09746151352817672, -1.4894485007346023, -0.8118109462101483, -0.08316960538668344, -3.167014284398424, 0.5384558809342364, 1.0557522069504213, 0.37150366384546263, 0.7590918824347042, 0.49357135745610187, -0.37733645380166997, 0.6364367047170686, 0.65240454392822, -0.5460605302037064, -0.2598143788964035, -1.0129067831437126, 0.24442937330633968, -1.0076829208783498, -0.5501970096805181, 0.061399346063866204, 1.179641651882113, 1.8840213768542848, -2.7297693179368894, 0.08444274726336994, -0.07866577711107688, 1.0228544923597822, -0.2717333568906527, -0.7678139093837235, 0.8002168364713665, -0.6163668196735747, -0.7840916361031486, -0.5434871478375157, 0.34616144852931713, -0.47902312536359887, -0.992535599042179, 0.2590527094808219, 1.2666923316053984, 0.7476549908657724, -1.0512553869294554, -0.14237158758117616, -1.2929307281780056, 1.5189203997919931, -0.6494858691130097, -0.5679015903851855, 0.551965962231021, -1.6539555233879015, -0.22271778130394515, 1.0386498514148697, 0.3608835982240124, 2.213346720878855, -0.9735769015751691, 0.840128631763991, 1.7556896787581586, -1.4412116307568839, 0.2196949231023285, 1.4992049801411589, -0.6611392490895978, -0.6304908747192904, 1.1533356994672497, -0.420636670400046, 1.443644516191686, 1.451438062161945, 0.483124750711282, -0.5236258108150692, 0.4404690671036626, 0.9996524509583272, -0.6130636059848118, 0.6690199413988712, 1.3263847443422256, -0.7556056623240177, 0.637862832272282, 0.38904377493049913, -1.3370612405882778, 1.1933950268610702, 0.06462007050856437, 0.5764395379058818, -0.8458357075549467, -0.5445116781543524, 0.3050900194252306, -0.2956218398366735, -1.7568210556812383, -2.624628846051485, 0.7344870558616293, 1.0497000890759491, 1.5692069955925685, -0.8839762063095732, -0.2858107813208934, 0.9699611896103433, -1.18056791878244, 0.6737419030585361, -0.6984885465871962, 1.0726235170641276, 0.5217735041662983, 1.5039611018876746], \"yaxis\": \"y12\"}, {\"line\": {\"color\": \"rgba(128, 128, 128, 1.0)\", \"dash\": \"solid\", \"shape\": \"linear\", \"width\": 1.3}, \"marker\": {\"size\": 2, \"symbol\": \"circle\"}, \"mode\": \"markers\", \"name\": \"D\", \"text\": \"\", \"type\": \"scatter\", \"x\": [1.472529121625012, 1.130248943233051, -0.03482930485305292, -0.5732950541498779, 0.6679167375471895, -0.8579231829134375, 0.8094528586808082, 0.3085641347607752, 0.27377683773219197, 0.23206478359138408, 0.05238217602947687, 1.6583515353500433, 0.07790651684678294, -1.7301434691903925, -0.5641455958381295, 0.4147172412633151, -0.09849314047167301, 0.9977271515240892, 0.8786339083285464, 0.6950074047715827, 0.45710903842482575, 0.4982199907784472, 0.12903988052103624, -1.4837525556196758, 2.1559376570965503, 0.27121817416520905, -0.7920459692083268, 0.34986943200659715, -1.4244439368614608, 0.32694876044997556, 0.46860953711542114, -0.8163787512650883, 1.2187153472151357, -0.20858295937455842, -1.6419227340761469, -1.7597511712926772, -0.889500156517225, 0.7680841645055828, 0.242169122327131, 1.836311067999764, -0.3640393725187276, 0.6913544823158839, 0.5381815943734077, -1.2920024951121236, 0.32683652775332095, -1.6543868904131966, -0.07603260838364179, -1.1191319473076922, -0.06515760125541344, 2.6112740684691444, 0.189885318735173, 0.758128711401495, 1.3565878468023498, -1.6605371867714478, -0.7657077563048298, -0.3795261071180454, -1.0575887339186927, -0.21917702928905666, -0.018563285766532843, -0.31467704146234077, -0.15156994149975483, 1.3072808419825945, 0.301826271055909, 0.9387223883113914, -0.9159890914090407, 0.9972746743704269, -0.14961035018933383, 0.6936412738254416, 0.02150439010857565, -0.09685198016522274, -0.17962054484657083, 2.8387103914674565, 1.7403528975355167, 0.16910030614484756, -1.8773354305002856, 0.825977346945175, 0.8377635089652343, 0.9617236811802147, -0.6473981950616219, -1.6658039916353078, -0.2692192979839951, -2.729756849044134, -0.22782472436569362, -0.501111975287052, 0.46337026689879734, 1.0619123546213953, 1.6562427899245722, 0.062163840611550794, 0.19039780019298785, 0.026824609638366238, 0.8368352166533789, 0.29023261477188106, -0.4892908992826225, 0.4014711067047261, 0.7167889751395604, 1.2783993039707082, -0.45256841203177944, -1.104240974398623, 0.48498329755483055, 0.4547917796841871], \"xaxis\": \"x13\", \"y\": [-0.29209677698554737, 0.9573957896267596, -0.0007975772046197507, -0.8158976884143562, -1.9936338636737942, -1.066112859705764, -0.1624501274103537, -0.03172677523944978, 0.4230420996426988, -1.5072924379640384, -1.0285792418506818, -0.4648859742555061, 0.5488567472998651, -1.5509988671031387, -0.18731149886148526, -0.7307216961994965, 0.28659201122255096, 2.172650873228859, 0.6037152824336763, -0.727575725495342, 0.1921261607745329, 2.0257007599249666, 0.29878916777565295, -0.11662895626105096, 0.4176466932527999, 0.11869807879751894, -0.6185996268081179, 0.5654893958419337, 0.305655388592086, 0.13135273742832368, 0.12184068056708995, -0.5071662392557261, -0.568931741848525, 0.4901084143203101, -0.2460586894546757, -0.848531489622213, 1.3630384966893647, -0.3474418391715347, -1.1246178854325561, 0.2727742766284284, 0.9858324741667885, -1.260376384177372, 2.1995501477694517, -1.1862990063877248, -1.27720070099572, -0.1394136561501857, -1.5767204417253653, -0.04261634006372652, -0.0851414882747124, -0.9119035439512653, -0.32281930867905156, 0.194979954818921, -0.11685677866976853, -1.8053738746846808, -0.014808754132441395, -0.6392074518606004, -0.8503232038190978, -1.0937525430983601, 1.187030991396334, 1.4645556128099475, 0.4113009102746684, 0.1798500649884786, -0.6724445119030096, 0.13446213951423927, 1.3679920722622896, 1.1313820175998472, 0.46880252769541614, -0.39789401001271074, 0.38433474242590737, -0.46326651134413627, 0.33327001249620947, -0.09753287150325765, 2.344702589914879, -0.9140280632719038, -1.4177177422630272, 0.03634479751321479, -1.692481484675992, 0.9512640830307857, 0.19137848466118784, -1.1004124257636585, 0.7043635574043291, -0.09092904401842151, 1.5059008971891839, 0.5973458990802751, 0.34603516962923475, -1.812425632066957, -0.5333194244555364, -0.8625662806115877, -0.1353587151319946, -0.42633306707360935, 0.3816695380113307, 0.89874110435248, 0.3626000974090412, -0.34626845050310656, 1.8354956959106006, -0.1633850685970794, 0.18564892606709904, 0.3812582914116791, -0.9656308255591639, -0.011778101035519862], \"yaxis\": \"y13\"}, {\"line\": {\"color\": \"rgba(128, 128, 128, 1.0)\", \"dash\": \"solid\", \"shape\": \"linear\", \"width\": 1.3}, \"marker\": {\"size\": 2, \"symbol\": \"circle\"}, \"mode\": \"markers\", \"name\": \"D\", \"text\": \"\", \"type\": \"scatter\", \"x\": [-1.4490718845084207, 0.5402426554463875, -1.3347985434813625, -0.12225119502318878, -1.30101789971426, 0.38569811159209016, 2.397904687740729, -2.3982480926388368, -0.10494367248597691, -0.2224254060893642, 0.5410029274040677, 1.2220114737266936, 0.6413367934003551, 0.4661400594131579, 1.6301263489299898, -0.045857295111949706, 0.22578578119008808, 0.26281871636509874, 0.3524366173554224, -0.25045607157728855, -0.02644007066357181, 0.8618805448064077, -1.0669884903827511, 2.202131722577417, -0.7113457060825948, -0.42921931155234017, 0.03085513090831307, 2.286357429921338, -0.2505199679788893, -2.49540664349453, -1.1157577643488887, 0.7330552833464814, -0.4614404215891602, -1.3673002928914093, -1.7600123190780688, -2.0887547843771395, -2.1859340876441404, -0.49279846658300813, -1.889275646139344, -0.5690532456828411, 0.4239373965316233, 0.6397781534640425, -0.29671425027591325, 0.6571556609166963, 1.383298672469432, 1.109761245033315, 1.4332373810414698, 0.6738019112262904, -1.1813200383895766, -1.6614202983027815, 1.2398798868361367, 0.6123687064574279, 0.0915797315637989, 0.006009505705794459, -1.0960578906870182, -1.1053797480590637, 1.0352922076995237, 0.2776270046807994, -0.09822942803128862, 1.3423627824672761, -0.4269262478860568, -0.8566216988554339, 0.4155483209694457, 0.21352323335426418, 0.9205293326670225, -2.4290809169775893, -1.097530893017326, 0.0014555989292659602, -0.4721893111402556, -2.3651682013646727, 0.9177196755689004, -2.6495518809284646, 0.018826728369795518, 0.05322287052010041, -1.1676072328548432, 0.3940104502096727, 0.3003994475771432, 1.6651594296939112, -0.671156151734517, 3.2476405756672038, -0.026105037598596365, -1.177609198277101, 0.12516726924093127, -0.517430855564586, 0.6604745556074771, -0.0018629645865976042, -1.7849289778669288, 0.18498950224768243, 1.442080076368799, 0.9472992507672473, 2.195427851378761, 0.3966786785752604, -0.5002725972891627, -1.9460828869923503, -0.3608192626215061, 1.0131320014705925, -0.7057725331167626, 0.9665220645320599, -0.042248237084285586, -0.9798386628297314], \"xaxis\": \"x14\", \"y\": [-0.29209677698554737, 0.9573957896267596, -0.0007975772046197507, -0.8158976884143562, -1.9936338636737942, -1.066112859705764, -0.1624501274103537, -0.03172677523944978, 0.4230420996426988, -1.5072924379640384, -1.0285792418506818, -0.4648859742555061, 0.5488567472998651, -1.5509988671031387, -0.18731149886148526, -0.7307216961994965, 0.28659201122255096, 2.172650873228859, 0.6037152824336763, -0.727575725495342, 0.1921261607745329, 2.0257007599249666, 0.29878916777565295, -0.11662895626105096, 0.4176466932527999, 0.11869807879751894, -0.6185996268081179, 0.5654893958419337, 0.305655388592086, 0.13135273742832368, 0.12184068056708995, -0.5071662392557261, -0.568931741848525, 0.4901084143203101, -0.2460586894546757, -0.848531489622213, 1.3630384966893647, -0.3474418391715347, -1.1246178854325561, 0.2727742766284284, 0.9858324741667885, -1.260376384177372, 2.1995501477694517, -1.1862990063877248, -1.27720070099572, -0.1394136561501857, -1.5767204417253653, -0.04261634006372652, -0.0851414882747124, -0.9119035439512653, -0.32281930867905156, 0.194979954818921, -0.11685677866976853, -1.8053738746846808, -0.014808754132441395, -0.6392074518606004, -0.8503232038190978, -1.0937525430983601, 1.187030991396334, 1.4645556128099475, 0.4113009102746684, 0.1798500649884786, -0.6724445119030096, 0.13446213951423927, 1.3679920722622896, 1.1313820175998472, 0.46880252769541614, -0.39789401001271074, 0.38433474242590737, -0.46326651134413627, 0.33327001249620947, -0.09753287150325765, 2.344702589914879, -0.9140280632719038, -1.4177177422630272, 0.03634479751321479, -1.692481484675992, 0.9512640830307857, 0.19137848466118784, -1.1004124257636585, 0.7043635574043291, -0.09092904401842151, 1.5059008971891839, 0.5973458990802751, 0.34603516962923475, -1.812425632066957, -0.5333194244555364, -0.8625662806115877, -0.1353587151319946, -0.42633306707360935, 0.3816695380113307, 0.89874110435248, 0.3626000974090412, -0.34626845050310656, 1.8354956959106006, -0.1633850685970794, 0.18564892606709904, 0.3812582914116791, -0.9656308255591639, -0.011778101035519862], \"yaxis\": \"y14\"}, {\"line\": {\"color\": \"rgba(128, 128, 128, 1.0)\", \"dash\": \"solid\", \"shape\": \"linear\", \"width\": 1.3}, \"marker\": {\"size\": 2, \"symbol\": \"circle\"}, \"mode\": \"markers\", \"name\": \"D\", \"text\": \"\", \"type\": \"scatter\", \"x\": [0.2941477958735066, -1.2772567937568937, 0.7441189607505856, -0.07469019133525433, 0.15688826260723918, -0.3147237571105742, 0.09746151352817672, -1.4894485007346023, -0.8118109462101483, -0.08316960538668344, -3.167014284398424, 0.5384558809342364, 1.0557522069504213, 0.37150366384546263, 0.7590918824347042, 0.49357135745610187, -0.37733645380166997, 0.6364367047170686, 0.65240454392822, -0.5460605302037064, -0.2598143788964035, -1.0129067831437126, 0.24442937330633968, -1.0076829208783498, -0.5501970096805181, 0.061399346063866204, 1.179641651882113, 1.8840213768542848, -2.7297693179368894, 0.08444274726336994, -0.07866577711107688, 1.0228544923597822, -0.2717333568906527, -0.7678139093837235, 0.8002168364713665, -0.6163668196735747, -0.7840916361031486, -0.5434871478375157, 0.34616144852931713, -0.47902312536359887, -0.992535599042179, 0.2590527094808219, 1.2666923316053984, 0.7476549908657724, -1.0512553869294554, -0.14237158758117616, -1.2929307281780056, 1.5189203997919931, -0.6494858691130097, -0.5679015903851855, 0.551965962231021, -1.6539555233879015, -0.22271778130394515, 1.0386498514148697, 0.3608835982240124, 2.213346720878855, -0.9735769015751691, 0.840128631763991, 1.7556896787581586, -1.4412116307568839, 0.2196949231023285, 1.4992049801411589, -0.6611392490895978, -0.6304908747192904, 1.1533356994672497, -0.420636670400046, 1.443644516191686, 1.451438062161945, 0.483124750711282, -0.5236258108150692, 0.4404690671036626, 0.9996524509583272, -0.6130636059848118, 0.6690199413988712, 1.3263847443422256, -0.7556056623240177, 0.637862832272282, 0.38904377493049913, -1.3370612405882778, 1.1933950268610702, 0.06462007050856437, 0.5764395379058818, -0.8458357075549467, -0.5445116781543524, 0.3050900194252306, -0.2956218398366735, -1.7568210556812383, -2.624628846051485, 0.7344870558616293, 1.0497000890759491, 1.5692069955925685, -0.8839762063095732, -0.2858107813208934, 0.9699611896103433, -1.18056791878244, 0.6737419030585361, -0.6984885465871962, 1.0726235170641276, 0.5217735041662983, 1.5039611018876746], \"xaxis\": \"x15\", \"y\": [-0.29209677698554737, 0.9573957896267596, -0.0007975772046197507, -0.8158976884143562, -1.9936338636737942, -1.066112859705764, -0.1624501274103537, -0.03172677523944978, 0.4230420996426988, -1.5072924379640384, -1.0285792418506818, -0.4648859742555061, 0.5488567472998651, -1.5509988671031387, -0.18731149886148526, -0.7307216961994965, 0.28659201122255096, 2.172650873228859, 0.6037152824336763, -0.727575725495342, 0.1921261607745329, 2.0257007599249666, 0.29878916777565295, -0.11662895626105096, 0.4176466932527999, 0.11869807879751894, -0.6185996268081179, 0.5654893958419337, 0.305655388592086, 0.13135273742832368, 0.12184068056708995, -0.5071662392557261, -0.568931741848525, 0.4901084143203101, -0.2460586894546757, -0.848531489622213, 1.3630384966893647, -0.3474418391715347, -1.1246178854325561, 0.2727742766284284, 0.9858324741667885, -1.260376384177372, 2.1995501477694517, -1.1862990063877248, -1.27720070099572, -0.1394136561501857, -1.5767204417253653, -0.04261634006372652, -0.0851414882747124, -0.9119035439512653, -0.32281930867905156, 0.194979954818921, -0.11685677866976853, -1.8053738746846808, -0.014808754132441395, -0.6392074518606004, -0.8503232038190978, -1.0937525430983601, 1.187030991396334, 1.4645556128099475, 0.4113009102746684, 0.1798500649884786, -0.6724445119030096, 0.13446213951423927, 1.3679920722622896, 1.1313820175998472, 0.46880252769541614, -0.39789401001271074, 0.38433474242590737, -0.46326651134413627, 0.33327001249620947, -0.09753287150325765, 2.344702589914879, -0.9140280632719038, -1.4177177422630272, 0.03634479751321479, -1.692481484675992, 0.9512640830307857, 0.19137848466118784, -1.1004124257636585, 0.7043635574043291, -0.09092904401842151, 1.5059008971891839, 0.5973458990802751, 0.34603516962923475, -1.812425632066957, -0.5333194244555364, -0.8625662806115877, -0.1353587151319946, -0.42633306707360935, 0.3816695380113307, 0.89874110435248, 0.3626000974090412, -0.34626845050310656, 1.8354956959106006, -0.1633850685970794, 0.18564892606709904, 0.3812582914116791, -0.9656308255591639, -0.011778101035519862], \"yaxis\": \"y15\"}, {\"histfunc\": \"count\", \"histnorm\": \"\", \"marker\": {\"color\": \"rgba(128, 0, 128, 1.0)\", \"line\": {\"color\": \"#4D5663\", \"width\": 1.3}}, \"name\": \"D\", \"nbinsx\": 10, \"opacity\": 0.8, \"orientation\": \"v\", \"type\": \"histogram\", \"x\": [-0.29209677698554737, 0.9573957896267596, -0.0007975772046197507, -0.8158976884143562, -1.9936338636737942, -1.066112859705764, -0.1624501274103537, -0.03172677523944978, 0.4230420996426988, -1.5072924379640384, -1.0285792418506818, -0.4648859742555061, 0.5488567472998651, -1.5509988671031387, -0.18731149886148526, -0.7307216961994965, 0.28659201122255096, 2.172650873228859, 0.6037152824336763, -0.727575725495342, 0.1921261607745329, 2.0257007599249666, 0.29878916777565295, -0.11662895626105096, 0.4176466932527999, 0.11869807879751894, -0.6185996268081179, 0.5654893958419337, 0.305655388592086, 0.13135273742832368, 0.12184068056708995, -0.5071662392557261, -0.568931741848525, 0.4901084143203101, -0.2460586894546757, -0.848531489622213, 1.3630384966893647, -0.3474418391715347, -1.1246178854325561, 0.2727742766284284, 0.9858324741667885, -1.260376384177372, 2.1995501477694517, -1.1862990063877248, -1.27720070099572, -0.1394136561501857, -1.5767204417253653, -0.04261634006372652, -0.0851414882747124, -0.9119035439512653, -0.32281930867905156, 0.194979954818921, -0.11685677866976853, -1.8053738746846808, -0.014808754132441395, -0.6392074518606004, -0.8503232038190978, -1.0937525430983601, 1.187030991396334, 1.4645556128099475, 0.4113009102746684, 0.1798500649884786, -0.6724445119030096, 0.13446213951423927, 1.3679920722622896, 1.1313820175998472, 0.46880252769541614, -0.39789401001271074, 0.38433474242590737, -0.46326651134413627, 0.33327001249620947, -0.09753287150325765, 2.344702589914879, -0.9140280632719038, -1.4177177422630272, 0.03634479751321479, -1.692481484675992, 0.9512640830307857, 0.19137848466118784, -1.1004124257636585, 0.7043635574043291, -0.09092904401842151, 1.5059008971891839, 0.5973458990802751, 0.34603516962923475, -1.812425632066957, -0.5333194244555364, -0.8625662806115877, -0.1353587151319946, -0.42633306707360935, 0.3816695380113307, 0.89874110435248, 0.3626000974090412, -0.34626845050310656, 1.8354956959106006, -0.1633850685970794, 0.18564892606709904, 0.3812582914116791, -0.9656308255591639, -0.011778101035519862], \"xaxis\": \"x16\", \"yaxis\": \"y16\"}],\n",
       "                        {\"bargap\": 0.02, \"legend\": {\"bgcolor\": \"#F5F6F9\", \"font\": {\"color\": \"#4D5663\"}}, \"paper_bgcolor\": \"#F5F6F9\", \"plot_bgcolor\": \"#F5F6F9\", \"showlegend\": false, \"template\": {\"data\": {\"bar\": [{\"error_x\": {\"color\": \"#2a3f5f\"}, \"error_y\": {\"color\": \"#2a3f5f\"}, \"marker\": {\"line\": {\"color\": \"#E5ECF6\", \"width\": 0.5}}, \"type\": \"bar\"}], \"barpolar\": [{\"marker\": {\"line\": {\"color\": \"#E5ECF6\", \"width\": 0.5}}, \"type\": \"barpolar\"}], \"carpet\": [{\"aaxis\": {\"endlinecolor\": \"#2a3f5f\", \"gridcolor\": \"white\", \"linecolor\": \"white\", \"minorgridcolor\": \"white\", \"startlinecolor\": \"#2a3f5f\"}, \"baxis\": {\"endlinecolor\": \"#2a3f5f\", \"gridcolor\": \"white\", \"linecolor\": \"white\", \"minorgridcolor\": \"white\", \"startlinecolor\": \"#2a3f5f\"}, \"type\": \"carpet\"}], \"choropleth\": [{\"colorbar\": {\"outlinewidth\": 0, \"ticks\": \"\"}, \"type\": \"choropleth\"}], \"contour\": [{\"colorbar\": {\"outlinewidth\": 0, \"ticks\": \"\"}, \"colorscale\": [[0.0, \"#0d0887\"], [0.1111111111111111, \"#46039f\"], [0.2222222222222222, \"#7201a8\"], [0.3333333333333333, \"#9c179e\"], [0.4444444444444444, \"#bd3786\"], [0.5555555555555556, \"#d8576b\"], [0.6666666666666666, \"#ed7953\"], [0.7777777777777778, \"#fb9f3a\"], [0.8888888888888888, \"#fdca26\"], [1.0, \"#f0f921\"]], \"type\": \"contour\"}], \"contourcarpet\": [{\"colorbar\": {\"outlinewidth\": 0, \"ticks\": \"\"}, \"type\": \"contourcarpet\"}], \"heatmap\": [{\"colorbar\": {\"outlinewidth\": 0, \"ticks\": \"\"}, \"colorscale\": [[0.0, \"#0d0887\"], [0.1111111111111111, \"#46039f\"], [0.2222222222222222, \"#7201a8\"], [0.3333333333333333, \"#9c179e\"], [0.4444444444444444, \"#bd3786\"], [0.5555555555555556, \"#d8576b\"], [0.6666666666666666, \"#ed7953\"], [0.7777777777777778, \"#fb9f3a\"], [0.8888888888888888, \"#fdca26\"], [1.0, \"#f0f921\"]], \"type\": \"heatmap\"}], \"heatmapgl\": [{\"colorbar\": {\"outlinewidth\": 0, \"ticks\": \"\"}, \"colorscale\": [[0.0, \"#0d0887\"], [0.1111111111111111, \"#46039f\"], [0.2222222222222222, \"#7201a8\"], [0.3333333333333333, \"#9c179e\"], [0.4444444444444444, \"#bd3786\"], [0.5555555555555556, \"#d8576b\"], [0.6666666666666666, \"#ed7953\"], [0.7777777777777778, \"#fb9f3a\"], [0.8888888888888888, \"#fdca26\"], [1.0, \"#f0f921\"]], \"type\": \"heatmapgl\"}], \"histogram\": [{\"marker\": {\"colorbar\": {\"outlinewidth\": 0, \"ticks\": \"\"}}, \"type\": \"histogram\"}], \"histogram2d\": [{\"colorbar\": {\"outlinewidth\": 0, \"ticks\": \"\"}, \"colorscale\": [[0.0, \"#0d0887\"], [0.1111111111111111, \"#46039f\"], [0.2222222222222222, \"#7201a8\"], [0.3333333333333333, \"#9c179e\"], [0.4444444444444444, \"#bd3786\"], [0.5555555555555556, \"#d8576b\"], [0.6666666666666666, \"#ed7953\"], [0.7777777777777778, \"#fb9f3a\"], [0.8888888888888888, \"#fdca26\"], [1.0, \"#f0f921\"]], \"type\": \"histogram2d\"}], \"histogram2dcontour\": [{\"colorbar\": {\"outlinewidth\": 0, \"ticks\": \"\"}, \"colorscale\": [[0.0, \"#0d0887\"], [0.1111111111111111, \"#46039f\"], [0.2222222222222222, \"#7201a8\"], [0.3333333333333333, \"#9c179e\"], [0.4444444444444444, \"#bd3786\"], [0.5555555555555556, \"#d8576b\"], [0.6666666666666666, \"#ed7953\"], [0.7777777777777778, \"#fb9f3a\"], [0.8888888888888888, \"#fdca26\"], [1.0, \"#f0f921\"]], \"type\": \"histogram2dcontour\"}], \"mesh3d\": [{\"colorbar\": {\"outlinewidth\": 0, \"ticks\": \"\"}, \"type\": \"mesh3d\"}], \"parcoords\": [{\"line\": {\"colorbar\": {\"outlinewidth\": 0, \"ticks\": \"\"}}, \"type\": \"parcoords\"}], \"pie\": [{\"automargin\": true, \"type\": \"pie\"}], \"scatter\": [{\"marker\": {\"colorbar\": {\"outlinewidth\": 0, \"ticks\": \"\"}}, \"type\": \"scatter\"}], \"scatter3d\": [{\"line\": {\"colorbar\": {\"outlinewidth\": 0, \"ticks\": \"\"}}, \"marker\": {\"colorbar\": {\"outlinewidth\": 0, \"ticks\": \"\"}}, \"type\": \"scatter3d\"}], \"scattercarpet\": [{\"marker\": {\"colorbar\": {\"outlinewidth\": 0, \"ticks\": \"\"}}, \"type\": \"scattercarpet\"}], \"scattergeo\": [{\"marker\": {\"colorbar\": {\"outlinewidth\": 0, \"ticks\": \"\"}}, \"type\": \"scattergeo\"}], \"scattergl\": [{\"marker\": {\"colorbar\": {\"outlinewidth\": 0, \"ticks\": \"\"}}, \"type\": \"scattergl\"}], \"scattermapbox\": [{\"marker\": {\"colorbar\": {\"outlinewidth\": 0, \"ticks\": \"\"}}, \"type\": \"scattermapbox\"}], \"scatterpolar\": [{\"marker\": {\"colorbar\": {\"outlinewidth\": 0, \"ticks\": \"\"}}, \"type\": \"scatterpolar\"}], \"scatterpolargl\": [{\"marker\": {\"colorbar\": {\"outlinewidth\": 0, \"ticks\": \"\"}}, \"type\": \"scatterpolargl\"}], \"scatterternary\": [{\"marker\": {\"colorbar\": {\"outlinewidth\": 0, \"ticks\": \"\"}}, \"type\": \"scatterternary\"}], \"surface\": [{\"colorbar\": {\"outlinewidth\": 0, \"ticks\": \"\"}, \"colorscale\": [[0.0, \"#0d0887\"], [0.1111111111111111, \"#46039f\"], [0.2222222222222222, \"#7201a8\"], [0.3333333333333333, \"#9c179e\"], [0.4444444444444444, \"#bd3786\"], [0.5555555555555556, \"#d8576b\"], [0.6666666666666666, \"#ed7953\"], [0.7777777777777778, \"#fb9f3a\"], [0.8888888888888888, \"#fdca26\"], [1.0, \"#f0f921\"]], \"type\": \"surface\"}], \"table\": [{\"cells\": {\"fill\": {\"color\": \"#EBF0F8\"}, \"line\": {\"color\": \"white\"}}, \"header\": {\"fill\": {\"color\": \"#C8D4E3\"}, \"line\": {\"color\": \"white\"}}, \"type\": \"table\"}]}, \"layout\": {\"annotationdefaults\": {\"arrowcolor\": \"#2a3f5f\", \"arrowhead\": 0, \"arrowwidth\": 1}, \"coloraxis\": {\"colorbar\": {\"outlinewidth\": 0, \"ticks\": \"\"}}, \"colorscale\": {\"diverging\": [[0, \"#8e0152\"], [0.1, \"#c51b7d\"], [0.2, \"#de77ae\"], [0.3, \"#f1b6da\"], [0.4, \"#fde0ef\"], [0.5, \"#f7f7f7\"], [0.6, \"#e6f5d0\"], [0.7, \"#b8e186\"], [0.8, \"#7fbc41\"], [0.9, \"#4d9221\"], [1, \"#276419\"]], \"sequential\": [[0.0, \"#0d0887\"], [0.1111111111111111, \"#46039f\"], [0.2222222222222222, \"#7201a8\"], [0.3333333333333333, \"#9c179e\"], [0.4444444444444444, \"#bd3786\"], [0.5555555555555556, \"#d8576b\"], [0.6666666666666666, \"#ed7953\"], [0.7777777777777778, \"#fb9f3a\"], [0.8888888888888888, \"#fdca26\"], [1.0, \"#f0f921\"]], \"sequentialminus\": [[0.0, \"#0d0887\"], [0.1111111111111111, \"#46039f\"], [0.2222222222222222, \"#7201a8\"], [0.3333333333333333, \"#9c179e\"], [0.4444444444444444, \"#bd3786\"], [0.5555555555555556, \"#d8576b\"], [0.6666666666666666, \"#ed7953\"], [0.7777777777777778, \"#fb9f3a\"], [0.8888888888888888, \"#fdca26\"], [1.0, \"#f0f921\"]]}, \"colorway\": [\"#636efa\", \"#EF553B\", \"#00cc96\", \"#ab63fa\", \"#FFA15A\", \"#19d3f3\", \"#FF6692\", \"#B6E880\", \"#FF97FF\", \"#FECB52\"], \"font\": {\"color\": \"#2a3f5f\"}, \"geo\": {\"bgcolor\": \"white\", \"lakecolor\": \"white\", \"landcolor\": \"#E5ECF6\", \"showlakes\": true, \"showland\": true, \"subunitcolor\": \"white\"}, \"hoverlabel\": {\"align\": \"left\"}, \"hovermode\": \"closest\", \"mapbox\": {\"style\": \"light\"}, \"paper_bgcolor\": \"white\", \"plot_bgcolor\": \"#E5ECF6\", \"polar\": {\"angularaxis\": {\"gridcolor\": \"white\", \"linecolor\": \"white\", \"ticks\": \"\"}, \"bgcolor\": \"#E5ECF6\", \"radialaxis\": {\"gridcolor\": \"white\", \"linecolor\": \"white\", \"ticks\": \"\"}}, \"scene\": {\"xaxis\": {\"backgroundcolor\": \"#E5ECF6\", \"gridcolor\": \"white\", \"gridwidth\": 2, \"linecolor\": \"white\", \"showbackground\": true, \"ticks\": \"\", \"zerolinecolor\": \"white\"}, \"yaxis\": {\"backgroundcolor\": \"#E5ECF6\", \"gridcolor\": \"white\", \"gridwidth\": 2, \"linecolor\": \"white\", \"showbackground\": true, \"ticks\": \"\", \"zerolinecolor\": \"white\"}, \"zaxis\": {\"backgroundcolor\": \"#E5ECF6\", \"gridcolor\": \"white\", \"gridwidth\": 2, \"linecolor\": \"white\", \"showbackground\": true, \"ticks\": \"\", \"zerolinecolor\": \"white\"}}, \"shapedefaults\": {\"line\": {\"color\": \"#2a3f5f\"}}, \"ternary\": {\"aaxis\": {\"gridcolor\": \"white\", \"linecolor\": \"white\", \"ticks\": \"\"}, \"baxis\": {\"gridcolor\": \"white\", \"linecolor\": \"white\", \"ticks\": \"\"}, \"bgcolor\": \"#E5ECF6\", \"caxis\": {\"gridcolor\": \"white\", \"linecolor\": \"white\", \"ticks\": \"\"}}, \"title\": {\"x\": 0.05}, \"xaxis\": {\"automargin\": true, \"gridcolor\": \"white\", \"linecolor\": \"white\", \"ticks\": \"\", \"title\": {\"standoff\": 15}, \"zerolinecolor\": \"white\", \"zerolinewidth\": 2}, \"yaxis\": {\"automargin\": true, \"gridcolor\": \"white\", \"linecolor\": \"white\", \"ticks\": \"\", \"title\": {\"standoff\": 15}, \"zerolinecolor\": \"white\", \"zerolinewidth\": 2}}}, \"title\": {\"font\": {\"color\": \"#4D5663\"}}, \"xaxis\": {\"anchor\": \"y\", \"domain\": [0.0, 0.2125], \"gridcolor\": \"#E1E5ED\", \"showgrid\": false, \"tickfont\": {\"color\": \"#4D5663\"}, \"title\": {\"font\": {\"color\": \"#4D5663\"}, \"text\": \"\"}, \"zerolinecolor\": \"#E1E5ED\"}, \"xaxis10\": {\"anchor\": \"y10\", \"domain\": [0.2625, 0.475], \"gridcolor\": \"#E1E5ED\", \"showgrid\": false, \"tickfont\": {\"color\": \"#4D5663\"}, \"title\": {\"font\": {\"color\": \"#4D5663\"}, \"text\": \"\"}, \"zerolinecolor\": \"#E1E5ED\"}, \"xaxis11\": {\"anchor\": \"y11\", \"domain\": [0.525, 0.7375], \"gridcolor\": \"#E1E5ED\", \"showgrid\": false, \"tickfont\": {\"color\": \"#4D5663\"}, \"title\": {\"font\": {\"color\": \"#4D5663\"}, \"text\": \"\"}, \"zerolinecolor\": \"#E1E5ED\"}, \"xaxis12\": {\"anchor\": \"y12\", \"domain\": [0.7875, 1.0], \"gridcolor\": \"#E1E5ED\", \"showgrid\": false, \"tickfont\": {\"color\": \"#4D5663\"}, \"title\": {\"font\": {\"color\": \"#4D5663\"}, \"text\": \"\"}, \"zerolinecolor\": \"#E1E5ED\"}, \"xaxis13\": {\"anchor\": \"y13\", \"domain\": [0.0, 0.2125], \"gridcolor\": \"#E1E5ED\", \"showgrid\": false, \"tickfont\": {\"color\": \"#4D5663\"}, \"title\": {\"font\": {\"color\": \"#4D5663\"}, \"text\": \"\"}, \"zerolinecolor\": \"#E1E5ED\"}, \"xaxis14\": {\"anchor\": \"y14\", \"domain\": [0.2625, 0.475], \"gridcolor\": \"#E1E5ED\", \"showgrid\": false, \"tickfont\": {\"color\": \"#4D5663\"}, \"title\": {\"font\": {\"color\": \"#4D5663\"}, \"text\": \"\"}, \"zerolinecolor\": \"#E1E5ED\"}, \"xaxis15\": {\"anchor\": \"y15\", \"domain\": [0.525, 0.7375], \"gridcolor\": \"#E1E5ED\", \"showgrid\": false, \"tickfont\": {\"color\": \"#4D5663\"}, \"title\": {\"font\": {\"color\": \"#4D5663\"}, \"text\": \"\"}, \"zerolinecolor\": \"#E1E5ED\"}, \"xaxis16\": {\"anchor\": \"y16\", \"domain\": [0.7875, 1.0], \"gridcolor\": \"#E1E5ED\", \"showgrid\": false, \"tickfont\": {\"color\": \"#4D5663\"}, \"title\": {\"font\": {\"color\": \"#4D5663\"}, \"text\": \"\"}, \"zerolinecolor\": \"#E1E5ED\"}, \"xaxis2\": {\"anchor\": \"y2\", \"domain\": [0.2625, 0.475], \"gridcolor\": \"#E1E5ED\", \"showgrid\": false, \"tickfont\": {\"color\": \"#4D5663\"}, \"title\": {\"font\": {\"color\": \"#4D5663\"}, \"text\": \"\"}, \"zerolinecolor\": \"#E1E5ED\"}, \"xaxis3\": {\"anchor\": \"y3\", \"domain\": [0.525, 0.7375], \"gridcolor\": \"#E1E5ED\", \"showgrid\": false, \"tickfont\": {\"color\": \"#4D5663\"}, \"title\": {\"font\": {\"color\": \"#4D5663\"}, \"text\": \"\"}, \"zerolinecolor\": \"#E1E5ED\"}, \"xaxis4\": {\"anchor\": \"y4\", \"domain\": [0.7875, 1.0], \"gridcolor\": \"#E1E5ED\", \"showgrid\": false, \"tickfont\": {\"color\": \"#4D5663\"}, \"title\": {\"font\": {\"color\": \"#4D5663\"}, \"text\": \"\"}, \"zerolinecolor\": \"#E1E5ED\"}, \"xaxis5\": {\"anchor\": \"y5\", \"domain\": [0.0, 0.2125], \"gridcolor\": \"#E1E5ED\", \"showgrid\": false, \"tickfont\": {\"color\": \"#4D5663\"}, \"title\": {\"font\": {\"color\": \"#4D5663\"}, \"text\": \"\"}, \"zerolinecolor\": \"#E1E5ED\"}, \"xaxis6\": {\"anchor\": \"y6\", \"domain\": [0.2625, 0.475], \"gridcolor\": \"#E1E5ED\", \"showgrid\": false, \"tickfont\": {\"color\": \"#4D5663\"}, \"title\": {\"font\": {\"color\": \"#4D5663\"}, \"text\": \"\"}, \"zerolinecolor\": \"#E1E5ED\"}, \"xaxis7\": {\"anchor\": \"y7\", \"domain\": [0.525, 0.7375], \"gridcolor\": \"#E1E5ED\", \"showgrid\": false, \"tickfont\": {\"color\": \"#4D5663\"}, \"title\": {\"font\": {\"color\": \"#4D5663\"}, \"text\": \"\"}, \"zerolinecolor\": \"#E1E5ED\"}, \"xaxis8\": {\"anchor\": \"y8\", \"domain\": [0.7875, 1.0], \"gridcolor\": \"#E1E5ED\", \"showgrid\": false, \"tickfont\": {\"color\": \"#4D5663\"}, \"title\": {\"font\": {\"color\": \"#4D5663\"}, \"text\": \"\"}, \"zerolinecolor\": \"#E1E5ED\"}, \"xaxis9\": {\"anchor\": \"y9\", \"domain\": [0.0, 0.2125], \"gridcolor\": \"#E1E5ED\", \"showgrid\": false, \"tickfont\": {\"color\": \"#4D5663\"}, \"title\": {\"font\": {\"color\": \"#4D5663\"}, \"text\": \"\"}, \"zerolinecolor\": \"#E1E5ED\"}, \"yaxis\": {\"anchor\": \"x\", \"domain\": [0.8025, 1.0], \"gridcolor\": \"#E1E5ED\", \"showgrid\": false, \"tickfont\": {\"color\": \"#4D5663\"}, \"title\": {\"font\": {\"color\": \"#4D5663\"}, \"text\": \"\"}, \"zerolinecolor\": \"#E1E5ED\"}, \"yaxis10\": {\"anchor\": \"x10\", \"domain\": [0.2675, 0.465], \"gridcolor\": \"#E1E5ED\", \"showgrid\": false, \"tickfont\": {\"color\": \"#4D5663\"}, \"title\": {\"font\": {\"color\": \"#4D5663\"}, \"text\": \"\"}, \"zerolinecolor\": \"#E1E5ED\"}, \"yaxis11\": {\"anchor\": \"x11\", \"domain\": [0.2675, 0.465], \"gridcolor\": \"#E1E5ED\", \"showgrid\": false, \"tickfont\": {\"color\": \"#4D5663\"}, \"title\": {\"font\": {\"color\": \"#4D5663\"}, \"text\": \"\"}, \"zerolinecolor\": \"#E1E5ED\"}, \"yaxis12\": {\"anchor\": \"x12\", \"domain\": [0.2675, 0.465], \"gridcolor\": \"#E1E5ED\", \"showgrid\": false, \"tickfont\": {\"color\": \"#4D5663\"}, \"title\": {\"font\": {\"color\": \"#4D5663\"}, \"text\": \"\"}, \"zerolinecolor\": \"#E1E5ED\"}, \"yaxis13\": {\"anchor\": \"x13\", \"domain\": [0.0, 0.1975], \"gridcolor\": \"#E1E5ED\", \"showgrid\": false, \"tickfont\": {\"color\": \"#4D5663\"}, \"title\": {\"font\": {\"color\": \"#4D5663\"}, \"text\": \"\"}, \"zerolinecolor\": \"#E1E5ED\"}, \"yaxis14\": {\"anchor\": \"x14\", \"domain\": [0.0, 0.1975], \"gridcolor\": \"#E1E5ED\", \"showgrid\": false, \"tickfont\": {\"color\": \"#4D5663\"}, \"title\": {\"font\": {\"color\": \"#4D5663\"}, \"text\": \"\"}, \"zerolinecolor\": \"#E1E5ED\"}, \"yaxis15\": {\"anchor\": \"x15\", \"domain\": [0.0, 0.1975], \"gridcolor\": \"#E1E5ED\", \"showgrid\": false, \"tickfont\": {\"color\": \"#4D5663\"}, \"title\": {\"font\": {\"color\": \"#4D5663\"}, \"text\": \"\"}, \"zerolinecolor\": \"#E1E5ED\"}, \"yaxis16\": {\"anchor\": \"x16\", \"domain\": [0.0, 0.1975], \"gridcolor\": \"#E1E5ED\", \"showgrid\": false, \"tickfont\": {\"color\": \"#4D5663\"}, \"title\": {\"font\": {\"color\": \"#4D5663\"}, \"text\": \"\"}, \"zerolinecolor\": \"#E1E5ED\"}, \"yaxis2\": {\"anchor\": \"x2\", \"domain\": [0.8025, 1.0], \"gridcolor\": \"#E1E5ED\", \"showgrid\": false, \"tickfont\": {\"color\": \"#4D5663\"}, \"title\": {\"font\": {\"color\": \"#4D5663\"}, \"text\": \"\"}, \"zerolinecolor\": \"#E1E5ED\"}, \"yaxis3\": {\"anchor\": \"x3\", \"domain\": [0.8025, 1.0], \"gridcolor\": \"#E1E5ED\", \"showgrid\": false, \"tickfont\": {\"color\": \"#4D5663\"}, \"title\": {\"font\": {\"color\": \"#4D5663\"}, \"text\": \"\"}, \"zerolinecolor\": \"#E1E5ED\"}, \"yaxis4\": {\"anchor\": \"x4\", \"domain\": [0.8025, 1.0], \"gridcolor\": \"#E1E5ED\", \"showgrid\": false, \"tickfont\": {\"color\": \"#4D5663\"}, \"title\": {\"font\": {\"color\": \"#4D5663\"}, \"text\": \"\"}, \"zerolinecolor\": \"#E1E5ED\"}, \"yaxis5\": {\"anchor\": \"x5\", \"domain\": [0.535, 0.7325], \"gridcolor\": \"#E1E5ED\", \"showgrid\": false, \"tickfont\": {\"color\": \"#4D5663\"}, \"title\": {\"font\": {\"color\": \"#4D5663\"}, \"text\": \"\"}, \"zerolinecolor\": \"#E1E5ED\"}, \"yaxis6\": {\"anchor\": \"x6\", \"domain\": [0.535, 0.7325], \"gridcolor\": \"#E1E5ED\", \"showgrid\": false, \"tickfont\": {\"color\": \"#4D5663\"}, \"title\": {\"font\": {\"color\": \"#4D5663\"}, \"text\": \"\"}, \"zerolinecolor\": \"#E1E5ED\"}, \"yaxis7\": {\"anchor\": \"x7\", \"domain\": [0.535, 0.7325], \"gridcolor\": \"#E1E5ED\", \"showgrid\": false, \"tickfont\": {\"color\": \"#4D5663\"}, \"title\": {\"font\": {\"color\": \"#4D5663\"}, \"text\": \"\"}, \"zerolinecolor\": \"#E1E5ED\"}, \"yaxis8\": {\"anchor\": \"x8\", \"domain\": [0.535, 0.7325], \"gridcolor\": \"#E1E5ED\", \"showgrid\": false, \"tickfont\": {\"color\": \"#4D5663\"}, \"title\": {\"font\": {\"color\": \"#4D5663\"}, \"text\": \"\"}, \"zerolinecolor\": \"#E1E5ED\"}, \"yaxis9\": {\"anchor\": \"x9\", \"domain\": [0.2675, 0.465], \"gridcolor\": \"#E1E5ED\", \"showgrid\": false, \"tickfont\": {\"color\": \"#4D5663\"}, \"title\": {\"font\": {\"color\": \"#4D5663\"}, \"text\": \"\"}, \"zerolinecolor\": \"#E1E5ED\"}},\n",
       "                        {\"showLink\": true, \"linkText\": \"Export to plot.ly\", \"plotlyServerURL\": \"https://plot.ly\", \"responsive\": true}\n",
       "                    ).then(function(){\n",
       "                            \n",
       "var gd = document.getElementById('984a5456-2493-40d5-ad0e-66280a26415d');\n",
       "var x = new MutationObserver(function (mutations, observer) {{\n",
       "        var display = window.getComputedStyle(gd).display;\n",
       "        if (!display || display === 'none') {{\n",
       "            console.log([gd, 'removed!']);\n",
       "            Plotly.purge(gd);\n",
       "            observer.disconnect();\n",
       "        }}\n",
       "}});\n",
       "\n",
       "// Listen for the removal of the full notebook cells\n",
       "var notebookContainer = gd.closest('#notebook-container');\n",
       "if (notebookContainer) {{\n",
       "    x.observe(notebookContainer, {childList: true});\n",
       "}}\n",
       "\n",
       "// Listen for the clearing of the current output cell\n",
       "var outputEl = gd.closest('.output');\n",
       "if (outputEl) {{\n",
       "    x.observe(outputEl, {childList: true});\n",
       "}}\n",
       "\n",
       "                        })\n",
       "                };\n",
       "                });\n",
       "            </script>\n",
       "        </div>"
      ]
     },
     "metadata": {},
     "output_type": "display_data"
    }
   ],
   "source": [
    "df1.scatter_matrix()"
   ]
  },
  {
   "cell_type": "code",
   "execution_count": null,
   "metadata": {},
   "outputs": [],
   "source": []
  }
 ],
 "metadata": {
  "kernelspec": {
   "display_name": "Python 3",
   "language": "python",
   "name": "python3"
  },
  "language_info": {
   "codemirror_mode": {
    "name": "ipython",
    "version": 3
   },
   "file_extension": ".py",
   "mimetype": "text/x-python",
   "name": "python",
   "nbconvert_exporter": "python",
   "pygments_lexer": "ipython3",
   "version": "3.7.4"
  }
 },
 "nbformat": 4,
 "nbformat_minor": 2
}
